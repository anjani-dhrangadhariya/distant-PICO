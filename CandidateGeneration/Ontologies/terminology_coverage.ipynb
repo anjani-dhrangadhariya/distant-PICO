{
 "cells": [
  {
   "cell_type": "code",
   "execution_count": 1,
   "id": "195f487e",
   "metadata": {},
   "outputs": [
    {
     "name": "stdout",
     "output_type": "stream",
     "text": [
      "The module loads all the ontologies and dictionaries that will be used for weak labeling in distant-PICO\n"
     ]
    }
   ],
   "source": [
    "import json\n",
    "import sys\n",
    "\n",
    "import pandas as pd\n",
    "from sklearn.model_selection import train_test_split\n",
    "from nltk import ngrams\n",
    "\n",
    "from ontologyLoader import *"
   ]
  },
  {
   "cell_type": "code",
   "execution_count": 2,
   "id": "db84b589",
   "metadata": {},
   "outputs": [],
   "source": [
    "#loading the english language small model of spacy\n",
    "import spacy\n",
    "en = spacy.load('en_core_web_sm')\n",
    "stopwords = en.Defaults.stop_words\n",
    "additional_stopwords = ['of']\n",
    "stopwords.update(additional_stopwords)\n",
    "\n",
    "import string\n",
    "from collections import Counter"
   ]
  },
  {
   "cell_type": "code",
   "execution_count": 3,
   "id": "76443695",
   "metadata": {},
   "outputs": [],
   "source": [
    "def removePunctNum(term):\n",
    "    term = term.translate(str.maketrans(' ', ' ', string.punctuation))\n",
    "    return ''.join([i for i in term if not i.isdigit()])"
   ]
  },
  {
   "cell_type": "code",
   "execution_count": 4,
   "id": "21a5ebff",
   "metadata": {},
   "outputs": [],
   "source": [
    "def readManuallyAnnoted( input_file_path, label_type=None ):\n",
    "\n",
    "    nct_ids = []\n",
    "    tokens = []\n",
    "    labels = []\n",
    "    pos = []\n",
    "\n",
    "    with open(input_file_path, 'r', encoding='latin1') as NCT_ids_file:\n",
    "\n",
    "        for i, eachLine in enumerate(NCT_ids_file):\n",
    "            annot = json.loads(eachLine)\n",
    "\n",
    "            for doc_key, document_annotations in annot.items():\n",
    "\n",
    "                nct_ids.append(doc_key)\n",
    "                tokens.append(document_annotations[0])\n",
    "                labels.append(document_annotations[1])\n",
    "                # TODO: Generate dummy POS items\n",
    "                pos_i = [0] * len( document_annotations[0] )\n",
    "                pos.append( pos_i )\n",
    "\n",
    "    corpus_df = pd.DataFrame(\n",
    "        {'ids': nct_ids,\n",
    "        'tokens': tokens,\n",
    "        'labels': labels,\n",
    "        'pos': pos\n",
    "        })\n",
    "\n",
    "    return corpus_df"
   ]
  },
  {
   "cell_type": "code",
   "execution_count": 5,
   "id": "72f716b7",
   "metadata": {},
   "outputs": [
    {
     "name": "stdout",
     "output_type": "stream",
     "text": [
      "49\n",
      "58\n",
      "70\n"
     ]
    }
   ],
   "source": [
    "umls_p, umls_i, umls_o = loadUMLS()"
   ]
  },
  {
   "cell_type": "code",
   "execution_count": 6,
   "id": "d1393e65",
   "metadata": {},
   "outputs": [],
   "source": [
    "ebm_nlp_path = '/mnt/nas2/data/systematicReview/clinical_trials_gov/Weak_PICO/groundtruth/ebm_nlp/p/sentences.txt'\n",
    "ebm_nlp = readManuallyAnnoted( ebm_nlp_path, label_type=None )\n",
    "train, validation = train_test_split(ebm_nlp, test_size=0.2)"
   ]
  },
  {
   "cell_type": "code",
   "execution_count": 9,
   "id": "9bfb8128",
   "metadata": {},
   "outputs": [
    {
     "name": "stdout",
     "output_type": "stream",
     "text": [
      "Total number of terms in the corpus:  529010\n"
     ]
    }
   ],
   "source": [
    "# Prepare ngrams from training set\n",
    "total_corpus_terms = 0\n",
    "clean_train = []\n",
    "for tokens in train.tokens.tolist():\n",
    "    clean_t = []\n",
    "    for t in tokens:\n",
    "        if t not in stopwords:\n",
    "            t = removePunctNum(t)\n",
    "            if len(t) > 1:\n",
    "                clean_t.append( t.lower() )\n",
    "                total_corpus_terms = total_corpus_terms + 1\n",
    "    clean_train.append(clean_t)\n",
    "    \n",
    "print('Total number of terms in the corpus: ', total_corpus_terms)"
   ]
  },
  {
   "cell_type": "code",
   "execution_count": 10,
   "id": "69bc762e",
   "metadata": {},
   "outputs": [],
   "source": [
    "def document_counter(zipper):\n",
    "    \n",
    "    document_counts_dict = dict()\n",
    "    flattened = []\n",
    "    \n",
    "    for eachOne in zipper:\n",
    "        for one in eachOne:\n",
    "            flattened.append( one )\n",
    "\n",
    "    # Document ngram counter\n",
    "    document_counts = Counter(flattened)\n",
    "    document_counts_tuples = document_counts.most_common()\n",
    "    \n",
    "    for eachCount in document_counts_tuples:\n",
    "        document_counts_dict[ eachCount[0] ] = eachCount[1]\n",
    "\n",
    "    return document_counts_dict"
   ]
  },
  {
   "cell_type": "code",
   "execution_count": 11,
   "id": "3ae26143",
   "metadata": {},
   "outputs": [],
   "source": [
    "clean_train_2grams = [ngrams(tokens, 2) for tokens in clean_train]\n",
    "clean_train_3grams = [ngrams(tokens, 3) for tokens in clean_train]\n",
    "clean_train_4grams = [ngrams(tokens, 4) for tokens in clean_train]\n",
    "clean_train_5grams = [ngrams(tokens, 5) for tokens in clean_train]\n",
    "clean_train_6grams = [ngrams(tokens, 6) for tokens in clean_train]\n",
    "clean_train_7grams = [ngrams(tokens, 7) for tokens in clean_train]\n",
    "clean_train_8grams = [ngrams(tokens, 8) for tokens in clean_train]"
   ]
  },
  {
   "cell_type": "code",
   "execution_count": 12,
   "id": "6d498d6b",
   "metadata": {},
   "outputs": [],
   "source": [
    "counts_1grams = document_counter(clean_train)\n",
    "counts_2grams = document_counter(clean_train_2grams)\n",
    "counts_3grams = document_counter(clean_train_3grams)\n",
    "counts_4grams = document_counter(clean_train_4grams)\n",
    "counts_5grams = document_counter(clean_train_5grams)\n",
    "counts_6grams = document_counter(clean_train_6grams)\n",
    "counts_7grams = document_counter(clean_train_7grams)\n",
    "counts_8grams = document_counter(clean_train_8grams)"
   ]
  },
  {
   "cell_type": "code",
   "execution_count": 13,
   "id": "735127f2",
   "metadata": {},
   "outputs": [],
   "source": [
    "counts_merged = {**counts_1grams, **counts_2grams, **counts_3grams, **counts_4grams, **counts_5grams, **counts_6grams, **counts_7grams, **counts_8grams}"
   ]
  },
  {
   "cell_type": "code",
   "execution_count": 14,
   "id": "6bb321fc",
   "metadata": {},
   "outputs": [],
   "source": [
    "def flattenTuple(zipper):\n",
    "    flattened = []\n",
    "\n",
    "    for eachOne in zipper:\n",
    "        flattened.append( eachOne )\n",
    "            \n",
    "    return flattened"
   ]
  },
  {
   "cell_type": "code",
   "execution_count": 15,
   "id": "cee564af",
   "metadata": {},
   "outputs": [],
   "source": [
    "def getNgrams(term):\n",
    "    \n",
    "    all_grams = []\n",
    "    \n",
    "    termLength = len( term.split() )\n",
    "    term_ = term.split()\n",
    "    term_ = [t.lower() for t in term_]\n",
    "    \n",
    "    if termLength <= 2:\n",
    "        all_grams.append( tuple(term_) )\n",
    "        \n",
    "    if termLength > 2:\n",
    "\n",
    "        for l in range(3, 9):\n",
    "            grams = ngrams(term_, l)\n",
    "            flattened = flattenTuple(grams)\n",
    "            all_grams.extend( flattened )    \n",
    "    \n",
    "    return all_grams"
   ]
  },
  {
   "cell_type": "code",
   "execution_count": 16,
   "id": "520fbdf5",
   "metadata": {},
   "outputs": [],
   "source": [
    "terminology_coverage_p = dict()\n",
    "\n",
    "for i, (terminologyName, terms) in enumerate(umls_p.items()):\n",
    "    \n",
    "    terminology_coverage = []\n",
    "    \n",
    "    for term in terms:\n",
    "        \n",
    "        term_counter = 0\n",
    "        \n",
    "        term_i = getNgrams(term)\n",
    "        for t in term_i:\n",
    "            if t in counts_merged:\n",
    "                term_count = counts_merged[t]\n",
    "                term_counter = term_counter + term_count\n",
    "            \n",
    "        termFrequency = term_counter / total_corpus_terms\n",
    "        terminology_coverage.append( termFrequency )\n",
    "\n",
    "    terminology_coverage_p[terminologyName] = sum(terminology_coverage)"
   ]
  },
  {
   "cell_type": "code",
   "execution_count": 17,
   "id": "a7913ab9",
   "metadata": {},
   "outputs": [],
   "source": [
    "terminology_coverage_i = dict()\n",
    "\n",
    "for i, (terminologyName, terms) in enumerate(umls_i.items()):\n",
    "    \n",
    "    terminology_coverage = []\n",
    "    \n",
    "    for term in terms:\n",
    "        \n",
    "        term_counter = 0\n",
    "        \n",
    "        term_i = getNgrams(term)\n",
    "        for t in term_i:\n",
    "            if t in counts_merged:\n",
    "                term_count = counts_merged[t]\n",
    "                term_counter = term_counter + term_count\n",
    "            \n",
    "        termFrequency = term_counter / total_corpus_terms\n",
    "        terminology_coverage.append( termFrequency )\n",
    "\n",
    "    terminology_coverage_i[terminologyName] = sum(terminology_coverage)"
   ]
  },
  {
   "cell_type": "code",
   "execution_count": null,
   "id": "9f497d68",
   "metadata": {},
   "outputs": [],
   "source": [
    "terminology_coverage_o = dict()\n",
    "\n",
    "for i, (terminologyName, terms) in enumerate(umls_o.items()):\n",
    "    \n",
    "    terminology_coverage = []\n",
    "    \n",
    "    for term in terms:\n",
    "        \n",
    "        term_counter = 0\n",
    "        \n",
    "        term_i = getNgrams(term)\n",
    "        for t in term_i:\n",
    "            if t in counts_merged:\n",
    "                term_count = counts_merged[t]\n",
    "                term_counter = term_counter + term_count\n",
    "            \n",
    "        termFrequency = term_counter / total_corpus_terms \n",
    "        terminology_coverage.append( termFrequency )\n",
    "\n",
    "    terminology_coverage_o[terminologyName] = sum(terminology_coverage)"
   ]
  },
  {
   "cell_type": "code",
   "execution_count": null,
   "id": "76c7be41",
   "metadata": {},
   "outputs": [],
   "source": [
    "sort_orders = sorted(terminology_coverage_o.items(), key=lambda x: x[1], reverse=True)"
   ]
  },
  {
   "cell_type": "code",
   "execution_count": null,
   "id": "13005085",
   "metadata": {},
   "outputs": [],
   "source": []
  }
 ],
 "metadata": {
  "kernelspec": {
   "display_name": "Python 3",
   "language": "python",
   "name": "python3"
  },
  "language_info": {
   "codemirror_mode": {
    "name": "ipython",
    "version": 3
   },
   "file_extension": ".py",
   "mimetype": "text/x-python",
   "name": "python",
   "nbconvert_exporter": "python",
   "pygments_lexer": "ipython3",
   "version": "3.6.9"
  }
 },
 "nbformat": 4,
 "nbformat_minor": 5
}

{
 "cells": [
  {
   "cell_type": "code",
   "execution_count": 1,
   "id": "aedbe612",
   "metadata": {},
   "outputs": [
    {
     "name": "stdout",
     "output_type": "stream",
     "text": [
      "The module loads all the ontologies and dictionaries that will be used for weak labeling in distant-PICO\n"
     ]
    }
   ],
   "source": [
    "import json\n",
    "import sys\n",
    "\n",
    "import pandas as pd\n",
    "from sklearn.model_selection import train_test_split\n",
    "from nltk import ngrams\n",
    "\n",
    "from ontologyLoader import *"
   ]
  },
  {
   "cell_type": "code",
   "execution_count": 2,
   "id": "b5609f90",
   "metadata": {},
   "outputs": [],
   "source": [
    "#loading the english language small model of spacy\n",
    "import spacy\n",
    "en = spacy.load('en_core_web_sm')\n",
    "stopwords = en.Defaults.stop_words\n",
    "additional_stopwords = ['of']\n",
    "stopwords.update(additional_stopwords)\n",
    "\n",
    "import string\n",
    "from collections import Counter"
   ]
  },
  {
   "cell_type": "code",
   "execution_count": 3,
   "id": "7b0a3cbf",
   "metadata": {},
   "outputs": [],
   "source": [
    "def removePunctNum(term):\n",
    "    term = term.translate(str.maketrans(' ', ' ', string.punctuation))\n",
    "    return ''.join([i for i in term if not i.isdigit()])"
   ]
  },
  {
   "cell_type": "code",
   "execution_count": 4,
   "id": "2b9844d5",
   "metadata": {},
   "outputs": [],
   "source": [
    "def readManuallyAnnoted( input_file_path, label_type=None ):\n",
    "\n",
    "    nct_ids = []\n",
    "    tokens = []\n",
    "    labels = []\n",
    "    pos = []\n",
    "\n",
    "    with open(input_file_path, 'r', encoding='latin1') as NCT_ids_file:\n",
    "\n",
    "        for i, eachLine in enumerate(NCT_ids_file):\n",
    "            annot = json.loads(eachLine)\n",
    "\n",
    "            for doc_key, document_annotations in annot.items():\n",
    "\n",
    "                nct_ids.append(doc_key)\n",
    "                tokens.append(document_annotations[0])\n",
    "                labels.append(document_annotations[1])\n",
    "                # TODO: Generate dummy POS items\n",
    "                pos_i = [0] * len( document_annotations[0] )\n",
    "                pos.append( pos_i )\n",
    "\n",
    "    corpus_df = pd.DataFrame(\n",
    "        {'ids': nct_ids,\n",
    "        'tokens': tokens,\n",
    "        'labels': labels,\n",
    "        'pos': pos\n",
    "        })\n",
    "\n",
    "    return corpus_df"
   ]
  },
  {
   "cell_type": "code",
   "execution_count": 5,
   "id": "f13aac1f",
   "metadata": {},
   "outputs": [
    {
     "name": "stdout",
     "output_type": "stream",
     "text": [
      "49\n",
      "58\n",
      "70\n"
     ]
    }
   ],
   "source": [
    "umls_p, umls_i, umls_o = loadUMLS()"
   ]
  },
  {
   "cell_type": "code",
   "execution_count": 6,
   "id": "a0873b29",
   "metadata": {},
   "outputs": [],
   "source": [
    "ebm_nlp_path = '/mnt/nas2/data/systematicReview/clinical_trials_gov/Weak_PICO/groundtruth/ebm_nlp/p/sentences.txt'\n",
    "ebm_nlp = readManuallyAnnoted( ebm_nlp_path, label_type=None )\n",
    "train, validation = train_test_split(ebm_nlp, test_size=0.2)"
   ]
  },
  {
   "cell_type": "code",
   "execution_count": 9,
   "id": "57957a86",
   "metadata": {},
   "outputs": [
    {
     "name": "stdout",
     "output_type": "stream",
     "text": [
      "Total number of terms in the corpus:  529010\n"
     ]
    }
   ],
   "source": [
    "# Prepare ngrams from training set\n",
    "total_corpus_terms = 0\n",
    "clean_train = []\n",
    "for tokens in train.tokens.tolist():\n",
    "    clean_t = []\n",
    "    for t in tokens:\n",
    "        if t not in stopwords:\n",
    "            t = removePunctNum(t)\n",
    "            if len(t) > 1:\n",
    "                clean_t.append( t.lower() )\n",
    "                total_corpus_terms = total_corpus_terms + 1\n",
    "    clean_train.append(clean_t)\n",
    "    \n",
    "print('Total number of terms in the corpus: ', total_corpus_terms)"
   ]
  },
  {
   "cell_type": "code",
   "execution_count": 10,
   "id": "18bc6eaf",
   "metadata": {},
   "outputs": [],
   "source": [
    "def document_counter(zipper):\n",
    "    \n",
    "    document_counts_dict = dict()\n",
    "    flattened = []\n",
    "    \n",
    "    for eachOne in zipper:\n",
    "        for one in eachOne:\n",
    "            flattened.append( one )\n",
    "\n",
    "    # Document ngram counter\n",
    "    document_counts = Counter(flattened)\n",
    "    document_counts_tuples = document_counts.most_common()\n",
    "    \n",
    "    for eachCount in document_counts_tuples:\n",
    "        document_counts_dict[ eachCount[0] ] = eachCount[1]\n",
    "\n",
    "    return document_counts_dict"
   ]
  },
  {
   "cell_type": "code",
   "execution_count": 11,
   "id": "92f151d9",
   "metadata": {},
   "outputs": [],
   "source": [
    "clean_train_2grams = [ngrams(tokens, 2) for tokens in clean_train]\n",
    "clean_train_3grams = [ngrams(tokens, 3) for tokens in clean_train]\n",
    "clean_train_4grams = [ngrams(tokens, 4) for tokens in clean_train]\n",
    "clean_train_5grams = [ngrams(tokens, 5) for tokens in clean_train]\n",
    "clean_train_6grams = [ngrams(tokens, 6) for tokens in clean_train]\n",
    "clean_train_7grams = [ngrams(tokens, 7) for tokens in clean_train]\n",
    "clean_train_8grams = [ngrams(tokens, 8) for tokens in clean_train]"
   ]
  },
  {
   "cell_type": "code",
   "execution_count": 12,
   "id": "3da609da",
   "metadata": {},
   "outputs": [],
   "source": [
    "counts_1grams = document_counter(clean_train)\n",
    "counts_2grams = document_counter(clean_train_2grams)\n",
    "counts_3grams = document_counter(clean_train_3grams)\n",
    "counts_4grams = document_counter(clean_train_4grams)\n",
    "counts_5grams = document_counter(clean_train_5grams)\n",
    "counts_6grams = document_counter(clean_train_6grams)\n",
    "counts_7grams = document_counter(clean_train_7grams)\n",
    "counts_8grams = document_counter(clean_train_8grams)"
   ]
  },
  {
   "cell_type": "code",
   "execution_count": 13,
   "id": "8b4d31d3",
   "metadata": {},
   "outputs": [],
   "source": [
    "counts_merged = {**counts_1grams, **counts_2grams, **counts_3grams, **counts_4grams, **counts_5grams, **counts_6grams, **counts_7grams, **counts_8grams}"
   ]
  },
  {
   "cell_type": "code",
   "execution_count": 14,
   "id": "32e97fbe",
   "metadata": {},
   "outputs": [],
   "source": [
    "def flattenTuple(zipper):\n",
    "    flattened = []\n",
    "\n",
    "    for eachOne in zipper:\n",
    "        flattened.append( eachOne )\n",
    "            \n",
    "    return flattened"
   ]
  },
  {
   "cell_type": "code",
   "execution_count": 32,
   "id": "250f5342",
   "metadata": {},
   "outputs": [],
   "source": [
    "def getNgrams(term):\n",
    "    \n",
    "    all_grams = []\n",
    "    \n",
    "    termLength = len( term.split() )\n",
    "    term_ = term.split()\n",
    "    term_ = [t.lower() for t in term_]\n",
    "    \n",
    "    if termLength <= 2:\n",
    "        all_grams.append( tuple(term_) )\n",
    "        \n",
    "    if termLength > 2:\n",
    "\n",
    "        for l in range(2, 9):\n",
    "            grams = ngrams(term_, l)\n",
    "            flattened = flattenTuple(grams)\n",
    "            all_grams.extend( flattened )    \n",
    "    \n",
    "    return all_grams"
   ]
  },
  {
   "cell_type": "code",
   "execution_count": 33,
   "id": "8064c54d",
   "metadata": {},
   "outputs": [],
   "source": [
    "terminology_coverage_p = dict()\n",
    "\n",
    "for i, (terminologyName, terms) in enumerate(umls_p.items()):\n",
    "    \n",
    "    terminology_coverage = []\n",
    "    \n",
    "    for term in terms:\n",
    "        \n",
    "        term_counter = 0\n",
    "        \n",
    "        term_i = getNgrams(term)\n",
    "        for t in term_i:\n",
    "            if t in counts_merged:\n",
    "                term_count = counts_merged[t]\n",
    "                term_counter = term_counter + term_count\n",
    "            \n",
    "            termFrequency = term_counter / total_corpus_terms\n",
    "            terminology_coverage.append( termFrequency )\n",
    "\n",
    "    terminology_coverage_p[terminologyName] = sum(terminology_coverage)"
   ]
  },
  {
   "cell_type": "code",
   "execution_count": 34,
   "id": "6579862f",
   "metadata": {},
   "outputs": [],
   "source": [
    "terminology_coverage_i = dict()\n",
    "\n",
    "for i, (terminologyName, terms) in enumerate(umls_i.items()):\n",
    "    \n",
    "    terminology_coverage = []\n",
    "    \n",
    "    for term in terms:\n",
    "        \n",
    "        term_counter = 0\n",
    "        \n",
    "        term_i = getNgrams(term)\n",
    "        for t in term_i:\n",
    "            if t in counts_merged:\n",
    "                term_count = counts_merged[t]\n",
    "                term_counter = term_counter + term_count\n",
    "            \n",
    "            termFrequency = term_counter / total_corpus_terms\n",
    "            terminology_coverage.append( termFrequency )\n",
    "\n",
    "    terminology_coverage_i[terminologyName] = sum(terminology_coverage)"
   ]
  },
  {
   "cell_type": "code",
   "execution_count": 35,
   "id": "e68494a6",
   "metadata": {},
   "outputs": [],
   "source": [
    "terminology_coverage_o = dict()\n",
    "\n",
    "for i, (terminologyName, terms) in enumerate(umls_o.items()):\n",
    "    \n",
    "    terminology_coverage = []\n",
    "    \n",
    "    for term in terms:\n",
    "        \n",
    "        term_counter = 0\n",
    "        \n",
    "        term_i = getNgrams(term)\n",
    "        for t in term_i:\n",
    "            if t in counts_merged:\n",
    "                term_count = counts_merged[t]\n",
    "                term_counter = term_counter + term_count\n",
    "            \n",
    "            termFrequency = term_counter / total_corpus_terms \n",
    "            terminology_coverage.append( termFrequency )\n",
    "\n",
    "    terminology_coverage_o[terminologyName] = sum(terminology_coverage)"
   ]
  },
  {
   "cell_type": "code",
   "execution_count": 36,
   "id": "75bd6e41",
   "metadata": {},
   "outputs": [
    {
     "name": "stdout",
     "output_type": "stream",
     "text": [
      "[('SNOMEDCT_US', 58.69971078037866), ('MEDCIN', 52.3303661557509), ('ICD10CM', 22.609272036603958), ('NCI', 16.952008468680056), ('RCD', 7.3105877015835325), ('MDR', 7.118389066377173), ('MTH', 6.025695166473324), ('MTHICD9', 5.6792007712572055), ('ICD9CM', 4.999722122461224), ('PDQ', 4.201128523092464), ('ICD10AM', 3.271979735735125), ('ICD10', 3.225339785639087), ('RCDSY', 2.7759097181550296), ('SNMI', 2.309515888172502), ('NCI_CTRP', 1.8345929188489662), ('MSH', 1.6103722046855462), ('OMIM', 1.1358310806981682), ('ICPC2ICD10ENG', 0.7269749154079655), ('CHV', 0.6226177198918335), ('RCDAE', 0.5957789077710693), ('CCPSS', 0.5804030169561744), ('LNC', 0.35895918791703346), ('HPO', 0.3565017674523902), ('ICD10AMAE', 0.29572786903838577), ('ICD10AE', 0.2363962874047746), ('NCI_NCI-GLOSS', 0.23219598873367092), ('NCI_NICHD', 0.22595414075347628), ('RCDSA', 0.22558930833065352), ('SNOMEDCT_VET', 0.20807168106462193), ('SNM', 0.17035027693237467), ('NCI_CELLOSAURUS', 0.1666830494697612), ('NCI_caDSR', 0.12969131018316946), ('NCI_GDC', 0.10320976919150616), ('ICPC2P', 0.07314795561520343), ('HL7V3.0', 0.06986068316288781), ('AOD', 0.05673238691139967), ('CSP', 0.054414850380899805), ('COSTAR', 0.052870456135044396), ('JABL', 0.05125801024555308), ('NCI_CDISC', 0.05062286157161446), ('LCH_NW', 0.048008544261922734), ('DXP', 0.045931078807583674), ('CST', 0.04173267045991546), ('MEDLINEPLUS', 0.03305608589629675), ('BI', 0.025980605281563637), ('WHO', 0.02353074611065942), ('QMR', 0.019515699136122146), ('PSY', 0.00918886221432484), ('LCH', 0.007669042173115806)]\n"
     ]
    }
   ],
   "source": [
    "tc_sorted_p = sorted(terminology_coverage_p.items(), key=lambda x: x[1], reverse=True)\n",
    "print(tc_sorted_p)"
   ]
  },
  {
   "cell_type": "code",
   "execution_count": 38,
   "id": "575338a6",
   "metadata": {},
   "outputs": [
    {
     "name": "stdout",
     "output_type": "stream",
     "text": [
      "[('ICD10PCS', 304.004466820003), ('MTHSPL', 148.18494923950414), ('CPT', 96.90423243366982), ('RXNORM', 95.29885824324481), ('MEDCIN', 80.04924481501466), ('SNOMEDCT_US', 79.09295287348715), ('MMX', 43.973520349936685), ('NIC', 24.271355929050483), ('HCPCS', 23.915007277756004), ('MTH', 22.925163985597102), ('MMSL', 12.698230657326329), ('NDDF', 12.013219031836156), ('HCPT', 11.08683389729258), ('RCD', 5.435156235239952), ('MSH', 4.624052475387484), ('LNC', 4.585323528863873), ('SNMI', 4.062601841180492), ('NCI', 3.8540897147524915), ('GS', 3.2132568382479225), ('ICD10AM', 1.597971682956563), ('PCDS', 1.5710648191914018), ('PDQ', 1.2614903309957244), ('MTHICD9', 0.7805542428308683), ('RCDAE', 0.5878962590498545), ('NCI_CTRP', 0.5494508610423023), ('DRUGBANK', 0.5270788831968807), ('MDR', 0.40784862289935664), ('CHV', 0.3902459310787843), ('ALT', 0.3897638986030204), ('ICD9CM', 0.36188540859337304), ('NCI_CDISC', 0.3421201867639542), ('MED-RT', 0.29206442222263074), ('VANDF', 0.28286988903797794), ('SNM', 0.22203928092095648), ('HL7V2.5', 0.216990227027844), ('ATC', 0.19901703181413222), ('CDT', 0.1584790457647234), ('HCDT', 0.15645639968998198), ('ICD10AMAE', 0.1539214759645284), ('CPM', 0.1354624676282077), ('AOD', 0.10614166083816612), ('SNOMEDCT_VET', 0.10159921362543944), ('NCI_NCI-GLOSS', 0.0838207217254873), ('CSP', 0.0771630025897423), ('CVX', 0.0764673635659028), ('ICNP', 0.07152983875541025), ('ICPC2P', 0.06620290731743976), ('USP', 0.05684013534715542), ('CCPSS', 0.05618041246857292), ('LCH_NW', 0.04721271809606595), ('NCI_FDA', 0.046815750174853635), ('NCI_caDSR', 0.02523392752499945), ('USPMG', 0.020734957751270985), ('PSY', 0.020192434925615677), ('NCI_EDQM-HC', 0.00987504962099), ('UMD', 0.008243700497155016), ('LCH', 0.007672822819984491), ('NCI_DTP', 0.00127974896504792)]\n"
     ]
    }
   ],
   "source": [
    "tc_sorted_i = sorted(terminology_coverage_i.items(), key=lambda x: x[1], reverse=True)\n",
    "print(tc_sorted_i)"
   ]
  },
  {
   "cell_type": "code",
   "execution_count": 37,
   "id": "1e61f729",
   "metadata": {},
   "outputs": [
    {
     "name": "stdout",
     "output_type": "stream",
     "text": [
      "[('MEDCIN', 640.5954878288453), ('LNC', 134.6945142699858), ('SNOMEDCT_US', 86.00480520145268), ('CPT', 68.11327196082932), ('ICD10PCS', 54.903992363361645), ('HCPCS', 28.498308160547886), ('MTH', 25.34276289677039), ('NCI', 25.181155365721093), ('NIC', 21.20653484814635), ('HCPT', 9.128228199848984), ('RCD', 7.44609931760884), ('ICD10CM', 6.546023704678359), ('OMIM', 4.169803973465156), ('GO', 3.951496191000554), ('NCI_caDSR', 3.351749494340747), ('UMD', 2.864989319675145), ('NCI_CDISC', 2.5719249163546203), ('SNMI', 2.2823576113894286), ('MDR', 2.151802423396248), ('GS', 2.115169845560748), ('NOC', 1.6692727925755138), ('ICD9CM', 1.5548193795965348), ('HPO', 1.3338348991521383), ('ICD10AM', 1.2248123853994415), ('RCDSY', 1.1481767830477192), ('ICD10', 1.1424869095102976), ('MTHICD9', 0.7849454641688404), ('CHV', 0.7397667340881537), ('NCI_CTRP', 0.652613372147914), ('NANDA-I', 0.6364019583750485), ('NDDF', 0.6184552276894429), ('MMSL', 0.5364000680516262), ('MSH', 0.5203171962722485), ('ICPC2ICD10ENG', 0.5186177955047676), ('RCDAE', 0.5092682557985243), ('PCDS', 0.5072229258425859), ('MTHSPL', 0.4283813160431122), ('NCI_CTCAE_3', 0.3741290334775884), ('HL7V2.5', 0.30969735921815456), ('ALT', 0.2739400011341803), ('CCPSS', 0.27205345834671296), ('SNM', 0.254329785826346), ('DSM-5', 0.2487816865465589), ('ICD10AMAE', 0.24211073514677112), ('SNOMEDCT_VET', 0.22694277990962508), ('CPM', 0.21835882119429456), ('AOD', 0.18986786639192826), ('NCI_NICHD', 0.17093816752045937), ('PDQ', 0.16511030037239136), ('NCI_CTCAE_5', 0.1519593202396858), ('NCI_CareLex', 0.13002400710761453), ('SPN', 0.12315079110035337), ('DXP', 0.11902421504319266), ('ICPC2P', 0.10761422279351474), ('HL7V3.0', 0.10599043496341967), ('ICNP', 0.09581860456323868), ('CSP', 0.06227481522088394), ('NCI_FDA', 0.05885711045159777), ('MTHMST', 0.049794899907372424), ('LCH_NW', 0.04836203474414385), ('CST', 0.04323736791364918), ('WHO', 0.03180658210619822), ('NCI_NCI-GLOSS', 0.03130375607266399), ('VANDF', 0.02647397969792607), ('PSY', 0.026075121453280437), ('NCI_GDC', 0.017385304625621375), ('ICPC', 0.015428819871079856), ('COSTAR', 0.012022457042399905), ('LCH', 0.008646339388669383), ('DRUGBANK', 0.0018657492296932016)]\n"
     ]
    }
   ],
   "source": [
    "tc_sorted_o = sorted(terminology_coverage_o.items(), key=lambda x: x[1], reverse=True)\n",
    "print(tc_sorted_o)"
   ]
  }
 ],
 "metadata": {
  "kernelspec": {
   "display_name": "Python 3",
   "language": "python",
   "name": "python3"
  },
  "language_info": {
   "codemirror_mode": {
    "name": "ipython",
    "version": 3
   },
   "file_extension": ".py",
   "mimetype": "text/x-python",
   "name": "python",
   "nbconvert_exporter": "python",
   "pygments_lexer": "ipython3",
   "version": "3.6.9"
  }
 },
 "nbformat": 4,
 "nbformat_minor": 5
}

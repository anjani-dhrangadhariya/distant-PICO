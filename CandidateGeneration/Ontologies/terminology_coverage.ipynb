{
 "cells": [
  {
   "cell_type": "code",
   "execution_count": 1,
   "id": "aedbe612",
   "metadata": {},
   "outputs": [],
   "source": [
    "import json\n",
    "import sys\n",
    "\n",
    "import pandas as pd\n",
    "from sklearn.model_selection import train_test_split\n",
    "from nltk import ngrams\n",
    "\n",
    "from collections import OrderedDict"
   ]
  },
  {
   "cell_type": "code",
   "execution_count": 2,
   "id": "d249831c",
   "metadata": {},
   "outputs": [
    {
     "data": {
      "text/plain": [
       "'/home/anjani/distant-PICO/CandidateGeneration/Ontologies'"
      ]
     },
     "execution_count": 2,
     "metadata": {},
     "output_type": "execute_result"
    }
   ],
   "source": [
    "import os\n",
    "os.getcwd()"
   ]
  },
  {
   "cell_type": "code",
   "execution_count": 3,
   "id": "65999196",
   "metadata": {},
   "outputs": [],
   "source": [
    "import sys\n",
    "sys.path.append('/home/anjani/distant-PICO/CandidateGeneration/')"
   ]
  },
  {
   "cell_type": "code",
   "execution_count": 4,
   "id": "7673e61d",
   "metadata": {},
   "outputs": [],
   "source": [
    "outdir = '/mnt/nas2/results/Results/systematicReview/distant_pico/coverage_results/'"
   ]
  },
  {
   "cell_type": "code",
   "execution_count": 5,
   "id": "89fb3046",
   "metadata": {},
   "outputs": [
    {
     "name": "stdout",
     "output_type": "stream",
     "text": [
      "The module loads all the ontologies and dictionaries that will be used for weak labeling in distant-PICO\n",
      "The module maps CUIs to TUIs from the selected UMLS subset\n"
     ]
    }
   ],
   "source": [
    "from ontologyLoader import *"
   ]
  },
  {
   "cell_type": "code",
   "execution_count": 6,
   "id": "b5609f90",
   "metadata": {},
   "outputs": [],
   "source": [
    "#loading the english language small model of spacy\n",
    "import spacy\n",
    "en = spacy.load('en_core_web_sm')\n",
    "stopwords = en.Defaults.stop_words\n",
    "additional_stopwords = ['of']\n",
    "stopwords.update(additional_stopwords)\n",
    "\n",
    "import string\n",
    "from collections import Counter"
   ]
  },
  {
   "cell_type": "code",
   "execution_count": 7,
   "id": "7b0a3cbf",
   "metadata": {},
   "outputs": [],
   "source": [
    "def removePunctNum(term):\n",
    "    term = term.translate(str.maketrans(' ', ' ', string.punctuation))\n",
    "    return ''.join([i for i in term if not i.isdigit()])"
   ]
  },
  {
   "cell_type": "code",
   "execution_count": 8,
   "id": "2b9844d5",
   "metadata": {},
   "outputs": [],
   "source": [
    "def readManuallyAnnoted( input_file_path, label_type=None ):\n",
    "\n",
    "    nct_ids = []\n",
    "    tokens = []\n",
    "    labels = []\n",
    "    pos = []\n",
    "\n",
    "    with open(input_file_path, 'r', encoding='latin1') as NCT_ids_file:\n",
    "\n",
    "        for i, eachLine in enumerate(NCT_ids_file):\n",
    "            annot = json.loads(eachLine)\n",
    "\n",
    "            for doc_key, document_annotations in annot.items():\n",
    "\n",
    "                nct_ids.append(doc_key)\n",
    "                tokens.append(document_annotations[0])\n",
    "                labels.append(document_annotations[1])\n",
    "                # TODO: Generate dummy POS items\n",
    "                pos_i = [0] * len( document_annotations[0] )\n",
    "                pos.append( pos_i )\n",
    "\n",
    "    corpus_df = pd.DataFrame(\n",
    "        {'ids': nct_ids,\n",
    "        'tokens': tokens,\n",
    "        'labels': labels,\n",
    "        'pos': pos\n",
    "        })\n",
    "\n",
    "    return corpus_df"
   ]
  },
  {
   "cell_type": "code",
   "execution_count": 9,
   "id": "f13aac1f",
   "metadata": {},
   "outputs": [
    {
     "name": "stdout",
     "output_type": "stream",
     "text": [
      "Retrieving UMLS ontology arm (Preprocessing applied)\n",
      "This is the connection:  <sqlite3.Connection object at 0x7feffe43b990>\n",
      "Dataframe size:  147\n",
      "This is the connection:  <sqlite3.Connection object at 0x7feffe697c60>\n",
      "Dataframe size:  147\n",
      "This is the connection:  <sqlite3.Connection object at 0x7fedb58e8300>\n",
      "Dataframe size:  147\n"
     ]
    }
   ],
   "source": [
    "# umls_db = '/mnt/nas2/data/systematicReview/UMLS/english_subset/umls_preprocessed/umls_pre.db'\n",
    "umls_db = '/mnt/nas2/data/systematicReview/UMLS/english_subset/umls_preprocessed/umls_tui_pio4_.db'\n",
    "\n",
    "\n",
    "print('Retrieving UMLS ontology arm (Preprocessing applied)')\n",
    "umls_p  = loadUMLSdb(umls_db, 'P')    \n",
    "umls_i = loadUMLSdb(umls_db, 'I')\n",
    "umls_o = loadUMLSdb(umls_db, 'O')"
   ]
  },
  {
   "cell_type": "code",
   "execution_count": 10,
   "id": "a0873b29",
   "metadata": {},
   "outputs": [],
   "source": [
    "ebm_nlp_path_p = '/mnt/nas2/data/systematicReview/clinical_trials_gov/Weak_PICO/groundtruth/ebm_nlp/p/sentences.txt'\n",
    "ebm_nlp_p = readManuallyAnnoted( ebm_nlp_path_p, label_type=None )"
   ]
  },
  {
   "cell_type": "code",
   "execution_count": 11,
   "id": "4c2d1fb7",
   "metadata": {},
   "outputs": [],
   "source": [
    "ebm_nlp_path_i = '/mnt/nas2/data/systematicReview/clinical_trials_gov/Weak_PICO/groundtruth/ebm_nlp/i/sentences.txt'\n",
    "ebm_nlp_i = readManuallyAnnoted( ebm_nlp_path_i, label_type=None )"
   ]
  },
  {
   "cell_type": "code",
   "execution_count": 12,
   "id": "4f6b9ad4",
   "metadata": {},
   "outputs": [],
   "source": [
    "ebm_nlp_path_o = '/mnt/nas2/data/systematicReview/clinical_trials_gov/Weak_PICO/groundtruth/ebm_nlp/o/sentences.txt'\n",
    "ebm_nlp_O = readManuallyAnnoted( ebm_nlp_path_o, label_type=None )"
   ]
  },
  {
   "cell_type": "code",
   "execution_count": 13,
   "id": "57957a86",
   "metadata": {},
   "outputs": [
    {
     "name": "stdout",
     "output_type": "stream",
     "text": [
      "Total number of terms in the corpus:  661125\n"
     ]
    }
   ],
   "source": [
    "# Prepare ngrams from training set\n",
    "total_corpus_terms = 0\n",
    "clean_train = []\n",
    "for tokens in ebm_nlp_p.tokens.tolist():\n",
    "    clean_t = []\n",
    "    for t in tokens:\n",
    "        if t not in stopwords: # Remove stopwords\n",
    "            t = removePunctNum(t) # Remove punctuations\n",
    "            if len(t) > 1:\n",
    "                clean_t.append( t.lower() )\n",
    "                total_corpus_terms = total_corpus_terms + 1\n",
    "    clean_train.append(clean_t)\n",
    "    \n",
    "print('Total number of terms in the corpus: ', total_corpus_terms)"
   ]
  },
  {
   "cell_type": "code",
   "execution_count": 14,
   "id": "18bc6eaf",
   "metadata": {},
   "outputs": [],
   "source": [
    "def document_counter(zipper):\n",
    "    \n",
    "    document_counts_dict = dict()\n",
    "    flattened = []\n",
    "    \n",
    "    for eachOne in zipper:\n",
    "        for one in eachOne:\n",
    "            flattened.append( one )\n",
    "\n",
    "    # Document ngram counter\n",
    "    document_counts = Counter(flattened)\n",
    "    document_counts_tuples = document_counts.most_common()\n",
    "    \n",
    "    for eachCount in document_counts_tuples:\n",
    "        document_counts_dict[ eachCount[0] ] = eachCount[1]\n",
    "\n",
    "    return document_counts_dict"
   ]
  },
  {
   "cell_type": "code",
   "execution_count": 15,
   "id": "92f151d9",
   "metadata": {},
   "outputs": [],
   "source": [
    "clean_train_2grams = [ngrams(tokens, 2) for tokens in clean_train]\n",
    "clean_train_3grams = [ngrams(tokens, 3) for tokens in clean_train]\n",
    "clean_train_4grams = [ngrams(tokens, 4) for tokens in clean_train]\n",
    "clean_train_5grams = [ngrams(tokens, 5) for tokens in clean_train]\n",
    "clean_train_6grams = [ngrams(tokens, 6) for tokens in clean_train]\n",
    "clean_train_7grams = [ngrams(tokens, 7) for tokens in clean_train]\n",
    "clean_train_8grams = [ngrams(tokens, 8) for tokens in clean_train]"
   ]
  },
  {
   "cell_type": "code",
   "execution_count": 16,
   "id": "3da609da",
   "metadata": {},
   "outputs": [],
   "source": [
    "counts_1grams = document_counter(clean_train)\n",
    "counts_2grams = document_counter(clean_train_2grams)\n",
    "counts_3grams = document_counter(clean_train_3grams)\n",
    "counts_4grams = document_counter(clean_train_4grams)\n",
    "counts_5grams = document_counter(clean_train_5grams)\n",
    "counts_6grams = document_counter(clean_train_6grams)\n",
    "counts_7grams = document_counter(clean_train_7grams)\n",
    "counts_8grams = document_counter(clean_train_8grams)"
   ]
  },
  {
   "cell_type": "code",
   "execution_count": 17,
   "id": "8b4d31d3",
   "metadata": {},
   "outputs": [],
   "source": [
    "counts_merged = {**counts_1grams, **counts_2grams, **counts_3grams, **counts_4grams, **counts_5grams, **counts_6grams, **counts_7grams, **counts_8grams}"
   ]
  },
  {
   "cell_type": "code",
   "execution_count": 18,
   "id": "32e97fbe",
   "metadata": {},
   "outputs": [],
   "source": [
    "def flattenTuple(zipper):\n",
    "    flattened = []\n",
    "\n",
    "    for eachOne in zipper:\n",
    "        flattened.append( eachOne )\n",
    "            \n",
    "    return flattened"
   ]
  },
  {
   "cell_type": "code",
   "execution_count": 19,
   "id": "250f5342",
   "metadata": {},
   "outputs": [],
   "source": [
    "def getNgrams(term):\n",
    "    \n",
    "    all_grams = []\n",
    "    \n",
    "    termLength = len( term.split() )\n",
    "    term_ = term.split()\n",
    "    term_ = [t.lower() for t in term_]\n",
    "    \n",
    "    if termLength <= 2:\n",
    "        all_grams.append( tuple(term_) )\n",
    "        \n",
    "    if termLength > 2:\n",
    "\n",
    "        for l in range(2, 9):\n",
    "            grams = ngrams(term_, l)\n",
    "            flattened = flattenTuple(grams)\n",
    "            all_grams.extend( flattened )    \n",
    "    \n",
    "    return all_grams"
   ]
  },
  {
   "cell_type": "code",
   "execution_count": 20,
   "id": "8064c54d",
   "metadata": {},
   "outputs": [],
   "source": [
    "terminology_coverage_p = dict()\n",
    "\n",
    "for i, (terminologyName, terms) in enumerate(umls_p.items()):\n",
    "    \n",
    "    terminology_coverage = []\n",
    "    \n",
    "    for term, term_label in terms:\n",
    "        \n",
    "        term_counter = 0\n",
    "        \n",
    "        term_i = getNgrams(term)\n",
    "        for t in term_i:\n",
    "            if t in counts_merged and len( term_label ) == 1:\n",
    "                term_count = counts_merged[t]\n",
    "                term_counter = term_counter + term_count\n",
    "            \n",
    "            termFrequency = term_counter / total_corpus_terms\n",
    "            terminology_coverage.append( termFrequency )\n",
    "\n",
    "    terminology_coverage_p[terminologyName] = sum(terminology_coverage)"
   ]
  },
  {
   "cell_type": "code",
   "execution_count": 21,
   "id": "6579862f",
   "metadata": {},
   "outputs": [],
   "source": [
    "terminology_coverage_i = dict()\n",
    "\n",
    "for i, (terminologyName, terms) in enumerate(umls_i.items()):\n",
    "    \n",
    "    terminology_coverage = []\n",
    "    \n",
    "    for term, term_label in terms:\n",
    "        \n",
    "        term_counter = 0\n",
    "        \n",
    "        term_i = getNgrams(term)\n",
    "        for t in term_i:\n",
    "            if t in counts_merged and len( term_label ) == 1:\n",
    "                term_count = counts_merged[t]\n",
    "                term_counter = term_counter + term_count\n",
    "            \n",
    "            termFrequency = term_counter / total_corpus_terms\n",
    "            terminology_coverage.append( termFrequency )\n",
    "\n",
    "    terminology_coverage_i[terminologyName] = sum(terminology_coverage)"
   ]
  },
  {
   "cell_type": "code",
   "execution_count": 22,
   "id": "e68494a6",
   "metadata": {},
   "outputs": [],
   "source": [
    "terminology_coverage_o = dict()\n",
    "\n",
    "for i, (terminologyName, terms) in enumerate(umls_o.items()):\n",
    "    \n",
    "    terminology_coverage = []\n",
    "    \n",
    "    for term, term_label in terms:\n",
    "        \n",
    "        term_counter = 0\n",
    "        \n",
    "        term_i = getNgrams(term)\n",
    "        for t in term_i:\n",
    "            if t in counts_merged and len( term_label ) == 1:\n",
    "                term_count = counts_merged[t]\n",
    "                term_counter = term_counter + term_count\n",
    "            \n",
    "            termFrequency = term_counter / total_corpus_terms \n",
    "            terminology_coverage.append( termFrequency )\n",
    "\n",
    "    terminology_coverage_o[terminologyName] = sum(terminology_coverage)"
   ]
  },
  {
   "cell_type": "code",
   "execution_count": 23,
   "id": "75bd6e41",
   "metadata": {},
   "outputs": [
    {
     "name": "stdout",
     "output_type": "stream",
     "text": [
      "OrderedDict([('MEDCIN', 547.4225479340062), ('ICD10PCS', 199.1878268158379), ('SNOMEDCT_US', 102.614003402653), ('LNC', 93.55885649391792), ('CPT', 52.29364038574635), ('NCI', 32.689863490274), ('HCPCS', 25.199620344108297), ('MTH', 22.07663754962556), ('NIC', 18.415484212513732), ('ICD10CM', 14.836342597820956), ('MDR', 9.025346190199668), ('HCPT', 7.206691624120196), ('RCD', 6.899646814135542), ('OMIM', 4.9980018907152335), ('FMA', 4.237773492148084), ('SNMI', 3.953645679715987), ('NCI_CDISC', 3.946926829268506), ('PDQ', 3.844752505199762), ('MTHICD9', 2.993391567405085), ('ICD9CM', 2.8425108716203566), ('NCI_CTRP', 2.2160211760257282), ('ICD10AM', 2.1081686519196063), ('ICPC2ICD10ENG', 2.022519190773542), ('MSH', 1.9068179239931526), ('UWDA', 1.8494883720946205), ('NCI_caDSR', 1.6435999243715655), ('NOC', 1.4671022877671533), ('UMD', 1.3957224428058157), ('CHV', 1.1807177160144637), ('MTHSPL', 1.1694823217999009), ('HPO', 0.9400294951787995), ('CCPSS', 0.8300397050482525), ('PCDS', 0.815555303460075), ('RCDAE', 0.6790380034033195), ('ICD10', 0.6601671393458294), ('SNM', 0.6331813197202144), ('DSM-5', 0.6304753261486276), ('RCDSY', 0.4867793533749186), ('AOD', 0.3964227642276466), ('NANDA-I', 0.38702060881073713), ('NCI_CTCAE_3', 0.33164530156933886), ('NCI_NICHD', 0.2784586878426921), ('ALT', 0.24402495745888775), ('ICD10AMAE', 0.24276952164872484), ('NCI_NCI-GLOSS', 0.24132652675363903), ('DXP', 0.1959886557005097), ('HL7V2.5', 0.18796899224806782), ('SRC', 0.16197390811117524), ('NCI_GDC', 0.1536683683115925), ('NCI_CELLOSAURUS', 0.14699186991870117), ('NCI_CareLex', 0.1162624314615239), ('CSP', 0.10951181697863552), ('NCI_CTCAE_5', 0.10648969559463205), ('ICD10AE', 0.10147400264700952), ('CPM', 0.08992853091322288), ('ICPC2P', 0.08524711665721416), ('HL7V3.0', 0.08512006050293053), ('CCS', 0.08314312724522553), ('HCDT', 0.07898657591227219), ('RCDSA', 0.07898506333900607), ('CDT', 0.0747120438646252), ('ICNP', 0.0740026470032159), ('CST', 0.07110606920022813), ('MEDLINEPLUS', 0.06879939497069436), ('COSTAR', 0.06356286632633781), ('NCI_CDISC-GLOSS', 0.06333900548307829), ('LCH_NW', 0.061371147664965216), ('NCI_CTCAE', 0.05685157874834563), ('NCI_FDA', 0.05105388542257619), ('WHO', 0.04907543959160566), ('CCSR_ICD10CM', 0.04867763282284018), ('BI', 0.039986386840612655), ('NCI_ACC-AHA', 0.03693855171109854), ('NDDF', 0.03593722820949184), ('PSY', 0.03535488750236322), ('MTHMST', 0.034078275666477566), ('NEU', 0.03317224428058273), ('JABL', 0.0330860276044626), ('SPN', 0.023340518056343438), ('OMS', 0.02091586311211949), ('ICPC2EENG', 0.02081905842314236), ('QMR', 0.020633011911514395), ('NCI_PCDC', 0.01709056532425787), ('VANDF', 0.015068254868595263), ('ATC', 0.0138929854414823), ('LCH', 0.01213083758744562), ('MED-RT', 0.011220268481754558), ('ICPC', 0.010730194743807889), ('MMSL', 0.010665154093401399), ('MMX', 0.010550198525241078), ('ICF-CY', 0.009762147854036634), ('ICF', 0.009672906031385842), ('GS', 0.009619965967101483), ('DRUGBANK', 0.002057099640763849), ('NCI_UCUM', 0.0014702212138400456), ('RXNORM', 0.0010436755530346003), ('CVX', 0.0009498960105880135), ('NCI_BRIDG_5_3', 0.0004310833806012479), ('GO', 0.00032369067876725254), ('NCI_CRCH', 0.0002586500283607487), ('NCI_BRIDG_3_0_3', 0.00024049914917753833), ('NCI_DCP', 0.00015276989979202117), ('NCI_EDQM-HC', 7.411608999810929e-05), ('USP', 4.840234448856116e-05), ('USPMG', 9.075439591605218e-06), ('NCI_DTP', 6.050293061070146e-06), ('CDCREC', 0.0), ('HGNC', 0.0), ('NCBI', 0.0), ('NCI_CDC', 0.0), ('NCI_NCI-HGNC', 0.0), ('NUCCHCPT', 0.0)])\n"
     ]
    }
   ],
   "source": [
    "tc_sorted_p = sorted(terminology_coverage_p.items(), key=lambda x: x[1], reverse=True)\n",
    "tc_sorted_p = OrderedDict(tc_sorted_p)\n",
    "print(tc_sorted_p)"
   ]
  },
  {
   "cell_type": "code",
   "execution_count": 24,
   "id": "73f17666",
   "metadata": {},
   "outputs": [],
   "source": [
    "import json\n",
    "with open(f'{outdir}/participant_UMLS_v4_coverage.json', 'w+') as fp:\n",
    "    json.dump(tc_sorted_p, fp)"
   ]
  },
  {
   "cell_type": "code",
   "execution_count": 25,
   "id": "575338a6",
   "metadata": {},
   "outputs": [
    {
     "name": "stdout",
     "output_type": "stream",
     "text": [
      "OrderedDict([('MEDCIN', 531.9849378001024), ('ICD10PCS', 235.23591303401454), ('SNOMEDCT_US', 85.89745812003696), ('CPT', 80.14220155033259), ('HCPCS', 26.06397277367791), ('NCI', 24.20677935335842), ('LNC', 23.4351794289685), ('MTH', 18.659949328781853), ('NIC', 18.435105312910622), ('HCPT', 10.355519757976763), ('RCD', 5.416757799202713), ('MSH', 4.6020147475884805), ('OMIM', 4.3530951030449865), ('NCI_CDISC', 3.9066152391760465), ('SNMI', 3.5221206277196724), ('MMX', 2.5544972584605663), ('MDR', 2.3819232369071406), ('UMD', 2.192170920779517), ('RXNORM', 2.1411956891665027), ('HGNC', 1.988893174514712), ('ICD10CM', 1.7545033087540962), ('GS', 1.6694830780865384), ('NCI_caDSR', 1.5376456797127933), ('NOC', 1.3993148043108985), ('NDDF', 1.3215670259026364), ('PDQ', 1.2613045944412378), ('ICD10AM', 1.0910372471167704), ('CHV', 0.868971828323007), ('PCDS', 0.7521089052751626), ('MMSL', 0.7503089430894926), ('HPO', 0.7165180563433992), ('MTHSPL', 0.6770973719039862), ('MTHICD9', 0.6461077708452736), ('DRUGBANK', 0.6255655133295807), ('ICD9CM', 0.6013038381547084), ('NCI_CTRP', 0.5998260540744843), ('RCDAE', 0.4865993571563465), ('ICPC2ICD10ENG', 0.4131245982227413), ('SNM', 0.38518434486669995), ('NANDA-I', 0.3784866704480972), ('NCI_CTCAE_3', 0.3316437889960736), ('AOD', 0.3274948005294045), ('ALT', 0.29827188504445235), ('NUCCHCPT', 0.28306901115523103), ('MED-RT', 0.280966534316515), ('CCPSS', 0.268487804878052), ('RCDSY', 0.20672943845717942), ('HL7V2.5', 0.1907097750047322), ('CPM', 0.16939459255057693), ('DSM-5', 0.16686708262431668), ('SRC', 0.16197390811117524), ('ATC', 0.15703233125354685), ('ICD10AMAE', 0.14214407260352077), ('SPN', 0.1305199470599357), ('NCI_NICHD', 0.12844772168652063), ('DXP', 0.11830591794290193), ('NCI_CareLex', 0.1177432406882212), ('HL7V3.0', 0.11664965021743422), ('NCI_CTCAE_5', 0.10648969559463205), ('CSP', 0.10243751181697955), ('ICD10', 0.0975488750236349), ('HCDT', 0.08756589147286946), ('NCI_FDA', 0.08687767063717361), ('NCI_NCI-GLOSS', 0.08680204197390831), ('CDT', 0.08364681414256009), ('VANDF', 0.07976555114388416), ('ICNP', 0.07397995840423682), ('NCI_CDISC-GLOSS', 0.059055397995840794), ('CVX', 0.05125354509359041), ('ICPC2P', 0.05010550198525345), ('LCH_NW', 0.04872754774059389), ('NCI_CTCAE', 0.04763244469653996), ('MEDLINEPLUS', 0.0453560219323124), ('CCS', 0.04160484023444909), ('USPMG', 0.04108905275099304), ('CST', 0.03198789941387772), ('NCI_ACC-AHA', 0.029024768387218836), ('PSY', 0.027537908867460506), ('NCI_GDC', 0.027093212327472038), ('WHO', 0.026866326337681948), ('NCI_CRCH', 0.023683872187559022), ('OMS', 0.020763093212327464), ('MTHMST', 0.02009151068254878), ('NCI_PCDC', 0.014954811873700156), ('BI', 0.012634524484779726), ('COSTAR', 0.011844961240310087), ('RCDSA', 0.011359425222159216), ('LCH', 0.01064397806768764), ('ICD10AE', 0.008418982794479104), ('ICPC2EENG', 0.0078124409151068275), ('ICF-CY', 0.0075295897145017466), ('ICF', 0.007488750236339528), ('NCI_EDQM-HC', 0.006484401588201891), ('FMA', 0.005575345055776137), ('NCI_CELLOSAURUS', 0.005030818680279825), ('ICPC', 0.004779731518245418), ('NCI_DTP', 0.004528644356211014), ('USP', 0.0038358858007184705), ('CCSR_ICD10CM', 0.0036332009831726232), ('QMR', 0.0034895065229722123), ('UWDA', 0.0024639818491208163), ('NCI_DCP', 0.0023066742295329914), ('NCI_BRIDG_5_3', 0.0004310833806012479), ('GO', 0.00025713745509548105), ('NCI_BRIDG_3_0_3', 0.00024049914917753833), ('NCBI', 4.5377197958026086e-05), ('CDCREC', 0.0), ('JABL', 0.0), ('NCI_CDC', 0.0), ('NCI_NCI-HGNC', 0.0), ('NCI_UCUM', 0.0), ('NEU', 0.0)])\n"
     ]
    }
   ],
   "source": [
    "tc_sorted_i = sorted(terminology_coverage_i.items(), key=lambda x: x[1], reverse=True)\n",
    "tc_sorted_i = OrderedDict(tc_sorted_i)\n",
    "print(tc_sorted_i)"
   ]
  },
  {
   "cell_type": "code",
   "execution_count": 26,
   "id": "207eda2f",
   "metadata": {},
   "outputs": [],
   "source": [
    "import json\n",
    "with open(f'{outdir}/intervention_UMLS_v4_coverage.json', 'w+') as fp:\n",
    "    json.dump(tc_sorted_i, fp)"
   ]
  },
  {
   "cell_type": "code",
   "execution_count": 27,
   "id": "1e61f729",
   "metadata": {},
   "outputs": [
    {
     "name": "stdout",
     "output_type": "stream",
     "text": [
      "OrderedDict([('MEDCIN', 546.2527343578905), ('ICD10PCS', 235.2290429262423), ('SNOMEDCT_US', 111.85807676198993), ('LNC', 95.52642541026417), ('CPT', 54.89698619782062), ('NCI', 22.78003857060615), ('MTH', 17.387137076927615), ('HCPCS', 16.472468897714457), ('ICD10CM', 12.919986386818751), ('HCPT', 7.8344307052354045), ('RCD', 5.677026280957083), ('MDR', 5.445480052938512), ('FMA', 5.312391756458588), ('OMIM', 4.75448969559449), ('SNMI', 4.6293106447336365), ('NCI_CDISC', 4.230929098128245), ('MSH', 2.6888803176419), ('MTHICD9', 2.64857931556127), ('ICD9CM', 2.5306182643223587), ('RXNORM', 2.136046889771533), ('ICD10AM', 2.1139769332582032), ('UWDA', 1.962819436567991), ('ICPC2ICD10ENG', 1.8606314993384272), ('MMX', 1.8455602193231453), ('NCI_caDSR', 1.5667264133108358), ('NOC', 1.4106681792400093), ('GO', 1.2892584609568092), ('PDQ', 1.257387029684195), ('NIC', 1.1915946303648888), ('CHV', 1.12374815655144), ('HPO', 0.8910750614484136), ('SNM', 0.6811782945737199), ('CCPSS', 0.644875023633992), ('DRUGBANK', 0.632179996218592), ('RCDAE', 0.5917595008508139), ('PCDS', 0.5511529589714568), ('NCI_CTRP', 0.5309268292682859), ('ICD10', 0.4965505766685352), ('AOD', 0.40441973908111617), ('NANDA-I', 0.3858483645301546), ('RCDSY', 0.358947249007389), ('NDDF', 0.340946114577507), ('NCI_CTCAE_3', 0.33164530156933886), ('MED-RT', 0.31484061259217644), ('MMSL', 0.2884265456608239), ('MTHSPL', 0.2607494800529532), ('NCI_NICHD', 0.22456116468141302), ('ICD10AMAE', 0.20854603894877954), ('DXP', 0.17554925316694986), ('CSP', 0.1690557761391583), ('DSM-5', 0.16879712611079858), ('UMD', 0.16250633390055455), ('SRC', 0.16197390811117524), ('ATC', 0.15921497447532915), ('ALT', 0.14948912837965506), ('NCI_CareLex', 0.11770088863679345), ('GS', 0.11379391189260551), ('NCI_NCI-GLOSS', 0.10869502741538997), ('NCI_CTCAE_5', 0.10648969559463205), ('HL7V2.5', 0.10577727358668976), ('NCI_FDA', 0.10484855360181662), ('CPM', 0.08829797693325939), ('CCS', 0.08776857629041467), ('HL7V3.0', 0.08682624314615224), ('ICPC2P', 0.08390546417092165), ('NCI_CDISC-GLOSS', 0.07470599357156384), ('MEDLINEPLUS', 0.07000491586311255), ('CST', 0.06993836263944117), ('HCDT', 0.0653386273397646), ('CDT', 0.06186575912270988), ('COSTAR', 0.05785138967668773), ('NCI_CTCAE', 0.056812251843448666), ('LCH_NW', 0.05161807525052018), ('CVX', 0.05050028360748709), ('ICD10AE', 0.05022045755341297), ('WHO', 0.04807411608999849), ('NCI_GDC', 0.044890149366610295), ('NCI_ACC-AHA', 0.04406882208356969), ('USPMG', 0.04148232179996256), ('NEU', 0.036906787672528515), ('BI', 0.0356422764227643), ('MTHMST', 0.03463641520136145), ('PSY', 0.03297712232936268), ('ICNP', 0.03259595386651558), ('JABL', 0.03243864624692797), ('VANDF', 0.02961164681414248), ('ICF-CY', 0.028982416335791166), ('NCI_CELLOSAURUS', 0.028875023633957258), ('ICF', 0.028791832104367483), ('CCSR_ICD10CM', 0.026902628096048438), ('RCDSA', 0.02324522594063149), ('OMS', 0.020159576479485724), ('NCI_CRCH', 0.019093212327472114), ('ICPC2EENG', 0.018418604651162768), ('NCI_PCDC', 0.0169680468897712), ('QMR', 0.016337303838154623), ('LCH', 0.013809793911892595), ('ICPC', 0.0063074305161655965), ('NCI_DTP', 0.004522594063149944), ('USP', 0.003867649839289089), ('NCI_DCP', 0.0020540744942333135), ('NCI_UCUM', 0.0014702212138400456), ('NCI_BRIDG_5_3', 0.0004310833806012479), ('NCI_BRIDG_3_0_3', 0.00024049914917753833), ('NCI_EDQM-HC', 9.831726224238991e-05), ('SPN', 1.8150879183210437e-05), ('CDCREC', 0.0), ('HGNC', 0.0), ('NCBI', 0.0), ('NCI_CDC', 0.0), ('NCI_NCI-HGNC', 0.0), ('NUCCHCPT', 0.0)])\n"
     ]
    }
   ],
   "source": [
    "tc_sorted_o = sorted(terminology_coverage_o.items(), key=lambda x: x[1], reverse=True)\n",
    "tc_sorted_o = OrderedDict(tc_sorted_o)\n",
    "print(tc_sorted_o)"
   ]
  },
  {
   "cell_type": "code",
   "execution_count": 28,
   "id": "73330be1",
   "metadata": {},
   "outputs": [],
   "source": [
    "import json\n",
    "with open(f'{outdir}/outcome_UMLS_v4_coverage.json', 'w+') as fp:\n",
    "    json.dump(tc_sorted_o, fp)"
   ]
  },
  {
   "cell_type": "code",
   "execution_count": null,
   "id": "16ded7fe",
   "metadata": {},
   "outputs": [],
   "source": []
  }
 ],
 "metadata": {
  "kernelspec": {
   "display_name": "Python 3",
   "language": "python",
   "name": "python3"
  },
  "language_info": {
   "codemirror_mode": {
    "name": "ipython",
    "version": 3
   },
   "file_extension": ".py",
   "mimetype": "text/x-python",
   "name": "python",
   "nbconvert_exporter": "python",
   "pygments_lexer": "ipython3",
   "version": "3.8.10"
  }
 },
 "nbformat": 4,
 "nbformat_minor": 5
}

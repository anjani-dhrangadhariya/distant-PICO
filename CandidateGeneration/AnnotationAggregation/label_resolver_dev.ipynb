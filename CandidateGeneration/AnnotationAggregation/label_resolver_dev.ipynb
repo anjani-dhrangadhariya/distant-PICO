{
 "cells": [
  {
   "cell_type": "markdown",
   "id": "3ab999be",
   "metadata": {},
   "source": [
    "# Label resolver development"
   ]
  },
  {
   "cell_type": "code",
   "execution_count": 1,
   "id": "898ee468",
   "metadata": {},
   "outputs": [
    {
     "name": "stderr",
     "output_type": "stream",
     "text": [
      "2021-10-25 11:56:35.723953: I tensorflow/stream_executor/platform/default/dso_loader.cc:53] Successfully opened dynamic library libcudart.so.11.0\n"
     ]
    }
   ],
   "source": [
    "##################################################################################\n",
    "# Imports\n",
    "##################################################################################\n",
    "# scikit learn imports\n",
    "import sklearn\n",
    "from sklearn.model_selection import train_test_split, cross_val_score, StratifiedKFold, GridSearchCV\n",
    "from sklearn.feature_extraction.text import CountVectorizer, TfidfVectorizer, TfidfTransformer\n",
    "from sklearn.preprocessing import scale, StandardScaler, Normalizer, label_binarize\n",
    "from sklearn.linear_model import SGDClassifier, LogisticRegression\n",
    "from sklearn.svm import LinearSVC\n",
    "from sklearn.tree import DecisionTreeClassifier\n",
    "from sklearn.pipeline import Pipeline\n",
    "from sklearn.utils.class_weight import compute_class_weight\n",
    "from sklearn.metrics import precision_recall_curve, accuracy_score, f1_score, precision_score, recall_score, classification_report, roc_curve, auc, roc_auc_score, confusion_matrix\n",
    "from sklearn.model_selection import PredefinedSplit\n",
    "from sklearn.calibration import CalibratedClassifierCV\n",
    "from sklearn.neighbors import KNeighborsClassifier\n",
    "from sklearn.ensemble import AdaBoostClassifier\n",
    "from sklearn import preprocessing\n",
    "from sklearn.metrics import precision_score, recall_score, f1_score, classification_report, accuracy_score, confusion_matrix\n",
    "from sklearn.utils.class_weight import compute_class_weight, compute_sample_weight\n",
    "from sklearn.model_selection import train_test_split, cross_val_score, StratifiedKFold, GridSearchCV\n",
    "from sklearn.model_selection import KFold, StratifiedKFold\n",
    "from sklearn.metrics import roc_auc_score, roc_curve\n",
    "from sklearn.preprocessing import StandardScaler\n",
    "from sklearn.multiclass import OneVsRestClassifier\n",
    "from sklearn.model_selection import train_test_split\n",
    "from sklearn import metrics\n",
    "from sklearn import preprocessing\n",
    "from sklearn.metrics import accuracy_score\n",
    "from sklearn.metrics import f1_score\n",
    "from sklearn.metrics import roc_auc_score \n",
    "from sklearn.metrics import average_precision_score\n",
    "from sklearn.metrics import recall_score\n",
    "from sklearn.multiclass import OneVsRestClassifier\n",
    "from sklearn.linear_model import LogisticRegression, RidgeClassifier\n",
    "from sklearn.svm import LinearSVC\n",
    "\n",
    "# visualization\n",
    "import seaborn as sns\n",
    "from sklearn.manifold import TSNE\n",
    "import matplotlib\n",
    "import matplotlib.patches as mpatches\n",
    "import matplotlib.pyplot as plt\n",
    "import matplotlib.colors\n",
    "from mpl_toolkits.mplot3d import Axes3D\n",
    "\n",
    "# Natural Language Toolkit\n",
    "import nltk\n",
    "from nltk.corpus import stopwords\n",
    "stop_words = set(stopwords.words('english'))\n",
    "from nltk.stem.wordnet import WordNetLemmatizer\n",
    "from nltk.tokenize import RegexpTokenizer, word_tokenize\n",
    "from nltk.corpus import stopwords\n",
    "#nltk.download()\n",
    "from nltk import ngrams, pos_tag\n",
    "import spacy\n",
    "import re\n",
    "\n",
    "import numpy as np\n",
    "import warnings\n",
    "warnings.filterwarnings(\"ignore\")\n",
    "warnings.simplefilter(action='ignore', category=FutureWarning)\n",
    "import time\n",
    "import argparse\n",
    "import pdb\n",
    "import random\n",
    "import collections, numpy\n",
    "import json\n",
    "import pandas as pd\n",
    "import os\n",
    "import glob\n",
    "import itertools\n",
    "import operator\n",
    "\n",
    "# saving model\n",
    "import shutil\n",
    "\n",
    "# Visualization tools\n",
    "from tensorboardX import SummaryWriter\n",
    "import seaborn as sn\n",
    "import pandas as pd\n",
    "import matplotlib.pyplot as plt\n",
    "\n",
    "import warnings\n",
    "warnings.filterwarnings('ignore')\n",
    "\n",
    "# saving the best models\n",
    "saved_models = []\n",
    "import pickle"
   ]
  },
  {
   "cell_type": "code",
   "execution_count": 13,
   "id": "3b15e7c3",
   "metadata": {},
   "outputs": [],
   "source": [
    "word2label_file = '/home/anjani/distant-PICO/CandidateGeneration/ResultInspection/resolve_annot_corpus.tsv'"
   ]
  },
  {
   "cell_type": "code",
   "execution_count": 14,
   "id": "d7d8aea2",
   "metadata": {},
   "outputs": [
    {
     "name": "stdout",
     "output_type": "stream",
     "text": [
      "Shape of the data:  (1973468, 3)\n"
     ]
    },
    {
     "data": {
      "text/html": [
       "<div>\n",
       "<style scoped>\n",
       "    .dataframe tbody tr th:only-of-type {\n",
       "        vertical-align: middle;\n",
       "    }\n",
       "\n",
       "    .dataframe tbody tr th {\n",
       "        vertical-align: top;\n",
       "    }\n",
       "\n",
       "    .dataframe thead th {\n",
       "        text-align: right;\n",
       "    }\n",
       "</style>\n",
       "<table border=\"1\" class=\"dataframe\">\n",
       "  <thead>\n",
       "    <tr style=\"text-align: right;\">\n",
       "      <th></th>\n",
       "      <th>0</th>\n",
       "      <th>1</th>\n",
       "      <th>2</th>\n",
       "    </tr>\n",
       "  </thead>\n",
       "  <tbody>\n",
       "    <tr>\n",
       "      <th>0</th>\n",
       "      <td>0</td>\n",
       "      <td>Infant</td>\n",
       "      <td>1</td>\n",
       "    </tr>\n",
       "    <tr>\n",
       "      <th>1</th>\n",
       "      <td>1</td>\n",
       "      <td>Child</td>\n",
       "      <td>1</td>\n",
       "    </tr>\n",
       "    <tr>\n",
       "      <th>2</th>\n",
       "      <td>2</td>\n",
       "      <td>Retinoblastoma</td>\n",
       "      <td>1</td>\n",
       "    </tr>\n",
       "    <tr>\n",
       "      <th>3</th>\n",
       "      <td>3</td>\n",
       "      <td>25</td>\n",
       "      <td>1</td>\n",
       "    </tr>\n",
       "    <tr>\n",
       "      <th>4</th>\n",
       "      <td>4</td>\n",
       "      <td>carboplatin</td>\n",
       "      <td>2</td>\n",
       "    </tr>\n",
       "  </tbody>\n",
       "</table>\n",
       "</div>"
      ],
      "text/plain": [
       "   0               1  2\n",
       "0  0          Infant  1\n",
       "1  1           Child  1\n",
       "2  2  Retinoblastoma  1\n",
       "3  3              25  1\n",
       "4  4     carboplatin  2"
      ]
     },
     "execution_count": 14,
     "metadata": {},
     "output_type": "execute_result"
    }
   ],
   "source": [
    "data = pd.read_csv(word2label_file, sep='\\t', error_bad_lines=False, header=None)\n",
    "print('Shape of the data: ', data.shape)\n",
    "data.head()"
   ]
  },
  {
   "cell_type": "code",
   "execution_count": null,
   "id": "ab98e304",
   "metadata": {},
   "outputs": [],
   "source": []
  },
  {
   "cell_type": "code",
   "execution_count": 15,
   "id": "f7b180c6",
   "metadata": {},
   "outputs": [],
   "source": [
    "X, X_test, y, y_test = train_test_split(data[1], data[2], test_size=0.05, train_size=0.95, shuffle=True)\n",
    "X_train, X_val, y_train, y_val = train_test_split(X,y,test_size = 0.20,train_size =0.80)"
   ]
  },
  {
   "cell_type": "code",
   "execution_count": 16,
   "id": "704d7585",
   "metadata": {},
   "outputs": [],
   "source": [
    "def my_tokenizer(doc):\n",
    "    tokens = doc.split(' ')\n",
    "    return tokens"
   ]
  },
  {
   "cell_type": "code",
   "execution_count": 17,
   "id": "232d590d",
   "metadata": {},
   "outputs": [],
   "source": [
    "REPLACE_BY_SPACE_RE = re.compile('[!@#$%^&*()[]{};:,./<>?\\|`~=_+]')\n",
    "STOPWORDS = set(stopwords.words('english'))\n",
    "\n",
    "def text_prepare(text):\n",
    "    \"\"\"\n",
    "        text: a string\n",
    "        \n",
    "        return: modified initial string\n",
    "    \"\"\"\n",
    "    text = REPLACE_BY_SPACE_RE.sub(' ', str(text))# replace REPLACE_BY_SPACE_RE symbols by space in text\n",
    "    text = ' '.join([w for w in text.split() if not w in STOPWORDS])# delete stopwords from text\n",
    "    return text.lower()\n",
    "\n",
    "X_train = [text_prepare(x) for x in X_train]\n",
    "X_val = [text_prepare(x) for x in X_val]"
   ]
  },
  {
   "cell_type": "code",
   "execution_count": 18,
   "id": "f7622893",
   "metadata": {},
   "outputs": [],
   "source": [
    "# Dictionary of all words from train corpus with their counts.\n",
    "words_counts = {}\n",
    "for comments in X_train:\n",
    "    for word in str(comments).split():\n",
    "        if word not in words_counts:\n",
    "            words_counts[word] = 1\n",
    "        words_counts[word] += 1\n",
    "        \n",
    "DICT_SIZE = 30000\n",
    "POPULAR_WORDS = sorted(words_counts, key=words_counts.get, reverse=True)[:DICT_SIZE]\n",
    "WORDS_TO_INDEX = {key: rank for rank, key in enumerate(POPULAR_WORDS, 0)}\n",
    "INDEX_TO_WORDS = {index:word for word, index in WORDS_TO_INDEX.items()}\n",
    "ALL_WORDS = WORDS_TO_INDEX.keys()"
   ]
  },
  {
   "cell_type": "code",
   "execution_count": 19,
   "id": "e3b83ddf",
   "metadata": {},
   "outputs": [],
   "source": [
    "def my_bag_of_words(text, words_to_index, dict_size):\n",
    "    \"\"\"\n",
    "        text: a string\n",
    "        dict_size: size of the dictionary\n",
    "        \n",
    "        return a vector which is a bag-of-words representation of 'text'\n",
    "    \"\"\"\n",
    "    result_vector = np.zeros(dict_size)\n",
    "    \n",
    "    for word in text.split(' '):\n",
    "        if word in words_to_index:\n",
    "            result_vector[words_to_index[word]] +=1\n",
    "    return result_vector\n",
    "\n",
    "#X_train_mybag = sp_sparse.vstack([sp_sparse.csr_matrix(my_bag_of_words(text, WORDS_TO_INDEX, DICT_SIZE)) for text in X_train])\n",
    "#X_val_mybag = sp_sparse.vstack([sp_sparse.csr_matrix(my_bag_of_words(text, WORDS_TO_INDEX, DICT_SIZE)) for text in X_val])\n",
    "#print('X_train shape ', X_train_mybag.shape, '\\nX_val shape ', X_val_mybag.shape)"
   ]
  },
  {
   "cell_type": "code",
   "execution_count": 20,
   "id": "28e67754",
   "metadata": {},
   "outputs": [],
   "source": [
    "def train_classifier(X_train, y_train, C, regularisation):\n",
    "    \"\"\"\n",
    "      X_train, y_train — training data\n",
    "      \n",
    "      return: trained classifier\n",
    "    \"\"\"\n",
    "    count_vectorizer = CountVectorizer(preprocessor=text_prepare, tokenizer=my_tokenizer, vocabulary=WORDS_TO_INDEX, max_features=DICT_SIZE)\n",
    "    # Create and fit LogisticRegression wraped into OneVsRestClassifier.\n",
    "    model = OneVsRestClassifier(LogisticRegression(penalty=regularisation, C=C, max_iter=10000))\n",
    "    \n",
    "    log_reg_clf_bow = Pipeline([('vect', count_vectorizer), ('clf', model)])\n",
    "    \n",
    "    return log_reg_clf_bow\n",
    "\n",
    "model_pipeline = train_classifier(X_train, y_train, C = 4, regularisation = 'l2')\n",
    "classifier_mybag = model_pipeline.fit(X_train, y_train)\n",
    "\n",
    "y_val_predicted_labels_mybag = classifier_mybag.predict(X_val)\n",
    "y_val_predicted_labels_mybag_proba = classifier_mybag.predict_proba(X_val)"
   ]
  },
  {
   "cell_type": "code",
   "execution_count": 21,
   "id": "56c5601b",
   "metadata": {},
   "outputs": [
    {
     "name": "stdout",
     "output_type": "stream",
     "text": [
      "Bag-of-words\n",
      "\n",
      "Accuracy:  0.9382199120437168\n",
      "F1-score macro:  0.940638377762026\n",
      "F1-score micro:  0.9382199120437168\n",
      "F1-score weighted:  0.9380615127875906\n",
      "              precision    recall  f1-score   support\n",
      "\n",
      "           1       0.96      0.96      0.96    178819\n",
      "           2       0.91      0.95      0.93     97837\n",
      "           3       0.90      0.86      0.88     71404\n",
      "           4       1.00      1.00      1.00     26899\n",
      "\n",
      "    accuracy                           0.94    374959\n",
      "   macro avg       0.94      0.94      0.94    374959\n",
      "weighted avg       0.94      0.94      0.94    374959\n",
      "\n"
     ]
    }
   ],
   "source": [
    "def print_evaluation_scores(y_test, predicted):\n",
    "    \n",
    "    print('Accuracy: ', accuracy_score(y_test, predicted, normalize=True))\n",
    "    print('F1-score macro: ', f1_score(y_test, predicted, average='macro'))\n",
    "    print('F1-score micro: ', f1_score(y_test, predicted, average='micro'))\n",
    "    print('F1-score weighted: ', f1_score(y_test, predicted, average='weighted'))\n",
    "    print(metrics.classification_report(y_test, predicted))\n",
    "    \n",
    "print('Bag-of-words\\n')\n",
    "print_evaluation_scores(y_val, y_val_predicted_labels_mybag)"
   ]
  },
  {
   "cell_type": "code",
   "execution_count": 22,
   "id": "3d7c3c7f",
   "metadata": {},
   "outputs": [
    {
     "data": {
      "text/plain": [
       "['/home/anjani/distant-PICO/CandidateGeneration/AnnotationAggregation/resolver_models/resolver_large.joblib']"
      ]
     },
     "execution_count": 22,
     "metadata": {},
     "output_type": "execute_result"
    }
   ],
   "source": [
    "from joblib import dump, load\n",
    "dump(classifier_mybag, '/home/anjani/distant-PICO/CandidateGeneration/AnnotationAggregation/resolver_models/resolver_large.joblib') "
   ]
  },
  {
   "cell_type": "markdown",
   "id": "ae693317",
   "metadata": {},
   "source": [
    "## Evaluation (using manually labeled test set)"
   ]
  },
  {
   "cell_type": "code",
   "execution_count": null,
   "id": "5affaa3c",
   "metadata": {},
   "outputs": [],
   "source": [
    "# TODO: X_test and y_test need to be manually annotated and should later be used for evaluation of this pipeline"
   ]
  },
  {
   "cell_type": "code",
   "execution_count": 23,
   "id": "86df8c05",
   "metadata": {},
   "outputs": [],
   "source": [
    "eval_file = '/home/anjani/distant-PICO/CandidateGeneration/ResultInspection/resolve_annot_corpus_eval.tsv'"
   ]
  },
  {
   "cell_type": "code",
   "execution_count": 24,
   "id": "9da4503b",
   "metadata": {},
   "outputs": [],
   "source": [
    "with open(eval_file, 'w+') as ef:\n",
    "    X_test.to_csv(ef, sep='\\t')"
   ]
  },
  {
   "cell_type": "code",
   "execution_count": null,
   "id": "e6b8eb4a",
   "metadata": {},
   "outputs": [],
   "source": []
  }
 ],
 "metadata": {
  "kernelspec": {
   "display_name": "Python 3 (ipykernel)",
   "language": "python",
   "name": "python3"
  },
  "language_info": {
   "codemirror_mode": {
    "name": "ipython",
    "version": 3
   },
   "file_extension": ".py",
   "mimetype": "text/x-python",
   "name": "python",
   "nbconvert_exporter": "python",
   "pygments_lexer": "ipython3",
   "version": "3.7.10"
  }
 },
 "nbformat": 4,
 "nbformat_minor": 5
}

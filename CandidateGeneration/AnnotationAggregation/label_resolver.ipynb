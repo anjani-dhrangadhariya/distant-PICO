{
 "cells": [
  {
   "cell_type": "markdown",
   "id": "dc61ca68",
   "metadata": {},
   "source": [
    "# Label resolver development"
   ]
  },
  {
   "cell_type": "code",
   "execution_count": 18,
   "id": "30259c92",
   "metadata": {},
   "outputs": [],
   "source": [
    "import csv\n",
    "import re"
   ]
  },
  {
   "cell_type": "code",
   "execution_count": 19,
   "id": "bacf1d1b",
   "metadata": {},
   "outputs": [],
   "source": [
    "word2label_file = '/home/anjani/distant-PICO/CandidateGeneration/ResultInspection/resolve_annot_corpus.tsv'"
   ]
  },
  {
   "cell_type": "code",
   "execution_count": 20,
   "id": "59fb39e3",
   "metadata": {},
   "outputs": [],
   "source": [
    "total_words = []\n",
    "with open(word2label_file, 'r') as fd:\n",
    "    rd = csv.reader(fd, delimiter=\"\\t\", quotechar='\"')\n",
    "    for row in rd:\n",
    "        #print(row[1:])\n",
    "        removeSpecialChars = re.sub(\"[!@#$%^&*()[]{};:,./<>?\\|`~-=_+]\", \" \", row[1])\n",
    "        total_words.append( removeSpecialChars )"
   ]
  },
  {
   "cell_type": "code",
   "execution_count": 21,
   "id": "29d354c4",
   "metadata": {},
   "outputs": [
    {
     "data": {
      "text/plain": [
       "37874"
      ]
     },
     "execution_count": 21,
     "metadata": {},
     "output_type": "execute_result"
    }
   ],
   "source": [
    "len(set(total_words))"
   ]
  },
  {
   "cell_type": "code",
   "execution_count": null,
   "id": "9a6654d9",
   "metadata": {},
   "outputs": [],
   "source": []
  }
 ],
 "metadata": {
  "kernelspec": {
   "display_name": "Python 3 (ipykernel)",
   "language": "python",
   "name": "python3"
  },
  "language_info": {
   "codemirror_mode": {
    "name": "ipython",
    "version": 3
   },
   "file_extension": ".py",
   "mimetype": "text/x-python",
   "name": "python",
   "nbconvert_exporter": "python",
   "pygments_lexer": "ipython3",
   "version": "3.7.10"
  }
 },
 "nbformat": 4,
 "nbformat_minor": 5
}

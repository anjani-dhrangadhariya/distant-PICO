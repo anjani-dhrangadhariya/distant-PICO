{
 "cells": [
  {
   "cell_type": "code",
   "execution_count": 1,
   "id": "6b3b4e82",
   "metadata": {},
   "outputs": [],
   "source": [
    "import enum\n",
    "import glob\n",
    "import os\n",
    "from hashlib import new\n",
    "from pathlib import Path\n",
    "import time\n",
    "\n",
    "import functools\n",
    "\n",
    "import numpy as np\n",
    "import pandas as pd\n",
    "import scipy\n",
    "from flyingsquid.label_model import LabelModel as LMsquid\n",
    "from sklearn.model_selection import train_test_split\n",
    "from sklearn.metrics import classification_report\n",
    "from snorkel.labeling.model import LabelModel as LMsnorkel\n",
    "from snorkel.labeling.model import MajorityLabelVoter"
   ]
  },
  {
   "cell_type": "code",
   "execution_count": 2,
   "id": "9d5b0a8a",
   "metadata": {},
   "outputs": [],
   "source": [
    "from sklearn.exceptions import UndefinedMetricWarning\n",
    "\n",
    "def warn(*args, **kwargs):\n",
    "    pass\n",
    "import warnings\n",
    "warnings.warn = warn"
   ]
  },
  {
   "cell_type": "code",
   "execution_count": 3,
   "id": "31488955",
   "metadata": {},
   "outputs": [],
   "source": [
    "from typing import Tuple, Dict\n",
    "\n",
    "\n",
    "class Document(object):\n",
    "\n",
    "    def __init__(self, name, sentences):\n",
    "        self.name = name\n",
    "        self.sentences = sentences\n",
    "        for s in sentences:\n",
    "            s.document = self\n",
    "        self.annotations = {i:{} for i in range(len(sentences))}\n",
    "        self.props = {}\n",
    "        self._text = None\n",
    "\n",
    "    @property\n",
    "    def text(self):\n",
    "        if not self._text:\n",
    "            t = \"\"\n",
    "            for s in self.sentences:\n",
    "                if len(t) != s.abs_char_offsets[0]:\n",
    "                    t += ' ' * (s.abs_char_offsets[0] - len(t))\n",
    "                t += s.text\n",
    "            self._text = t\n",
    "        return self._text\n",
    "    \n",
    "    def __repr__(self):\n",
    "        return \"Document({})\".format(self.name)\n",
    "        \n",
    "        \n",
    "class Sentence(object):\n",
    "\n",
    "    def __init__(self, **kwargs):\n",
    "        self.document = None\n",
    "        self.__dict__.update(kwargs)\n",
    "        self._text = None\n",
    "\n",
    "    @property\n",
    "    def text(self):\n",
    "        if not self._text:\n",
    "            txt = \"\"\n",
    "            offset = self.abs_char_offsets[0]\n",
    "            for i,w in enumerate(self.words):\n",
    "                if len(txt) != self.abs_char_offsets[i] - offset:\n",
    "                    txt += ' ' * (self.abs_char_offsets[i] - offset - len(txt))\n",
    "                txt += w\n",
    "            self._text = txt\n",
    "        return self._text\n",
    "\n",
    "    @property\n",
    "    def position(self):\n",
    "        return self.i\n",
    "    \n",
    "    @property\n",
    "    def char_offsets(self):\n",
    "        offset = self.abs_char_offsets[0]\n",
    "        return [i - offset for i in self.abs_char_offsets]\n",
    "               \n",
    "    def __repr__(self):\n",
    "        max_len = 25\n",
    "        s = self.text.strip().replace(\"\\n\",\" \")\n",
    "        return \"Sentence({})\".format(\n",
    "            s if len(s) < max_len else s[0:max_len] + '...'\n",
    "        )\n",
    "        \n",
    "\n",
    "class Span(object):\n",
    "\n",
    "    def __init__(self, char_start, char_end, sentence, attrib='words'):\n",
    "        self.sentence   = sentence\n",
    "        self.char_start = char_start\n",
    "        self.char_end   = char_end\n",
    "        self.attrib     = attrib\n",
    "        self.props      = {}\n",
    "        self.normalized = None\n",
    "    \n",
    "    @property\n",
    "    def abs_char_start(self):\n",
    "        return self.char_start + self.sentence.abs_char_offsets[0]\n",
    "\n",
    "    @property\n",
    "    def abs_char_end(self):\n",
    "        return self.abs_char_start + (self.char_end - self.char_start)\n",
    "    \n",
    "    @property\n",
    "    def text(self):\n",
    "        return self.sentence.text[self.char_start:self.char_end + 1]\n",
    "\n",
    "    def get_word_start(self):\n",
    "        return self.char_to_word_index(self.char_start)\n",
    "\n",
    "    def get_word_end(self):\n",
    "        return self.char_to_word_index(self.char_end)\n",
    "\n",
    "    def get_n(self):\n",
    "        return self.get_word_end() - self.get_word_start() + 1\n",
    "\n",
    "    def char_to_word_index(self, ci):\n",
    "        i = None\n",
    "        for i, co in enumerate(self.sentence.char_offsets):\n",
    "            if ci == co:\n",
    "                return i\n",
    "            elif ci < co:\n",
    "                return i-1\n",
    "        return i\n",
    "\n",
    "    def word_to_char_index(self, wi):\n",
    "        return self.sentence.char_offsets[wi]\n",
    "\n",
    "    def get_attrib_tokens(self, a):\n",
    "        return self.sentence.__getattribute__(a)[self.get_word_start():self.get_word_end() + 1]\n",
    "    \n",
    "    def __repr__(self):\n",
    "        return \"Span({})\".format(self.text.replace(\"\\n\",\" \"))\n",
    "     \n",
    "    def get_attrib_span(self, a, sep=\" \"):\n",
    "        if a == 'words':\n",
    "            return self.sentence.text[self.char_start:self.char_end + 1]\n",
    "        else:\n",
    "            return sep.join(self.get_attrib_tokens(a))\n",
    "\n",
    "    def get_span(self, sep=\" \"):\n",
    "        return self.get_attrib_span('words', sep)\n",
    "\n",
    "    def __contains__(self, other_span):\n",
    "        return other_span.abs_char_start >= self.abs_char_start and other_span.abs_char_end <= self.abs_char_end\n",
    "    \n",
    "    \n",
    "class Candidate(object):\n",
    "    \"\"\"A collection of spans\"\"\"\n",
    "    def __init__(self, spans):\n",
    "        self.spans = spans\n",
    "\n",
    "\n",
    "class Relation(object):\n",
    "\n",
    "    def __init__(self,\n",
    "                 type_name:str,\n",
    "                 args: Dict[str, Span]) -> None:\n",
    "        self.type_name = type_name\n",
    "        self.args = args\n",
    "        self.__dict__.update(args)\n",
    "\n",
    "    def __iter__(self):\n",
    "        for span in self.args.values():\n",
    "            yield span\n",
    "\n",
    "    def __getitem__(self, item):\n",
    "        return list(self.args.values())[item]\n",
    "\n",
    "    def __repr__(self):\n",
    "        strs = [span.__repr__() for span in self.args.values()]\n",
    "        return f\"Relation[{self.type_name}]({','.join(strs)})\"\n",
    "\n",
    "    def __eq__(self, other):\n",
    "        hashes = {name:span.__hash__() for name,span in self.args.items()}\n",
    "        other = {name:span.__hash__() for name,span in other.args.items()}\n",
    "        return hashes == other\n",
    "\n",
    "    def __hash__(self):\n",
    "        return hash(sum([s.__hash__() for s in self.args.values()]))\n",
    "\n",
    "    @property\n",
    "    def sentence(self):\n",
    "        \"\"\"We assume spans all live in the same sentence\"\"\"\n",
    "        return self.__dict__[self.arg_names[0]].sentence\n",
    "\n",
    "\n",
    "\n",
    "class Annotation(object):\n",
    "    def __init__(self, doc_name: str,\n",
    "                 span: Tuple[Tuple[int,int], ...],\n",
    "                 etype: str,\n",
    "                 text: str = None,\n",
    "                 cid: str = None) -> None:\n",
    "        \"\"\"\n",
    "\n",
    "        :param doc_name:\n",
    "        :param span:\n",
    "        :param etype:\n",
    "        :param text:\n",
    "        :param cid:\n",
    "        \"\"\"\n",
    "        self.abs_char_start = span[0][0]\n",
    "        self.abs_char_end = span[0][-1]\n",
    "\n",
    "        self.doc_name = doc_name\n",
    "        self.span = tuple([tuple(s) for s in span])\n",
    "        self.text = text\n",
    "        self.etype = etype\n",
    "        self.cid = cid\n",
    "        \n",
    "    def __repr__(self):\n",
    "        text = self.text.replace('\\n',' ') + '|' if self.text else ''\n",
    "        i,j = self.abs_char_start, self.abs_char_end\n",
    "        sep = '...' if len(self.span) > 1 else '-'\n",
    "        return f\"Annotation[{self.etype}]({text}{i}{sep}{j})\"\n",
    "\n",
    "    @property\n",
    "    def type(self):\n",
    "        return self.etype\n",
    "\n",
    "    def __hash__(self):\n",
    "        return hash((self.etype, self.doc_name, self.span))\n",
    "\n",
    "    def __eq__(self, other):\n",
    "        return False if not isinstance(other, type(self)) else True"
   ]
  },
  {
   "cell_type": "code",
   "execution_count": 4,
   "id": "6ea98395",
   "metadata": {},
   "outputs": [],
   "source": [
    "import re\n",
    "import os\n",
    "import gzip\n",
    "import json\n",
    "import glob\n",
    "import numpy as np\n",
    "import logging\n",
    "import itertools\n",
    "import collections\n",
    "\n",
    "logger = logging.getLogger(__name__)\n",
    "\n",
    "\n",
    "def parse_doc(d) -> Document:\n",
    "    \"\"\"\n",
    "    Convert JSON into container objects. Transforming to\n",
    "    Document/Sentence objects comes at ~13% overhead.\n",
    "    \"\"\"\n",
    "    sents = [Sentence(**s) for s in d['sentences']]\n",
    "    doc = Document(d['name'], sents)\n",
    "    if 'metadata' in d:\n",
    "        for key,value in d['metadata'].items():\n",
    "            doc.props[key] = value\n",
    "    return doc\n",
    "\n",
    "\n",
    "class DocumentLoader:\n",
    "\n",
    "    def __init__(self, fpath):\n",
    "        self.fpath = fpath\n",
    "        self.formatter = parse_doc\n",
    "\n",
    "    def filelist(self):\n",
    "        return glob.glob(f'{self.fpath}/*.json') \\\n",
    "            if os.path.isdir(self.fpath) else [self.fpath]\n",
    "\n",
    "    def __iter__(self):\n",
    "        for fpath in self.filelist():\n",
    "            fopen = gzip.open if fpath.split(\".\")[-1] == 'gz' else open\n",
    "            with fopen(fpath, 'rb') as fp:\n",
    "                for line in fp:\n",
    "                    yield self.formatter(json.loads(line))\n",
    "\n",
    "\n",
    "def load_json_dataset(fpath,\n",
    "                      tokenizer,\n",
    "                      tag_fmt = 'IO',\n",
    "                      contiguous_only = False):\n",
    "    \"\"\"Load JSON dataset and initialize sequence tagged labels.\n",
    "\n",
    "    Parameters\n",
    "    ----------\n",
    "    fpath\n",
    "        JSON file path\n",
    "    tokenizer\n",
    "\n",
    "    tag_fmt\n",
    "        token tagging scheme with values in {'IO','IOB', 'IOBES'}\n",
    "    \"\"\"\n",
    "    documents, entities = [], {}\n",
    "    fopen = gzip.open if fpath.split(\".\")[-1] == 'gz' else open\n",
    "    with fopen(fpath, 'rb') as fp:\n",
    "        for line in fp:\n",
    "            # initialize context objects\n",
    "            d = json.loads(line)\n",
    "            doc = Document(d['name'], [Sentence(**s) for s in d['sentences']])\n",
    "            documents.append(doc)\n",
    "            # load entities\n",
    "            entities[doc.name] = set()\n",
    "            if 'entities' not in d:\n",
    "                continue\n",
    "            for entity in d['entities']:\n",
    "                del entity['abs_char_start']\n",
    "                del entity['abs_char_end']\n",
    "                if 'doc_name' not in entity:\n",
    "                    entity['doc_name'] = doc.name\n",
    "                anno = Annotation(**entity)\n",
    "                if len(anno.span) > 1 and contiguous_only:\n",
    "                    continue\n",
    "                entities[doc.name].add(Annotation(**entity))\n",
    "\n",
    "    return NerDocumentDataset(documents,\n",
    "                              entities,\n",
    "                              tag_fmt=tag_fmt,\n",
    "                              tokenizer=tokenizer)\n",
    "\n",
    "\n",
    "#################################################################################\n",
    "#\n",
    "#  Sequence Tag Creation\n",
    "#\n",
    "#################################################################################\n",
    "\n",
    "def entity_tag(length, tag_fmt=\"IOB\"):\n",
    "    \"\"\"\n",
    "    IO, IOB, or IOBES (equiv. to BILOU) tagging\n",
    "\n",
    "    :param tokens:\n",
    "    :param is_heads:\n",
    "    :param tag_fmt:\n",
    "    :return:\n",
    "    \"\"\"\n",
    "    tags = ['O'] * length\n",
    "    tag_fmt = set(tag_fmt)\n",
    "\n",
    "    if tag_fmt == set(\"IOB\"):\n",
    "        tags[0] = 'B'\n",
    "        tags[1:] = len(tags[1:]) * \"I\"\n",
    "\n",
    "    elif tag_fmt == set(\"IOBES\") or tag_fmt == set(\"BILOU\"):\n",
    "        if len(tags) == 1:\n",
    "            tags[0] = 'S'\n",
    "        else:\n",
    "            tags[0] = 'B'\n",
    "            tags[1:-1] = len(tags[1:-1]) * \"I\"\n",
    "            tags[-1:] = \"E\"\n",
    "\n",
    "    elif tag_fmt == set(\"IO\"):\n",
    "        tags = ['I'] * len(tags)\n",
    "    return tags\n",
    "\n",
    "\n",
    "def map_sent_entities(document, entities, verbose=True):\n",
    "    \"\"\"\n",
    "    Given (1) a document split into sentences and (2) a list of entities\n",
    "    defined by absolute char offsets, map each entity to it's parent sentence.\n",
    "\n",
    "    :param:\n",
    "    :param:\n",
    "    :return tuple of sentence index and tag,\n",
    "    \"\"\"\n",
    "    errors = 0\n",
    "    spans = []\n",
    "    char_index = [s.abs_char_offsets[0] for s in document.sentences]\n",
    "\n",
    "    for t in entities:\n",
    "        position = None\n",
    "        for i in range(len(char_index) - 1):\n",
    "            if t.abs_char_start >= char_index[i] and t.abs_char_end <= char_index[i + 1]:\n",
    "                position = i\n",
    "                break\n",
    "\n",
    "        if position == None and t.abs_char_start >= char_index[-1]:\n",
    "            position = len(char_index) - 1\n",
    "\n",
    "        if position == None:\n",
    "            values = (document.name, t.abs_char_start, t.abs_char_end)\n",
    "            if verbose:\n",
    "                msg = f\"{[t.text]} {t.span} {t.doc_name}\"\n",
    "                logger.warning(f\"Cross-sentence mention {msg}\")\n",
    "            errors += 1\n",
    "            continue\n",
    "        try:\n",
    "            shift = document.sentences[position].abs_char_offsets[0]\n",
    "            span = document.sentences[position].text[t.abs_char_start - shift:t.abs_char_end - shift]\n",
    "            spans.append((position, t, span))\n",
    "        except Exception as e:\n",
    "            logger.error(f'{e}')\n",
    "\n",
    "    idx = collections.defaultdict(list)\n",
    "    for i, entity, _ in spans:\n",
    "        idx[i].append(entity)\n",
    "\n",
    "    return idx, errors\n",
    "\n",
    "\n",
    "def retokenize(sent, tokenizer, subword='##'):\n",
    "    \"\"\"\n",
    "    Given a default tokenization, compute absolute character offsets for\n",
    "    a new tokenization (e.g., BPE). By convention, wordpiece tokens are\n",
    "    prefixed by ##.\n",
    "\n",
    "    \"\"\"\n",
    "    tokens = []\n",
    "    abs_char_offsets = []\n",
    "\n",
    "    for i in range(len(sent.words)):\n",
    "        toks = tokenizer.tokenize(sent.words[i])\n",
    "        offsets = [sent.abs_char_offsets[i]]\n",
    "        for w in toks[0:-1]:\n",
    "            offsets.append(\n",
    "                len(w if w[:len(subword)] != subword else w[len(subword):]) + offsets[-1]\n",
    "            )\n",
    "        abs_char_offsets.extend(offsets)\n",
    "        tokens.extend(toks)\n",
    "\n",
    "    return tokens, abs_char_offsets\n",
    "\n",
    "\n",
    "def tokens_to_tags(sent,\n",
    "                   entities,\n",
    "                   tag_fmt='BIO',\n",
    "                   tokenizer=None,\n",
    "                   max_seq_len=512):\n",
    "    \"\"\"\n",
    "\n",
    "    :param sent:\n",
    "    :param entities:\n",
    "    :param tag_fmt:\n",
    "    :param tokenizer:\n",
    "    :param max_seq_len:\n",
    "    :return:\n",
    "    \"\"\"\n",
    "\n",
    "    toks, abs_char_offsets = retokenize(sent, tokenizer) if tokenizer \\\n",
    "        else (sent.words, sent.abs_char_offsets)\n",
    "\n",
    "    # truncate long sequences\n",
    "    if len(toks) > max_seq_len - 2:\n",
    "        toks = toks[0:max_seq_len - 2]\n",
    "        abs_char_offsets = abs_char_offsets[0:max_seq_len - 2]\n",
    "\n",
    "    # use original tokenization to assign token heads\n",
    "    is_heads = [1 if i in sent.abs_char_offsets else 0 for i in abs_char_offsets]\n",
    "    tags = ['O'] * len(toks)\n",
    "\n",
    "    errs = 0\n",
    "    for entity in entities:\n",
    "\n",
    "        # currently we only support contiguous entity spans\n",
    "        if len(entity.span) != 1:\n",
    "            logger.warning(f\"Non-contiguous entities not supported {entity} {sent.document.name}\")\n",
    "            continue\n",
    "\n",
    "        head = entity.span[0]\n",
    "        if head[0] in abs_char_offsets:\n",
    "            start = abs_char_offsets.index(head[0])\n",
    "            end = len(abs_char_offsets)\n",
    "\n",
    "            for j, offset in enumerate(abs_char_offsets):\n",
    "                if head[-1] > offset:\n",
    "                    continue\n",
    "                end = j\n",
    "                break\n",
    "\n",
    "            # tokenization error\n",
    "            if is_heads[start] == 0:\n",
    "                errs += 1\n",
    "                logger.warning(f\"Tokenization Error: Token is not a head token {entity} {sent.document.name}\")\n",
    "                continue\n",
    "\n",
    "            tok_len = is_heads[start:end].count(1)\n",
    "            head_tags = entity_tag(tok_len, tag_fmt=tag_fmt)\n",
    "            head_tags = [f'{t}-{entity.type}' for t in head_tags]\n",
    "            io_tags = ['O'] * len(toks[start:end])\n",
    "\n",
    "            for i in range(len(io_tags)):\n",
    "                if is_heads[start:end][i] == 1:\n",
    "                    t = head_tags.pop(0)\n",
    "                io_tags[i] = t\n",
    "\n",
    "            tags[start:end] = io_tags\n",
    "\n",
    "            # Error Checking: do spans match?\n",
    "            s1 = ''.join([w if w[:2] != '##' else w[2:] for w in toks[start:end]]).lower()\n",
    "            s2 = re.sub(r'''(\\s)+''', '', entity.text).lower()\n",
    "\n",
    "\n",
    "            if s1 != s2:\n",
    "                if len(entity.span) == 1:\n",
    "                    msg = f\"{s1} != {s2}\"\n",
    "                    logger.error(f\"Span does not match {msg}\")\n",
    "                errs += 1\n",
    "        else:\n",
    "            errs += 1\n",
    "            logger.error(f\"Tokenization Error: Token head not found in abs_char_offsets {entity}\")\n",
    "\n",
    "    return (toks, tags, is_heads), errs\n",
    "\n",
    "\n",
    "\n",
    "\n",
    "\n",
    "#################################################################################\n",
    "#\n",
    "#  Datasets\n",
    "#\n",
    "#################################################################################\n",
    "\n",
    "\n",
    "class NerDocumentDataset(object):\n",
    "    \"\"\"\n",
    "    Document + Annotation objects\n",
    "    entities are defined as abs char offsets per document\n",
    "    \"\"\"\n",
    "\n",
    "    def __init__(self, documents: dict,\n",
    "                 entities: dict,\n",
    "                 tag_fmt: str = 'IO',\n",
    "                 tokenizer=None) -> None:\n",
    "        \"\"\"\n",
    "        Convert Document objects with a corresponding\n",
    "        entity set into tagged sequences\n",
    "\n",
    "        :param documents:\n",
    "        :param entities:\n",
    "        :param tag_fmt:\n",
    "        :param tokenizer:\n",
    "        \"\"\"\n",
    "        self.documents = documents\n",
    "        self.entities = entities\n",
    "        self.tag_fmt = tag_fmt\n",
    "        self.tokenizer = tokenizer\n",
    "        self.tag2idx = self._get_tag_index(entities, tag_fmt)\n",
    "\n",
    "        self._init_sequences(documents)\n",
    "\n",
    "    def _get_tag_index(self, entities, tag_fmt):\n",
    "        \"\"\"\n",
    "        Given a collection of entity types, initialize an integer tag mapping\n",
    "        e.g., B-Drug I-Drug O\n",
    "\n",
    "        :param entities:\n",
    "        :param tag_fmt:\n",
    "        :return:\n",
    "        \"\"\"\n",
    "        entity_types = {t.type for doc_name in entities for t in entities[doc_name]}\n",
    "        tags = [t for t in list(tag_fmt) if t != 'O']\n",
    "        tags = [f'{tag}-{etype}' for tag, etype in itertools.product(tags, entity_types)]\n",
    "        tags = ['X', 'O', ] + tags\n",
    "        return {t: i for i, t in enumerate(tags)}\n",
    "\n",
    "    def __len__(self) -> int:\n",
    "        return len(self.data)\n",
    "\n",
    "    def tagged(self, idx):\n",
    "        \"\"\"\n",
    "        Return tagged words\n",
    "        :return:\n",
    "        \"\"\"\n",
    "        X, _, _, Y, _, _ = self.__getitem__(idx)\n",
    "        return X[1:-1], Y[1:-1]\n",
    "\n",
    "    def _init_sequences(self, documents):\n",
    "        \"\"\"\n",
    "        Transform Documents into labeled sequences.\n",
    "\n",
    "        :param documents:\n",
    "        :return:\n",
    "        \"\"\"\n",
    "        self.data = []\n",
    "        self.sentences = []\n",
    "        num_errors, num_missing_heads, num_entities = 0, 0, 0\n",
    "\n",
    "        for doc in documents:\n",
    "            self.sentences.extend(doc.sentences)\n",
    "            annotations = self.entities[doc.name] if doc.name in self.entities else {}\n",
    "            num_entities += len(annotations)\n",
    "            # tag sentences\n",
    "            sent_entities, errs = map_sent_entities(doc, annotations)\n",
    "            num_errors += errs\n",
    "\n",
    "            for sentence in doc.sentences:\n",
    "                entities = sent_entities[sentence.i] if sentence.i in sent_entities else []\n",
    "                seqs, errs = tokens_to_tags(sentence, entities, self.tag_fmt, tokenizer=self.tokenizer)\n",
    "                num_errors += errs\n",
    "\n",
    "                x, y, is_heads = seqs\n",
    "                if not (len(x) == len(y) == len(is_heads)):\n",
    "                    print(seqs)\n",
    "\n",
    "                self.data.append(seqs)\n",
    "\n",
    "        assert len(self.data) == len(self.sentences)\n",
    "        if num_errors:\n",
    "            msg = f'Errors: Span Alignment: {num_errors}/{num_entities} ({num_errors / num_entities * 100:2.1f}%)'\n",
    "            logger.warning(msg)\n",
    "\n",
    "        print(f'Tagged Entities: {num_entities - num_errors}')\n",
    "\n",
    "    def __getitem__(self, idx):\n",
    "\n",
    "        toks, tags, is_heads = self.data[idx]\n",
    "\n",
    "        words = [w for w in self.sentences[idx].words if w.strip()]\n",
    "        words = self.sentences[idx].words\n",
    "        # original tags (head words only)\n",
    "        tags = [t for i, t in enumerate(tags) if is_heads[i] == 1]\n",
    "\n",
    "        if len(words) != len(tags):\n",
    "            print(len(words), len(tags))\n",
    "            print(words)\n",
    "            print(tags)\n",
    "            print('-' * 50)\n",
    "\n",
    "        words = ['[CLS]'] + words + ['[SEP]']\n",
    "        toks = ['[CLS]'] + toks + ['[SEP]']\n",
    "        tags = ['X'] + tags + ['X']\n",
    "\n",
    "        X = self.tokenizer.convert_tokens_to_ids(toks)\n",
    "        Y = [self.tag2idx[t] if h == 1 else self.tag2idx['X'] for t, h in zip(tags, is_heads)]\n",
    "\n",
    "        return words, X, is_heads, tags, Y, len(Y)"
   ]
  },
  {
   "cell_type": "code",
   "execution_count": 5,
   "id": "adeb266c",
   "metadata": {},
   "outputs": [],
   "source": [
    "import numpy as np\n",
    "\n",
    "\n",
    "def mv(L, break_ties, abstain=-1):\n",
    "    \"\"\"Simple majority vote\"\"\"\n",
    "    from statistics import mode\n",
    "    y_hat = []\n",
    "    for row in L:\n",
    "        # get non abstain votes\n",
    "        row = row[row != abstain]\n",
    "        try:\n",
    "            l = mode(row)\n",
    "        except:\n",
    "            l = break_ties\n",
    "        y_hat.append(l)\n",
    "    return np.array(y_hat).astype(np.int)\n",
    "\n",
    "def smv(L, abstain=-1, uncovered=0):\n",
    "    \"\"\"Soft majority vote\"\"\"\n",
    "    y_hat = []\n",
    "    k = np.unique(L[L != abstain]).astype(int)\n",
    "    k = list(range(min(k), max(k) + 1))\n",
    "    for row in L:\n",
    "        # get non abstain votes\n",
    "        row = list(row[row != abstain])\n",
    "        N = len(row)\n",
    "        if not N:\n",
    "            y_hat.append([1.0, 0])\n",
    "        else:\n",
    "            p = []\n",
    "            for i in k:\n",
    "                p.append(row.count(i) / N)\n",
    "            y_hat.append(p)\n",
    "    return np.array(y_hat).astype(np.float)"
   ]
  },
  {
   "cell_type": "code",
   "execution_count": 6,
   "id": "62ddf21a",
   "metadata": {},
   "outputs": [],
   "source": [
    "import itertools\n",
    "import numpy as np\n",
    "from typing import List, Set, Dict, Tuple, Pattern, Match, Iterable\n",
    "import seqeval.metrics\n",
    "\n",
    "\n",
    "def split_by_seq_len(X, X_lens) -> np.ndarray:\n",
    "    \"\"\"Given a matrix X of M elements, partition into N variable length\n",
    "    sequences where [xi, ..., xN] lengths are defined by X_lens[i].\n",
    "\n",
    "    This is used to partition a stacked matrix of words back into sentences.\n",
    "\n",
    "    Parameters\n",
    "    ----------\n",
    "    X\n",
    "    X_lens\n",
    "\n",
    "    Returns\n",
    "    -------\n",
    "\n",
    "    \"\"\"\n",
    "    splits = [np.sum(X_lens[0:i]) for i in range(1, X_lens.shape[0])]\n",
    "    return np.split(X, splits)\n",
    "\n",
    "\n",
    "def convert_tag_fmt(\n",
    "        seq: List[str],\n",
    "        etype: str,\n",
    "        tag_fmt: str = 'IOB') -> List[str]:\n",
    "    \"\"\"Convert between tagging schemes. This is a lossy conversion\n",
    "    when converting to IO, i.e., mapping {IOB, IOBES} -> IO\n",
    "    drops information on adjacent entities.\n",
    "\n",
    "    IOB -> O B I I B I O\n",
    "    IO  -> O I I I I I O\n",
    "    IOB -> O B I I I I O\n",
    "\n",
    "    Parameters\n",
    "    ----------\n",
    "    seq\n",
    "    etype\n",
    "    tag_fmt\n",
    "\n",
    "    Returns\n",
    "    -------\n",
    "\n",
    "    \"\"\"\n",
    "    # TODO: Only works for IO -> {IOB, IOBES}\n",
    "    assert set(seq).issubset(set('IO'))\n",
    "    # divide into contiguous chunks\n",
    "    chunks = [list(g) for _, g in itertools.groupby(seq)]\n",
    "    # remap to new tagging scheme\n",
    "    seq = list(itertools.chain.from_iterable(\n",
    "        [tags if 'O' in tags else entity_tag(len(tags), tag_fmt)\n",
    "         for tags in chunks]\n",
    "    ))\n",
    "    return [t if t == 'O' else f'{t}-{etype}' for t in seq]\n",
    "\n",
    "\n",
    "def tokens_to_sequences(y_gold,\n",
    "                        y_pred,\n",
    "                        seq_lens,\n",
    "                        idx2tag=None,\n",
    "                        tag_fmt=None):\n",
    "    \"\"\"Convert token labels to sentences for sequence model evaluation.\n",
    "\n",
    "    Parameters\n",
    "    ----------\n",
    "    y_gold\n",
    "    y_pred\n",
    "    seq_lens\n",
    "    idx2tag\n",
    "    tag_fmt\n",
    "\n",
    "    Returns\n",
    "    -------\n",
    "\n",
    "    \"\"\"\n",
    "    idx2tag = {1: 'I', 0: 'O'} if not idx2tag else idx2tag\n",
    "    y_gold_seqs = []\n",
    "    for s in split_by_seq_len(y_gold, seq_lens):\n",
    "        y = [idx2tag[i] for i in s]\n",
    "        if tag_fmt is not None:\n",
    "            y_hat = convert_tag_fmt(y, etype='ENTITY', tag_fmt='IOB')\n",
    "        else:\n",
    "            y_hat = y\n",
    "        y_gold_seqs.append(y_hat)\n",
    "\n",
    "    y_pred_seqs = []\n",
    "    for s in split_by_seq_len(y_pred, seq_lens):\n",
    "        # Sometimes -1 labels make it into evaluation due to Snorkel\n",
    "        # label model. Just treat these as 'O'\n",
    "        y = [idx2tag[i] if i in idx2tag else 'O' for i in s]\n",
    "        if tag_fmt is not None:\n",
    "            y_hat = convert_tag_fmt(y, etype='ENTITY', tag_fmt='IOB')\n",
    "        else:\n",
    "            y_hat = y\n",
    "        y_pred_seqs.append(y_hat)\n",
    "\n",
    "    return y_gold_seqs, y_pred_seqs\n",
    "\n",
    "\n",
    "def score_sequences(y_true: List[List[int]],\n",
    "                    y_pred: List[List[int]],\n",
    "                    metrics: Set[str] = None) -> Dict[str, float]:\n",
    "    \"\"\"\n",
    "    Sequence model evaluation using seqeval\n",
    "    https://github.com/chakki-works/seqeval\n",
    "\n",
    "    Parameters\n",
    "    ----------\n",
    "    y_gold\n",
    "    y_pred\n",
    "\n",
    "    Returns\n",
    "    -------\n",
    "\n",
    "    \"\"\"\n",
    "    scorers = {\n",
    "        'accuracy': sklearn.metrics.accuracy_score,\n",
    "        'precision': sklearn.metrics.precision_score,\n",
    "        'recall': sklearn.metrics.recall_score,\n",
    "        'f1': sklearn.metrics.f1_score\n",
    "    }\n",
    "    metrics = metrics if metrics is not None else scorers\n",
    "    try:\n",
    "        return {name: scorers[name](y_true, y_pred, average='macro') for name in metrics}\n",
    "    except:\n",
    "        return {name: 0.0 for name in metrics}\n",
    "\n",
    "\n",
    "def eval_label_model(model, L, Y, seq_lens):\n",
    "\n",
    "    idx2tag = {0: 'O', 1: 'I-X', 2: 'B-X'}\n",
    "\n",
    "    # label model\n",
    "    y_pred = model.predict(L)\n",
    "    scores = score_sequences(*tokens_to_sequences(Y, y_pred, seq_lens, idx2tag=idx2tag))\n",
    "    print('[Label Model]   {}'.format(\n",
    "        ' | '.join([f'{m}: {v * 100:2.2f}' for m, v in scores.items()]))\n",
    "    )\n",
    "\n",
    "    # MV baseline\n",
    "    y_pred = mv(L, 0)\n",
    "    scores = score_sequences(*tokens_to_sequences(Y, y_pred, seq_lens, idx2tag=idx2tag))\n",
    "    print('[Majority Vote] {}'.format(\n",
    "        ' | '.join([f'{m}: {v * 100:2.2f}' for m, v in scores.items()]))\n",
    "    )"
   ]
  },
  {
   "cell_type": "code",
   "execution_count": 7,
   "id": "7c6c6a69",
   "metadata": {},
   "outputs": [],
   "source": [
    "import numpy as np\n",
    "from itertools import product\n",
    "from sklearn.metrics import (\n",
    "    precision_score, recall_score,\n",
    "    f1_score, accuracy_score,\n",
    "    precision_recall_fscore_support\n",
    ")\n",
    "\n",
    "\n",
    "\n",
    "\n",
    "def sample_param_grid(param_grid, seed):\n",
    "    \"\"\" Sample parameter grid\n",
    "\n",
    "    :param param_grid:\n",
    "    :param seed:\n",
    "    :return:\n",
    "    \"\"\"\n",
    "    rstate = np.random.get_state()\n",
    "    np.random.seed(seed)\n",
    "    params = list(product(*[param_grid[name] for name in param_grid]))\n",
    "    np.random.shuffle(params)\n",
    "    np.random.set_state(rstate)\n",
    "    return params\n",
    "\n",
    "\n",
    "def compute_metrics(y_gold, y_pred, average='binary'):\n",
    "    \"\"\"\n",
    "\n",
    "    :param y_gold:\n",
    "    :param y_pred:\n",
    "    :param average:\n",
    "    :return:\n",
    "    \"\"\"\n",
    "    return {\n",
    "        'accuracy': accuracy_score(y_gold, y_pred),\n",
    "        'precision': precision_score(y_gold, y_pred, average=average),\n",
    "        'recall': recall_score(y_gold, y_pred, average=average),\n",
    "        'f1': f1_score(y_gold, y_pred, average=average)\n",
    "    }\n",
    "\n",
    "\n",
    "def grid_search_span(model_class,\n",
    "                     model_class_init,\n",
    "                     param_grid,\n",
    "                     train=None,\n",
    "                     dev=None,\n",
    "                     n_model_search=5,\n",
    "                     val_metric='f1',\n",
    "                     seed=1234,\n",
    "                     verbose=True):\n",
    "    \"\"\"Simple grid search helper function\n",
    "\n",
    "    \"\"\"\n",
    "    L_train, Y_train = train if len(train) == 2 else (train[0], None)\n",
    "    L_dev, Y_dev = dev\n",
    "\n",
    "    # sample configs\n",
    "    params = sample_param_grid(param_grid, seed)[:n_model_search]\n",
    "\n",
    "    defaults = {'seed': seed}\n",
    "    best_score, best_config = 0.0, None\n",
    "    # set scoring mode based on the number of classes\n",
    "    average = 'binary' if np.unique(Y_dev).shape[0] == 2 else 'micro'\n",
    "\n",
    "    print(f\"Grid search over {len(params)} configs\")\n",
    "    print(f'Averaging: {average}')\n",
    "\n",
    "    for i, config in enumerate(params):\n",
    "        print(f'[{i}] Label Model')\n",
    "        config = dict(zip(param_grid.keys(), config))\n",
    "        # update default params if not specified\n",
    "        config.update({\n",
    "            param: value for param, value in defaults.items() \\\n",
    "            if param not in config})\n",
    "\n",
    "        model = model_class(**model_class_init)\n",
    "        # fit (estimate class balance with Y_dev)\n",
    "        model.fit(L_train, Y_dev, **config)\n",
    "\n",
    "        y_pred = model.predict(L_dev)\n",
    "        y_gold = Y_dev\n",
    "\n",
    "        # Snorkel sometimes emits -1 predictions\n",
    "        if -1 in y_pred:\n",
    "            continue\n",
    "\n",
    "        # only evaluate dev score\n",
    "        mask = []\n",
    "        for i in range(L_dev.shape[0]):\n",
    "            if not np.all(L_dev[i] == -1):\n",
    "                mask.append(i)\n",
    "\n",
    "        mask = np.array(mask)\n",
    "        metrics = compute_metrics(Y_dev[mask], model.predict(L_dev[mask]))\n",
    "\n",
    "        msgs = []\n",
    "        if not best_score or metrics[val_metric] > best_score[val_metric]:\n",
    "            print(config)\n",
    "            best_score = metrics\n",
    "            best_config = config\n",
    "\n",
    "            # mask uncovered data points\n",
    "            mask = [i for i in range(L_train.shape[0]) \\\n",
    "                    if not np.all(L_train[i] == -1)]\n",
    "            msgs.append(\n",
    "                f'Coverage: {(len(mask) / L_train.shape[0] * 100):2.1f}%'\n",
    "            )\n",
    "\n",
    "            if Y_train is not None:\n",
    "                # filter out candidate spans without gold labels\n",
    "                y_mask = [i for i in range(len(Y_train)) if Y_train[i] != -1]\n",
    "                mask = np.array(sorted(list(set(y_mask).intersection(mask))))\n",
    "                metrics = compute_metrics(Y_train[mask],\n",
    "                                          model.predict(L_train[mask]))\n",
    "                msgs.append(\n",
    "                    'TRAIN {}'.format(' | '.join(\n",
    "                        [f'{m}: {v * 100:2.2f}' for m, v in metrics.items()])\n",
    "                    )\n",
    "                )\n",
    "\n",
    "            msgs.append(\n",
    "                'DEV   {}'.format(' | '.join(\n",
    "                    [f'{m}: {v * 100:2.2f}' for m, v in best_score.items()]))\n",
    "            )\n",
    "\n",
    "        if verbose and msgs:\n",
    "            print('\\n'.join(msgs) + ('\\n' + '-' * 80))\n",
    "\n",
    "        if i % 50 == 0:\n",
    "            print(f'[{i}] Label Model')\n",
    "\n",
    "    # retrain best model\n",
    "    if verbose:\n",
    "        print('BEST')\n",
    "        print(best_config)\n",
    "    model = model_class(**model_class_init)\n",
    "    model.fit(L_train, Y_dev, **best_config)\n",
    "    return model, best_config\n",
    "\n",
    "\n",
    "def grid_search(model_class,\n",
    "                model_class_init,\n",
    "                param_grid,\n",
    "                train=None,\n",
    "                dev=None,\n",
    "                other_train=None,\n",
    "                n_model_search=5,\n",
    "                val_metric='f1',\n",
    "                seed=1234,\n",
    "                seq_eval=True,\n",
    "                checkpoint_gt_mv=True,\n",
    "                tag_fmt_ckpnt='BIO'):\n",
    "    \"\"\"Simple grid search helper function\n",
    "\n",
    "    Parameters\n",
    "    ----------\n",
    "    model_class\n",
    "    model_class_init\n",
    "    param_grid\n",
    "    train\n",
    "    dev\n",
    "    n_model_search\n",
    "    val_metric\n",
    "    seed\n",
    "    seq_eval\n",
    "\n",
    "    Returns\n",
    "    -------\n",
    "\n",
    "    \"\"\"\n",
    "    print(f\"Using {'TOKEN' if not seq_eval else 'SEQUENCE'} dev checkpointing\")\n",
    "    if seq_eval:\n",
    "        print(f\"Using {tag_fmt_ckpnt} dev checkpointing\")\n",
    "\n",
    "    idx2tag = {0:'O', 1:'I-X', 2:'B-X'}\n",
    "\n",
    "    L_train, Y_train, X_train_lens = train\n",
    "    L_dev, Y_dev, X_dev_lens = dev\n",
    "\n",
    "    # sample configs\n",
    "    params = sample_param_grid(param_grid, seed)[:n_model_search]\n",
    "\n",
    "    defaults = {'seed': seed}\n",
    "    best_score, best_config = 0.0, None\n",
    "    print(f\"Grid search over {len(params)} configs\")\n",
    "\n",
    "    for i, config in enumerate(params):\n",
    "        print(f'[{i}] Label Model')\n",
    "        config = dict(zip(param_grid.keys(), config))\n",
    "        # update default params if not specified\n",
    "        config.update({param: value for param, value in defaults.items() if param not in config})\n",
    "\n",
    "        model = model_class(**model_class_init)\n",
    "        # fit (estimate class balance with Y_dev)\n",
    "        # HACK for BIO tag evaluation\n",
    "        if len(np.unique(Y_dev)) != 2:\n",
    "            Y_dev_hat = np.array([0 if y == 0 else 1 for y in Y_dev])\n",
    "        else:\n",
    "            Y_dev_hat = Y_dev\n",
    "        model.fit(L_train, Y_dev_hat, **config)\n",
    "\n",
    "        y_pred = model.predict(L_dev)\n",
    "\n",
    "        # set gold tags for evaluation\n",
    "        if tag_fmt_ckpnt == 'IO':\n",
    "            y_gold = np.array([0 if y == 0 else 1 for y in Y_dev])\n",
    "        else:\n",
    "            y_gold = Y_dev\n",
    "\n",
    "        if -1 in y_pred:\n",
    "            print(\"Label model predicted -1 (TODO: this happens inconsistently)\")\n",
    "            continue\n",
    "\n",
    "        # score on dev set (token or sequence-level)\n",
    "        if seq_eval:\n",
    "            metrics = score_sequences(*tokens_to_sequences(y_gold, y_pred, X_dev_lens, idx2tag=idx2tag))\n",
    "        else:\n",
    "            # use internal label model scorer\n",
    "            metrics = model.score(L=L_dev,\n",
    "                                  Y=y_gold,\n",
    "                                  metrics=['accuracy', 'precision', 'recall', 'f1'],\n",
    "                                  tie_break_policy=0)\n",
    "\n",
    "        # compare learned model against MV on same labeled dev set\n",
    "        # skip if LM less than MV\n",
    "        if checkpoint_gt_mv:\n",
    "            if seq_eval:\n",
    "                mv_y_pred = mv(L_dev, 0)\n",
    "                mv_metrics = score_sequences(\n",
    "                    *tokens_to_sequences(y_gold, mv_y_pred, X_dev_lens, idx2tag=idx2tag)\n",
    "                )\n",
    "            else:\n",
    "                metrics = model.score(L=L_dev,\n",
    "                                      Y=y_gold,\n",
    "                                      metrics=['accuracy', 'precision', 'recall', 'f1'],\n",
    "                                      tie_break_policy=0)\n",
    "\n",
    "            if metrics[val_metric] < metrics[val_metric]:\n",
    "                continue\n",
    "\n",
    "        if not best_score or metrics[val_metric] > best_score[val_metric]:\n",
    "            print(config)\n",
    "            best_score = metrics\n",
    "            best_config = config\n",
    "\n",
    "            # print training set score if we have labeled data\n",
    "            if np.any(Y_train):\n",
    "                y_pred = model.predict(L_train)\n",
    "\n",
    "                if tag_fmt_ckpnt == 'IO':\n",
    "                    y_gold = np.array([0 if y == 0 else 1 for y in Y_train])\n",
    "                else:\n",
    "                    y_gold = Y_train\n",
    "\n",
    "                if seq_eval:\n",
    "                    metrics = score_sequences(*tokens_to_sequences(y_gold, y_pred, X_train_lens, idx2tag=idx2tag))\n",
    "                else:\n",
    "                    metrics = model.score(L=L_train,\n",
    "                                          Y=y_gold,\n",
    "                                          metrics=['accuracy', 'precision', 'recall', 'f1'],\n",
    "                                          tie_break_policy=0)\n",
    "\n",
    "                print('[TRAIN] {}'.format(' | '.join([f'{m}: {v * 100:2.2f}' for m, v in metrics.items()])))\n",
    "\n",
    "            print('[DEV]   {}'.format(' | '.join([f'{m}: {v * 100:2.2f}' for m, v in best_score.items()])))\n",
    "            print('-' * 88)\n",
    "\n",
    "    # retrain best model\n",
    "    print('BEST')\n",
    "    print(best_config)\n",
    "    model = model_class(**model_class_init)\n",
    "\n",
    "    # HACK for BIO tag evaluation\n",
    "    if len(np.unique(Y_dev)) != 2:\n",
    "        Y_dev_hat = np.array([0 if y == 0 else 1 for y in Y_dev])\n",
    "    else:\n",
    "        Y_dev_hat = Y_dev\n",
    "    model.fit(L_train, Y_dev_hat, **best_config)\n",
    "    return model, best_config"
   ]
  },
  {
   "cell_type": "code",
   "execution_count": 8,
   "id": "5d1d2219",
   "metadata": {},
   "outputs": [],
   "source": [
    "def list2Nested(l, nested_length):\n",
    "    return [l[i:i+nested_length] for i in range(0, len(l), nested_length)]"
   ]
  },
  {
   "cell_type": "code",
   "execution_count": 9,
   "id": "736e7d99",
   "metadata": {},
   "outputs": [],
   "source": [
    "# Fetch UMLS ranks\n",
    "\n",
    "sum_lf_p = '/mnt/nas2/results/Results/systematicReview/distant_pico/EBM_PICO_GT/lf_p_summary_train.csv'\n",
    "sum_lf_i = '/mnt/nas2/results/Results/systematicReview/distant_pico/EBM_PICO_GT/lf_i_summary_train.csv'\n",
    "sum_lf_o = '/mnt/nas2/results/Results/systematicReview/distant_pico/EBM_PICO_GT/lf_o_summary_train.csv'\n",
    "\n",
    "\n",
    "def fetchRank(sum_lf_d):\n",
    "    \n",
    "    ranked_umls_coverage = dict()    \n",
    "    umls_coverage_ = dict()\n",
    "    \n",
    "    data=pd.read_csv(sum_lf_d, sep='\\t')\n",
    "    \n",
    "    for index, row in data.iterrows():\n",
    "        if row[0].startswith('UMLS_fuzzy_'):\n",
    "            umls_coverage_[row[0]] = row[3]\n",
    "    \n",
    "    umls_coverage_sorted = sorted(umls_coverage_.items(), key=lambda x: x[1], reverse=True)\n",
    "    \n",
    "    for i in umls_coverage_sorted:\n",
    "        k = str(i[0]).split('_')[-1]\n",
    "        ranked_umls_coverage[k] = i[1]\n",
    "\n",
    "    return ranked_umls_coverage\n",
    "\n",
    "ranksorted_p_umls = fetchRank(sum_lf_p)\n",
    "ranksorted_i_umls = fetchRank(sum_lf_i)\n",
    "ranksorted_o_umls = fetchRank(sum_lf_o)"
   ]
  },
  {
   "cell_type": "code",
   "execution_count": 10,
   "id": "a8976e98",
   "metadata": {},
   "outputs": [],
   "source": [
    "# Partition LF's\n",
    "\n",
    "def partitionLFs(umls_d):\n",
    "    \n",
    "    keys = list(umls_d.keys())\n",
    "\n",
    "    partitioned_lfs = [ ]\n",
    "    \n",
    "    for i in range( 0, len(keys) ):\n",
    "\n",
    "        if i == 0 or i == len(keys):\n",
    "            if i == 0:\n",
    "                partitioned_lfs.append( [keys] )\n",
    "            if i ==len(keys):\n",
    "                temp3 = list2Nested(keys, 1)\n",
    "                partitioned_lfs.append( temp3 )\n",
    "        else:\n",
    "            temp1, temp2 = keys[:i] , keys[i:]\n",
    "            temp3 = list2Nested( keys[:i], 1)\n",
    "            temp3.append( keys[i:] )\n",
    "            partitioned_lfs.append( temp3 )\n",
    "    \n",
    "    return partitioned_lfs\n",
    "\n",
    "\n",
    "partitioned_p_umls = partitionLFs(ranksorted_p_umls)\n",
    "partitioned_i_umls = partitionLFs(ranksorted_i_umls)\n",
    "partitioned_o_umls = partitionLFs(ranksorted_o_umls)"
   ]
  },
  {
   "cell_type": "code",
   "execution_count": 11,
   "id": "0638a0ad",
   "metadata": {},
   "outputs": [],
   "source": [
    "import LMutils\n",
    "\n",
    "# validation_labels   \n",
    "# validation_labels_tui_pio2   \n",
    "file = '/mnt/nas2/results/Results/systematicReview/distant_pico/EBM_PICO_GT/validation_labels_tui_pio2.tsv'\n",
    "df_data = pd.read_csv(file, sep='\\t', header=0)"
   ]
  },
  {
   "cell_type": "code",
   "execution_count": 12,
   "id": "4ea04a06",
   "metadata": {},
   "outputs": [],
   "source": [
    "Y_tokens = df_data['tokens']"
   ]
  },
  {
   "cell_type": "code",
   "execution_count": 13,
   "id": "0c7fe1d5",
   "metadata": {},
   "outputs": [],
   "source": [
    "Y_tokens = df_data['tokens']\n",
    "#Y_p = df_data['p']\n",
    "#Y_i = df_data['i']\n",
    "#Y_o = df_data['o']\n",
    "df_data_train, df_data_val = train_test_split(df_data, test_size=0.20, shuffle=False)"
   ]
  },
  {
   "cell_type": "code",
   "execution_count": 14,
   "id": "ce0e5ebe",
   "metadata": {},
   "outputs": [],
   "source": [
    "splits = ['train', 'dev']\n",
    "X_sents = [\n",
    "    df_data_train.tokens,\n",
    "    df_data_val.tokens,\n",
    "]"
   ]
  },
  {
   "cell_type": "code",
   "execution_count": 15,
   "id": "dc29465e",
   "metadata": {},
   "outputs": [],
   "source": [
    "X_seq_lens = [\n",
    "    np.array([len(str(s)) for s in X_sents[i]])\n",
    "    for i,name in enumerate(splits)\n",
    "]"
   ]
  },
  {
   "cell_type": "code",
   "execution_count": 16,
   "id": "6b5b641a",
   "metadata": {},
   "outputs": [],
   "source": [
    "X_seq_lens = [\n",
    "    np.array( [ len(X_sents[i]) ] )\n",
    "    for i,name in enumerate(splits)\n",
    "]"
   ]
  },
  {
   "cell_type": "code",
   "execution_count": 17,
   "id": "a1119c42",
   "metadata": {},
   "outputs": [
    {
     "name": "stdout",
     "output_type": "stream",
     "text": [
      "Total number of tokens in validation set:  1354953\n",
      "Total number of LFs in the dictionary 613\n"
     ]
    }
   ],
   "source": [
    "# Read Candidate labels from multiple LFs\n",
    "indir = '/mnt/nas2/results/Results/systematicReview/distant_pico/candidate_generation'\n",
    "pathlist = Path(indir).glob('**/*.tsv')\n",
    "\n",
    "tokens = []\n",
    "\n",
    "lfs = dict()\n",
    "\n",
    "for file in pathlist:\n",
    "\n",
    "    k = str( file ).split('candidate_generation/')[-1].replace('.tsv', '').replace('/', '_')\n",
    "    mypath = Path(file)\n",
    "    if mypath.stat().st_size != 0:\n",
    "        data = pd.read_csv(file, sep='\\t', header=0)\n",
    "    if len(tokens) == 0:\n",
    "        tokens.extend( list(data.tokens) )\n",
    "    \n",
    "    sab = data.columns[-1]\n",
    "    if len(list( data[sab] )) == 1354953:\n",
    "        lfs[str(k)] = list( data[sab] )[:len(Y_tokens)]\n",
    "\n",
    "\n",
    "print( 'Total number of tokens in validation set: ', len(tokens) )\n",
    "print( 'Total number of LFs in the dictionary', len(lfs) )"
   ]
  },
  {
   "cell_type": "code",
   "execution_count": 18,
   "id": "001d73ed",
   "metadata": {},
   "outputs": [],
   "source": [
    "def lf_levels(umls_d:dict, pattern:str, picos:str):\n",
    "\n",
    "    umls_level = dict()\n",
    "\n",
    "    for key, value in umls_d.items():   # iter on both keys and values\n",
    "        search_pattern = pattern + picos\n",
    "        if key.startswith(search_pattern):\n",
    "            k = str(key).split('_')[-1]\n",
    "            umls_level[ k ] = value\n",
    "\n",
    "    return umls_level\n",
    "\n",
    "# Level 1: UMLS\n",
    "umls_p = lf_levels(lfs, 'UMLS_fuzzy_', 'p')\n",
    "umls_i = lf_levels(lfs, 'UMLS_fuzzy_', 'i')\n",
    "umls_o = lf_levels(lfs, 'UMLS_fuzzy_', 'o')\n",
    "\n",
    "# Level 2: non UMLS\n",
    "nonumls_p = lf_levels(lfs, 'nonUMLS_fuzzy_', 'P')\n",
    "nonumls_i = lf_levels(lfs, 'nonUMLS_fuzzy_', 'I')\n",
    "nonumls_o = lf_levels(lfs, 'nonUMLS_fuzzy_', 'O')\n",
    "\n",
    "# Level 3: DS\n",
    "ds_p = lf_levels(lfs, 'DS_fuzzy_', 'P')\n",
    "ds_i = lf_levels(lfs, 'DS_fuzzy_', 'I')\n",
    "ds_o = lf_levels(lfs, 'DS_fuzzy_', 'O')\n",
    "\n",
    "# Level 4: dictionary, rules, heuristics\n",
    "heur_p = lf_levels(lfs, 'heuristics_direct_', 'P')\n",
    "heur_i = lf_levels(lfs, 'heuristics_direct_', 'I')\n",
    "heur_o = lf_levels(lfs, 'heuristics_direct_', 'O')\n",
    "\n",
    "dict_p = lf_levels(lfs, 'dictionary_direct_', 'P')\n",
    "dict_i = lf_levels(lfs, 'dictionary_direct_', 'I')\n",
    "dict_o = lf_levels(lfs, 'dictionary_direct_', 'O')"
   ]
  },
  {
   "cell_type": "code",
   "execution_count": 19,
   "id": "c0cc37ed",
   "metadata": {},
   "outputs": [],
   "source": [
    "def compare(s, t):\n",
    "    return sorted(s) == sorted(t)\n",
    "\n",
    "def getLFs(partition:list, umls_d:dict, seed_len:int):\n",
    "\n",
    "    all_lfs_combined = []\n",
    "    \n",
    "    for lf in partition: # for each lf in a partition\n",
    "        \n",
    "        combine_here = [0] * seed_len\n",
    "\n",
    "        for sab in lf:\n",
    "            new_a = umls_d[sab]\n",
    "            old_a = combine_here\n",
    "            temp_a = []\n",
    "            for o_a, n_a in zip(old_a, new_a):\n",
    "                if compare([o_a, n_a] ,[-1, 1]) == True:\n",
    "                    replace_a = max( o_a, n_a )\n",
    "                    temp_a.append( replace_a )\n",
    "                elif compare([o_a, n_a] ,[0, 1]) == True:\n",
    "                    replace_a = max( o_a, n_a )\n",
    "                    temp_a.append( replace_a )\n",
    "                elif compare([o_a, n_a] ,[-1, 0]) == True:\n",
    "                    replace_a = min( o_a, n_a )\n",
    "                    temp_a.append( replace_a )\n",
    "                else:\n",
    "                    temp_a.append( o_a )\n",
    "\n",
    "            combine_here = temp_a\n",
    "\n",
    "        all_lfs_combined.append( combine_here )\n",
    "\n",
    "    return all_lfs_combined"
   ]
  },
  {
   "cell_type": "code",
   "execution_count": 20,
   "id": "78a1e865",
   "metadata": {},
   "outputs": [],
   "source": [
    "def train(partitioned_d_umls, umls_d, non_umls_d, ds_d, heur_d, dict_d, df_data_train, df_data_val, picos):\n",
    "   \n",
    "    model_class_init = {\n",
    "        'cardinality': 2, \n",
    "        'verbose': True\n",
    "    }\n",
    "\n",
    "\n",
    "    '''#########################################################################\n",
    "    # Choosing the number of LF's from UMLS all\n",
    "    #########################################################################'''\n",
    "    \n",
    "    for i, partition in enumerate(partitioned_d_umls):\n",
    "\n",
    "        combined_lf = getLFs(partition, umls_d, len(Y_tokens))\n",
    "        assert len(partition) == len(combined_lf)\n",
    "\n",
    "        print( 'Total number of UMLS partitions: ', len(partition) )\n",
    "        combined_lf.extend( list(non_umls_d.values()) ) # Combine with level 2\n",
    "        combined_lf.extend( list(ds_d.values()) ) # Combine with level 3\n",
    "        combined_lf.extend( list(heur_d.values()) ) # Combine with level 4\n",
    "        combined_lf.extend( list(dict_d.values()) ) # combine with level 4\n",
    "\n",
    "        L = np.array(combined_lf)\n",
    "        L = np.transpose(L)\n",
    "        L_train, L_val = train_test_split(L, test_size=0.20, shuffle=False)\n",
    "\n",
    "        Y_train = df_data_train[picos]\n",
    "        Y_val = df_data_val[picos]\n",
    "      \n",
    "        model = LMsnorkel(cardinality=2)\n",
    "        #model.fit( L_train, n_epochs=2000, mu_eps=0.0000001, lr=0.001 )\n",
    "        model.fit( L_train, n_epochs=2000, mu_eps=0.0000001, lr=0.001, optimizer='adam' )\n",
    "        \n",
    "        preds = model.predict( L_val )\n",
    "        cr = classification_report( preds, Y_val )\n",
    "        scores = model.score( L_val, Y_val, metrics=['f1_macro'] )\n",
    "        \n",
    "        \n",
    "        print( cr )\n",
    "        print( scores )"
   ]
  },
  {
   "cell_type": "code",
   "execution_count": 21,
   "id": "af2a61f3",
   "metadata": {},
   "outputs": [
    {
     "name": "stdout",
     "output_type": "stream",
     "text": [
      "Total number of UMLS partitions:  1\n"
     ]
    },
    {
     "name": "stderr",
     "output_type": "stream",
     "text": [
      "WARNING:root:Metrics calculated over data points with non-abstain labels only\n"
     ]
    },
    {
     "name": "stdout",
     "output_type": "stream",
     "text": [
      "              precision    recall  f1-score   support\n",
      "\n",
      "           0       0.91      0.88      0.90    245557\n",
      "           1       0.14      0.18      0.16     25434\n",
      "\n",
      "    accuracy                           0.82    270991\n",
      "   macro avg       0.53      0.53      0.53    270991\n",
      "weighted avg       0.84      0.82      0.83    270991\n",
      "\n",
      "{'f1_macro': 0.5274760046581259}\n",
      "Total number of UMLS partitions:  2\n"
     ]
    },
    {
     "name": "stderr",
     "output_type": "stream",
     "text": [
      "WARNING:root:Metrics calculated over data points with non-abstain labels only\n"
     ]
    },
    {
     "name": "stdout",
     "output_type": "stream",
     "text": [
      "              precision    recall  f1-score   support\n",
      "\n",
      "           0       0.91      0.88      0.90    245451\n",
      "           1       0.14      0.18      0.16     25540\n",
      "\n",
      "    accuracy                           0.82    270991\n",
      "   macro avg       0.53      0.53      0.53    270991\n",
      "weighted avg       0.84      0.82      0.83    270991\n",
      "\n",
      "{'f1_macro': 0.5272705067679955}\n",
      "Total number of UMLS partitions:  3\n"
     ]
    },
    {
     "name": "stderr",
     "output_type": "stream",
     "text": [
      "WARNING:root:Metrics calculated over data points with non-abstain labels only\n"
     ]
    },
    {
     "name": "stdout",
     "output_type": "stream",
     "text": [
      "              precision    recall  f1-score   support\n",
      "\n",
      "           0       0.91      0.88      0.90    245389\n",
      "           1       0.14      0.18      0.16     25602\n",
      "\n",
      "    accuracy                           0.82    270991\n",
      "   macro avg       0.53      0.53      0.53    270991\n",
      "weighted avg       0.84      0.82      0.83    270991\n",
      "\n",
      "{'f1_macro': 0.5275549365252}\n",
      "Total number of UMLS partitions:  4\n"
     ]
    },
    {
     "name": "stderr",
     "output_type": "stream",
     "text": [
      "WARNING:root:Metrics calculated over data points with non-abstain labels only\n"
     ]
    },
    {
     "name": "stdout",
     "output_type": "stream",
     "text": [
      "              precision    recall  f1-score   support\n",
      "\n",
      "           0       0.91      0.88      0.90    245360\n",
      "           1       0.14      0.18      0.16     25631\n",
      "\n",
      "    accuracy                           0.82    270991\n",
      "   macro avg       0.53      0.53      0.53    270991\n",
      "weighted avg       0.84      0.82      0.83    270991\n",
      "\n",
      "{'f1_macro': 0.527806543889889}\n",
      "Total number of UMLS partitions:  5\n"
     ]
    },
    {
     "name": "stderr",
     "output_type": "stream",
     "text": [
      "WARNING:root:Metrics calculated over data points with non-abstain labels only\n"
     ]
    },
    {
     "name": "stdout",
     "output_type": "stream",
     "text": [
      "              precision    recall  f1-score   support\n",
      "\n",
      "           0       0.91      0.88      0.90    245301\n",
      "           1       0.14      0.18      0.16     25690\n",
      "\n",
      "    accuracy                           0.82    270991\n",
      "   macro avg       0.53      0.53      0.53    270991\n",
      "weighted avg       0.84      0.82      0.83    270991\n",
      "\n",
      "{'f1_macro': 0.5277360962143686}\n",
      "Total number of UMLS partitions:  6\n"
     ]
    },
    {
     "name": "stderr",
     "output_type": "stream",
     "text": [
      "WARNING:root:Metrics calculated over data points with non-abstain labels only\n"
     ]
    },
    {
     "name": "stdout",
     "output_type": "stream",
     "text": [
      "              precision    recall  f1-score   support\n",
      "\n",
      "           0       0.91      0.88      0.90    245256\n",
      "           1       0.14      0.18      0.16     25735\n",
      "\n",
      "    accuracy                           0.82    270991\n",
      "   macro avg       0.53      0.53      0.53    270991\n",
      "weighted avg       0.84      0.82      0.83    270991\n",
      "\n",
      "{'f1_macro': 0.5277194079425347}\n",
      "Total number of UMLS partitions:  7\n"
     ]
    },
    {
     "name": "stderr",
     "output_type": "stream",
     "text": [
      "WARNING:root:Metrics calculated over data points with non-abstain labels only\n"
     ]
    },
    {
     "name": "stdout",
     "output_type": "stream",
     "text": [
      "              precision    recall  f1-score   support\n",
      "\n",
      "           0       0.91      0.88      0.90    245256\n",
      "           1       0.14      0.18      0.16     25735\n",
      "\n",
      "    accuracy                           0.82    270991\n",
      "   macro avg       0.53      0.53      0.53    270991\n",
      "weighted avg       0.84      0.82      0.83    270991\n",
      "\n",
      "{'f1_macro': 0.5277194079425347}\n",
      "Total number of UMLS partitions:  8\n"
     ]
    },
    {
     "name": "stderr",
     "output_type": "stream",
     "text": [
      "WARNING:root:Metrics calculated over data points with non-abstain labels only\n"
     ]
    },
    {
     "name": "stdout",
     "output_type": "stream",
     "text": [
      "              precision    recall  f1-score   support\n",
      "\n",
      "           0       0.91      0.88      0.90    245256\n",
      "           1       0.14      0.18      0.16     25735\n",
      "\n",
      "    accuracy                           0.82    270991\n",
      "   macro avg       0.53      0.53      0.53    270991\n",
      "weighted avg       0.84      0.82      0.83    270991\n",
      "\n",
      "{'f1_macro': 0.5277194079425347}\n",
      "Total number of UMLS partitions:  9\n"
     ]
    },
    {
     "name": "stderr",
     "output_type": "stream",
     "text": [
      "WARNING:root:Metrics calculated over data points with non-abstain labels only\n"
     ]
    },
    {
     "name": "stdout",
     "output_type": "stream",
     "text": [
      "              precision    recall  f1-score   support\n",
      "\n",
      "           0       0.91      0.88      0.90    245165\n",
      "           1       0.14      0.18      0.16     25826\n",
      "\n",
      "    accuracy                           0.82    270991\n",
      "   macro avg       0.53      0.53      0.53    270991\n",
      "weighted avg       0.84      0.82      0.83    270991\n",
      "\n",
      "{'f1_macro': 0.5276264870688147}\n",
      "Total number of UMLS partitions:  10\n"
     ]
    },
    {
     "name": "stderr",
     "output_type": "stream",
     "text": [
      "WARNING:root:Metrics calculated over data points with non-abstain labels only\n"
     ]
    },
    {
     "name": "stdout",
     "output_type": "stream",
     "text": [
      "              precision    recall  f1-score   support\n",
      "\n",
      "           0       0.91      0.88      0.90    245179\n",
      "           1       0.14      0.18      0.16     25812\n",
      "\n",
      "    accuracy                           0.82    270991\n",
      "   macro avg       0.53      0.53      0.53    270991\n",
      "weighted avg       0.84      0.82      0.83    270991\n",
      "\n",
      "{'f1_macro': 0.5276612241926623}\n",
      "Total number of UMLS partitions:  11\n"
     ]
    },
    {
     "name": "stderr",
     "output_type": "stream",
     "text": [
      "WARNING:root:Metrics calculated over data points with non-abstain labels only\n"
     ]
    },
    {
     "name": "stdout",
     "output_type": "stream",
     "text": [
      "              precision    recall  f1-score   support\n",
      "\n",
      "           0       0.91      0.88      0.90    245179\n",
      "           1       0.14      0.18      0.16     25812\n",
      "\n",
      "    accuracy                           0.82    270991\n",
      "   macro avg       0.53      0.53      0.53    270991\n",
      "weighted avg       0.84      0.82      0.83    270991\n",
      "\n",
      "{'f1_macro': 0.5276802042929518}\n",
      "Total number of UMLS partitions:  12\n"
     ]
    },
    {
     "name": "stderr",
     "output_type": "stream",
     "text": [
      "WARNING:root:Metrics calculated over data points with non-abstain labels only\n"
     ]
    },
    {
     "name": "stdout",
     "output_type": "stream",
     "text": [
      "              precision    recall  f1-score   support\n",
      "\n",
      "           0       0.91      0.88      0.90    244661\n",
      "           1       0.14      0.18      0.16     26330\n",
      "\n",
      "    accuracy                           0.82    270991\n",
      "   macro avg       0.53      0.53      0.53    270991\n",
      "weighted avg       0.83      0.82      0.82    270991\n",
      "\n",
      "{'f1_macro': 0.5281328936590346}\n",
      "Total number of UMLS partitions:  13\n"
     ]
    },
    {
     "name": "stderr",
     "output_type": "stream",
     "text": [
      "WARNING:root:Metrics calculated over data points with non-abstain labels only\n"
     ]
    },
    {
     "name": "stdout",
     "output_type": "stream",
     "text": [
      "              precision    recall  f1-score   support\n",
      "\n",
      "           0       0.91      0.88      0.90    244757\n",
      "           1       0.14      0.18      0.16     26234\n",
      "\n",
      "    accuracy                           0.82    270991\n",
      "   macro avg       0.53      0.53      0.53    270991\n",
      "weighted avg       0.84      0.82      0.83    270991\n",
      "\n",
      "{'f1_macro': 0.5282963385711005}\n",
      "Total number of UMLS partitions:  14\n"
     ]
    },
    {
     "name": "stderr",
     "output_type": "stream",
     "text": [
      "WARNING:root:Metrics calculated over data points with non-abstain labels only\n"
     ]
    },
    {
     "name": "stdout",
     "output_type": "stream",
     "text": [
      "              precision    recall  f1-score   support\n",
      "\n",
      "           0       0.91      0.88      0.90    244852\n",
      "           1       0.14      0.18      0.16     26139\n",
      "\n",
      "    accuracy                           0.82    270991\n",
      "   macro avg       0.53      0.53      0.53    270991\n",
      "weighted avg       0.84      0.82      0.83    270991\n",
      "\n",
      "{'f1_macro': 0.5291374377363072}\n",
      "Total number of UMLS partitions:  15\n"
     ]
    },
    {
     "name": "stderr",
     "output_type": "stream",
     "text": [
      "WARNING:root:Metrics calculated over data points with non-abstain labels only\n"
     ]
    },
    {
     "name": "stdout",
     "output_type": "stream",
     "text": [
      "              precision    recall  f1-score   support\n",
      "\n",
      "           0       0.91      0.88      0.90    245720\n",
      "           1       0.14      0.19      0.16     25271\n",
      "\n",
      "    accuracy                           0.82    270991\n",
      "   macro avg       0.53      0.53      0.53    270991\n",
      "weighted avg       0.84      0.82      0.83    270991\n",
      "\n",
      "{'f1_macro': 0.5295071979426323}\n",
      "Total number of UMLS partitions:  16\n"
     ]
    },
    {
     "name": "stderr",
     "output_type": "stream",
     "text": [
      "WARNING:root:Metrics calculated over data points with non-abstain labels only\n"
     ]
    },
    {
     "name": "stdout",
     "output_type": "stream",
     "text": [
      "              precision    recall  f1-score   support\n",
      "\n",
      "           0       0.91      0.88      0.90    245399\n",
      "           1       0.14      0.19      0.16     25592\n",
      "\n",
      "    accuracy                           0.82    270991\n",
      "   macro avg       0.53      0.54      0.53    270991\n",
      "weighted avg       0.84      0.82      0.83    270991\n",
      "\n",
      "{'f1_macro': 0.5302837513561901}\n",
      "Total number of UMLS partitions:  17\n"
     ]
    },
    {
     "name": "stderr",
     "output_type": "stream",
     "text": [
      "WARNING:root:Metrics calculated over data points with non-abstain labels only\n"
     ]
    },
    {
     "name": "stdout",
     "output_type": "stream",
     "text": [
      "              precision    recall  f1-score   support\n",
      "\n",
      "           0       0.91      0.88      0.90    245493\n",
      "           1       0.14      0.19      0.16     25498\n",
      "\n",
      "    accuracy                           0.82    270991\n",
      "   macro avg       0.53      0.54      0.53    270991\n",
      "weighted avg       0.84      0.82      0.83    270991\n",
      "\n",
      "{'f1_macro': 0.5304828130747223}\n",
      "Total number of UMLS partitions:  18\n"
     ]
    },
    {
     "name": "stderr",
     "output_type": "stream",
     "text": [
      "WARNING:root:Metrics calculated over data points with non-abstain labels only\n"
     ]
    },
    {
     "name": "stdout",
     "output_type": "stream",
     "text": [
      "              precision    recall  f1-score   support\n",
      "\n",
      "           0       0.91      0.88      0.90    245851\n",
      "           1       0.14      0.19      0.16     25140\n",
      "\n",
      "    accuracy                           0.82    270991\n",
      "   macro avg       0.53      0.54      0.53    270991\n",
      "weighted avg       0.84      0.82      0.83    270991\n",
      "\n",
      "{'f1_macro': 0.5304116813474122}\n",
      "Total number of UMLS partitions:  19\n"
     ]
    },
    {
     "name": "stderr",
     "output_type": "stream",
     "text": [
      "WARNING:root:Metrics calculated over data points with non-abstain labels only\n"
     ]
    },
    {
     "name": "stdout",
     "output_type": "stream",
     "text": [
      "              precision    recall  f1-score   support\n",
      "\n",
      "           0       0.92      0.88      0.90    248169\n",
      "           1       0.14      0.20      0.16     22822\n",
      "\n",
      "    accuracy                           0.83    270991\n",
      "   macro avg       0.53      0.54      0.53    270991\n",
      "weighted avg       0.86      0.83      0.84    270991\n",
      "\n",
      "{'f1_macro': 0.532034694021219}\n",
      "Total number of UMLS partitions:  20\n"
     ]
    },
    {
     "name": "stderr",
     "output_type": "stream",
     "text": [
      "WARNING:root:Metrics calculated over data points with non-abstain labels only\n"
     ]
    },
    {
     "name": "stdout",
     "output_type": "stream",
     "text": [
      "              precision    recall  f1-score   support\n",
      "\n",
      "           0       0.92      0.88      0.90    247998\n",
      "           1       0.14      0.20      0.16     22993\n",
      "\n",
      "    accuracy                           0.83    270991\n",
      "   macro avg       0.53      0.54      0.53    270991\n",
      "weighted avg       0.86      0.83      0.84    270991\n",
      "\n",
      "{'f1_macro': 0.531914144125108}\n",
      "Total number of UMLS partitions:  21\n"
     ]
    },
    {
     "name": "stderr",
     "output_type": "stream",
     "text": [
      "WARNING:root:Metrics calculated over data points with non-abstain labels only\n"
     ]
    },
    {
     "name": "stdout",
     "output_type": "stream",
     "text": [
      "              precision    recall  f1-score   support\n",
      "\n",
      "           0       0.96      0.89      0.92    257052\n",
      "           1       0.12      0.28      0.17     13939\n",
      "\n",
      "    accuracy                           0.85    270991\n",
      "   macro avg       0.54      0.58      0.54    270991\n",
      "weighted avg       0.91      0.85      0.88    270991\n",
      "\n",
      "{'f1_macro': 0.5438266179699208}\n",
      "Total number of UMLS partitions:  22\n"
     ]
    },
    {
     "name": "stderr",
     "output_type": "stream",
     "text": [
      "WARNING:root:Metrics calculated over data points with non-abstain labels only\n"
     ]
    },
    {
     "name": "stdout",
     "output_type": "stream",
     "text": [
      "              precision    recall  f1-score   support\n",
      "\n",
      "           0       0.96      0.89      0.92    257317\n",
      "           1       0.12      0.28      0.17     13674\n",
      "\n",
      "    accuracy                           0.86    270991\n",
      "   macro avg       0.54      0.58      0.54    270991\n",
      "weighted avg       0.92      0.86      0.88    270991\n",
      "\n",
      "{'f1_macro': 0.5428631013350294}\n",
      "Total number of UMLS partitions:  23\n"
     ]
    },
    {
     "name": "stderr",
     "output_type": "stream",
     "text": [
      "WARNING:root:Metrics calculated over data points with non-abstain labels only\n"
     ]
    },
    {
     "name": "stdout",
     "output_type": "stream",
     "text": [
      "              precision    recall  f1-score   support\n",
      "\n",
      "           0       0.96      0.89      0.92    258882\n",
      "           1       0.11      0.30      0.16     12109\n",
      "\n",
      "    accuracy                           0.86    270991\n",
      "   macro avg       0.54      0.59      0.54    270991\n",
      "weighted avg       0.93      0.86      0.89    270991\n",
      "\n",
      "{'f1_macro': 0.5404392579499879}\n",
      "Total number of UMLS partitions:  24\n"
     ]
    },
    {
     "name": "stderr",
     "output_type": "stream",
     "text": [
      "WARNING:root:Metrics calculated over data points with non-abstain labels only\n"
     ]
    },
    {
     "name": "stdout",
     "output_type": "stream",
     "text": [
      "              precision    recall  f1-score   support\n",
      "\n",
      "           0       0.97      0.88      0.92    259641\n",
      "           1       0.10      0.31      0.16     11350\n",
      "\n",
      "    accuracy                           0.86    270991\n",
      "   macro avg       0.54      0.60      0.54    270991\n",
      "weighted avg       0.93      0.86      0.89    270991\n",
      "\n",
      "{'f1_macro': 0.5396998809982368}\n",
      "Total number of UMLS partitions:  25\n"
     ]
    },
    {
     "name": "stderr",
     "output_type": "stream",
     "text": [
      "WARNING:root:Metrics calculated over data points with non-abstain labels only\n"
     ]
    },
    {
     "name": "stdout",
     "output_type": "stream",
     "text": [
      "              precision    recall  f1-score   support\n",
      "\n",
      "           0       0.97      0.88      0.92    260266\n",
      "           1       0.10      0.31      0.15     10725\n",
      "\n",
      "    accuracy                           0.86    270991\n",
      "   macro avg       0.53      0.60      0.54    270991\n",
      "weighted avg       0.93      0.86      0.89    270991\n",
      "\n",
      "{'f1_macro': 0.5373998252237397}\n",
      "Total number of UMLS partitions:  26\n"
     ]
    },
    {
     "name": "stderr",
     "output_type": "stream",
     "text": [
      "WARNING:root:Metrics calculated over data points with non-abstain labels only\n"
     ]
    },
    {
     "name": "stdout",
     "output_type": "stream",
     "text": [
      "              precision    recall  f1-score   support\n",
      "\n",
      "           0       0.97      0.88      0.92    259924\n",
      "           1       0.10      0.30      0.15     11067\n",
      "\n",
      "    accuracy                           0.86    270991\n",
      "   macro avg       0.53      0.59      0.54    270991\n",
      "weighted avg       0.93      0.86      0.89    270991\n",
      "\n",
      "{'f1_macro': 0.5379491711943838}\n",
      "Total number of UMLS partitions:  27\n"
     ]
    },
    {
     "name": "stderr",
     "output_type": "stream",
     "text": [
      "WARNING:root:Metrics calculated over data points with non-abstain labels only\n"
     ]
    },
    {
     "name": "stdout",
     "output_type": "stream",
     "text": [
      "              precision    recall  f1-score   support\n",
      "\n",
      "           0       0.97      0.88      0.92    259890\n",
      "           1       0.10      0.30      0.15     11101\n",
      "\n",
      "    accuracy                           0.86    270991\n",
      "   macro avg       0.53      0.59      0.54    270991\n",
      "weighted avg       0.93      0.86      0.89    270991\n",
      "\n",
      "{'f1_macro': 0.5379034482705422}\n",
      "Total number of UMLS partitions:  28\n"
     ]
    },
    {
     "name": "stderr",
     "output_type": "stream",
     "text": [
      "WARNING:root:Metrics calculated over data points with non-abstain labels only\n"
     ]
    },
    {
     "name": "stdout",
     "output_type": "stream",
     "text": [
      "              precision    recall  f1-score   support\n",
      "\n",
      "           0       0.97      0.88      0.92    259836\n",
      "           1       0.10      0.30      0.15     11155\n",
      "\n",
      "    accuracy                           0.86    270991\n",
      "   macro avg       0.53      0.59      0.54    270991\n",
      "weighted avg       0.93      0.86      0.89    270991\n",
      "\n",
      "{'f1_macro': 0.5381449164442954}\n",
      "Total number of UMLS partitions:  29\n"
     ]
    },
    {
     "name": "stderr",
     "output_type": "stream",
     "text": [
      "WARNING:root:Metrics calculated over data points with non-abstain labels only\n"
     ]
    },
    {
     "name": "stdout",
     "output_type": "stream",
     "text": [
      "              precision    recall  f1-score   support\n",
      "\n",
      "           0       0.97      0.88      0.92    259828\n",
      "           1       0.10      0.30      0.15     11163\n",
      "\n",
      "    accuracy                           0.86    270991\n",
      "   macro avg       0.53      0.59      0.54    270991\n",
      "weighted avg       0.93      0.86      0.89    270991\n",
      "\n",
      "{'f1_macro': 0.5381225915832561}\n",
      "Total number of UMLS partitions:  30\n"
     ]
    },
    {
     "name": "stderr",
     "output_type": "stream",
     "text": [
      "WARNING:root:Metrics calculated over data points with non-abstain labels only\n"
     ]
    },
    {
     "name": "stdout",
     "output_type": "stream",
     "text": [
      "              precision    recall  f1-score   support\n",
      "\n",
      "           0       0.97      0.88      0.92    259790\n",
      "           1       0.10      0.30      0.15     11201\n",
      "\n",
      "    accuracy                           0.86    270991\n",
      "   macro avg       0.53      0.59      0.54    270991\n",
      "weighted avg       0.93      0.86      0.89    270991\n",
      "\n",
      "{'f1_macro': 0.5383591570085335}\n",
      "Total number of UMLS partitions:  31\n"
     ]
    },
    {
     "name": "stderr",
     "output_type": "stream",
     "text": [
      "WARNING:root:Metrics calculated over data points with non-abstain labels only\n"
     ]
    },
    {
     "name": "stdout",
     "output_type": "stream",
     "text": [
      "              precision    recall  f1-score   support\n",
      "\n",
      "           0       0.97      0.88      0.92    259550\n",
      "           1       0.10      0.30      0.15     11441\n",
      "\n",
      "    accuracy                           0.86    270991\n",
      "   macro avg       0.53      0.59      0.54    270991\n",
      "weighted avg       0.93      0.86      0.89    270991\n",
      "\n",
      "{'f1_macro': 0.5387618550687951}\n",
      "Total number of UMLS partitions:  32\n"
     ]
    },
    {
     "name": "stderr",
     "output_type": "stream",
     "text": [
      "WARNING:root:Metrics calculated over data points with non-abstain labels only\n"
     ]
    },
    {
     "name": "stdout",
     "output_type": "stream",
     "text": [
      "              precision    recall  f1-score   support\n",
      "\n",
      "           0       0.97      0.88      0.92    259418\n",
      "           1       0.10      0.30      0.15     11573\n",
      "\n",
      "    accuracy                           0.86    270991\n",
      "   macro avg       0.53      0.59      0.54    270991\n",
      "weighted avg       0.93      0.86      0.89    270991\n",
      "\n",
      "{'f1_macro': 0.5387086844691252}\n",
      "Total number of UMLS partitions:  33\n"
     ]
    },
    {
     "name": "stderr",
     "output_type": "stream",
     "text": [
      "WARNING:root:Metrics calculated over data points with non-abstain labels only\n"
     ]
    },
    {
     "name": "stdout",
     "output_type": "stream",
     "text": [
      "              precision    recall  f1-score   support\n",
      "\n",
      "           0       0.97      0.88      0.92    259416\n",
      "           1       0.10      0.30      0.15     11575\n",
      "\n",
      "    accuracy                           0.86    270991\n",
      "   macro avg       0.53      0.59      0.54    270991\n",
      "weighted avg       0.93      0.86      0.89    270991\n",
      "\n",
      "{'f1_macro': 0.5387030926886975}\n",
      "Total number of UMLS partitions:  34\n"
     ]
    },
    {
     "name": "stderr",
     "output_type": "stream",
     "text": [
      "WARNING:root:Metrics calculated over data points with non-abstain labels only\n"
     ]
    },
    {
     "name": "stdout",
     "output_type": "stream",
     "text": [
      "              precision    recall  f1-score   support\n",
      "\n",
      "           0       0.96      0.89      0.92    258342\n",
      "           1       0.11      0.29      0.16     12649\n",
      "\n",
      "    accuracy                           0.86    270991\n",
      "   macro avg       0.54      0.59      0.54    270991\n",
      "weighted avg       0.92      0.86      0.89    270991\n",
      "\n",
      "{'f1_macro': 0.5408267916406049}\n",
      "Total number of UMLS partitions:  35\n"
     ]
    },
    {
     "name": "stderr",
     "output_type": "stream",
     "text": [
      "WARNING:root:Metrics calculated over data points with non-abstain labels only\n"
     ]
    },
    {
     "name": "stdout",
     "output_type": "stream",
     "text": [
      "              precision    recall  f1-score   support\n",
      "\n",
      "           0       0.96      0.89      0.92    258056\n",
      "           1       0.11      0.28      0.16     12935\n",
      "\n",
      "    accuracy                           0.86    270991\n",
      "   macro avg       0.54      0.58      0.54    270991\n",
      "weighted avg       0.92      0.86      0.89    270991\n",
      "\n",
      "{'f1_macro': 0.5402353464510513}\n",
      "Total number of UMLS partitions:  36\n"
     ]
    },
    {
     "name": "stderr",
     "output_type": "stream",
     "text": [
      "WARNING:root:Metrics calculated over data points with non-abstain labels only\n"
     ]
    },
    {
     "name": "stdout",
     "output_type": "stream",
     "text": [
      "              precision    recall  f1-score   support\n",
      "\n",
      "           0       0.96      0.89      0.92    258058\n",
      "           1       0.11      0.28      0.16     12933\n",
      "\n",
      "    accuracy                           0.86    270991\n",
      "   macro avg       0.54      0.58      0.54    270991\n",
      "weighted avg       0.92      0.86      0.89    270991\n",
      "\n",
      "{'f1_macro': 0.5402409582212769}\n",
      "Total number of UMLS partitions:  37\n"
     ]
    },
    {
     "name": "stderr",
     "output_type": "stream",
     "text": [
      "WARNING:root:Metrics calculated over data points with non-abstain labels only\n"
     ]
    },
    {
     "name": "stdout",
     "output_type": "stream",
     "text": [
      "              precision    recall  f1-score   support\n",
      "\n",
      "           0       0.96      0.89      0.92    258058\n",
      "           1       0.11      0.28      0.16     12933\n",
      "\n",
      "    accuracy                           0.86    270991\n",
      "   macro avg       0.54      0.58      0.54    270991\n",
      "weighted avg       0.92      0.86      0.89    270991\n",
      "\n",
      "{'f1_macro': 0.5402409582212769}\n",
      "Total number of UMLS partitions:  38\n"
     ]
    },
    {
     "name": "stderr",
     "output_type": "stream",
     "text": [
      "WARNING:root:Metrics calculated over data points with non-abstain labels only\n"
     ]
    },
    {
     "name": "stdout",
     "output_type": "stream",
     "text": [
      "              precision    recall  f1-score   support\n",
      "\n",
      "           0       0.96      0.89      0.92    258064\n",
      "           1       0.11      0.28      0.16     12927\n",
      "\n",
      "    accuracy                           0.86    270991\n",
      "   macro avg       0.54      0.58      0.54    270991\n",
      "weighted avg       0.92      0.86      0.89    270991\n",
      "\n",
      "{'f1_macro': 0.5402577952095263}\n",
      "Total number of UMLS partitions:  39\n"
     ]
    },
    {
     "name": "stderr",
     "output_type": "stream",
     "text": [
      "WARNING:root:Metrics calculated over data points with non-abstain labels only\n"
     ]
    },
    {
     "name": "stdout",
     "output_type": "stream",
     "text": [
      "              precision    recall  f1-score   support\n",
      "\n",
      "           0       0.96      0.89      0.92    258077\n",
      "           1       0.11      0.28      0.16     12914\n",
      "\n",
      "    accuracy                           0.86    270991\n",
      "   macro avg       0.54      0.58      0.54    270991\n",
      "weighted avg       0.92      0.86      0.89    270991\n",
      "\n",
      "{'f1_macro': 0.5402942839874324}\n",
      "Total number of UMLS partitions:  40\n"
     ]
    },
    {
     "name": "stderr",
     "output_type": "stream",
     "text": [
      "WARNING:root:Metrics calculated over data points with non-abstain labels only\n"
     ]
    },
    {
     "name": "stdout",
     "output_type": "stream",
     "text": [
      "              precision    recall  f1-score   support\n",
      "\n",
      "           0       0.96      0.89      0.92    257788\n",
      "           1       0.11      0.29      0.16     13203\n",
      "\n",
      "    accuracy                           0.86    270991\n",
      "   macro avg       0.54      0.59      0.54    270991\n",
      "weighted avg       0.92      0.86      0.88    270991\n",
      "\n",
      "{'f1_macro': 0.5416252386470387}\n",
      "Total number of UMLS partitions:  41\n"
     ]
    },
    {
     "name": "stderr",
     "output_type": "stream",
     "text": [
      "WARNING:root:Metrics calculated over data points with non-abstain labels only\n"
     ]
    },
    {
     "name": "stdout",
     "output_type": "stream",
     "text": [
      "              precision    recall  f1-score   support\n",
      "\n",
      "           0       0.96      0.89      0.92    257347\n",
      "           1       0.12      0.28      0.16     13644\n",
      "\n",
      "    accuracy                           0.86    270991\n",
      "   macro avg       0.54      0.58      0.54    270991\n",
      "weighted avg       0.92      0.86      0.88    270991\n",
      "\n",
      "{'f1_macro': 0.542598860290865}\n",
      "Total number of UMLS partitions:  42\n"
     ]
    },
    {
     "name": "stderr",
     "output_type": "stream",
     "text": [
      "WARNING:root:Metrics calculated over data points with non-abstain labels only\n"
     ]
    },
    {
     "name": "stdout",
     "output_type": "stream",
     "text": [
      "              precision    recall  f1-score   support\n",
      "\n",
      "           0       0.96      0.89      0.92    257385\n",
      "           1       0.12      0.28      0.16     13606\n",
      "\n",
      "    accuracy                           0.86    270991\n",
      "   macro avg       0.54      0.58      0.54    270991\n",
      "weighted avg       0.92      0.86      0.88    270991\n",
      "\n",
      "{'f1_macro': 0.5425435834655317}\n",
      "Total number of UMLS partitions:  43\n"
     ]
    },
    {
     "name": "stderr",
     "output_type": "stream",
     "text": [
      "WARNING:root:Metrics calculated over data points with non-abstain labels only\n"
     ]
    },
    {
     "name": "stdout",
     "output_type": "stream",
     "text": [
      "              precision    recall  f1-score   support\n",
      "\n",
      "           0       0.92      0.88      0.90    246885\n",
      "           1       0.14      0.19      0.16     24106\n",
      "\n",
      "    accuracy                           0.82    270991\n",
      "   macro avg       0.53      0.54      0.53    270991\n",
      "weighted avg       0.85      0.82      0.83    270991\n",
      "\n",
      "{'f1_macro': 0.5293070692506696}\n",
      "Total number of UMLS partitions:  44\n"
     ]
    },
    {
     "name": "stderr",
     "output_type": "stream",
     "text": [
      "WARNING:root:Metrics calculated over data points with non-abstain labels only\n"
     ]
    },
    {
     "name": "stdout",
     "output_type": "stream",
     "text": [
      "              precision    recall  f1-score   support\n",
      "\n",
      "           0       0.92      0.88      0.90    246986\n",
      "           1       0.14      0.19      0.16     24005\n",
      "\n",
      "    accuracy                           0.82    270991\n",
      "   macro avg       0.53      0.54      0.53    270991\n",
      "weighted avg       0.85      0.82      0.83    270991\n",
      "\n",
      "{'f1_macro': 0.5290735284346096}\n",
      "Total number of UMLS partitions:  45\n"
     ]
    },
    {
     "name": "stderr",
     "output_type": "stream",
     "text": [
      "WARNING:root:Metrics calculated over data points with non-abstain labels only\n"
     ]
    },
    {
     "name": "stdout",
     "output_type": "stream",
     "text": [
      "              precision    recall  f1-score   support\n",
      "\n",
      "           0       0.95      0.89      0.92    255369\n",
      "           1       0.12      0.26      0.17     15622\n",
      "\n",
      "    accuracy                           0.85    270991\n",
      "   macro avg       0.54      0.57      0.54    270991\n",
      "weighted avg       0.90      0.85      0.87    270991\n",
      "\n",
      "{'f1_macro': 0.5414448995936689}\n",
      "Total number of UMLS partitions:  46\n"
     ]
    },
    {
     "name": "stderr",
     "output_type": "stream",
     "text": [
      "WARNING:root:Metrics calculated over data points with non-abstain labels only\n"
     ]
    },
    {
     "name": "stdout",
     "output_type": "stream",
     "text": [
      "              precision    recall  f1-score   support\n",
      "\n",
      "           0       0.95      0.89      0.92    255241\n",
      "           1       0.13      0.26      0.17     15750\n",
      "\n",
      "    accuracy                           0.85    270991\n",
      "   macro avg       0.54      0.58      0.54    270991\n",
      "weighted avg       0.90      0.85      0.87    270991\n",
      "\n",
      "{'f1_macro': 0.5435975015432797}\n",
      "Total number of UMLS partitions:  47\n"
     ]
    },
    {
     "name": "stderr",
     "output_type": "stream",
     "text": [
      "WARNING:root:Metrics calculated over data points with non-abstain labels only\n"
     ]
    },
    {
     "name": "stdout",
     "output_type": "stream",
     "text": [
      "              precision    recall  f1-score   support\n",
      "\n",
      "           0       0.95      0.89      0.92    255768\n",
      "           1       0.12      0.27      0.17     15223\n",
      "\n",
      "    accuracy                           0.85    270991\n",
      "   macro avg       0.54      0.58      0.54    270991\n",
      "weighted avg       0.91      0.85      0.88    270991\n",
      "\n",
      "{'f1_macro': 0.5428351404465072}\n",
      "Total number of UMLS partitions:  48\n"
     ]
    },
    {
     "name": "stderr",
     "output_type": "stream",
     "text": [
      "WARNING:root:Metrics calculated over data points with non-abstain labels only\n"
     ]
    },
    {
     "name": "stdout",
     "output_type": "stream",
     "text": [
      "              precision    recall  f1-score   support\n",
      "\n",
      "           0       0.95      0.89      0.92    255952\n",
      "           1       0.12      0.27      0.17     15039\n",
      "\n",
      "    accuracy                           0.85    270991\n",
      "   macro avg       0.54      0.58      0.54    270991\n",
      "weighted avg       0.91      0.85      0.88    270991\n",
      "\n",
      "{'f1_macro': 0.5428107101147026}\n",
      "Total number of UMLS partitions:  49\n"
     ]
    },
    {
     "name": "stderr",
     "output_type": "stream",
     "text": [
      "WARNING:root:Metrics calculated over data points with non-abstain labels only\n"
     ]
    },
    {
     "name": "stdout",
     "output_type": "stream",
     "text": [
      "              precision    recall  f1-score   support\n",
      "\n",
      "           0       0.95      0.89      0.92    256023\n",
      "           1       0.12      0.27      0.17     14968\n",
      "\n",
      "    accuracy                           0.85    270991\n",
      "   macro avg       0.54      0.58      0.54    270991\n",
      "weighted avg       0.91      0.85      0.88    270991\n",
      "\n",
      "{'f1_macro': 0.5425567775349975}\n",
      "Total number of UMLS partitions:  50\n"
     ]
    },
    {
     "name": "stderr",
     "output_type": "stream",
     "text": [
      "WARNING:root:Metrics calculated over data points with non-abstain labels only\n"
     ]
    },
    {
     "name": "stdout",
     "output_type": "stream",
     "text": [
      "              precision    recall  f1-score   support\n",
      "\n",
      "           0       0.95      0.89      0.92    255958\n",
      "           1       0.12      0.27      0.17     15033\n",
      "\n",
      "    accuracy                           0.85    270991\n",
      "   macro avg       0.54      0.58      0.54    270991\n",
      "weighted avg       0.91      0.85      0.88    270991\n",
      "\n",
      "{'f1_macro': 0.5445758390814586}\n",
      "Total number of UMLS partitions:  51\n"
     ]
    },
    {
     "name": "stderr",
     "output_type": "stream",
     "text": [
      "WARNING:root:Metrics calculated over data points with non-abstain labels only\n"
     ]
    },
    {
     "name": "stdout",
     "output_type": "stream",
     "text": [
      "              precision    recall  f1-score   support\n",
      "\n",
      "           0       0.96      0.89      0.92    255515\n",
      "           1       0.16      0.34      0.21     15476\n",
      "\n",
      "    accuracy                           0.86    270991\n",
      "   macro avg       0.56      0.61      0.57    270991\n",
      "weighted avg       0.91      0.86      0.88    270991\n",
      "\n",
      "{'f1_macro': 0.5675458578764905}\n",
      "Total number of UMLS partitions:  52\n"
     ]
    },
    {
     "name": "stderr",
     "output_type": "stream",
     "text": [
      "WARNING:root:Metrics calculated over data points with non-abstain labels only\n"
     ]
    },
    {
     "name": "stdout",
     "output_type": "stream",
     "text": [
      "              precision    recall  f1-score   support\n",
      "\n",
      "           0       0.96      0.89      0.92    255464\n",
      "           1       0.16      0.33      0.21     15527\n",
      "\n",
      "    accuracy                           0.86    270991\n",
      "   macro avg       0.56      0.61      0.57    270991\n",
      "weighted avg       0.91      0.86      0.88    270991\n",
      "\n",
      "{'f1_macro': 0.5674464469739096}\n",
      "Total number of UMLS partitions:  53\n"
     ]
    },
    {
     "name": "stderr",
     "output_type": "stream",
     "text": [
      "WARNING:root:Metrics calculated over data points with non-abstain labels only\n"
     ]
    },
    {
     "name": "stdout",
     "output_type": "stream",
     "text": [
      "              precision    recall  f1-score   support\n",
      "\n",
      "           0       0.96      0.89      0.92    255547\n",
      "           1       0.16      0.34      0.21     15444\n",
      "\n",
      "    accuracy                           0.86    270991\n",
      "   macro avg       0.56      0.61      0.57    270991\n",
      "weighted avg       0.91      0.86      0.88    270991\n",
      "\n",
      "{'f1_macro': 0.5675155061072596}\n",
      "Total number of UMLS partitions:  54\n"
     ]
    },
    {
     "name": "stderr",
     "output_type": "stream",
     "text": [
      "WARNING:root:Metrics calculated over data points with non-abstain labels only\n"
     ]
    },
    {
     "name": "stdout",
     "output_type": "stream",
     "text": [
      "              precision    recall  f1-score   support\n",
      "\n",
      "           0       0.96      0.89      0.92    254800\n",
      "           1       0.17      0.35      0.23     16191\n",
      "\n",
      "    accuracy                           0.86    270991\n",
      "   macro avg       0.56      0.62      0.58    270991\n",
      "weighted avg       0.91      0.86      0.88    270991\n",
      "\n",
      "{'f1_macro': 0.5758493106049511}\n",
      "Total number of UMLS partitions:  55\n"
     ]
    },
    {
     "name": "stderr",
     "output_type": "stream",
     "text": [
      "WARNING:root:Metrics calculated over data points with non-abstain labels only\n"
     ]
    },
    {
     "name": "stdout",
     "output_type": "stream",
     "text": [
      "              precision    recall  f1-score   support\n",
      "\n",
      "           0       0.96      0.89      0.92    254984\n",
      "           1       0.17      0.35      0.23     16007\n",
      "\n",
      "    accuracy                           0.86    270991\n",
      "   macro avg       0.56      0.62      0.57    270991\n",
      "weighted avg       0.91      0.86      0.88    270991\n",
      "\n",
      "{'f1_macro': 0.5741588113434045}\n",
      "Total number of UMLS partitions:  56\n"
     ]
    },
    {
     "name": "stderr",
     "output_type": "stream",
     "text": [
      "WARNING:root:Metrics calculated over data points with non-abstain labels only\n"
     ]
    },
    {
     "name": "stdout",
     "output_type": "stream",
     "text": [
      "              precision    recall  f1-score   support\n",
      "\n",
      "           0       0.96      0.89      0.92    254725\n",
      "           1       0.17      0.35      0.23     16266\n",
      "\n",
      "    accuracy                           0.86    270991\n",
      "   macro avg       0.56      0.62      0.58    270991\n",
      "weighted avg       0.91      0.86      0.88    270991\n",
      "\n",
      "{'f1_macro': 0.5756605212593807}\n",
      "Total number of UMLS partitions:  57\n"
     ]
    },
    {
     "name": "stderr",
     "output_type": "stream",
     "text": [
      "WARNING:root:Metrics calculated over data points with non-abstain labels only\n"
     ]
    },
    {
     "name": "stdout",
     "output_type": "stream",
     "text": [
      "              precision    recall  f1-score   support\n",
      "\n",
      "           0       0.95      0.89      0.92    253990\n",
      "           1       0.17      0.34      0.23     17001\n",
      "\n",
      "    accuracy                           0.86    270991\n",
      "   macro avg       0.56      0.61      0.57    270991\n",
      "weighted avg       0.90      0.86      0.88    270991\n",
      "\n",
      "{'f1_macro': 0.5744533852436252}\n",
      "Total number of UMLS partitions:  58\n"
     ]
    },
    {
     "name": "stderr",
     "output_type": "stream",
     "text": [
      "WARNING:root:Metrics calculated over data points with non-abstain labels only\n"
     ]
    },
    {
     "name": "stdout",
     "output_type": "stream",
     "text": [
      "              precision    recall  f1-score   support\n",
      "\n",
      "           0       0.95      0.89      0.92    253876\n",
      "           1       0.17      0.34      0.23     17115\n",
      "\n",
      "    accuracy                           0.86    270991\n",
      "   macro avg       0.56      0.62      0.58    270991\n",
      "weighted avg       0.90      0.86      0.88    270991\n",
      "\n",
      "{'f1_macro': 0.5757319558181513}\n",
      "Total number of UMLS partitions:  59\n"
     ]
    },
    {
     "name": "stderr",
     "output_type": "stream",
     "text": [
      "WARNING:root:Metrics calculated over data points with non-abstain labels only\n"
     ]
    },
    {
     "name": "stdout",
     "output_type": "stream",
     "text": [
      "              precision    recall  f1-score   support\n",
      "\n",
      "           0       0.95      0.89      0.92    252926\n",
      "           1       0.18      0.33      0.23     18065\n",
      "\n",
      "    accuracy                           0.85    270991\n",
      "   macro avg       0.56      0.61      0.58    270991\n",
      "weighted avg       0.90      0.85      0.87    270991\n",
      "\n",
      "{'f1_macro': 0.5758463691246715}\n",
      "Total number of UMLS partitions:  60\n"
     ]
    },
    {
     "name": "stderr",
     "output_type": "stream",
     "text": [
      "WARNING:root:Metrics calculated over data points with non-abstain labels only\n"
     ]
    },
    {
     "name": "stdout",
     "output_type": "stream",
     "text": [
      "              precision    recall  f1-score   support\n",
      "\n",
      "           0       0.95      0.89      0.92    252898\n",
      "           1       0.18      0.33      0.23     18093\n",
      "\n",
      "    accuracy                           0.85    270991\n",
      "   macro avg       0.56      0.61      0.58    270991\n",
      "weighted avg       0.90      0.85      0.87    270991\n",
      "\n",
      "{'f1_macro': 0.5762679926652328}\n",
      "Total number of UMLS partitions:  61\n"
     ]
    },
    {
     "name": "stderr",
     "output_type": "stream",
     "text": [
      "WARNING:root:Metrics calculated over data points with non-abstain labels only\n"
     ]
    },
    {
     "name": "stdout",
     "output_type": "stream",
     "text": [
      "              precision    recall  f1-score   support\n",
      "\n",
      "           0       0.95      0.89      0.92    253111\n",
      "           1       0.18      0.33      0.23     17880\n",
      "\n",
      "    accuracy                           0.86    270991\n",
      "   macro avg       0.56      0.61      0.58    270991\n",
      "weighted avg       0.90      0.86      0.87    270991\n",
      "\n",
      "{'f1_macro': 0.5764908888690703}\n",
      "Total number of UMLS partitions:  62\n"
     ]
    },
    {
     "name": "stderr",
     "output_type": "stream",
     "text": [
      "WARNING:root:Metrics calculated over data points with non-abstain labels only\n"
     ]
    },
    {
     "name": "stdout",
     "output_type": "stream",
     "text": [
      "              precision    recall  f1-score   support\n",
      "\n",
      "           0       0.95      0.89      0.92    252866\n",
      "           1       0.18      0.33      0.24     18125\n",
      "\n",
      "    accuracy                           0.85    270991\n",
      "   macro avg       0.57      0.61      0.58    270991\n",
      "weighted avg       0.90      0.85      0.87    270991\n",
      "\n",
      "{'f1_macro': 0.577534641451636}\n",
      "Total number of UMLS partitions:  63\n"
     ]
    },
    {
     "name": "stderr",
     "output_type": "stream",
     "text": [
      "WARNING:root:Metrics calculated over data points with non-abstain labels only\n"
     ]
    },
    {
     "name": "stdout",
     "output_type": "stream",
     "text": [
      "              precision    recall  f1-score   support\n",
      "\n",
      "           0       0.95      0.89      0.92    252761\n",
      "           1       0.18      0.33      0.24     18230\n",
      "\n",
      "    accuracy                           0.85    270991\n",
      "   macro avg       0.57      0.61      0.58    270991\n",
      "weighted avg       0.90      0.85      0.87    270991\n",
      "\n",
      "{'f1_macro': 0.5777795940545045}\n",
      "Total number of UMLS partitions:  64\n"
     ]
    },
    {
     "name": "stderr",
     "output_type": "stream",
     "text": [
      "WARNING:root:Metrics calculated over data points with non-abstain labels only\n"
     ]
    },
    {
     "name": "stdout",
     "output_type": "stream",
     "text": [
      "              precision    recall  f1-score   support\n",
      "\n",
      "           0       0.95      0.89      0.92    252480\n",
      "           1       0.18      0.33      0.24     18511\n",
      "\n",
      "    accuracy                           0.85    270991\n",
      "   macro avg       0.57      0.61      0.58    270991\n",
      "weighted avg       0.90      0.85      0.87    270991\n",
      "\n",
      "{'f1_macro': 0.5775771560308435}\n",
      "Total number of UMLS partitions:  65\n"
     ]
    },
    {
     "name": "stderr",
     "output_type": "stream",
     "text": [
      "WARNING:root:Metrics calculated over data points with non-abstain labels only\n"
     ]
    },
    {
     "name": "stdout",
     "output_type": "stream",
     "text": [
      "              precision    recall  f1-score   support\n",
      "\n",
      "           0       0.95      0.89      0.92    252311\n",
      "           1       0.18      0.33      0.24     18680\n",
      "\n",
      "    accuracy                           0.85    270991\n",
      "   macro avg       0.57      0.61      0.58    270991\n",
      "weighted avg       0.89      0.85      0.87    270991\n",
      "\n",
      "{'f1_macro': 0.5776029084722311}\n",
      "Total number of UMLS partitions:  66\n"
     ]
    },
    {
     "name": "stderr",
     "output_type": "stream",
     "text": [
      "WARNING:root:Metrics calculated over data points with non-abstain labels only\n"
     ]
    },
    {
     "name": "stdout",
     "output_type": "stream",
     "text": [
      "              precision    recall  f1-score   support\n",
      "\n",
      "           0       0.95      0.89      0.92    252034\n",
      "           1       0.19      0.33      0.24     18957\n",
      "\n",
      "    accuracy                           0.85    270991\n",
      "   macro avg       0.57      0.61      0.58    270991\n",
      "weighted avg       0.89      0.85      0.87    270991\n",
      "\n",
      "{'f1_macro': 0.5780472050566368}\n",
      "Total number of UMLS partitions:  67\n"
     ]
    },
    {
     "name": "stderr",
     "output_type": "stream",
     "text": [
      "WARNING:root:Metrics calculated over data points with non-abstain labels only\n"
     ]
    },
    {
     "name": "stdout",
     "output_type": "stream",
     "text": [
      "              precision    recall  f1-score   support\n",
      "\n",
      "           0       0.94      0.89      0.92    250467\n",
      "           1       0.19      0.31      0.24     20524\n",
      "\n",
      "    accuracy                           0.85    270991\n",
      "   macro avg       0.57      0.60      0.58    270991\n",
      "weighted avg       0.88      0.85      0.86    270991\n",
      "\n",
      "{'f1_macro': 0.577144473075367}\n",
      "Total number of UMLS partitions:  68\n"
     ]
    },
    {
     "name": "stderr",
     "output_type": "stream",
     "text": [
      "WARNING:root:Metrics calculated over data points with non-abstain labels only\n"
     ]
    },
    {
     "name": "stdout",
     "output_type": "stream",
     "text": [
      "              precision    recall  f1-score   support\n",
      "\n",
      "           0       0.94      0.89      0.92    250499\n",
      "           1       0.19      0.31      0.24     20492\n",
      "\n",
      "    accuracy                           0.85    270991\n",
      "   macro avg       0.57      0.60      0.58    270991\n",
      "weighted avg       0.88      0.85      0.86    270991\n",
      "\n",
      "{'f1_macro': 0.5772095948203292}\n",
      "Total number of UMLS partitions:  69\n"
     ]
    },
    {
     "name": "stderr",
     "output_type": "stream",
     "text": [
      "WARNING:root:Metrics calculated over data points with non-abstain labels only\n"
     ]
    },
    {
     "name": "stdout",
     "output_type": "stream",
     "text": [
      "              precision    recall  f1-score   support\n",
      "\n",
      "           0       0.94      0.89      0.91    249500\n",
      "           1       0.20      0.31      0.24     21491\n",
      "\n",
      "    accuracy                           0.85    270991\n",
      "   macro avg       0.57      0.60      0.58    270991\n",
      "weighted avg       0.88      0.85      0.86    270991\n",
      "\n",
      "{'f1_macro': 0.5772949340826197}\n",
      "Total number of UMLS partitions:  70\n"
     ]
    },
    {
     "name": "stderr",
     "output_type": "stream",
     "text": [
      "WARNING:root:Metrics calculated over data points with non-abstain labels only\n"
     ]
    },
    {
     "name": "stdout",
     "output_type": "stream",
     "text": [
      "              precision    recall  f1-score   support\n",
      "\n",
      "           0       0.94      0.89      0.91    249711\n",
      "           1       0.20      0.31      0.24     21280\n",
      "\n",
      "    accuracy                           0.85    270991\n",
      "   macro avg       0.57      0.60      0.58    270991\n",
      "weighted avg       0.88      0.85      0.86    270991\n",
      "\n",
      "{'f1_macro': 0.5777494004502668}\n",
      "Total number of UMLS partitions:  71\n"
     ]
    },
    {
     "name": "stderr",
     "output_type": "stream",
     "text": [
      "WARNING:root:Metrics calculated over data points with non-abstain labels only\n"
     ]
    },
    {
     "name": "stdout",
     "output_type": "stream",
     "text": [
      "              precision    recall  f1-score   support\n",
      "\n",
      "           0       0.94      0.89      0.92    249793\n",
      "           1       0.20      0.31      0.24     21198\n",
      "\n",
      "    accuracy                           0.85    270991\n",
      "   macro avg       0.57      0.60      0.58    270991\n",
      "weighted avg       0.88      0.85      0.86    270991\n",
      "\n",
      "{'f1_macro': 0.5778992254726523}\n",
      "Total number of UMLS partitions:  72\n"
     ]
    },
    {
     "name": "stderr",
     "output_type": "stream",
     "text": [
      "WARNING:root:Metrics calculated over data points with non-abstain labels only\n"
     ]
    },
    {
     "name": "stdout",
     "output_type": "stream",
     "text": [
      "              precision    recall  f1-score   support\n",
      "\n",
      "           0       0.94      0.89      0.92    249807\n",
      "           1       0.20      0.31      0.24     21184\n",
      "\n",
      "    accuracy                           0.85    270991\n",
      "   macro avg       0.57      0.60      0.58    270991\n",
      "weighted avg       0.88      0.85      0.86    270991\n",
      "\n",
      "{'f1_macro': 0.578190469379257}\n"
     ]
    }
   ],
   "source": [
    "train(partitioned_p_umls, umls_p, nonumls_p, ds_p, heur_p, dict_p, df_data_train, df_data_val, 'p')"
   ]
  },
  {
   "cell_type": "code",
   "execution_count": 22,
   "id": "c7c1bd50",
   "metadata": {},
   "outputs": [
    {
     "name": "stdout",
     "output_type": "stream",
     "text": [
      "Total number of UMLS partitions:  1\n"
     ]
    },
    {
     "name": "stderr",
     "output_type": "stream",
     "text": [
      "WARNING:root:Metrics calculated over data points with non-abstain labels only\n"
     ]
    },
    {
     "name": "stdout",
     "output_type": "stream",
     "text": [
      "              precision    recall  f1-score   support\n",
      "\n",
      "           0       0.78      0.93      0.85    206888\n",
      "           1       0.41      0.16      0.23     64103\n",
      "\n",
      "    accuracy                           0.75    270991\n",
      "   macro avg       0.59      0.54      0.54    270991\n",
      "weighted avg       0.69      0.75      0.70    270991\n",
      "\n",
      "{'f1_macro': 0.539295174591835}\n",
      "Total number of UMLS partitions:  2\n"
     ]
    },
    {
     "name": "stderr",
     "output_type": "stream",
     "text": [
      "WARNING:root:Metrics calculated over data points with non-abstain labels only\n"
     ]
    },
    {
     "name": "stdout",
     "output_type": "stream",
     "text": [
      "              precision    recall  f1-score   support\n",
      "\n",
      "           0       0.80      0.93      0.86    211470\n",
      "           1       0.40      0.17      0.24     59521\n",
      "\n",
      "    accuracy                           0.76    270991\n",
      "   macro avg       0.60      0.55      0.55    270991\n",
      "weighted avg       0.71      0.76      0.72    270991\n",
      "\n",
      "{'f1_macro': 0.5486688976176318}\n",
      "Total number of UMLS partitions:  3\n"
     ]
    },
    {
     "name": "stderr",
     "output_type": "stream",
     "text": [
      "WARNING:root:Metrics calculated over data points with non-abstain labels only\n"
     ]
    },
    {
     "name": "stdout",
     "output_type": "stream",
     "text": [
      "              precision    recall  f1-score   support\n",
      "\n",
      "           0       0.80      0.93      0.86    212623\n",
      "           1       0.39      0.17      0.24     58368\n",
      "\n",
      "    accuracy                           0.76    270991\n",
      "   macro avg       0.60      0.55      0.55    270991\n",
      "weighted avg       0.72      0.76      0.73    270991\n",
      "\n",
      "{'f1_macro': 0.5499396772710761}\n",
      "Total number of UMLS partitions:  4\n"
     ]
    },
    {
     "name": "stderr",
     "output_type": "stream",
     "text": [
      "WARNING:root:Metrics calculated over data points with non-abstain labels only\n"
     ]
    },
    {
     "name": "stdout",
     "output_type": "stream",
     "text": [
      "              precision    recall  f1-score   support\n",
      "\n",
      "           0       0.81      0.93      0.87    215246\n",
      "           1       0.38      0.17      0.24     55745\n",
      "\n",
      "    accuracy                           0.77    270991\n",
      "   macro avg       0.60      0.55      0.55    270991\n",
      "weighted avg       0.72      0.77      0.74    270991\n",
      "\n",
      "{'f1_macro': 0.5512573751877873}\n",
      "Total number of UMLS partitions:  5\n"
     ]
    },
    {
     "name": "stderr",
     "output_type": "stream",
     "text": [
      "WARNING:root:Metrics calculated over data points with non-abstain labels only\n"
     ]
    },
    {
     "name": "stdout",
     "output_type": "stream",
     "text": [
      "              precision    recall  f1-score   support\n",
      "\n",
      "           0       0.89      0.93      0.91    234549\n",
      "           1       0.33      0.23      0.27     36442\n",
      "\n",
      "    accuracy                           0.83    270991\n",
      "   macro avg       0.61      0.58      0.59    270991\n",
      "weighted avg       0.81      0.83      0.82    270991\n",
      "\n",
      "{'f1_macro': 0.5861801582215389}\n",
      "Total number of UMLS partitions:  6\n"
     ]
    },
    {
     "name": "stderr",
     "output_type": "stream",
     "text": [
      "WARNING:root:Metrics calculated over data points with non-abstain labels only\n"
     ]
    },
    {
     "name": "stdout",
     "output_type": "stream",
     "text": [
      "              precision    recall  f1-score   support\n",
      "\n",
      "           0       0.90      0.93      0.91    238308\n",
      "           1       0.31      0.24      0.27     32683\n",
      "\n",
      "    accuracy                           0.84    270991\n",
      "   macro avg       0.60      0.58      0.59    270991\n",
      "weighted avg       0.83      0.84      0.83    270991\n",
      "\n",
      "{'f1_macro': 0.5911166529653048}\n",
      "Total number of UMLS partitions:  7\n"
     ]
    },
    {
     "name": "stderr",
     "output_type": "stream",
     "text": [
      "WARNING:root:Metrics calculated over data points with non-abstain labels only\n"
     ]
    },
    {
     "name": "stdout",
     "output_type": "stream",
     "text": [
      "              precision    recall  f1-score   support\n",
      "\n",
      "           0       0.92      0.92      0.92    245578\n",
      "           1       0.27      0.27      0.27     25413\n",
      "\n",
      "    accuracy                           0.86    270991\n",
      "   macro avg       0.60      0.60      0.60    270991\n",
      "weighted avg       0.86      0.86      0.86    270991\n",
      "\n",
      "{'f1_macro': 0.5977665973907892}\n",
      "Total number of UMLS partitions:  8\n"
     ]
    },
    {
     "name": "stderr",
     "output_type": "stream",
     "text": [
      "WARNING:root:Metrics calculated over data points with non-abstain labels only\n"
     ]
    },
    {
     "name": "stdout",
     "output_type": "stream",
     "text": [
      "              precision    recall  f1-score   support\n",
      "\n",
      "           0       0.93      0.93      0.93    246091\n",
      "           1       0.27      0.28      0.27     24900\n",
      "\n",
      "    accuracy                           0.87    270991\n",
      "   macro avg       0.60      0.60      0.60    270991\n",
      "weighted avg       0.87      0.87      0.87    270991\n",
      "\n",
      "{'f1_macro': 0.599666898871669}\n",
      "Total number of UMLS partitions:  9\n"
     ]
    },
    {
     "name": "stderr",
     "output_type": "stream",
     "text": [
      "WARNING:root:Metrics calculated over data points with non-abstain labels only\n"
     ]
    },
    {
     "name": "stdout",
     "output_type": "stream",
     "text": [
      "              precision    recall  f1-score   support\n",
      "\n",
      "           0       0.93      0.92      0.93    246275\n",
      "           1       0.27      0.27      0.27     24716\n",
      "\n",
      "    accuracy                           0.87    270991\n",
      "   macro avg       0.60      0.60      0.60    270991\n",
      "weighted avg       0.87      0.87      0.87    270991\n",
      "\n",
      "{'f1_macro': 0.5987193071674344}\n",
      "Total number of UMLS partitions:  10\n"
     ]
    },
    {
     "name": "stderr",
     "output_type": "stream",
     "text": [
      "WARNING:root:Metrics calculated over data points with non-abstain labels only\n"
     ]
    },
    {
     "name": "stdout",
     "output_type": "stream",
     "text": [
      "              precision    recall  f1-score   support\n",
      "\n",
      "           0       0.93      0.92      0.93    246293\n",
      "           1       0.27      0.27      0.27     24698\n",
      "\n",
      "    accuracy                           0.87    270991\n",
      "   macro avg       0.60      0.60      0.60    270991\n",
      "weighted avg       0.87      0.87      0.87    270991\n",
      "\n",
      "{'f1_macro': 0.5986336342817021}\n",
      "Total number of UMLS partitions:  11\n"
     ]
    },
    {
     "name": "stderr",
     "output_type": "stream",
     "text": [
      "WARNING:root:Metrics calculated over data points with non-abstain labels only\n"
     ]
    },
    {
     "name": "stdout",
     "output_type": "stream",
     "text": [
      "              precision    recall  f1-score   support\n",
      "\n",
      "           0       0.93      0.92      0.93    249200\n",
      "           1       0.20      0.24      0.22     21791\n",
      "\n",
      "    accuracy                           0.86    270991\n",
      "   macro avg       0.57      0.58      0.57    270991\n",
      "weighted avg       0.87      0.86      0.87    270991\n",
      "\n",
      "{'f1_macro': 0.5721504282843115}\n",
      "Total number of UMLS partitions:  12\n"
     ]
    },
    {
     "name": "stderr",
     "output_type": "stream",
     "text": [
      "WARNING:root:Metrics calculated over data points with non-abstain labels only\n"
     ]
    },
    {
     "name": "stdout",
     "output_type": "stream",
     "text": [
      "              precision    recall  f1-score   support\n",
      "\n",
      "           0       0.93      0.92      0.93    249041\n",
      "           1       0.20      0.23      0.22     21950\n",
      "\n",
      "    accuracy                           0.86    270991\n",
      "   macro avg       0.57      0.58      0.57    270991\n",
      "weighted avg       0.87      0.86      0.87    270991\n",
      "\n",
      "{'f1_macro': 0.5709378573170726}\n",
      "Total number of UMLS partitions:  13\n"
     ]
    },
    {
     "name": "stderr",
     "output_type": "stream",
     "text": [
      "WARNING:root:Metrics calculated over data points with non-abstain labels only\n"
     ]
    },
    {
     "name": "stdout",
     "output_type": "stream",
     "text": [
      "              precision    recall  f1-score   support\n",
      "\n",
      "           0       0.97      0.92      0.94    260073\n",
      "           1       0.13      0.30      0.18     10918\n",
      "\n",
      "    accuracy                           0.89    270991\n",
      "   macro avg       0.55      0.61      0.56    270991\n",
      "weighted avg       0.93      0.89      0.91    270991\n",
      "\n",
      "{'f1_macro': 0.5601698394545112}\n",
      "Total number of UMLS partitions:  14\n"
     ]
    },
    {
     "name": "stderr",
     "output_type": "stream",
     "text": [
      "WARNING:root:Metrics calculated over data points with non-abstain labels only\n"
     ]
    },
    {
     "name": "stdout",
     "output_type": "stream",
     "text": [
      "              precision    recall  f1-score   support\n",
      "\n",
      "           0       0.97      0.92      0.94    260061\n",
      "           1       0.13      0.30      0.18     10930\n",
      "\n",
      "    accuracy                           0.89    270991\n",
      "   macro avg       0.55      0.61      0.56    270991\n",
      "weighted avg       0.93      0.89      0.91    270991\n",
      "\n",
      "{'f1_macro': 0.5607484740521336}\n",
      "Total number of UMLS partitions:  15\n"
     ]
    },
    {
     "name": "stderr",
     "output_type": "stream",
     "text": [
      "WARNING:root:Metrics calculated over data points with non-abstain labels only\n"
     ]
    },
    {
     "name": "stdout",
     "output_type": "stream",
     "text": [
      "              precision    recall  f1-score   support\n",
      "\n",
      "           0       0.96      0.92      0.94    258423\n",
      "           1       0.14      0.29      0.19     12568\n",
      "\n",
      "    accuracy                           0.89    270991\n",
      "   macro avg       0.55      0.60      0.57    270991\n",
      "weighted avg       0.93      0.89      0.90    270991\n",
      "\n",
      "{'f1_macro': 0.5652911354504772}\n",
      "Total number of UMLS partitions:  16\n"
     ]
    },
    {
     "name": "stderr",
     "output_type": "stream",
     "text": [
      "WARNING:root:Metrics calculated over data points with non-abstain labels only\n"
     ]
    },
    {
     "name": "stdout",
     "output_type": "stream",
     "text": [
      "              precision    recall  f1-score   support\n",
      "\n",
      "           0       0.96      0.92      0.94    258294\n",
      "           1       0.14      0.29      0.19     12697\n",
      "\n",
      "    accuracy                           0.89    270991\n",
      "   macro avg       0.55      0.60      0.57    270991\n",
      "weighted avg       0.92      0.89      0.90    270991\n",
      "\n",
      "{'f1_macro': 0.5656793722337516}\n",
      "Total number of UMLS partitions:  17\n"
     ]
    },
    {
     "name": "stderr",
     "output_type": "stream",
     "text": [
      "WARNING:root:Metrics calculated over data points with non-abstain labels only\n"
     ]
    },
    {
     "name": "stdout",
     "output_type": "stream",
     "text": [
      "              precision    recall  f1-score   support\n",
      "\n",
      "           0       0.97      0.92      0.94    259334\n",
      "           1       0.13      0.29      0.18     11657\n",
      "\n",
      "    accuracy                           0.89    270991\n",
      "   macro avg       0.55      0.60      0.56    270991\n",
      "weighted avg       0.93      0.89      0.91    270991\n",
      "\n",
      "{'f1_macro': 0.5599558570736477}\n",
      "Total number of UMLS partitions:  18\n"
     ]
    },
    {
     "name": "stderr",
     "output_type": "stream",
     "text": [
      "WARNING:root:Metrics calculated over data points with non-abstain labels only\n"
     ]
    },
    {
     "name": "stdout",
     "output_type": "stream",
     "text": [
      "              precision    recall  f1-score   support\n",
      "\n",
      "           0       0.97      0.92      0.94    259025\n",
      "           1       0.13      0.28      0.18     11966\n",
      "\n",
      "    accuracy                           0.89    270991\n",
      "   macro avg       0.55      0.60      0.56    270991\n",
      "weighted avg       0.93      0.89      0.91    270991\n",
      "\n",
      "{'f1_macro': 0.5611322064184675}\n",
      "Total number of UMLS partitions:  19\n"
     ]
    },
    {
     "name": "stderr",
     "output_type": "stream",
     "text": [
      "WARNING:root:Metrics calculated over data points with non-abstain labels only\n"
     ]
    },
    {
     "name": "stdout",
     "output_type": "stream",
     "text": [
      "              precision    recall  f1-score   support\n",
      "\n",
      "           0       0.97      0.92      0.94    259040\n",
      "           1       0.13      0.28      0.18     11951\n",
      "\n",
      "    accuracy                           0.89    270991\n",
      "   macro avg       0.55      0.60      0.56    270991\n",
      "weighted avg       0.93      0.89      0.91    270991\n",
      "\n",
      "{'f1_macro': 0.5612135310884424}\n",
      "Total number of UMLS partitions:  20\n"
     ]
    },
    {
     "name": "stderr",
     "output_type": "stream",
     "text": [
      "WARNING:root:Metrics calculated over data points with non-abstain labels only\n"
     ]
    },
    {
     "name": "stdout",
     "output_type": "stream",
     "text": [
      "              precision    recall  f1-score   support\n",
      "\n",
      "           0       0.96      0.92      0.94    257532\n",
      "           1       0.14      0.26      0.18     13459\n",
      "\n",
      "    accuracy                           0.88    270991\n",
      "   macro avg       0.55      0.59      0.56    270991\n",
      "weighted avg       0.92      0.88      0.90    270991\n",
      "\n",
      "{'f1_macro': 0.5595149517745668}\n",
      "Total number of UMLS partitions:  21\n"
     ]
    },
    {
     "name": "stderr",
     "output_type": "stream",
     "text": [
      "WARNING:root:Metrics calculated over data points with non-abstain labels only\n"
     ]
    },
    {
     "name": "stdout",
     "output_type": "stream",
     "text": [
      "              precision    recall  f1-score   support\n",
      "\n",
      "           0       0.96      0.92      0.94    257202\n",
      "           1       0.14      0.26      0.18     13789\n",
      "\n",
      "    accuracy                           0.88    270991\n",
      "   macro avg       0.55      0.59      0.56    270991\n",
      "weighted avg       0.92      0.88      0.90    270991\n",
      "\n",
      "{'f1_macro': 0.5596106074866305}\n",
      "Total number of UMLS partitions:  22\n"
     ]
    },
    {
     "name": "stderr",
     "output_type": "stream",
     "text": [
      "WARNING:root:Metrics calculated over data points with non-abstain labels only\n"
     ]
    },
    {
     "name": "stdout",
     "output_type": "stream",
     "text": [
      "              precision    recall  f1-score   support\n",
      "\n",
      "           0       0.96      0.92      0.94    256324\n",
      "           1       0.15      0.25      0.19     14667\n",
      "\n",
      "    accuracy                           0.88    270991\n",
      "   macro avg       0.55      0.58      0.56    270991\n",
      "weighted avg       0.91      0.88      0.89    270991\n",
      "\n",
      "{'f1_macro': 0.5601029532202182}\n",
      "Total number of UMLS partitions:  23\n"
     ]
    },
    {
     "name": "stderr",
     "output_type": "stream",
     "text": [
      "WARNING:root:Metrics calculated over data points with non-abstain labels only\n"
     ]
    },
    {
     "name": "stdout",
     "output_type": "stream",
     "text": [
      "              precision    recall  f1-score   support\n",
      "\n",
      "           0       0.96      0.92      0.94    256321\n",
      "           1       0.15      0.25      0.19     14670\n",
      "\n",
      "    accuracy                           0.88    270991\n",
      "   macro avg       0.55      0.58      0.56    270991\n",
      "weighted avg       0.91      0.88      0.89    270991\n",
      "\n",
      "{'f1_macro': 0.5605248104476996}\n",
      "Total number of UMLS partitions:  24\n"
     ]
    },
    {
     "name": "stderr",
     "output_type": "stream",
     "text": [
      "WARNING:root:Metrics calculated over data points with non-abstain labels only\n"
     ]
    },
    {
     "name": "stdout",
     "output_type": "stream",
     "text": [
      "              precision    recall  f1-score   support\n",
      "\n",
      "           0       0.95      0.92      0.93    254953\n",
      "           1       0.16      0.25      0.20     16038\n",
      "\n",
      "    accuracy                           0.88    270991\n",
      "   macro avg       0.56      0.58      0.56    270991\n",
      "weighted avg       0.90      0.88      0.89    270991\n",
      "\n",
      "{'f1_macro': 0.5648170275827026}\n",
      "Total number of UMLS partitions:  25\n"
     ]
    },
    {
     "name": "stderr",
     "output_type": "stream",
     "text": [
      "WARNING:root:Metrics calculated over data points with non-abstain labels only\n"
     ]
    },
    {
     "name": "stdout",
     "output_type": "stream",
     "text": [
      "              precision    recall  f1-score   support\n",
      "\n",
      "           0       0.92      0.92      0.92    245667\n",
      "           1       0.22      0.22      0.22     25324\n",
      "\n",
      "    accuracy                           0.85    270991\n",
      "   macro avg       0.57      0.57      0.57    270991\n",
      "weighted avg       0.85      0.85      0.85    270991\n",
      "\n",
      "{'f1_macro': 0.5682397787888596}\n",
      "Total number of UMLS partitions:  26\n"
     ]
    },
    {
     "name": "stderr",
     "output_type": "stream",
     "text": [
      "WARNING:root:Metrics calculated over data points with non-abstain labels only\n"
     ]
    },
    {
     "name": "stdout",
     "output_type": "stream",
     "text": [
      "              precision    recall  f1-score   support\n",
      "\n",
      "           0       0.92      0.92      0.92    245759\n",
      "           1       0.22      0.22      0.22     25232\n",
      "\n",
      "    accuracy                           0.85    270991\n",
      "   macro avg       0.57      0.57      0.57    270991\n",
      "weighted avg       0.85      0.85      0.85    270991\n",
      "\n",
      "{'f1_macro': 0.5682985661669224}\n",
      "Total number of UMLS partitions:  27\n"
     ]
    },
    {
     "name": "stderr",
     "output_type": "stream",
     "text": [
      "WARNING:root:Metrics calculated over data points with non-abstain labels only\n"
     ]
    },
    {
     "name": "stdout",
     "output_type": "stream",
     "text": [
      "              precision    recall  f1-score   support\n",
      "\n",
      "           0       0.93      0.92      0.92    248249\n",
      "           1       0.21      0.23      0.22     22742\n",
      "\n",
      "    accuracy                           0.86    270991\n",
      "   macro avg       0.57      0.57      0.57    270991\n",
      "weighted avg       0.87      0.86      0.86    270991\n",
      "\n",
      "{'f1_macro': 0.570071316571885}\n",
      "Total number of UMLS partitions:  28\n"
     ]
    },
    {
     "name": "stderr",
     "output_type": "stream",
     "text": [
      "WARNING:root:Metrics calculated over data points with non-abstain labels only\n"
     ]
    },
    {
     "name": "stdout",
     "output_type": "stream",
     "text": [
      "              precision    recall  f1-score   support\n",
      "\n",
      "           0       0.93      0.92      0.92    248341\n",
      "           1       0.20      0.23      0.22     22650\n",
      "\n",
      "    accuracy                           0.86    270991\n",
      "   macro avg       0.57      0.57      0.57    270991\n",
      "weighted avg       0.87      0.86      0.86    270991\n",
      "\n",
      "{'f1_macro': 0.5699902332250396}\n",
      "Total number of UMLS partitions:  29\n"
     ]
    },
    {
     "name": "stderr",
     "output_type": "stream",
     "text": [
      "WARNING:root:Metrics calculated over data points with non-abstain labels only\n"
     ]
    },
    {
     "name": "stdout",
     "output_type": "stream",
     "text": [
      "              precision    recall  f1-score   support\n",
      "\n",
      "           0       0.93      0.92      0.92    248494\n",
      "           1       0.20      0.23      0.22     22497\n",
      "\n",
      "    accuracy                           0.86    270991\n",
      "   macro avg       0.57      0.57      0.57    270991\n",
      "weighted avg       0.87      0.86      0.87    270991\n",
      "\n",
      "{'f1_macro': 0.5701814347013603}\n",
      "Total number of UMLS partitions:  30\n"
     ]
    },
    {
     "name": "stderr",
     "output_type": "stream",
     "text": [
      "WARNING:root:Metrics calculated over data points with non-abstain labels only\n"
     ]
    },
    {
     "name": "stdout",
     "output_type": "stream",
     "text": [
      "              precision    recall  f1-score   support\n",
      "\n",
      "           0       0.93      0.92      0.93    249399\n",
      "           1       0.20      0.23      0.22     21592\n",
      "\n",
      "    accuracy                           0.86    270991\n",
      "   macro avg       0.57      0.58      0.57    270991\n",
      "weighted avg       0.87      0.86      0.87    270991\n",
      "\n",
      "{'f1_macro': 0.5705198356235444}\n",
      "Total number of UMLS partitions:  31\n"
     ]
    },
    {
     "name": "stderr",
     "output_type": "stream",
     "text": [
      "WARNING:root:Metrics calculated over data points with non-abstain labels only\n"
     ]
    },
    {
     "name": "stdout",
     "output_type": "stream",
     "text": [
      "              precision    recall  f1-score   support\n",
      "\n",
      "           0       0.93      0.92      0.93    249528\n",
      "           1       0.20      0.23      0.22     21463\n",
      "\n",
      "    accuracy                           0.86    270991\n",
      "   macro avg       0.57      0.58      0.57    270991\n",
      "weighted avg       0.88      0.86      0.87    270991\n",
      "\n",
      "{'f1_macro': 0.5706525941760321}\n",
      "Total number of UMLS partitions:  32\n"
     ]
    },
    {
     "name": "stderr",
     "output_type": "stream",
     "text": [
      "WARNING:root:Metrics calculated over data points with non-abstain labels only\n"
     ]
    },
    {
     "name": "stdout",
     "output_type": "stream",
     "text": [
      "              precision    recall  f1-score   support\n",
      "\n",
      "           0       0.93      0.92      0.93    249813\n",
      "           1       0.20      0.24      0.22     21178\n",
      "\n",
      "    accuracy                           0.87    270991\n",
      "   macro avg       0.57      0.58      0.57    270991\n",
      "weighted avg       0.88      0.87      0.87    270991\n",
      "\n",
      "{'f1_macro': 0.570727773348274}\n",
      "Total number of UMLS partitions:  33\n"
     ]
    },
    {
     "name": "stderr",
     "output_type": "stream",
     "text": [
      "WARNING:root:Metrics calculated over data points with non-abstain labels only\n"
     ]
    },
    {
     "name": "stdout",
     "output_type": "stream",
     "text": [
      "              precision    recall  f1-score   support\n",
      "\n",
      "           0       0.93      0.92      0.93    249950\n",
      "           1       0.20      0.24      0.21     21041\n",
      "\n",
      "    accuracy                           0.87    270991\n",
      "   macro avg       0.57      0.58      0.57    270991\n",
      "weighted avg       0.88      0.87      0.87    270991\n",
      "\n",
      "{'f1_macro': 0.570651480097438}\n",
      "Total number of UMLS partitions:  34\n"
     ]
    },
    {
     "name": "stderr",
     "output_type": "stream",
     "text": [
      "WARNING:root:Metrics calculated over data points with non-abstain labels only\n"
     ]
    },
    {
     "name": "stdout",
     "output_type": "stream",
     "text": [
      "              precision    recall  f1-score   support\n",
      "\n",
      "           0       0.94      0.92      0.93    252488\n",
      "           1       0.18      0.24      0.21     18503\n",
      "\n",
      "    accuracy                           0.87    270991\n",
      "   macro avg       0.56      0.58      0.57    270991\n",
      "weighted avg       0.89      0.87      0.88    270991\n",
      "\n",
      "{'f1_macro': 0.5679113180592024}\n",
      "Total number of UMLS partitions:  35\n"
     ]
    },
    {
     "name": "stderr",
     "output_type": "stream",
     "text": [
      "WARNING:root:Metrics calculated over data points with non-abstain labels only\n"
     ]
    },
    {
     "name": "stdout",
     "output_type": "stream",
     "text": [
      "              precision    recall  f1-score   support\n",
      "\n",
      "           0       0.94      0.92      0.93    252960\n",
      "           1       0.18      0.25      0.20     18031\n",
      "\n",
      "    accuracy                           0.87    270991\n",
      "   macro avg       0.56      0.58      0.57    270991\n",
      "weighted avg       0.89      0.87      0.88    270991\n",
      "\n",
      "{'f1_macro': 0.5679077237443908}\n",
      "Total number of UMLS partitions:  36\n"
     ]
    },
    {
     "name": "stderr",
     "output_type": "stream",
     "text": [
      "WARNING:root:Metrics calculated over data points with non-abstain labels only\n"
     ]
    },
    {
     "name": "stdout",
     "output_type": "stream",
     "text": [
      "              precision    recall  f1-score   support\n",
      "\n",
      "           0       0.95      0.92      0.93    253038\n",
      "           1       0.18      0.25      0.21     17953\n",
      "\n",
      "    accuracy                           0.87    270991\n",
      "   macro avg       0.56      0.58      0.57    270991\n",
      "weighted avg       0.89      0.87      0.88    270991\n",
      "\n",
      "{'f1_macro': 0.568879249784466}\n",
      "Total number of UMLS partitions:  37\n"
     ]
    },
    {
     "name": "stderr",
     "output_type": "stream",
     "text": [
      "WARNING:root:Metrics calculated over data points with non-abstain labels only\n"
     ]
    },
    {
     "name": "stdout",
     "output_type": "stream",
     "text": [
      "              precision    recall  f1-score   support\n",
      "\n",
      "           0       0.95      0.92      0.93    253014\n",
      "           1       0.18      0.25      0.21     17977\n",
      "\n",
      "    accuracy                           0.87    270991\n",
      "   macro avg       0.56      0.58      0.57    270991\n",
      "weighted avg       0.89      0.87      0.88    270991\n",
      "\n",
      "{'f1_macro': 0.5691727996985391}\n",
      "Total number of UMLS partitions:  38\n"
     ]
    },
    {
     "name": "stderr",
     "output_type": "stream",
     "text": [
      "WARNING:root:Metrics calculated over data points with non-abstain labels only\n"
     ]
    },
    {
     "name": "stdout",
     "output_type": "stream",
     "text": [
      "              precision    recall  f1-score   support\n",
      "\n",
      "           0       0.94      0.92      0.93    252907\n",
      "           1       0.18      0.25      0.21     18084\n",
      "\n",
      "    accuracy                           0.87    270991\n",
      "   macro avg       0.56      0.58      0.57    270991\n",
      "weighted avg       0.89      0.87      0.88    270991\n",
      "\n",
      "{'f1_macro': 0.5693787818292492}\n",
      "Total number of UMLS partitions:  39\n"
     ]
    },
    {
     "name": "stderr",
     "output_type": "stream",
     "text": [
      "WARNING:root:Metrics calculated over data points with non-abstain labels only\n"
     ]
    },
    {
     "name": "stdout",
     "output_type": "stream",
     "text": [
      "              precision    recall  f1-score   support\n",
      "\n",
      "           0       0.94      0.92      0.93    252627\n",
      "           1       0.18      0.25      0.21     18364\n",
      "\n",
      "    accuracy                           0.87    270991\n",
      "   macro avg       0.56      0.58      0.57    270991\n",
      "weighted avg       0.89      0.87      0.88    270991\n",
      "\n",
      "{'f1_macro': 0.5688110851475349}\n",
      "Total number of UMLS partitions:  40\n"
     ]
    },
    {
     "name": "stderr",
     "output_type": "stream",
     "text": [
      "WARNING:root:Metrics calculated over data points with non-abstain labels only\n"
     ]
    },
    {
     "name": "stdout",
     "output_type": "stream",
     "text": [
      "              precision    recall  f1-score   support\n",
      "\n",
      "           0       0.94      0.92      0.93    252612\n",
      "           1       0.18      0.25      0.21     18379\n",
      "\n",
      "    accuracy                           0.87    270991\n",
      "   macro avg       0.56      0.58      0.57    270991\n",
      "weighted avg       0.89      0.87      0.88    270991\n",
      "\n",
      "{'f1_macro': 0.5692074794268004}\n",
      "Total number of UMLS partitions:  41\n"
     ]
    },
    {
     "name": "stderr",
     "output_type": "stream",
     "text": [
      "WARNING:root:Metrics calculated over data points with non-abstain labels only\n"
     ]
    },
    {
     "name": "stdout",
     "output_type": "stream",
     "text": [
      "              precision    recall  f1-score   support\n",
      "\n",
      "           0       0.94      0.92      0.93    252392\n",
      "           1       0.18      0.25      0.21     18599\n",
      "\n",
      "    accuracy                           0.87    270991\n",
      "   macro avg       0.56      0.58      0.57    270991\n",
      "weighted avg       0.89      0.87      0.88    270991\n",
      "\n",
      "{'f1_macro': 0.5700611447793629}\n"
     ]
    }
   ],
   "source": [
    "train(partitioned_i_umls, umls_i, nonumls_i, ds_i, heur_i, dict_i, df_data_train, df_data_val, 'i')"
   ]
  },
  {
   "cell_type": "code",
   "execution_count": 23,
   "id": "25d73d63",
   "metadata": {},
   "outputs": [
    {
     "name": "stdout",
     "output_type": "stream",
     "text": [
      "Total number of UMLS partitions:  1\n"
     ]
    },
    {
     "name": "stderr",
     "output_type": "stream",
     "text": [
      "WARNING:root:Metrics calculated over data points with non-abstain labels only\n"
     ]
    },
    {
     "name": "stdout",
     "output_type": "stream",
     "text": [
      "              precision    recall  f1-score   support\n",
      "\n",
      "           0       0.79      0.91      0.85    208169\n",
      "           1       0.41      0.20      0.27     62822\n",
      "\n",
      "    accuracy                           0.75    270991\n",
      "   macro avg       0.60      0.56      0.56    270991\n",
      "weighted avg       0.70      0.75      0.71    270991\n",
      "\n",
      "{'f1_macro': 0.5587517796368752}\n",
      "Total number of UMLS partitions:  2\n"
     ]
    },
    {
     "name": "stderr",
     "output_type": "stream",
     "text": [
      "WARNING:root:Metrics calculated over data points with non-abstain labels only\n"
     ]
    },
    {
     "name": "stdout",
     "output_type": "stream",
     "text": [
      "              precision    recall  f1-score   support\n",
      "\n",
      "           0       0.79      0.91      0.85    208588\n",
      "           1       0.40      0.20      0.27     62403\n",
      "\n",
      "    accuracy                           0.75    270991\n",
      "   macro avg       0.60      0.56      0.56    270991\n",
      "weighted avg       0.70      0.75      0.71    270991\n",
      "\n",
      "{'f1_macro': 0.5569956304812641}\n",
      "Total number of UMLS partitions:  3\n"
     ]
    },
    {
     "name": "stderr",
     "output_type": "stream",
     "text": [
      "WARNING:root:Metrics calculated over data points with non-abstain labels only\n"
     ]
    },
    {
     "name": "stdout",
     "output_type": "stream",
     "text": [
      "              precision    recall  f1-score   support\n",
      "\n",
      "           0       0.79      0.91      0.85    208610\n",
      "           1       0.40      0.20      0.27     62381\n",
      "\n",
      "    accuracy                           0.75    270991\n",
      "   macro avg       0.60      0.56      0.56    270991\n",
      "weighted avg       0.70      0.75      0.71    270991\n",
      "\n",
      "{'f1_macro': 0.5568876844324367}\n",
      "Total number of UMLS partitions:  4\n"
     ]
    },
    {
     "name": "stderr",
     "output_type": "stream",
     "text": [
      "WARNING:root:Metrics calculated over data points with non-abstain labels only\n"
     ]
    },
    {
     "name": "stdout",
     "output_type": "stream",
     "text": [
      "              precision    recall  f1-score   support\n",
      "\n",
      "           0       0.94      0.89      0.92    252614\n",
      "           1       0.15      0.25      0.18     18377\n",
      "\n",
      "    accuracy                           0.85    270991\n",
      "   macro avg       0.54      0.57      0.55    270991\n",
      "weighted avg       0.89      0.85      0.87    270991\n",
      "\n",
      "{'f1_macro': 0.550206067551809}\n",
      "Total number of UMLS partitions:  5\n"
     ]
    },
    {
     "name": "stderr",
     "output_type": "stream",
     "text": [
      "WARNING:root:Metrics calculated over data points with non-abstain labels only\n"
     ]
    },
    {
     "name": "stdout",
     "output_type": "stream",
     "text": [
      "              precision    recall  f1-score   support\n",
      "\n",
      "           0       0.94      0.89      0.92    252560\n",
      "           1       0.15      0.25      0.19     18431\n",
      "\n",
      "    accuracy                           0.85    270991\n",
      "   macro avg       0.54      0.57      0.55    270991\n",
      "weighted avg       0.89      0.85      0.87    270991\n",
      "\n",
      "{'f1_macro': 0.5516162524704323}\n",
      "Total number of UMLS partitions:  6\n"
     ]
    },
    {
     "name": "stderr",
     "output_type": "stream",
     "text": [
      "WARNING:root:Metrics calculated over data points with non-abstain labels only\n"
     ]
    },
    {
     "name": "stdout",
     "output_type": "stream",
     "text": [
      "              precision    recall  f1-score   support\n",
      "\n",
      "           0       0.95      0.89      0.92    253329\n",
      "           1       0.14      0.26      0.18     17662\n",
      "\n",
      "    accuracy                           0.85    270991\n",
      "   macro avg       0.54      0.57      0.55    270991\n",
      "weighted avg       0.89      0.85      0.87    270991\n",
      "\n",
      "{'f1_macro': 0.5511372883423108}\n",
      "Total number of UMLS partitions:  7\n"
     ]
    },
    {
     "name": "stderr",
     "output_type": "stream",
     "text": [
      "WARNING:root:Metrics calculated over data points with non-abstain labels only\n"
     ]
    },
    {
     "name": "stdout",
     "output_type": "stream",
     "text": [
      "              precision    recall  f1-score   support\n",
      "\n",
      "           0       0.94      0.89      0.92    253076\n",
      "           1       0.14      0.25      0.18     17915\n",
      "\n",
      "    accuracy                           0.85    270991\n",
      "   macro avg       0.54      0.57      0.55    270991\n",
      "weighted avg       0.89      0.85      0.87    270991\n",
      "\n",
      "{'f1_macro': 0.5514148266707836}\n",
      "Total number of UMLS partitions:  8\n"
     ]
    },
    {
     "name": "stderr",
     "output_type": "stream",
     "text": [
      "WARNING:root:Metrics calculated over data points with non-abstain labels only\n"
     ]
    },
    {
     "name": "stdout",
     "output_type": "stream",
     "text": [
      "              precision    recall  f1-score   support\n",
      "\n",
      "           0       0.95      0.89      0.92    255936\n",
      "           1       0.12      0.25      0.16     15055\n",
      "\n",
      "    accuracy                           0.86    270991\n",
      "   macro avg       0.54      0.57      0.54    270991\n",
      "weighted avg       0.91      0.86      0.88    270991\n",
      "\n",
      "{'f1_macro': 0.5416416625629974}\n",
      "Total number of UMLS partitions:  9\n"
     ]
    },
    {
     "name": "stderr",
     "output_type": "stream",
     "text": [
      "WARNING:root:Metrics calculated over data points with non-abstain labels only\n"
     ]
    },
    {
     "name": "stdout",
     "output_type": "stream",
     "text": [
      "              precision    recall  f1-score   support\n",
      "\n",
      "           0       0.95      0.89      0.92    255841\n",
      "           1       0.12      0.25      0.17     15150\n",
      "\n",
      "    accuracy                           0.86    270991\n",
      "   macro avg       0.54      0.57      0.54    270991\n",
      "weighted avg       0.91      0.86      0.88    270991\n",
      "\n",
      "{'f1_macro': 0.543652146692352}\n",
      "Total number of UMLS partitions:  10\n"
     ]
    },
    {
     "name": "stderr",
     "output_type": "stream",
     "text": [
      "WARNING:root:Metrics calculated over data points with non-abstain labels only\n"
     ]
    },
    {
     "name": "stdout",
     "output_type": "stream",
     "text": [
      "              precision    recall  f1-score   support\n",
      "\n",
      "           0       0.95      0.89      0.92    256108\n",
      "           1       0.12      0.26      0.17     14883\n",
      "\n",
      "    accuracy                           0.86    270991\n",
      "   macro avg       0.54      0.57      0.54    270991\n",
      "weighted avg       0.91      0.86      0.88    270991\n",
      "\n",
      "{'f1_macro': 0.5438300051980101}\n",
      "Total number of UMLS partitions:  11\n"
     ]
    },
    {
     "name": "stderr",
     "output_type": "stream",
     "text": [
      "WARNING:root:Metrics calculated over data points with non-abstain labels only\n"
     ]
    },
    {
     "name": "stdout",
     "output_type": "stream",
     "text": [
      "              precision    recall  f1-score   support\n",
      "\n",
      "           0       0.96      0.89      0.93    259195\n",
      "           1       0.10      0.28      0.15     11796\n",
      "\n",
      "    accuracy                           0.86    270991\n",
      "   macro avg       0.53      0.58      0.54    270991\n",
      "weighted avg       0.93      0.86      0.89    270991\n",
      "\n",
      "{'f1_macro': 0.5391737863960446}\n",
      "Total number of UMLS partitions:  12\n"
     ]
    },
    {
     "name": "stderr",
     "output_type": "stream",
     "text": [
      "WARNING:root:Metrics calculated over data points with non-abstain labels only\n"
     ]
    },
    {
     "name": "stdout",
     "output_type": "stream",
     "text": [
      "              precision    recall  f1-score   support\n",
      "\n",
      "           0       0.97      0.89      0.93    260121\n",
      "           1       0.10      0.28      0.14     10870\n",
      "\n",
      "    accuracy                           0.87    270991\n",
      "   macro avg       0.53      0.59      0.54    270991\n",
      "weighted avg       0.93      0.87      0.90    270991\n",
      "\n",
      "{'f1_macro': 0.5360592519363849}\n",
      "Total number of UMLS partitions:  13\n"
     ]
    },
    {
     "name": "stderr",
     "output_type": "stream",
     "text": [
      "WARNING:root:Metrics calculated over data points with non-abstain labels only\n"
     ]
    },
    {
     "name": "stdout",
     "output_type": "stream",
     "text": [
      "              precision    recall  f1-score   support\n",
      "\n",
      "           0       0.97      0.89      0.93    260235\n",
      "           1       0.10      0.28      0.14     10756\n",
      "\n",
      "    accuracy                           0.87    270991\n",
      "   macro avg       0.53      0.59      0.54    270991\n",
      "weighted avg       0.93      0.87      0.90    270991\n",
      "\n",
      "{'f1_macro': 0.5350911129909782}\n",
      "Total number of UMLS partitions:  14\n"
     ]
    },
    {
     "name": "stderr",
     "output_type": "stream",
     "text": [
      "WARNING:root:Metrics calculated over data points with non-abstain labels only\n"
     ]
    },
    {
     "name": "stdout",
     "output_type": "stream",
     "text": [
      "              precision    recall  f1-score   support\n",
      "\n",
      "           0       0.97      0.89      0.93    259884\n",
      "           1       0.10      0.28      0.14     11107\n",
      "\n",
      "    accuracy                           0.87    270991\n",
      "   macro avg       0.53      0.58      0.54    270991\n",
      "weighted avg       0.93      0.87      0.90    270991\n",
      "\n",
      "{'f1_macro': 0.5354531284485659}\n",
      "Total number of UMLS partitions:  15\n"
     ]
    },
    {
     "name": "stderr",
     "output_type": "stream",
     "text": [
      "WARNING:root:Metrics calculated over data points with non-abstain labels only\n"
     ]
    },
    {
     "name": "stdout",
     "output_type": "stream",
     "text": [
      "              precision    recall  f1-score   support\n",
      "\n",
      "           0       0.97      0.89      0.93    260355\n",
      "           1       0.09      0.27      0.14     10636\n",
      "\n",
      "    accuracy                           0.87    270991\n",
      "   macro avg       0.53      0.58      0.53    270991\n",
      "weighted avg       0.93      0.87      0.90    270991\n",
      "\n",
      "{'f1_macro': 0.5318909687402938}\n",
      "Total number of UMLS partitions:  16\n"
     ]
    },
    {
     "name": "stderr",
     "output_type": "stream",
     "text": [
      "WARNING:root:Metrics calculated over data points with non-abstain labels only\n"
     ]
    },
    {
     "name": "stdout",
     "output_type": "stream",
     "text": [
      "              precision    recall  f1-score   support\n",
      "\n",
      "           0       0.97      0.89      0.93    260335\n",
      "           1       0.09      0.27      0.14     10656\n",
      "\n",
      "    accuracy                           0.87    270991\n",
      "   macro avg       0.53      0.58      0.53    270991\n",
      "weighted avg       0.93      0.87      0.90    270991\n",
      "\n",
      "{'f1_macro': 0.5313216573640511}\n",
      "Total number of UMLS partitions:  17\n"
     ]
    },
    {
     "name": "stderr",
     "output_type": "stream",
     "text": [
      "WARNING:root:Metrics calculated over data points with non-abstain labels only\n"
     ]
    },
    {
     "name": "stdout",
     "output_type": "stream",
     "text": [
      "              precision    recall  f1-score   support\n",
      "\n",
      "           0       0.97      0.89      0.93    259767\n",
      "           1       0.09      0.27      0.14     11224\n",
      "\n",
      "    accuracy                           0.86    270991\n",
      "   macro avg       0.53      0.58      0.53    270991\n",
      "weighted avg       0.93      0.86      0.89    270991\n",
      "\n",
      "{'f1_macro': 0.5331190373103338}\n",
      "Total number of UMLS partitions:  18\n"
     ]
    },
    {
     "name": "stderr",
     "output_type": "stream",
     "text": [
      "WARNING:root:Metrics calculated over data points with non-abstain labels only\n"
     ]
    },
    {
     "name": "stdout",
     "output_type": "stream",
     "text": [
      "              precision    recall  f1-score   support\n",
      "\n",
      "           0       0.98      0.89      0.93    262917\n",
      "           1       0.08      0.31      0.13      8074\n",
      "\n",
      "    accuracy                           0.87    270991\n",
      "   macro avg       0.53      0.60      0.53    270991\n",
      "weighted avg       0.95      0.87      0.91    270991\n",
      "\n",
      "{'f1_macro': 0.5289169319918116}\n",
      "Total number of UMLS partitions:  19\n"
     ]
    },
    {
     "name": "stderr",
     "output_type": "stream",
     "text": [
      "WARNING:root:Metrics calculated over data points with non-abstain labels only\n"
     ]
    },
    {
     "name": "stdout",
     "output_type": "stream",
     "text": [
      "              precision    recall  f1-score   support\n",
      "\n",
      "           0       0.98      0.89      0.93    262783\n",
      "           1       0.08      0.32      0.13      8208\n",
      "\n",
      "    accuracy                           0.87    270991\n",
      "   macro avg       0.53      0.60      0.53    270991\n",
      "weighted avg       0.95      0.87      0.91    270991\n",
      "\n",
      "{'f1_macro': 0.5310112632165932}\n",
      "Total number of UMLS partitions:  20\n"
     ]
    },
    {
     "name": "stderr",
     "output_type": "stream",
     "text": [
      "WARNING:root:Metrics calculated over data points with non-abstain labels only\n"
     ]
    },
    {
     "name": "stdout",
     "output_type": "stream",
     "text": [
      "              precision    recall  f1-score   support\n",
      "\n",
      "           0       0.98      0.89      0.93    262312\n",
      "           1       0.09      0.32      0.14      8679\n",
      "\n",
      "    accuracy                           0.87    270991\n",
      "   macro avg       0.53      0.61      0.54    270991\n",
      "weighted avg       0.95      0.87      0.91    270991\n",
      "\n",
      "{'f1_macro': 0.5357763578539071}\n",
      "Total number of UMLS partitions:  21\n"
     ]
    },
    {
     "name": "stderr",
     "output_type": "stream",
     "text": [
      "WARNING:root:Metrics calculated over data points with non-abstain labels only\n"
     ]
    },
    {
     "name": "stdout",
     "output_type": "stream",
     "text": [
      "              precision    recall  f1-score   support\n",
      "\n",
      "           0       0.98      0.89      0.93    262627\n",
      "           1       0.09      0.32      0.14      8364\n",
      "\n",
      "    accuracy                           0.87    270991\n",
      "   macro avg       0.53      0.61      0.53    270991\n",
      "weighted avg       0.95      0.87      0.91    270991\n",
      "\n",
      "{'f1_macro': 0.5332481493701278}\n",
      "Total number of UMLS partitions:  22\n"
     ]
    },
    {
     "name": "stderr",
     "output_type": "stream",
     "text": [
      "WARNING:root:Metrics calculated over data points with non-abstain labels only\n"
     ]
    },
    {
     "name": "stdout",
     "output_type": "stream",
     "text": [
      "              precision    recall  f1-score   support\n",
      "\n",
      "           0       0.97      0.89      0.93    261914\n",
      "           1       0.09      0.31      0.14      9077\n",
      "\n",
      "    accuracy                           0.87    270991\n",
      "   macro avg       0.53      0.60      0.53    270991\n",
      "weighted avg       0.94      0.87      0.90    270991\n",
      "\n",
      "{'f1_macro': 0.5349299879492632}\n",
      "Total number of UMLS partitions:  23\n"
     ]
    },
    {
     "name": "stderr",
     "output_type": "stream",
     "text": [
      "WARNING:root:Metrics calculated over data points with non-abstain labels only\n"
     ]
    },
    {
     "name": "stdout",
     "output_type": "stream",
     "text": [
      "              precision    recall  f1-score   support\n",
      "\n",
      "           0       0.97      0.89      0.93    261485\n",
      "           1       0.09      0.31      0.14      9506\n",
      "\n",
      "    accuracy                           0.87    270991\n",
      "   macro avg       0.53      0.60      0.54    270991\n",
      "weighted avg       0.94      0.87      0.90    270991\n",
      "\n",
      "{'f1_macro': 0.5368345518964297}\n",
      "Total number of UMLS partitions:  24\n"
     ]
    },
    {
     "name": "stderr",
     "output_type": "stream",
     "text": [
      "WARNING:root:Metrics calculated over data points with non-abstain labels only\n"
     ]
    },
    {
     "name": "stdout",
     "output_type": "stream",
     "text": [
      "              precision    recall  f1-score   support\n",
      "\n",
      "           0       0.97      0.89      0.93    261038\n",
      "           1       0.10      0.31      0.15      9953\n",
      "\n",
      "    accuracy                           0.87    270991\n",
      "   macro avg       0.54      0.60      0.54    270991\n",
      "weighted avg       0.94      0.87      0.90    270991\n",
      "\n",
      "{'f1_macro': 0.5400303049365984}\n",
      "Total number of UMLS partitions:  25\n"
     ]
    },
    {
     "name": "stderr",
     "output_type": "stream",
     "text": [
      "WARNING:root:Metrics calculated over data points with non-abstain labels only\n"
     ]
    },
    {
     "name": "stdout",
     "output_type": "stream",
     "text": [
      "              precision    recall  f1-score   support\n",
      "\n",
      "           0       0.97      0.89      0.93    259745\n",
      "           1       0.11      0.31      0.16     11246\n",
      "\n",
      "    accuracy                           0.87    270991\n",
      "   macro avg       0.54      0.60      0.55    270991\n",
      "weighted avg       0.93      0.87      0.90    270991\n",
      "\n",
      "{'f1_macro': 0.5460108564974792}\n",
      "Total number of UMLS partitions:  26\n"
     ]
    },
    {
     "name": "stderr",
     "output_type": "stream",
     "text": [
      "WARNING:root:Metrics calculated over data points with non-abstain labels only\n"
     ]
    },
    {
     "name": "stdout",
     "output_type": "stream",
     "text": [
      "              precision    recall  f1-score   support\n",
      "\n",
      "           0       0.97      0.89      0.93    259753\n",
      "           1       0.11      0.31      0.16     11238\n",
      "\n",
      "    accuracy                           0.87    270991\n",
      "   macro avg       0.54      0.60      0.55    270991\n",
      "weighted avg       0.93      0.87      0.90    270991\n",
      "\n",
      "{'f1_macro': 0.5460093231802706}\n",
      "Total number of UMLS partitions:  27\n"
     ]
    },
    {
     "name": "stderr",
     "output_type": "stream",
     "text": [
      "WARNING:root:Metrics calculated over data points with non-abstain labels only\n"
     ]
    },
    {
     "name": "stdout",
     "output_type": "stream",
     "text": [
      "              precision    recall  f1-score   support\n",
      "\n",
      "           0       0.97      0.89      0.93    261142\n",
      "           1       0.10      0.32      0.15      9849\n",
      "\n",
      "    accuracy                           0.87    270991\n",
      "   macro avg       0.54      0.60      0.54    270991\n",
      "weighted avg       0.94      0.87      0.90    270991\n",
      "\n",
      "{'f1_macro': 0.5406980930449408}\n",
      "Total number of UMLS partitions:  28\n"
     ]
    },
    {
     "name": "stderr",
     "output_type": "stream",
     "text": [
      "WARNING:root:Metrics calculated over data points with non-abstain labels only\n"
     ]
    },
    {
     "name": "stdout",
     "output_type": "stream",
     "text": [
      "              precision    recall  f1-score   support\n",
      "\n",
      "           0       0.97      0.89      0.93    260444\n",
      "           1       0.11      0.32      0.16     10547\n",
      "\n",
      "    accuracy                           0.87    270991\n",
      "   macro avg       0.54      0.61      0.55    270991\n",
      "weighted avg       0.94      0.87      0.90    270991\n",
      "\n",
      "{'f1_macro': 0.5454349445024316}\n",
      "Total number of UMLS partitions:  29\n"
     ]
    },
    {
     "name": "stderr",
     "output_type": "stream",
     "text": [
      "WARNING:root:Metrics calculated over data points with non-abstain labels only\n"
     ]
    },
    {
     "name": "stdout",
     "output_type": "stream",
     "text": [
      "              precision    recall  f1-score   support\n",
      "\n",
      "           0       0.97      0.89      0.93    261386\n",
      "           1       0.10      0.33      0.16      9605\n",
      "\n",
      "    accuracy                           0.87    270991\n",
      "   macro avg       0.54      0.61      0.54    270991\n",
      "weighted avg       0.94      0.87      0.90    270991\n",
      "\n",
      "{'f1_macro': 0.5435452431720595}\n",
      "Total number of UMLS partitions:  30\n"
     ]
    },
    {
     "name": "stderr",
     "output_type": "stream",
     "text": [
      "WARNING:root:Metrics calculated over data points with non-abstain labels only\n"
     ]
    },
    {
     "name": "stdout",
     "output_type": "stream",
     "text": [
      "              precision    recall  f1-score   support\n",
      "\n",
      "           0       0.97      0.89      0.93    261440\n",
      "           1       0.10      0.33      0.16      9551\n",
      "\n",
      "    accuracy                           0.87    270991\n",
      "   macro avg       0.54      0.61      0.54    270991\n",
      "weighted avg       0.94      0.87      0.90    270991\n",
      "\n",
      "{'f1_macro': 0.5432832678154913}\n",
      "Total number of UMLS partitions:  31\n"
     ]
    },
    {
     "name": "stderr",
     "output_type": "stream",
     "text": [
      "WARNING:root:Metrics calculated over data points with non-abstain labels only\n"
     ]
    },
    {
     "name": "stdout",
     "output_type": "stream",
     "text": [
      "              precision    recall  f1-score   support\n",
      "\n",
      "           0       0.97      0.89      0.93    261461\n",
      "           1       0.10      0.33      0.16      9530\n",
      "\n",
      "    accuracy                           0.87    270991\n",
      "   macro avg       0.54      0.61      0.54    270991\n",
      "weighted avg       0.94      0.87      0.90    270991\n",
      "\n",
      "{'f1_macro': 0.54316063270338}\n",
      "Total number of UMLS partitions:  32\n"
     ]
    },
    {
     "name": "stderr",
     "output_type": "stream",
     "text": [
      "WARNING:root:Metrics calculated over data points with non-abstain labels only\n"
     ]
    },
    {
     "name": "stdout",
     "output_type": "stream",
     "text": [
      "              precision    recall  f1-score   support\n",
      "\n",
      "           0       0.97      0.89      0.93    260426\n",
      "           1       0.11      0.34      0.17     10565\n",
      "\n",
      "    accuracy                           0.87    270991\n",
      "   macro avg       0.54      0.62      0.55    270991\n",
      "weighted avg       0.94      0.87      0.90    270991\n",
      "\n",
      "{'f1_macro': 0.5509845979749698}\n",
      "Total number of UMLS partitions:  33\n"
     ]
    },
    {
     "name": "stderr",
     "output_type": "stream",
     "text": [
      "WARNING:root:Metrics calculated over data points with non-abstain labels only\n"
     ]
    },
    {
     "name": "stdout",
     "output_type": "stream",
     "text": [
      "              precision    recall  f1-score   support\n",
      "\n",
      "           0       0.97      0.89      0.93    260458\n",
      "           1       0.11      0.34      0.17     10533\n",
      "\n",
      "    accuracy                           0.87    270991\n",
      "   macro avg       0.54      0.62      0.55    270991\n",
      "weighted avg       0.94      0.87      0.90    270991\n",
      "\n",
      "{'f1_macro': 0.5506191180069387}\n",
      "Total number of UMLS partitions:  34\n"
     ]
    },
    {
     "name": "stderr",
     "output_type": "stream",
     "text": [
      "WARNING:root:Metrics calculated over data points with non-abstain labels only\n"
     ]
    },
    {
     "name": "stdout",
     "output_type": "stream",
     "text": [
      "              precision    recall  f1-score   support\n",
      "\n",
      "           0       0.97      0.89      0.93    260624\n",
      "           1       0.11      0.34      0.17     10367\n",
      "\n",
      "    accuracy                           0.87    270991\n",
      "   macro avg       0.54      0.62      0.55    270991\n",
      "weighted avg       0.94      0.87      0.90    270991\n",
      "\n",
      "{'f1_macro': 0.5489573901322257}\n",
      "Total number of UMLS partitions:  35\n"
     ]
    },
    {
     "name": "stderr",
     "output_type": "stream",
     "text": [
      "WARNING:root:Metrics calculated over data points with non-abstain labels only\n"
     ]
    },
    {
     "name": "stdout",
     "output_type": "stream",
     "text": [
      "              precision    recall  f1-score   support\n",
      "\n",
      "           0       0.97      0.89      0.93    260480\n",
      "           1       0.11      0.33      0.16     10511\n",
      "\n",
      "    accuracy                           0.87    270991\n",
      "   macro avg       0.54      0.61      0.55    270991\n",
      "weighted avg       0.94      0.87      0.90    270991\n",
      "\n",
      "{'f1_macro': 0.5470680370552808}\n",
      "Total number of UMLS partitions:  36\n"
     ]
    },
    {
     "name": "stderr",
     "output_type": "stream",
     "text": [
      "WARNING:root:Metrics calculated over data points with non-abstain labels only\n"
     ]
    },
    {
     "name": "stdout",
     "output_type": "stream",
     "text": [
      "              precision    recall  f1-score   support\n",
      "\n",
      "           0       0.97      0.89      0.93    260738\n",
      "           1       0.11      0.33      0.16     10253\n",
      "\n",
      "    accuracy                           0.87    270991\n",
      "   macro avg       0.54      0.61      0.55    270991\n",
      "weighted avg       0.94      0.87      0.90    270991\n",
      "\n",
      "{'f1_macro': 0.545382370814633}\n",
      "Total number of UMLS partitions:  37\n"
     ]
    },
    {
     "name": "stderr",
     "output_type": "stream",
     "text": [
      "WARNING:root:Metrics calculated over data points with non-abstain labels only\n"
     ]
    },
    {
     "name": "stdout",
     "output_type": "stream",
     "text": [
      "              precision    recall  f1-score   support\n",
      "\n",
      "           0       0.97      0.89      0.93    259399\n",
      "           1       0.12      0.34      0.18     11592\n",
      "\n",
      "    accuracy                           0.87    270991\n",
      "   macro avg       0.55      0.62      0.56    270991\n",
      "weighted avg       0.93      0.87      0.90    270991\n",
      "\n",
      "{'f1_macro': 0.5555141648418773}\n",
      "Total number of UMLS partitions:  38\n"
     ]
    },
    {
     "name": "stderr",
     "output_type": "stream",
     "text": [
      "WARNING:root:Metrics calculated over data points with non-abstain labels only\n"
     ]
    },
    {
     "name": "stdout",
     "output_type": "stream",
     "text": [
      "              precision    recall  f1-score   support\n",
      "\n",
      "           0       0.97      0.89      0.93    260548\n",
      "           1       0.11      0.34      0.17     10443\n",
      "\n",
      "    accuracy                           0.87    270991\n",
      "   macro avg       0.54      0.62      0.55    270991\n",
      "weighted avg       0.94      0.87      0.90    270991\n",
      "\n",
      "{'f1_macro': 0.551390920878836}\n",
      "Total number of UMLS partitions:  39\n"
     ]
    },
    {
     "name": "stderr",
     "output_type": "stream",
     "text": [
      "WARNING:root:Metrics calculated over data points with non-abstain labels only\n"
     ]
    },
    {
     "name": "stdout",
     "output_type": "stream",
     "text": [
      "              precision    recall  f1-score   support\n",
      "\n",
      "           0       0.97      0.89      0.93    259767\n",
      "           1       0.12      0.34      0.18     11224\n",
      "\n",
      "    accuracy                           0.87    270991\n",
      "   macro avg       0.55      0.62      0.56    270991\n",
      "weighted avg       0.93      0.87      0.90    270991\n",
      "\n",
      "{'f1_macro': 0.5555720912412108}\n",
      "Total number of UMLS partitions:  40\n"
     ]
    },
    {
     "name": "stderr",
     "output_type": "stream",
     "text": [
      "WARNING:root:Metrics calculated over data points with non-abstain labels only\n"
     ]
    },
    {
     "name": "stdout",
     "output_type": "stream",
     "text": [
      "              precision    recall  f1-score   support\n",
      "\n",
      "           0       0.97      0.89      0.93    258929\n",
      "           1       0.13      0.34      0.19     12062\n",
      "\n",
      "    accuracy                           0.87    270991\n",
      "   macro avg       0.55      0.62      0.56    270991\n",
      "weighted avg       0.93      0.87      0.90    270991\n",
      "\n",
      "{'f1_macro': 0.5588046284605603}\n",
      "Total number of UMLS partitions:  41\n"
     ]
    },
    {
     "name": "stderr",
     "output_type": "stream",
     "text": [
      "WARNING:root:Metrics calculated over data points with non-abstain labels only\n"
     ]
    },
    {
     "name": "stdout",
     "output_type": "stream",
     "text": [
      "              precision    recall  f1-score   support\n",
      "\n",
      "           0       0.97      0.89      0.93    259017\n",
      "           1       0.13      0.34      0.19     11974\n",
      "\n",
      "    accuracy                           0.87    270991\n",
      "   macro avg       0.55      0.62      0.56    270991\n",
      "weighted avg       0.93      0.87      0.90    270991\n",
      "\n",
      "{'f1_macro': 0.5586141406204472}\n",
      "Total number of UMLS partitions:  42\n"
     ]
    },
    {
     "name": "stderr",
     "output_type": "stream",
     "text": [
      "WARNING:root:Metrics calculated over data points with non-abstain labels only\n"
     ]
    },
    {
     "name": "stdout",
     "output_type": "stream",
     "text": [
      "              precision    recall  f1-score   support\n",
      "\n",
      "           0       0.97      0.89      0.93    259033\n",
      "           1       0.13      0.34      0.19     11958\n",
      "\n",
      "    accuracy                           0.87    270991\n",
      "   macro avg       0.55      0.62      0.56    270991\n",
      "weighted avg       0.93      0.87      0.90    270991\n",
      "\n",
      "{'f1_macro': 0.5586158519374662}\n",
      "Total number of UMLS partitions:  43\n"
     ]
    },
    {
     "name": "stderr",
     "output_type": "stream",
     "text": [
      "WARNING:root:Metrics calculated over data points with non-abstain labels only\n"
     ]
    },
    {
     "name": "stdout",
     "output_type": "stream",
     "text": [
      "              precision    recall  f1-score   support\n",
      "\n",
      "           0       0.97      0.89      0.93    258885\n",
      "           1       0.13      0.34      0.19     12106\n",
      "\n",
      "    accuracy                           0.87    270991\n",
      "   macro avg       0.55      0.62      0.56    270991\n",
      "weighted avg       0.93      0.87      0.90    270991\n",
      "\n",
      "{'f1_macro': 0.5588370276006389}\n",
      "Total number of UMLS partitions:  44\n"
     ]
    },
    {
     "name": "stderr",
     "output_type": "stream",
     "text": [
      "WARNING:root:Metrics calculated over data points with non-abstain labels only\n"
     ]
    },
    {
     "name": "stdout",
     "output_type": "stream",
     "text": [
      "              precision    recall  f1-score   support\n",
      "\n",
      "           0       0.96      0.89      0.93    258307\n",
      "           1       0.13      0.33      0.19     12684\n",
      "\n",
      "    accuracy                           0.87    270991\n",
      "   macro avg       0.55      0.61      0.56    270991\n",
      "weighted avg       0.93      0.87      0.89    270991\n",
      "\n",
      "{'f1_macro': 0.5586338960391589}\n",
      "Total number of UMLS partitions:  45\n"
     ]
    },
    {
     "name": "stderr",
     "output_type": "stream",
     "text": [
      "WARNING:root:Metrics calculated over data points with non-abstain labels only\n"
     ]
    },
    {
     "name": "stdout",
     "output_type": "stream",
     "text": [
      "              precision    recall  f1-score   support\n",
      "\n",
      "           0       0.96      0.89      0.93    257393\n",
      "           1       0.14      0.32      0.19     13598\n",
      "\n",
      "    accuracy                           0.87    270991\n",
      "   macro avg       0.55      0.61      0.56    270991\n",
      "weighted avg       0.92      0.87      0.89    270991\n",
      "\n",
      "{'f1_macro': 0.5595324495095643}\n",
      "Total number of UMLS partitions:  46\n"
     ]
    },
    {
     "name": "stderr",
     "output_type": "stream",
     "text": [
      "WARNING:root:Metrics calculated over data points with non-abstain labels only\n"
     ]
    },
    {
     "name": "stdout",
     "output_type": "stream",
     "text": [
      "              precision    recall  f1-score   support\n",
      "\n",
      "           0       0.96      0.89      0.93    257237\n",
      "           1       0.14      0.32      0.19     13754\n",
      "\n",
      "    accuracy                           0.87    270991\n",
      "   macro avg       0.55      0.61      0.56    270991\n",
      "weighted avg       0.92      0.87      0.89    270991\n",
      "\n",
      "{'f1_macro': 0.5593459939325899}\n",
      "Total number of UMLS partitions:  47\n"
     ]
    },
    {
     "name": "stderr",
     "output_type": "stream",
     "text": [
      "WARNING:root:Metrics calculated over data points with non-abstain labels only\n"
     ]
    },
    {
     "name": "stdout",
     "output_type": "stream",
     "text": [
      "              precision    recall  f1-score   support\n",
      "\n",
      "           0       0.96      0.89      0.93    257272\n",
      "           1       0.14      0.32      0.19     13719\n",
      "\n",
      "    accuracy                           0.87    270991\n",
      "   macro avg       0.55      0.61      0.56    270991\n",
      "weighted avg       0.92      0.87      0.89    270991\n",
      "\n",
      "{'f1_macro': 0.5592166011807146}\n",
      "Total number of UMLS partitions:  48\n"
     ]
    },
    {
     "name": "stderr",
     "output_type": "stream",
     "text": [
      "WARNING:root:Metrics calculated over data points with non-abstain labels only\n"
     ]
    },
    {
     "name": "stdout",
     "output_type": "stream",
     "text": [
      "              precision    recall  f1-score   support\n",
      "\n",
      "           0       0.96      0.89      0.93    257553\n",
      "           1       0.14      0.32      0.19     13438\n",
      "\n",
      "    accuracy                           0.87    270991\n",
      "   macro avg       0.55      0.61      0.56    270991\n",
      "weighted avg       0.92      0.87      0.89    270991\n",
      "\n",
      "{'f1_macro': 0.559002772388485}\n",
      "Total number of UMLS partitions:  49\n"
     ]
    },
    {
     "name": "stderr",
     "output_type": "stream",
     "text": [
      "WARNING:root:Metrics calculated over data points with non-abstain labels only\n"
     ]
    },
    {
     "name": "stdout",
     "output_type": "stream",
     "text": [
      "              precision    recall  f1-score   support\n",
      "\n",
      "           0       0.96      0.89      0.93    257616\n",
      "           1       0.14      0.32      0.19     13375\n",
      "\n",
      "    accuracy                           0.87    270991\n",
      "   macro avg       0.55      0.61      0.56    270991\n",
      "weighted avg       0.92      0.87      0.89    270991\n",
      "\n",
      "{'f1_macro': 0.5589130119889969}\n",
      "Total number of UMLS partitions:  50\n"
     ]
    },
    {
     "name": "stderr",
     "output_type": "stream",
     "text": [
      "WARNING:root:Metrics calculated over data points with non-abstain labels only\n"
     ]
    },
    {
     "name": "stdout",
     "output_type": "stream",
     "text": [
      "              precision    recall  f1-score   support\n",
      "\n",
      "           0       0.96      0.89      0.93    257666\n",
      "           1       0.14      0.32      0.19     13325\n",
      "\n",
      "    accuracy                           0.87    270991\n",
      "   macro avg       0.55      0.61      0.56    270991\n",
      "weighted avg       0.92      0.87      0.89    270991\n",
      "\n",
      "{'f1_macro': 0.558854259902748}\n",
      "Total number of UMLS partitions:  51\n"
     ]
    },
    {
     "name": "stderr",
     "output_type": "stream",
     "text": [
      "WARNING:root:Metrics calculated over data points with non-abstain labels only\n"
     ]
    },
    {
     "name": "stdout",
     "output_type": "stream",
     "text": [
      "              precision    recall  f1-score   support\n",
      "\n",
      "           0       0.96      0.89      0.93    257641\n",
      "           1       0.14      0.32      0.19     13350\n",
      "\n",
      "    accuracy                           0.87    270991\n",
      "   macro avg       0.55      0.61      0.56    270991\n",
      "weighted avg       0.92      0.87      0.89    270991\n",
      "\n",
      "{'f1_macro': 0.5587740812421373}\n",
      "Total number of UMLS partitions:  52\n"
     ]
    },
    {
     "name": "stderr",
     "output_type": "stream",
     "text": [
      "WARNING:root:Metrics calculated over data points with non-abstain labels only\n"
     ]
    },
    {
     "name": "stdout",
     "output_type": "stream",
     "text": [
      "              precision    recall  f1-score   support\n",
      "\n",
      "           0       0.95      0.89      0.92    253619\n",
      "           1       0.15      0.27      0.19     17372\n",
      "\n",
      "    accuracy                           0.85    270991\n",
      "   macro avg       0.55      0.58      0.56    270991\n",
      "weighted avg       0.90      0.85      0.87    270991\n",
      "\n",
      "{'f1_macro': 0.556753785699741}\n",
      "Total number of UMLS partitions:  53\n"
     ]
    },
    {
     "name": "stderr",
     "output_type": "stream",
     "text": [
      "WARNING:root:Metrics calculated over data points with non-abstain labels only\n"
     ]
    },
    {
     "name": "stdout",
     "output_type": "stream",
     "text": [
      "              precision    recall  f1-score   support\n",
      "\n",
      "           0       0.95      0.89      0.92    253586\n",
      "           1       0.15      0.27      0.19     17405\n",
      "\n",
      "    accuracy                           0.85    270991\n",
      "   macro avg       0.55      0.58      0.56    270991\n",
      "weighted avg       0.90      0.85      0.87    270991\n",
      "\n",
      "{'f1_macro': 0.5571250835785295}\n",
      "Total number of UMLS partitions:  54\n"
     ]
    },
    {
     "name": "stderr",
     "output_type": "stream",
     "text": [
      "WARNING:root:Metrics calculated over data points with non-abstain labels only\n"
     ]
    },
    {
     "name": "stdout",
     "output_type": "stream",
     "text": [
      "              precision    recall  f1-score   support\n",
      "\n",
      "           0       0.94      0.90      0.92    252757\n",
      "           1       0.16      0.27      0.20     18234\n",
      "\n",
      "    accuracy                           0.85    270991\n",
      "   macro avg       0.55      0.58      0.56    270991\n",
      "weighted avg       0.89      0.85      0.87    270991\n",
      "\n",
      "{'f1_macro': 0.5594964238197684}\n",
      "Total number of UMLS partitions:  55\n"
     ]
    },
    {
     "name": "stderr",
     "output_type": "stream",
     "text": [
      "WARNING:root:Metrics calculated over data points with non-abstain labels only\n"
     ]
    },
    {
     "name": "stdout",
     "output_type": "stream",
     "text": [
      "              precision    recall  f1-score   support\n",
      "\n",
      "           0       0.94      0.90      0.92    252840\n",
      "           1       0.16      0.27      0.20     18151\n",
      "\n",
      "    accuracy                           0.85    270991\n",
      "   macro avg       0.55      0.58      0.56    270991\n",
      "weighted avg       0.89      0.85      0.87    270991\n",
      "\n",
      "{'f1_macro': 0.5593771889703203}\n",
      "Total number of UMLS partitions:  56\n"
     ]
    },
    {
     "name": "stderr",
     "output_type": "stream",
     "text": [
      "WARNING:root:Metrics calculated over data points with non-abstain labels only\n"
     ]
    },
    {
     "name": "stdout",
     "output_type": "stream",
     "text": [
      "              precision    recall  f1-score   support\n",
      "\n",
      "           0       0.95      0.90      0.92    253208\n",
      "           1       0.15      0.27      0.20     17783\n",
      "\n",
      "    accuracy                           0.85    270991\n",
      "   macro avg       0.55      0.58      0.56    270991\n",
      "weighted avg       0.89      0.85      0.87    270991\n",
      "\n",
      "{'f1_macro': 0.5588718650351093}\n",
      "Total number of UMLS partitions:  57\n"
     ]
    },
    {
     "name": "stderr",
     "output_type": "stream",
     "text": [
      "WARNING:root:Metrics calculated over data points with non-abstain labels only\n"
     ]
    },
    {
     "name": "stdout",
     "output_type": "stream",
     "text": [
      "              precision    recall  f1-score   support\n",
      "\n",
      "           0       0.95      0.89      0.92    253702\n",
      "           1       0.15      0.28      0.20     17289\n",
      "\n",
      "    accuracy                           0.86    270991\n",
      "   macro avg       0.55      0.59      0.56    270991\n",
      "weighted avg       0.90      0.86      0.87    270991\n",
      "\n",
      "{'f1_macro': 0.5581148229897761}\n",
      "Total number of UMLS partitions:  58\n"
     ]
    },
    {
     "name": "stderr",
     "output_type": "stream",
     "text": [
      "WARNING:root:Metrics calculated over data points with non-abstain labels only\n"
     ]
    },
    {
     "name": "stdout",
     "output_type": "stream",
     "text": [
      "              precision    recall  f1-score   support\n",
      "\n",
      "           0       0.95      0.90      0.92    253770\n",
      "           1       0.15      0.28      0.20     17221\n",
      "\n",
      "    accuracy                           0.86    270991\n",
      "   macro avg       0.55      0.59      0.56    270991\n",
      "weighted avg       0.90      0.86      0.87    270991\n",
      "\n",
      "{'f1_macro': 0.5586196479114833}\n",
      "Total number of UMLS partitions:  59\n"
     ]
    },
    {
     "name": "stderr",
     "output_type": "stream",
     "text": [
      "WARNING:root:Metrics calculated over data points with non-abstain labels only\n"
     ]
    },
    {
     "name": "stdout",
     "output_type": "stream",
     "text": [
      "              precision    recall  f1-score   support\n",
      "\n",
      "           0       0.95      0.90      0.92    253963\n",
      "           1       0.15      0.28      0.20     17028\n",
      "\n",
      "    accuracy                           0.86    270991\n",
      "   macro avg       0.55      0.59      0.56    270991\n",
      "weighted avg       0.90      0.86      0.88    270991\n",
      "\n",
      "{'f1_macro': 0.5588592977885022}\n",
      "Total number of UMLS partitions:  60\n"
     ]
    },
    {
     "name": "stderr",
     "output_type": "stream",
     "text": [
      "WARNING:root:Metrics calculated over data points with non-abstain labels only\n"
     ]
    },
    {
     "name": "stdout",
     "output_type": "stream",
     "text": [
      "              precision    recall  f1-score   support\n",
      "\n",
      "           0       0.95      0.89      0.92    254016\n",
      "           1       0.15      0.28      0.19     16975\n",
      "\n",
      "    accuracy                           0.86    270991\n",
      "   macro avg       0.55      0.59      0.56    270991\n",
      "weighted avg       0.90      0.86      0.88    270991\n",
      "\n",
      "{'f1_macro': 0.5578221647824557}\n",
      "Total number of UMLS partitions:  61\n"
     ]
    },
    {
     "name": "stderr",
     "output_type": "stream",
     "text": [
      "WARNING:root:Metrics calculated over data points with non-abstain labels only\n"
     ]
    },
    {
     "name": "stdout",
     "output_type": "stream",
     "text": [
      "              precision    recall  f1-score   support\n",
      "\n",
      "           0       0.95      0.90      0.92    253696\n",
      "           1       0.16      0.28      0.20     17295\n",
      "\n",
      "    accuracy                           0.86    270991\n",
      "   macro avg       0.55      0.59      0.56    270991\n",
      "weighted avg       0.90      0.86      0.88    270991\n",
      "\n",
      "{'f1_macro': 0.5611866809607555}\n",
      "Total number of UMLS partitions:  62\n"
     ]
    },
    {
     "name": "stderr",
     "output_type": "stream",
     "text": [
      "WARNING:root:Metrics calculated over data points with non-abstain labels only\n"
     ]
    },
    {
     "name": "stdout",
     "output_type": "stream",
     "text": [
      "              precision    recall  f1-score   support\n",
      "\n",
      "           0       0.95      0.90      0.92    253138\n",
      "           1       0.16      0.28      0.21     17853\n",
      "\n",
      "    accuracy                           0.86    270991\n",
      "   macro avg       0.55      0.59      0.56    270991\n",
      "weighted avg       0.89      0.86      0.87    270991\n",
      "\n",
      "{'f1_macro': 0.562963892455353}\n",
      "Total number of UMLS partitions:  63\n"
     ]
    },
    {
     "name": "stderr",
     "output_type": "stream",
     "text": [
      "WARNING:root:Metrics calculated over data points with non-abstain labels only\n"
     ]
    },
    {
     "name": "stdout",
     "output_type": "stream",
     "text": [
      "              precision    recall  f1-score   support\n",
      "\n",
      "           0       0.95      0.90      0.92    253304\n",
      "           1       0.16      0.28      0.20     17687\n",
      "\n",
      "    accuracy                           0.86    270991\n",
      "   macro avg       0.55      0.59      0.56    270991\n",
      "weighted avg       0.90      0.86      0.87    270991\n",
      "\n",
      "{'f1_macro': 0.5617459746901445}\n",
      "Total number of UMLS partitions:  64\n"
     ]
    },
    {
     "name": "stderr",
     "output_type": "stream",
     "text": [
      "WARNING:root:Metrics calculated over data points with non-abstain labels only\n"
     ]
    },
    {
     "name": "stdout",
     "output_type": "stream",
     "text": [
      "              precision    recall  f1-score   support\n",
      "\n",
      "           0       0.95      0.90      0.92    252934\n",
      "           1       0.16      0.28      0.20     18057\n",
      "\n",
      "    accuracy                           0.85    270991\n",
      "   macro avg       0.55      0.59      0.56    270991\n",
      "weighted avg       0.89      0.85      0.87    270991\n",
      "\n",
      "{'f1_macro': 0.5616495138116079}\n",
      "Total number of UMLS partitions:  65\n"
     ]
    },
    {
     "name": "stderr",
     "output_type": "stream",
     "text": [
      "WARNING:root:Metrics calculated over data points with non-abstain labels only\n"
     ]
    },
    {
     "name": "stdout",
     "output_type": "stream",
     "text": [
      "              precision    recall  f1-score   support\n",
      "\n",
      "           0       0.95      0.90      0.92    252798\n",
      "           1       0.16      0.28      0.20     18193\n",
      "\n",
      "    accuracy                           0.85    270991\n",
      "   macro avg       0.55      0.59      0.56    270991\n",
      "weighted avg       0.89      0.85      0.87    270991\n",
      "\n",
      "{'f1_macro': 0.5623755325348361}\n",
      "Total number of UMLS partitions:  66\n"
     ]
    },
    {
     "name": "stderr",
     "output_type": "stream",
     "text": [
      "WARNING:root:Metrics calculated over data points with non-abstain labels only\n"
     ]
    },
    {
     "name": "stdout",
     "output_type": "stream",
     "text": [
      "              precision    recall  f1-score   support\n",
      "\n",
      "           0       0.95      0.90      0.92    252787\n",
      "           1       0.16      0.28      0.21     18204\n",
      "\n",
      "    accuracy                           0.85    270991\n",
      "   macro avg       0.55      0.59      0.56    270991\n",
      "weighted avg       0.89      0.85      0.87    270991\n",
      "\n",
      "{'f1_macro': 0.5626513594894157}\n",
      "Total number of UMLS partitions:  67\n"
     ]
    },
    {
     "name": "stderr",
     "output_type": "stream",
     "text": [
      "WARNING:root:Metrics calculated over data points with non-abstain labels only\n"
     ]
    },
    {
     "name": "stdout",
     "output_type": "stream",
     "text": [
      "              precision    recall  f1-score   support\n",
      "\n",
      "           0       0.94      0.90      0.92    252169\n",
      "           1       0.17      0.28      0.21     18822\n",
      "\n",
      "    accuracy                           0.85    270991\n",
      "   macro avg       0.56      0.59      0.56    270991\n",
      "weighted avg       0.89      0.85      0.87    270991\n",
      "\n",
      "{'f1_macro': 0.5643295186380543}\n",
      "Total number of UMLS partitions:  68\n"
     ]
    },
    {
     "name": "stderr",
     "output_type": "stream",
     "text": [
      "WARNING:root:Metrics calculated over data points with non-abstain labels only\n"
     ]
    },
    {
     "name": "stdout",
     "output_type": "stream",
     "text": [
      "              precision    recall  f1-score   support\n",
      "\n",
      "           0       0.94      0.90      0.92    251866\n",
      "           1       0.17      0.28      0.21     19125\n",
      "\n",
      "    accuracy                           0.85    270991\n",
      "   macro avg       0.56      0.59      0.57    270991\n",
      "weighted avg       0.89      0.85      0.87    270991\n",
      "\n",
      "{'f1_macro': 0.5656598890664923}\n",
      "Total number of UMLS partitions:  69\n"
     ]
    },
    {
     "name": "stderr",
     "output_type": "stream",
     "text": [
      "WARNING:root:Metrics calculated over data points with non-abstain labels only\n"
     ]
    },
    {
     "name": "stdout",
     "output_type": "stream",
     "text": [
      "              precision    recall  f1-score   support\n",
      "\n",
      "           0       0.94      0.90      0.92    251969\n",
      "           1       0.17      0.28      0.21     19022\n",
      "\n",
      "    accuracy                           0.85    270991\n",
      "   macro avg       0.56      0.59      0.57    270991\n",
      "weighted avg       0.89      0.85      0.87    270991\n",
      "\n",
      "{'f1_macro': 0.5654433968708342}\n",
      "Total number of UMLS partitions:  70\n"
     ]
    },
    {
     "name": "stderr",
     "output_type": "stream",
     "text": [
      "WARNING:root:Metrics calculated over data points with non-abstain labels only\n"
     ]
    },
    {
     "name": "stdout",
     "output_type": "stream",
     "text": [
      "              precision    recall  f1-score   support\n",
      "\n",
      "           0       0.94      0.90      0.92    251682\n",
      "           1       0.17      0.28      0.21     19309\n",
      "\n",
      "    accuracy                           0.85    270991\n",
      "   macro avg       0.56      0.59      0.57    270991\n",
      "weighted avg       0.89      0.85      0.87    270991\n",
      "\n",
      "{'f1_macro': 0.5659423830280954}\n",
      "Total number of UMLS partitions:  71\n"
     ]
    },
    {
     "name": "stderr",
     "output_type": "stream",
     "text": [
      "WARNING:root:Metrics calculated over data points with non-abstain labels only\n"
     ]
    },
    {
     "name": "stdout",
     "output_type": "stream",
     "text": [
      "              precision    recall  f1-score   support\n",
      "\n",
      "           0       0.94      0.90      0.92    251829\n",
      "           1       0.17      0.28      0.21     19162\n",
      "\n",
      "    accuracy                           0.85    270991\n",
      "   macro avg       0.56      0.59      0.56    270991\n",
      "weighted avg       0.89      0.85      0.87    270991\n",
      "\n",
      "{'f1_macro': 0.5647782469556979}\n",
      "Total number of UMLS partitions:  72\n"
     ]
    },
    {
     "name": "stderr",
     "output_type": "stream",
     "text": [
      "WARNING:root:Metrics calculated over data points with non-abstain labels only\n"
     ]
    },
    {
     "name": "stdout",
     "output_type": "stream",
     "text": [
      "              precision    recall  f1-score   support\n",
      "\n",
      "           0       0.94      0.90      0.92    250271\n",
      "           1       0.18      0.28      0.22     20720\n",
      "\n",
      "    accuracy                           0.85    270991\n",
      "   macro avg       0.56      0.59      0.57    270991\n",
      "weighted avg       0.88      0.85      0.86    270991\n",
      "\n",
      "{'f1_macro': 0.5687381238825907}\n",
      "Total number of UMLS partitions:  73\n"
     ]
    },
    {
     "name": "stderr",
     "output_type": "stream",
     "text": [
      "WARNING:root:Metrics calculated over data points with non-abstain labels only\n"
     ]
    },
    {
     "name": "stdout",
     "output_type": "stream",
     "text": [
      "              precision    recall  f1-score   support\n",
      "\n",
      "           0       0.93      0.90      0.92    249483\n",
      "           1       0.19      0.28      0.22     21508\n",
      "\n",
      "    accuracy                           0.85    270991\n",
      "   macro avg       0.56      0.59      0.57    270991\n",
      "weighted avg       0.88      0.85      0.86    270991\n",
      "\n",
      "{'f1_macro': 0.5699938510950203}\n",
      "Total number of UMLS partitions:  74\n"
     ]
    },
    {
     "name": "stderr",
     "output_type": "stream",
     "text": [
      "WARNING:root:Metrics calculated over data points with non-abstain labels only\n"
     ]
    },
    {
     "name": "stdout",
     "output_type": "stream",
     "text": [
      "              precision    recall  f1-score   support\n",
      "\n",
      "           0       0.93      0.90      0.91    247603\n",
      "           1       0.20      0.27      0.23     23388\n",
      "\n",
      "    accuracy                           0.84    270991\n",
      "   macro avg       0.56      0.58      0.57    270991\n",
      "weighted avg       0.87      0.84      0.85    270991\n",
      "\n",
      "{'f1_macro': 0.5704351529533755}\n",
      "Total number of UMLS partitions:  75\n"
     ]
    },
    {
     "name": "stderr",
     "output_type": "stream",
     "text": [
      "WARNING:root:Metrics calculated over data points with non-abstain labels only\n"
     ]
    },
    {
     "name": "stdout",
     "output_type": "stream",
     "text": [
      "              precision    recall  f1-score   support\n",
      "\n",
      "           0       0.93      0.90      0.91    247744\n",
      "           1       0.20      0.27      0.23     23247\n",
      "\n",
      "    accuracy                           0.84    270991\n",
      "   macro avg       0.56      0.58      0.57    270991\n",
      "weighted avg       0.87      0.84      0.85    270991\n",
      "\n",
      "{'f1_macro': 0.5696449427929444}\n",
      "Total number of UMLS partitions:  76\n"
     ]
    },
    {
     "name": "stderr",
     "output_type": "stream",
     "text": [
      "WARNING:root:Metrics calculated over data points with non-abstain labels only\n"
     ]
    },
    {
     "name": "stdout",
     "output_type": "stream",
     "text": [
      "              precision    recall  f1-score   support\n",
      "\n",
      "           0       0.92      0.90      0.91    246362\n",
      "           1       0.21      0.27      0.24     24629\n",
      "\n",
      "    accuracy                           0.84    270991\n",
      "   macro avg       0.57      0.58      0.57    270991\n",
      "weighted avg       0.86      0.84      0.85    270991\n",
      "\n",
      "{'f1_macro': 0.5734914440950931}\n",
      "Total number of UMLS partitions:  77\n"
     ]
    },
    {
     "name": "stderr",
     "output_type": "stream",
     "text": [
      "WARNING:root:Metrics calculated over data points with non-abstain labels only\n"
     ]
    },
    {
     "name": "stdout",
     "output_type": "stream",
     "text": [
      "              precision    recall  f1-score   support\n",
      "\n",
      "           0       0.92      0.90      0.91    246071\n",
      "           1       0.21      0.27      0.24     24920\n",
      "\n",
      "    accuracy                           0.84    270991\n",
      "   macro avg       0.57      0.58      0.57    270991\n",
      "weighted avg       0.86      0.84      0.85    270991\n",
      "\n",
      "{'f1_macro': 0.573191912730997}\n",
      "Total number of UMLS partitions:  78\n"
     ]
    },
    {
     "name": "stderr",
     "output_type": "stream",
     "text": [
      "WARNING:root:Metrics calculated over data points with non-abstain labels only\n"
     ]
    },
    {
     "name": "stdout",
     "output_type": "stream",
     "text": [
      "              precision    recall  f1-score   support\n",
      "\n",
      "           0       0.92      0.90      0.91    244278\n",
      "           1       0.22      0.26      0.24     26713\n",
      "\n",
      "    accuracy                           0.84    270991\n",
      "   macro avg       0.57      0.58      0.57    270991\n",
      "weighted avg       0.85      0.84      0.84    270991\n",
      "\n",
      "{'f1_macro': 0.5748329579558308}\n",
      "Total number of UMLS partitions:  79\n"
     ]
    },
    {
     "name": "stderr",
     "output_type": "stream",
     "text": [
      "WARNING:root:Metrics calculated over data points with non-abstain labels only\n"
     ]
    },
    {
     "name": "stdout",
     "output_type": "stream",
     "text": [
      "              precision    recall  f1-score   support\n",
      "\n",
      "           0       0.90      0.90      0.90    239204\n",
      "           1       0.26      0.26      0.26     31787\n",
      "\n",
      "    accuracy                           0.83    270991\n",
      "   macro avg       0.58      0.58      0.58    270991\n",
      "weighted avg       0.83      0.83      0.83    270991\n",
      "\n",
      "{'f1_macro': 0.5813238086069942}\n",
      "Total number of UMLS partitions:  80\n"
     ]
    },
    {
     "name": "stderr",
     "output_type": "stream",
     "text": [
      "WARNING:root:Metrics calculated over data points with non-abstain labels only\n"
     ]
    },
    {
     "name": "stdout",
     "output_type": "stream",
     "text": [
      "              precision    recall  f1-score   support\n",
      "\n",
      "           0       0.90      0.90      0.90    237730\n",
      "           1       0.27      0.25      0.26     33261\n",
      "\n",
      "    accuracy                           0.82    270991\n",
      "   macro avg       0.58      0.58      0.58    270991\n",
      "weighted avg       0.82      0.82      0.82    270991\n",
      "\n",
      "{'f1_macro': 0.5809819124711737}\n",
      "Total number of UMLS partitions:  81\n"
     ]
    },
    {
     "name": "stderr",
     "output_type": "stream",
     "text": [
      "WARNING:root:Metrics calculated over data points with non-abstain labels only\n"
     ]
    },
    {
     "name": "stdout",
     "output_type": "stream",
     "text": [
      "              precision    recall  f1-score   support\n",
      "\n",
      "           0       0.90      0.90      0.90    238061\n",
      "           1       0.27      0.25      0.26     32930\n",
      "\n",
      "    accuracy                           0.82    270991\n",
      "   macro avg       0.58      0.58      0.58    270991\n",
      "weighted avg       0.82      0.82      0.82    270991\n",
      "\n",
      "{'f1_macro': 0.5802909573267367}\n"
     ]
    }
   ],
   "source": [
    "train(partitioned_o_umls, umls_o, nonumls_o, ds_o, heur_o, dict_o, df_data_train, df_data_val, 'o')"
   ]
  },
  {
   "cell_type": "code",
   "execution_count": null,
   "id": "a0accd46",
   "metadata": {},
   "outputs": [],
   "source": []
  }
 ],
 "metadata": {
  "kernelspec": {
   "display_name": "Python 3",
   "language": "python",
   "name": "python3"
  },
  "language_info": {
   "codemirror_mode": {
    "name": "ipython",
    "version": 3
   },
   "file_extension": ".py",
   "mimetype": "text/x-python",
   "name": "python",
   "nbconvert_exporter": "python",
   "pygments_lexer": "ipython3",
   "version": "3.6.9"
  }
 },
 "nbformat": 4,
 "nbformat_minor": 5
}

{
 "cells": [
  {
   "cell_type": "code",
   "execution_count": 1,
   "id": "6b3b4e82",
   "metadata": {},
   "outputs": [],
   "source": [
    "import enum\n",
    "import glob\n",
    "import os\n",
    "from hashlib import new\n",
    "from pathlib import Path\n",
    "import time\n",
    "\n",
    "import functools\n",
    "\n",
    "import numpy as np\n",
    "import pandas as pd\n",
    "import scipy\n",
    "from flyingsquid.label_model import LabelModel as LMsquid\n",
    "from sklearn.model_selection import train_test_split\n",
    "from sklearn.metrics import classification_report\n",
    "from snorkel.labeling.model import LabelModel as LMsnorkel\n",
    "from snorkel.labeling.model import MajorityLabelVoter"
   ]
  },
  {
   "cell_type": "code",
   "execution_count": 2,
   "id": "9d5b0a8a",
   "metadata": {},
   "outputs": [],
   "source": [
    "from sklearn.exceptions import UndefinedMetricWarning\n",
    "\n",
    "def warn(*args, **kwargs):\n",
    "    pass\n",
    "import warnings\n",
    "warnings.warn = warn"
   ]
  },
  {
   "cell_type": "code",
   "execution_count": 8,
   "id": "5d1d2219",
   "metadata": {},
   "outputs": [],
   "source": [
    "def list2Nested(l, nested_length):\n",
    "    return [l[i:i+nested_length] for i in range(0, len(l), nested_length)]"
   ]
  },
  {
   "cell_type": "code",
   "execution_count": 9,
   "id": "736e7d99",
   "metadata": {},
   "outputs": [],
   "source": [
    "# Fetch UMLS ranks\n",
    "\n",
    "sum_lf_p = '/mnt/nas2/results/Results/systematicReview/distant_pico/EBM_PICO_GT/lf_p_summary_train.csv'\n",
    "sum_lf_i = '/mnt/nas2/results/Results/systematicReview/distant_pico/EBM_PICO_GT/lf_i_summary_train.csv'\n",
    "sum_lf_o = '/mnt/nas2/results/Results/systematicReview/distant_pico/EBM_PICO_GT/lf_o_summary_train.csv'\n",
    "\n",
    "\n",
    "def fetchRank(sum_lf_d):\n",
    "    \n",
    "    ranked_umls_coverage = dict()    \n",
    "    umls_coverage_ = dict()\n",
    "    \n",
    "    data=pd.read_csv(sum_lf_d, sep='\\t')\n",
    "    \n",
    "    for index, row in data.iterrows():\n",
    "        if row[0].startswith('UMLS_fuzzy_'):\n",
    "            umls_coverage_[row[0]] = row[3]\n",
    "    \n",
    "    umls_coverage_sorted = sorted(umls_coverage_.items(), key=lambda x: x[1], reverse=True)\n",
    "    \n",
    "    for i in umls_coverage_sorted:\n",
    "        k = str(i[0]).split('_')[-1]\n",
    "        ranked_umls_coverage[k] = i[1]\n",
    "\n",
    "    return ranked_umls_coverage\n",
    "\n",
    "ranksorted_p_umls = fetchRank(sum_lf_p)\n",
    "ranksorted_i_umls = fetchRank(sum_lf_i)\n",
    "ranksorted_o_umls = fetchRank(sum_lf_o)"
   ]
  },
  {
   "cell_type": "code",
   "execution_count": 10,
   "id": "a8976e98",
   "metadata": {},
   "outputs": [],
   "source": [
    "# Partition LF's\n",
    "\n",
    "def partitionLFs(umls_d):\n",
    "    \n",
    "    keys = list(umls_d.keys())\n",
    "\n",
    "    partitioned_lfs = [ ]\n",
    "    \n",
    "    for i in range( 0, len(keys) ):\n",
    "\n",
    "        if i == 0 or i == len(keys):\n",
    "            if i == 0:\n",
    "                partitioned_lfs.append( [keys] )\n",
    "            if i ==len(keys):\n",
    "                temp3 = list2Nested(keys, 1)\n",
    "                partitioned_lfs.append( temp3 )\n",
    "        else:\n",
    "            temp1, temp2 = keys[:i] , keys[i:]\n",
    "            temp3 = list2Nested( keys[:i], 1)\n",
    "            temp3.append( keys[i:] )\n",
    "            partitioned_lfs.append( temp3 )\n",
    "    \n",
    "    return partitioned_lfs\n",
    "\n",
    "\n",
    "partitioned_p_umls = partitionLFs(ranksorted_p_umls)\n",
    "partitioned_i_umls = partitionLFs(ranksorted_i_umls)\n",
    "partitioned_o_umls = partitionLFs(ranksorted_o_umls)"
   ]
  },
  {
   "cell_type": "code",
   "execution_count": 11,
   "id": "0638a0ad",
   "metadata": {},
   "outputs": [],
   "source": [
    "import LMutils\n",
    "\n",
    "# validation_labels   \n",
    "# validation_labels_tui_pio2   \n",
    "file = '/mnt/nas2/results/Results/systematicReview/distant_pico/EBM_PICO_GT/validation_labels_tui_pio2.tsv'\n",
    "df_data = pd.read_csv(file, sep='\\t', header=0)"
   ]
  },
  {
   "cell_type": "code",
   "execution_count": 12,
   "id": "4ea04a06",
   "metadata": {},
   "outputs": [],
   "source": [
    "Y_tokens = df_data['tokens']"
   ]
  },
  {
   "cell_type": "code",
   "execution_count": 13,
   "id": "0c7fe1d5",
   "metadata": {},
   "outputs": [],
   "source": [
    "Y_tokens = df_data['tokens']\n",
    "#Y_p = df_data['p']\n",
    "#Y_i = df_data['i']\n",
    "#Y_o = df_data['o']\n",
    "df_data_train, df_data_val = train_test_split(df_data, test_size=0.20, shuffle=False)"
   ]
  },
  {
   "cell_type": "code",
   "execution_count": 14,
   "id": "ce0e5ebe",
   "metadata": {},
   "outputs": [],
   "source": [
    "splits = ['train', 'dev']\n",
    "X_sents = [\n",
    "    df_data_train.tokens,\n",
    "    df_data_val.tokens,\n",
    "]"
   ]
  },
  {
   "cell_type": "code",
   "execution_count": 15,
   "id": "dc29465e",
   "metadata": {},
   "outputs": [],
   "source": [
    "X_seq_lens = [\n",
    "    np.array([len(str(s)) for s in X_sents[i]])\n",
    "    for i,name in enumerate(splits)\n",
    "]"
   ]
  },
  {
   "cell_type": "code",
   "execution_count": 16,
   "id": "6b5b641a",
   "metadata": {},
   "outputs": [],
   "source": [
    "X_seq_lens = [\n",
    "    np.array( [ len(X_sents[i]) ] )\n",
    "    for i,name in enumerate(splits)\n",
    "]"
   ]
  },
  {
   "cell_type": "code",
   "execution_count": 17,
   "id": "a1119c42",
   "metadata": {},
   "outputs": [
    {
     "name": "stdout",
     "output_type": "stream",
     "text": [
      "Total number of tokens in validation set:  1354953\n",
      "Total number of LFs in the dictionary 613\n"
     ]
    }
   ],
   "source": [
    "# Read Candidate labels from multiple LFs\n",
    "indir = '/mnt/nas2/results/Results/systematicReview/distant_pico/candidate_generation'\n",
    "pathlist = Path(indir).glob('**/*.tsv')\n",
    "\n",
    "tokens = []\n",
    "\n",
    "lfs = dict()\n",
    "\n",
    "for file in pathlist:\n",
    "\n",
    "    k = str( file ).split('candidate_generation/')[-1].replace('.tsv', '').replace('/', '_')\n",
    "    mypath = Path(file)\n",
    "    if mypath.stat().st_size != 0:\n",
    "        data = pd.read_csv(file, sep='\\t', header=0)\n",
    "    if len(tokens) == 0:\n",
    "        tokens.extend( list(data.tokens) )\n",
    "    \n",
    "    sab = data.columns[-1]\n",
    "    if len(list( data[sab] )) == 1354953:\n",
    "        lfs[str(k)] = list( data[sab] )[:len(Y_tokens)]\n",
    "\n",
    "\n",
    "print( 'Total number of tokens in validation set: ', len(tokens) )\n",
    "print( 'Total number of LFs in the dictionary', len(lfs) )"
   ]
  },
  {
   "cell_type": "code",
   "execution_count": 18,
   "id": "001d73ed",
   "metadata": {},
   "outputs": [],
   "source": [
    "def lf_levels(umls_d:dict, pattern:str, picos:str):\n",
    "\n",
    "    umls_level = dict()\n",
    "\n",
    "    for key, value in umls_d.items():   # iter on both keys and values\n",
    "        search_pattern = pattern + picos\n",
    "        if key.startswith(search_pattern):\n",
    "            k = str(key).split('_')[-1]\n",
    "            umls_level[ k ] = value\n",
    "\n",
    "    return umls_level\n",
    "\n",
    "# Level 1: UMLS\n",
    "umls_p = lf_levels(lfs, 'UMLS_fuzzy_', 'p')\n",
    "umls_i = lf_levels(lfs, 'UMLS_fuzzy_', 'i')\n",
    "umls_o = lf_levels(lfs, 'UMLS_fuzzy_', 'o')\n",
    "\n",
    "# Level 2: non UMLS\n",
    "nonumls_p = lf_levels(lfs, 'nonUMLS_fuzzy_', 'P')\n",
    "nonumls_i = lf_levels(lfs, 'nonUMLS_fuzzy_', 'I')\n",
    "nonumls_o = lf_levels(lfs, 'nonUMLS_fuzzy_', 'O')\n",
    "\n",
    "# Level 3: DS\n",
    "ds_p = lf_levels(lfs, 'DS_fuzzy_', 'P')\n",
    "ds_i = lf_levels(lfs, 'DS_fuzzy_', 'I')\n",
    "ds_o = lf_levels(lfs, 'DS_fuzzy_', 'O')\n",
    "\n",
    "# Level 4: dictionary, rules, heuristics\n",
    "heur_p = lf_levels(lfs, 'heuristics_direct_', 'P')\n",
    "heur_i = lf_levels(lfs, 'heuristics_direct_', 'I')\n",
    "heur_o = lf_levels(lfs, 'heuristics_direct_', 'O')\n",
    "\n",
    "dict_p = lf_levels(lfs, 'dictionary_direct_', 'P')\n",
    "dict_i = lf_levels(lfs, 'dictionary_direct_', 'I')\n",
    "dict_o = lf_levels(lfs, 'dictionary_direct_', 'O')"
   ]
  },
  {
   "cell_type": "code",
   "execution_count": 19,
   "id": "c0cc37ed",
   "metadata": {},
   "outputs": [],
   "source": [
    "def compare(s, t):\n",
    "    return sorted(s) == sorted(t)\n",
    "\n",
    "def getLFs(partition:list, umls_d:dict, seed_len:int):\n",
    "\n",
    "    all_lfs_combined = []\n",
    "    \n",
    "    for lf in partition: # for each lf in a partition\n",
    "        \n",
    "        combine_here = [0] * seed_len\n",
    "\n",
    "        for sab in lf:\n",
    "            new_a = umls_d[sab]\n",
    "            old_a = combine_here\n",
    "            temp_a = []\n",
    "            for o_a, n_a in zip(old_a, new_a):\n",
    "                if compare([o_a, n_a] ,[-1, 1]) == True:\n",
    "                    replace_a = max( o_a, n_a )\n",
    "                    temp_a.append( replace_a )\n",
    "                elif compare([o_a, n_a] ,[0, 1]) == True:\n",
    "                    replace_a = max( o_a, n_a )\n",
    "                    temp_a.append( replace_a )\n",
    "                elif compare([o_a, n_a] ,[-1, 0]) == True:\n",
    "                    replace_a = min( o_a, n_a )\n",
    "                    temp_a.append( replace_a )\n",
    "                else:\n",
    "                    temp_a.append( o_a )\n",
    "\n",
    "            combine_here = temp_a\n",
    "\n",
    "        all_lfs_combined.append( combine_here )\n",
    "\n",
    "    return all_lfs_combined"
   ]
  },
  {
   "cell_type": "code",
   "execution_count": 20,
   "id": "78a1e865",
   "metadata": {},
   "outputs": [],
   "source": [
    "def train(partitioned_d_umls, umls_d, non_umls_d, ds_d, heur_d, dict_d, df_data_train, df_data_val, picos):\n",
    "   \n",
    "    model_class_init = {\n",
    "        'cardinality': 2, \n",
    "        'verbose': True\n",
    "    }\n",
    "\n",
    "\n",
    "    '''#########################################################################\n",
    "    # Choosing the number of LF's from UMLS all\n",
    "    #########################################################################'''\n",
    "    \n",
    "    for i, partition in enumerate(partitioned_d_umls):\n",
    "\n",
    "        combined_lf = getLFs(partition, umls_d, len(Y_tokens))\n",
    "        assert len(partition) == len(combined_lf)\n",
    "\n",
    "        print( 'Total number of UMLS partitions: ', len(partition) )\n",
    "        combined_lf.extend( list(non_umls_d.values()) ) # Combine with level 2\n",
    "        combined_lf.extend( list(ds_d.values()) ) # Combine with level 3\n",
    "        combined_lf.extend( list(heur_d.values()) ) # Combine with level 4\n",
    "        combined_lf.extend( list(dict_d.values()) ) # combine with level 4\n",
    "\n",
    "        L = np.array(combined_lf)\n",
    "        L = np.transpose(L)\n",
    "        L_train, L_val = train_test_split(L, test_size=0.20, shuffle=False)\n",
    "\n",
    "        Y_train = df_data_train[picos]\n",
    "        Y_val = df_data_val[picos]\n",
    "      \n",
    "        model = LMsnorkel(cardinality=2)\n",
    "        #model.fit( L_train, n_epochs=2000, mu_eps=0.0000001, lr=0.001 )\n",
    "        model.fit( L_train, n_epochs=2000, mu_eps=0.0000001, lr=0.001, optimizer='adam' )\n",
    "        \n",
    "        preds = model.predict( L_val )\n",
    "        cr = classification_report( preds, Y_val )\n",
    "        scores = model.score( L_val, Y_val, metrics=['f1_macro'] )\n",
    "        \n",
    "        \n",
    "        print( cr )\n",
    "        print( scores )"
   ]
  },
  {
   "cell_type": "code",
   "execution_count": 21,
   "id": "af2a61f3",
   "metadata": {},
   "outputs": [
    {
     "name": "stdout",
     "output_type": "stream",
     "text": [
      "Total number of UMLS partitions:  1\n"
     ]
    },
    {
     "name": "stderr",
     "output_type": "stream",
     "text": [
      "WARNING:root:Metrics calculated over data points with non-abstain labels only\n"
     ]
    },
    {
     "name": "stdout",
     "output_type": "stream",
     "text": [
      "              precision    recall  f1-score   support\n",
      "\n",
      "           0       0.91      0.88      0.90    245557\n",
      "           1       0.14      0.18      0.16     25434\n",
      "\n",
      "    accuracy                           0.82    270991\n",
      "   macro avg       0.53      0.53      0.53    270991\n",
      "weighted avg       0.84      0.82      0.83    270991\n",
      "\n",
      "{'f1_macro': 0.5274760046581259}\n",
      "Total number of UMLS partitions:  2\n"
     ]
    },
    {
     "name": "stderr",
     "output_type": "stream",
     "text": [
      "WARNING:root:Metrics calculated over data points with non-abstain labels only\n"
     ]
    },
    {
     "name": "stdout",
     "output_type": "stream",
     "text": [
      "              precision    recall  f1-score   support\n",
      "\n",
      "           0       0.91      0.88      0.90    245451\n",
      "           1       0.14      0.18      0.16     25540\n",
      "\n",
      "    accuracy                           0.82    270991\n",
      "   macro avg       0.53      0.53      0.53    270991\n",
      "weighted avg       0.84      0.82      0.83    270991\n",
      "\n",
      "{'f1_macro': 0.5272705067679955}\n",
      "Total number of UMLS partitions:  3\n"
     ]
    },
    {
     "name": "stderr",
     "output_type": "stream",
     "text": [
      "WARNING:root:Metrics calculated over data points with non-abstain labels only\n"
     ]
    },
    {
     "name": "stdout",
     "output_type": "stream",
     "text": [
      "              precision    recall  f1-score   support\n",
      "\n",
      "           0       0.91      0.88      0.90    245389\n",
      "           1       0.14      0.18      0.16     25602\n",
      "\n",
      "    accuracy                           0.82    270991\n",
      "   macro avg       0.53      0.53      0.53    270991\n",
      "weighted avg       0.84      0.82      0.83    270991\n",
      "\n",
      "{'f1_macro': 0.5275549365252}\n",
      "Total number of UMLS partitions:  4\n"
     ]
    },
    {
     "name": "stderr",
     "output_type": "stream",
     "text": [
      "WARNING:root:Metrics calculated over data points with non-abstain labels only\n"
     ]
    },
    {
     "name": "stdout",
     "output_type": "stream",
     "text": [
      "              precision    recall  f1-score   support\n",
      "\n",
      "           0       0.91      0.88      0.90    245360\n",
      "           1       0.14      0.18      0.16     25631\n",
      "\n",
      "    accuracy                           0.82    270991\n",
      "   macro avg       0.53      0.53      0.53    270991\n",
      "weighted avg       0.84      0.82      0.83    270991\n",
      "\n",
      "{'f1_macro': 0.527806543889889}\n",
      "Total number of UMLS partitions:  5\n"
     ]
    },
    {
     "name": "stderr",
     "output_type": "stream",
     "text": [
      "WARNING:root:Metrics calculated over data points with non-abstain labels only\n"
     ]
    },
    {
     "name": "stdout",
     "output_type": "stream",
     "text": [
      "              precision    recall  f1-score   support\n",
      "\n",
      "           0       0.91      0.88      0.90    245301\n",
      "           1       0.14      0.18      0.16     25690\n",
      "\n",
      "    accuracy                           0.82    270991\n",
      "   macro avg       0.53      0.53      0.53    270991\n",
      "weighted avg       0.84      0.82      0.83    270991\n",
      "\n",
      "{'f1_macro': 0.5277360962143686}\n",
      "Total number of UMLS partitions:  6\n"
     ]
    },
    {
     "name": "stderr",
     "output_type": "stream",
     "text": [
      "WARNING:root:Metrics calculated over data points with non-abstain labels only\n"
     ]
    },
    {
     "name": "stdout",
     "output_type": "stream",
     "text": [
      "              precision    recall  f1-score   support\n",
      "\n",
      "           0       0.91      0.88      0.90    245256\n",
      "           1       0.14      0.18      0.16     25735\n",
      "\n",
      "    accuracy                           0.82    270991\n",
      "   macro avg       0.53      0.53      0.53    270991\n",
      "weighted avg       0.84      0.82      0.83    270991\n",
      "\n",
      "{'f1_macro': 0.5277194079425347}\n",
      "Total number of UMLS partitions:  7\n"
     ]
    },
    {
     "name": "stderr",
     "output_type": "stream",
     "text": [
      "WARNING:root:Metrics calculated over data points with non-abstain labels only\n"
     ]
    },
    {
     "name": "stdout",
     "output_type": "stream",
     "text": [
      "              precision    recall  f1-score   support\n",
      "\n",
      "           0       0.91      0.88      0.90    245256\n",
      "           1       0.14      0.18      0.16     25735\n",
      "\n",
      "    accuracy                           0.82    270991\n",
      "   macro avg       0.53      0.53      0.53    270991\n",
      "weighted avg       0.84      0.82      0.83    270991\n",
      "\n",
      "{'f1_macro': 0.5277194079425347}\n",
      "Total number of UMLS partitions:  8\n"
     ]
    },
    {
     "name": "stderr",
     "output_type": "stream",
     "text": [
      "WARNING:root:Metrics calculated over data points with non-abstain labels only\n"
     ]
    },
    {
     "name": "stdout",
     "output_type": "stream",
     "text": [
      "              precision    recall  f1-score   support\n",
      "\n",
      "           0       0.91      0.88      0.90    245256\n",
      "           1       0.14      0.18      0.16     25735\n",
      "\n",
      "    accuracy                           0.82    270991\n",
      "   macro avg       0.53      0.53      0.53    270991\n",
      "weighted avg       0.84      0.82      0.83    270991\n",
      "\n",
      "{'f1_macro': 0.5277194079425347}\n",
      "Total number of UMLS partitions:  9\n"
     ]
    },
    {
     "name": "stderr",
     "output_type": "stream",
     "text": [
      "WARNING:root:Metrics calculated over data points with non-abstain labels only\n"
     ]
    },
    {
     "name": "stdout",
     "output_type": "stream",
     "text": [
      "              precision    recall  f1-score   support\n",
      "\n",
      "           0       0.91      0.88      0.90    245165\n",
      "           1       0.14      0.18      0.16     25826\n",
      "\n",
      "    accuracy                           0.82    270991\n",
      "   macro avg       0.53      0.53      0.53    270991\n",
      "weighted avg       0.84      0.82      0.83    270991\n",
      "\n",
      "{'f1_macro': 0.5276264870688147}\n",
      "Total number of UMLS partitions:  10\n"
     ]
    },
    {
     "name": "stderr",
     "output_type": "stream",
     "text": [
      "WARNING:root:Metrics calculated over data points with non-abstain labels only\n"
     ]
    },
    {
     "name": "stdout",
     "output_type": "stream",
     "text": [
      "              precision    recall  f1-score   support\n",
      "\n",
      "           0       0.91      0.88      0.90    245179\n",
      "           1       0.14      0.18      0.16     25812\n",
      "\n",
      "    accuracy                           0.82    270991\n",
      "   macro avg       0.53      0.53      0.53    270991\n",
      "weighted avg       0.84      0.82      0.83    270991\n",
      "\n",
      "{'f1_macro': 0.5276612241926623}\n",
      "Total number of UMLS partitions:  11\n"
     ]
    },
    {
     "name": "stderr",
     "output_type": "stream",
     "text": [
      "WARNING:root:Metrics calculated over data points with non-abstain labels only\n"
     ]
    },
    {
     "name": "stdout",
     "output_type": "stream",
     "text": [
      "              precision    recall  f1-score   support\n",
      "\n",
      "           0       0.91      0.88      0.90    245179\n",
      "           1       0.14      0.18      0.16     25812\n",
      "\n",
      "    accuracy                           0.82    270991\n",
      "   macro avg       0.53      0.53      0.53    270991\n",
      "weighted avg       0.84      0.82      0.83    270991\n",
      "\n",
      "{'f1_macro': 0.5276802042929518}\n",
      "Total number of UMLS partitions:  12\n"
     ]
    },
    {
     "name": "stderr",
     "output_type": "stream",
     "text": [
      "WARNING:root:Metrics calculated over data points with non-abstain labels only\n"
     ]
    },
    {
     "name": "stdout",
     "output_type": "stream",
     "text": [
      "              precision    recall  f1-score   support\n",
      "\n",
      "           0       0.91      0.88      0.90    244661\n",
      "           1       0.14      0.18      0.16     26330\n",
      "\n",
      "    accuracy                           0.82    270991\n",
      "   macro avg       0.53      0.53      0.53    270991\n",
      "weighted avg       0.83      0.82      0.82    270991\n",
      "\n",
      "{'f1_macro': 0.5281328936590346}\n",
      "Total number of UMLS partitions:  13\n"
     ]
    },
    {
     "name": "stderr",
     "output_type": "stream",
     "text": [
      "WARNING:root:Metrics calculated over data points with non-abstain labels only\n"
     ]
    },
    {
     "name": "stdout",
     "output_type": "stream",
     "text": [
      "              precision    recall  f1-score   support\n",
      "\n",
      "           0       0.91      0.88      0.90    244757\n",
      "           1       0.14      0.18      0.16     26234\n",
      "\n",
      "    accuracy                           0.82    270991\n",
      "   macro avg       0.53      0.53      0.53    270991\n",
      "weighted avg       0.84      0.82      0.83    270991\n",
      "\n",
      "{'f1_macro': 0.5282963385711005}\n",
      "Total number of UMLS partitions:  14\n"
     ]
    },
    {
     "name": "stderr",
     "output_type": "stream",
     "text": [
      "WARNING:root:Metrics calculated over data points with non-abstain labels only\n"
     ]
    },
    {
     "name": "stdout",
     "output_type": "stream",
     "text": [
      "              precision    recall  f1-score   support\n",
      "\n",
      "           0       0.91      0.88      0.90    244852\n",
      "           1       0.14      0.18      0.16     26139\n",
      "\n",
      "    accuracy                           0.82    270991\n",
      "   macro avg       0.53      0.53      0.53    270991\n",
      "weighted avg       0.84      0.82      0.83    270991\n",
      "\n",
      "{'f1_macro': 0.5291374377363072}\n",
      "Total number of UMLS partitions:  15\n"
     ]
    },
    {
     "name": "stderr",
     "output_type": "stream",
     "text": [
      "WARNING:root:Metrics calculated over data points with non-abstain labels only\n"
     ]
    },
    {
     "name": "stdout",
     "output_type": "stream",
     "text": [
      "              precision    recall  f1-score   support\n",
      "\n",
      "           0       0.91      0.88      0.90    245720\n",
      "           1       0.14      0.19      0.16     25271\n",
      "\n",
      "    accuracy                           0.82    270991\n",
      "   macro avg       0.53      0.53      0.53    270991\n",
      "weighted avg       0.84      0.82      0.83    270991\n",
      "\n",
      "{'f1_macro': 0.5295071979426323}\n",
      "Total number of UMLS partitions:  16\n"
     ]
    },
    {
     "name": "stderr",
     "output_type": "stream",
     "text": [
      "WARNING:root:Metrics calculated over data points with non-abstain labels only\n"
     ]
    },
    {
     "name": "stdout",
     "output_type": "stream",
     "text": [
      "              precision    recall  f1-score   support\n",
      "\n",
      "           0       0.91      0.88      0.90    245399\n",
      "           1       0.14      0.19      0.16     25592\n",
      "\n",
      "    accuracy                           0.82    270991\n",
      "   macro avg       0.53      0.54      0.53    270991\n",
      "weighted avg       0.84      0.82      0.83    270991\n",
      "\n",
      "{'f1_macro': 0.5302837513561901}\n",
      "Total number of UMLS partitions:  17\n"
     ]
    },
    {
     "name": "stderr",
     "output_type": "stream",
     "text": [
      "WARNING:root:Metrics calculated over data points with non-abstain labels only\n"
     ]
    },
    {
     "name": "stdout",
     "output_type": "stream",
     "text": [
      "              precision    recall  f1-score   support\n",
      "\n",
      "           0       0.91      0.88      0.90    245493\n",
      "           1       0.14      0.19      0.16     25498\n",
      "\n",
      "    accuracy                           0.82    270991\n",
      "   macro avg       0.53      0.54      0.53    270991\n",
      "weighted avg       0.84      0.82      0.83    270991\n",
      "\n",
      "{'f1_macro': 0.5304828130747223}\n",
      "Total number of UMLS partitions:  18\n"
     ]
    },
    {
     "name": "stderr",
     "output_type": "stream",
     "text": [
      "WARNING:root:Metrics calculated over data points with non-abstain labels only\n"
     ]
    },
    {
     "name": "stdout",
     "output_type": "stream",
     "text": [
      "              precision    recall  f1-score   support\n",
      "\n",
      "           0       0.91      0.88      0.90    245851\n",
      "           1       0.14      0.19      0.16     25140\n",
      "\n",
      "    accuracy                           0.82    270991\n",
      "   macro avg       0.53      0.54      0.53    270991\n",
      "weighted avg       0.84      0.82      0.83    270991\n",
      "\n",
      "{'f1_macro': 0.5304116813474122}\n",
      "Total number of UMLS partitions:  19\n"
     ]
    },
    {
     "name": "stderr",
     "output_type": "stream",
     "text": [
      "WARNING:root:Metrics calculated over data points with non-abstain labels only\n"
     ]
    },
    {
     "name": "stdout",
     "output_type": "stream",
     "text": [
      "              precision    recall  f1-score   support\n",
      "\n",
      "           0       0.92      0.88      0.90    248169\n",
      "           1       0.14      0.20      0.16     22822\n",
      "\n",
      "    accuracy                           0.83    270991\n",
      "   macro avg       0.53      0.54      0.53    270991\n",
      "weighted avg       0.86      0.83      0.84    270991\n",
      "\n",
      "{'f1_macro': 0.532034694021219}\n",
      "Total number of UMLS partitions:  20\n"
     ]
    },
    {
     "name": "stderr",
     "output_type": "stream",
     "text": [
      "WARNING:root:Metrics calculated over data points with non-abstain labels only\n"
     ]
    },
    {
     "name": "stdout",
     "output_type": "stream",
     "text": [
      "              precision    recall  f1-score   support\n",
      "\n",
      "           0       0.92      0.88      0.90    247998\n",
      "           1       0.14      0.20      0.16     22993\n",
      "\n",
      "    accuracy                           0.83    270991\n",
      "   macro avg       0.53      0.54      0.53    270991\n",
      "weighted avg       0.86      0.83      0.84    270991\n",
      "\n",
      "{'f1_macro': 0.531914144125108}\n",
      "Total number of UMLS partitions:  21\n"
     ]
    },
    {
     "name": "stderr",
     "output_type": "stream",
     "text": [
      "WARNING:root:Metrics calculated over data points with non-abstain labels only\n"
     ]
    },
    {
     "name": "stdout",
     "output_type": "stream",
     "text": [
      "              precision    recall  f1-score   support\n",
      "\n",
      "           0       0.96      0.89      0.92    257052\n",
      "           1       0.12      0.28      0.17     13939\n",
      "\n",
      "    accuracy                           0.85    270991\n",
      "   macro avg       0.54      0.58      0.54    270991\n",
      "weighted avg       0.91      0.85      0.88    270991\n",
      "\n",
      "{'f1_macro': 0.5438266179699208}\n",
      "Total number of UMLS partitions:  22\n"
     ]
    },
    {
     "name": "stderr",
     "output_type": "stream",
     "text": [
      "WARNING:root:Metrics calculated over data points with non-abstain labels only\n"
     ]
    },
    {
     "name": "stdout",
     "output_type": "stream",
     "text": [
      "              precision    recall  f1-score   support\n",
      "\n",
      "           0       0.96      0.89      0.92    257317\n",
      "           1       0.12      0.28      0.17     13674\n",
      "\n",
      "    accuracy                           0.86    270991\n",
      "   macro avg       0.54      0.58      0.54    270991\n",
      "weighted avg       0.92      0.86      0.88    270991\n",
      "\n",
      "{'f1_macro': 0.5428631013350294}\n",
      "Total number of UMLS partitions:  23\n"
     ]
    },
    {
     "name": "stderr",
     "output_type": "stream",
     "text": [
      "WARNING:root:Metrics calculated over data points with non-abstain labels only\n"
     ]
    },
    {
     "name": "stdout",
     "output_type": "stream",
     "text": [
      "              precision    recall  f1-score   support\n",
      "\n",
      "           0       0.96      0.89      0.92    258882\n",
      "           1       0.11      0.30      0.16     12109\n",
      "\n",
      "    accuracy                           0.86    270991\n",
      "   macro avg       0.54      0.59      0.54    270991\n",
      "weighted avg       0.93      0.86      0.89    270991\n",
      "\n",
      "{'f1_macro': 0.5404392579499879}\n",
      "Total number of UMLS partitions:  24\n"
     ]
    },
    {
     "name": "stderr",
     "output_type": "stream",
     "text": [
      "WARNING:root:Metrics calculated over data points with non-abstain labels only\n"
     ]
    },
    {
     "name": "stdout",
     "output_type": "stream",
     "text": [
      "              precision    recall  f1-score   support\n",
      "\n",
      "           0       0.97      0.88      0.92    259641\n",
      "           1       0.10      0.31      0.16     11350\n",
      "\n",
      "    accuracy                           0.86    270991\n",
      "   macro avg       0.54      0.60      0.54    270991\n",
      "weighted avg       0.93      0.86      0.89    270991\n",
      "\n",
      "{'f1_macro': 0.5396998809982368}\n",
      "Total number of UMLS partitions:  25\n"
     ]
    },
    {
     "name": "stderr",
     "output_type": "stream",
     "text": [
      "WARNING:root:Metrics calculated over data points with non-abstain labels only\n"
     ]
    },
    {
     "name": "stdout",
     "output_type": "stream",
     "text": [
      "              precision    recall  f1-score   support\n",
      "\n",
      "           0       0.97      0.88      0.92    260266\n",
      "           1       0.10      0.31      0.15     10725\n",
      "\n",
      "    accuracy                           0.86    270991\n",
      "   macro avg       0.53      0.60      0.54    270991\n",
      "weighted avg       0.93      0.86      0.89    270991\n",
      "\n",
      "{'f1_macro': 0.5373998252237397}\n",
      "Total number of UMLS partitions:  26\n"
     ]
    },
    {
     "name": "stderr",
     "output_type": "stream",
     "text": [
      "WARNING:root:Metrics calculated over data points with non-abstain labels only\n"
     ]
    },
    {
     "name": "stdout",
     "output_type": "stream",
     "text": [
      "              precision    recall  f1-score   support\n",
      "\n",
      "           0       0.97      0.88      0.92    259924\n",
      "           1       0.10      0.30      0.15     11067\n",
      "\n",
      "    accuracy                           0.86    270991\n",
      "   macro avg       0.53      0.59      0.54    270991\n",
      "weighted avg       0.93      0.86      0.89    270991\n",
      "\n",
      "{'f1_macro': 0.5379491711943838}\n",
      "Total number of UMLS partitions:  27\n"
     ]
    },
    {
     "name": "stderr",
     "output_type": "stream",
     "text": [
      "WARNING:root:Metrics calculated over data points with non-abstain labels only\n"
     ]
    },
    {
     "name": "stdout",
     "output_type": "stream",
     "text": [
      "              precision    recall  f1-score   support\n",
      "\n",
      "           0       0.97      0.88      0.92    259890\n",
      "           1       0.10      0.30      0.15     11101\n",
      "\n",
      "    accuracy                           0.86    270991\n",
      "   macro avg       0.53      0.59      0.54    270991\n",
      "weighted avg       0.93      0.86      0.89    270991\n",
      "\n",
      "{'f1_macro': 0.5379034482705422}\n",
      "Total number of UMLS partitions:  28\n"
     ]
    },
    {
     "name": "stderr",
     "output_type": "stream",
     "text": [
      "WARNING:root:Metrics calculated over data points with non-abstain labels only\n"
     ]
    },
    {
     "name": "stdout",
     "output_type": "stream",
     "text": [
      "              precision    recall  f1-score   support\n",
      "\n",
      "           0       0.97      0.88      0.92    259836\n",
      "           1       0.10      0.30      0.15     11155\n",
      "\n",
      "    accuracy                           0.86    270991\n",
      "   macro avg       0.53      0.59      0.54    270991\n",
      "weighted avg       0.93      0.86      0.89    270991\n",
      "\n",
      "{'f1_macro': 0.5381449164442954}\n",
      "Total number of UMLS partitions:  29\n"
     ]
    },
    {
     "name": "stderr",
     "output_type": "stream",
     "text": [
      "WARNING:root:Metrics calculated over data points with non-abstain labels only\n"
     ]
    },
    {
     "name": "stdout",
     "output_type": "stream",
     "text": [
      "              precision    recall  f1-score   support\n",
      "\n",
      "           0       0.97      0.88      0.92    259828\n",
      "           1       0.10      0.30      0.15     11163\n",
      "\n",
      "    accuracy                           0.86    270991\n",
      "   macro avg       0.53      0.59      0.54    270991\n",
      "weighted avg       0.93      0.86      0.89    270991\n",
      "\n",
      "{'f1_macro': 0.5381225915832561}\n",
      "Total number of UMLS partitions:  30\n"
     ]
    },
    {
     "name": "stderr",
     "output_type": "stream",
     "text": [
      "WARNING:root:Metrics calculated over data points with non-abstain labels only\n"
     ]
    },
    {
     "name": "stdout",
     "output_type": "stream",
     "text": [
      "              precision    recall  f1-score   support\n",
      "\n",
      "           0       0.97      0.88      0.92    259790\n",
      "           1       0.10      0.30      0.15     11201\n",
      "\n",
      "    accuracy                           0.86    270991\n",
      "   macro avg       0.53      0.59      0.54    270991\n",
      "weighted avg       0.93      0.86      0.89    270991\n",
      "\n",
      "{'f1_macro': 0.5383591570085335}\n",
      "Total number of UMLS partitions:  31\n"
     ]
    },
    {
     "name": "stderr",
     "output_type": "stream",
     "text": [
      "WARNING:root:Metrics calculated over data points with non-abstain labels only\n"
     ]
    },
    {
     "name": "stdout",
     "output_type": "stream",
     "text": [
      "              precision    recall  f1-score   support\n",
      "\n",
      "           0       0.97      0.88      0.92    259550\n",
      "           1       0.10      0.30      0.15     11441\n",
      "\n",
      "    accuracy                           0.86    270991\n",
      "   macro avg       0.53      0.59      0.54    270991\n",
      "weighted avg       0.93      0.86      0.89    270991\n",
      "\n",
      "{'f1_macro': 0.5387618550687951}\n",
      "Total number of UMLS partitions:  32\n"
     ]
    },
    {
     "name": "stderr",
     "output_type": "stream",
     "text": [
      "WARNING:root:Metrics calculated over data points with non-abstain labels only\n"
     ]
    },
    {
     "name": "stdout",
     "output_type": "stream",
     "text": [
      "              precision    recall  f1-score   support\n",
      "\n",
      "           0       0.97      0.88      0.92    259418\n",
      "           1       0.10      0.30      0.15     11573\n",
      "\n",
      "    accuracy                           0.86    270991\n",
      "   macro avg       0.53      0.59      0.54    270991\n",
      "weighted avg       0.93      0.86      0.89    270991\n",
      "\n",
      "{'f1_macro': 0.5387086844691252}\n",
      "Total number of UMLS partitions:  33\n"
     ]
    },
    {
     "name": "stderr",
     "output_type": "stream",
     "text": [
      "WARNING:root:Metrics calculated over data points with non-abstain labels only\n"
     ]
    },
    {
     "name": "stdout",
     "output_type": "stream",
     "text": [
      "              precision    recall  f1-score   support\n",
      "\n",
      "           0       0.97      0.88      0.92    259416\n",
      "           1       0.10      0.30      0.15     11575\n",
      "\n",
      "    accuracy                           0.86    270991\n",
      "   macro avg       0.53      0.59      0.54    270991\n",
      "weighted avg       0.93      0.86      0.89    270991\n",
      "\n",
      "{'f1_macro': 0.5387030926886975}\n",
      "Total number of UMLS partitions:  34\n"
     ]
    },
    {
     "name": "stderr",
     "output_type": "stream",
     "text": [
      "WARNING:root:Metrics calculated over data points with non-abstain labels only\n"
     ]
    },
    {
     "name": "stdout",
     "output_type": "stream",
     "text": [
      "              precision    recall  f1-score   support\n",
      "\n",
      "           0       0.96      0.89      0.92    258342\n",
      "           1       0.11      0.29      0.16     12649\n",
      "\n",
      "    accuracy                           0.86    270991\n",
      "   macro avg       0.54      0.59      0.54    270991\n",
      "weighted avg       0.92      0.86      0.89    270991\n",
      "\n",
      "{'f1_macro': 0.5408267916406049}\n",
      "Total number of UMLS partitions:  35\n"
     ]
    },
    {
     "name": "stderr",
     "output_type": "stream",
     "text": [
      "WARNING:root:Metrics calculated over data points with non-abstain labels only\n"
     ]
    },
    {
     "name": "stdout",
     "output_type": "stream",
     "text": [
      "              precision    recall  f1-score   support\n",
      "\n",
      "           0       0.96      0.89      0.92    258056\n",
      "           1       0.11      0.28      0.16     12935\n",
      "\n",
      "    accuracy                           0.86    270991\n",
      "   macro avg       0.54      0.58      0.54    270991\n",
      "weighted avg       0.92      0.86      0.89    270991\n",
      "\n",
      "{'f1_macro': 0.5402353464510513}\n",
      "Total number of UMLS partitions:  36\n"
     ]
    },
    {
     "name": "stderr",
     "output_type": "stream",
     "text": [
      "WARNING:root:Metrics calculated over data points with non-abstain labels only\n"
     ]
    },
    {
     "name": "stdout",
     "output_type": "stream",
     "text": [
      "              precision    recall  f1-score   support\n",
      "\n",
      "           0       0.96      0.89      0.92    258058\n",
      "           1       0.11      0.28      0.16     12933\n",
      "\n",
      "    accuracy                           0.86    270991\n",
      "   macro avg       0.54      0.58      0.54    270991\n",
      "weighted avg       0.92      0.86      0.89    270991\n",
      "\n",
      "{'f1_macro': 0.5402409582212769}\n",
      "Total number of UMLS partitions:  37\n"
     ]
    },
    {
     "name": "stderr",
     "output_type": "stream",
     "text": [
      "WARNING:root:Metrics calculated over data points with non-abstain labels only\n"
     ]
    },
    {
     "name": "stdout",
     "output_type": "stream",
     "text": [
      "              precision    recall  f1-score   support\n",
      "\n",
      "           0       0.96      0.89      0.92    258058\n",
      "           1       0.11      0.28      0.16     12933\n",
      "\n",
      "    accuracy                           0.86    270991\n",
      "   macro avg       0.54      0.58      0.54    270991\n",
      "weighted avg       0.92      0.86      0.89    270991\n",
      "\n",
      "{'f1_macro': 0.5402409582212769}\n",
      "Total number of UMLS partitions:  38\n"
     ]
    },
    {
     "name": "stderr",
     "output_type": "stream",
     "text": [
      "WARNING:root:Metrics calculated over data points with non-abstain labels only\n"
     ]
    },
    {
     "name": "stdout",
     "output_type": "stream",
     "text": [
      "              precision    recall  f1-score   support\n",
      "\n",
      "           0       0.96      0.89      0.92    258064\n",
      "           1       0.11      0.28      0.16     12927\n",
      "\n",
      "    accuracy                           0.86    270991\n",
      "   macro avg       0.54      0.58      0.54    270991\n",
      "weighted avg       0.92      0.86      0.89    270991\n",
      "\n",
      "{'f1_macro': 0.5402577952095263}\n",
      "Total number of UMLS partitions:  39\n"
     ]
    },
    {
     "name": "stderr",
     "output_type": "stream",
     "text": [
      "WARNING:root:Metrics calculated over data points with non-abstain labels only\n"
     ]
    },
    {
     "name": "stdout",
     "output_type": "stream",
     "text": [
      "              precision    recall  f1-score   support\n",
      "\n",
      "           0       0.96      0.89      0.92    258077\n",
      "           1       0.11      0.28      0.16     12914\n",
      "\n",
      "    accuracy                           0.86    270991\n",
      "   macro avg       0.54      0.58      0.54    270991\n",
      "weighted avg       0.92      0.86      0.89    270991\n",
      "\n",
      "{'f1_macro': 0.5402942839874324}\n",
      "Total number of UMLS partitions:  40\n"
     ]
    },
    {
     "name": "stderr",
     "output_type": "stream",
     "text": [
      "WARNING:root:Metrics calculated over data points with non-abstain labels only\n"
     ]
    },
    {
     "name": "stdout",
     "output_type": "stream",
     "text": [
      "              precision    recall  f1-score   support\n",
      "\n",
      "           0       0.96      0.89      0.92    257788\n",
      "           1       0.11      0.29      0.16     13203\n",
      "\n",
      "    accuracy                           0.86    270991\n",
      "   macro avg       0.54      0.59      0.54    270991\n",
      "weighted avg       0.92      0.86      0.88    270991\n",
      "\n",
      "{'f1_macro': 0.5416252386470387}\n",
      "Total number of UMLS partitions:  41\n"
     ]
    },
    {
     "name": "stderr",
     "output_type": "stream",
     "text": [
      "WARNING:root:Metrics calculated over data points with non-abstain labels only\n"
     ]
    },
    {
     "name": "stdout",
     "output_type": "stream",
     "text": [
      "              precision    recall  f1-score   support\n",
      "\n",
      "           0       0.96      0.89      0.92    257347\n",
      "           1       0.12      0.28      0.16     13644\n",
      "\n",
      "    accuracy                           0.86    270991\n",
      "   macro avg       0.54      0.58      0.54    270991\n",
      "weighted avg       0.92      0.86      0.88    270991\n",
      "\n",
      "{'f1_macro': 0.542598860290865}\n",
      "Total number of UMLS partitions:  42\n"
     ]
    },
    {
     "name": "stderr",
     "output_type": "stream",
     "text": [
      "WARNING:root:Metrics calculated over data points with non-abstain labels only\n"
     ]
    },
    {
     "name": "stdout",
     "output_type": "stream",
     "text": [
      "              precision    recall  f1-score   support\n",
      "\n",
      "           0       0.96      0.89      0.92    257385\n",
      "           1       0.12      0.28      0.16     13606\n",
      "\n",
      "    accuracy                           0.86    270991\n",
      "   macro avg       0.54      0.58      0.54    270991\n",
      "weighted avg       0.92      0.86      0.88    270991\n",
      "\n",
      "{'f1_macro': 0.5425435834655317}\n",
      "Total number of UMLS partitions:  43\n"
     ]
    },
    {
     "name": "stderr",
     "output_type": "stream",
     "text": [
      "WARNING:root:Metrics calculated over data points with non-abstain labels only\n"
     ]
    },
    {
     "name": "stdout",
     "output_type": "stream",
     "text": [
      "              precision    recall  f1-score   support\n",
      "\n",
      "           0       0.92      0.88      0.90    246885\n",
      "           1       0.14      0.19      0.16     24106\n",
      "\n",
      "    accuracy                           0.82    270991\n",
      "   macro avg       0.53      0.54      0.53    270991\n",
      "weighted avg       0.85      0.82      0.83    270991\n",
      "\n",
      "{'f1_macro': 0.5293070692506696}\n",
      "Total number of UMLS partitions:  44\n"
     ]
    },
    {
     "name": "stderr",
     "output_type": "stream",
     "text": [
      "WARNING:root:Metrics calculated over data points with non-abstain labels only\n"
     ]
    },
    {
     "name": "stdout",
     "output_type": "stream",
     "text": [
      "              precision    recall  f1-score   support\n",
      "\n",
      "           0       0.92      0.88      0.90    246986\n",
      "           1       0.14      0.19      0.16     24005\n",
      "\n",
      "    accuracy                           0.82    270991\n",
      "   macro avg       0.53      0.54      0.53    270991\n",
      "weighted avg       0.85      0.82      0.83    270991\n",
      "\n",
      "{'f1_macro': 0.5290735284346096}\n",
      "Total number of UMLS partitions:  45\n"
     ]
    },
    {
     "name": "stderr",
     "output_type": "stream",
     "text": [
      "WARNING:root:Metrics calculated over data points with non-abstain labels only\n"
     ]
    },
    {
     "name": "stdout",
     "output_type": "stream",
     "text": [
      "              precision    recall  f1-score   support\n",
      "\n",
      "           0       0.95      0.89      0.92    255369\n",
      "           1       0.12      0.26      0.17     15622\n",
      "\n",
      "    accuracy                           0.85    270991\n",
      "   macro avg       0.54      0.57      0.54    270991\n",
      "weighted avg       0.90      0.85      0.87    270991\n",
      "\n",
      "{'f1_macro': 0.5414448995936689}\n",
      "Total number of UMLS partitions:  46\n"
     ]
    },
    {
     "name": "stderr",
     "output_type": "stream",
     "text": [
      "WARNING:root:Metrics calculated over data points with non-abstain labels only\n"
     ]
    },
    {
     "name": "stdout",
     "output_type": "stream",
     "text": [
      "              precision    recall  f1-score   support\n",
      "\n",
      "           0       0.95      0.89      0.92    255241\n",
      "           1       0.13      0.26      0.17     15750\n",
      "\n",
      "    accuracy                           0.85    270991\n",
      "   macro avg       0.54      0.58      0.54    270991\n",
      "weighted avg       0.90      0.85      0.87    270991\n",
      "\n",
      "{'f1_macro': 0.5435975015432797}\n",
      "Total number of UMLS partitions:  47\n"
     ]
    },
    {
     "name": "stderr",
     "output_type": "stream",
     "text": [
      "WARNING:root:Metrics calculated over data points with non-abstain labels only\n"
     ]
    },
    {
     "name": "stdout",
     "output_type": "stream",
     "text": [
      "              precision    recall  f1-score   support\n",
      "\n",
      "           0       0.95      0.89      0.92    255768\n",
      "           1       0.12      0.27      0.17     15223\n",
      "\n",
      "    accuracy                           0.85    270991\n",
      "   macro avg       0.54      0.58      0.54    270991\n",
      "weighted avg       0.91      0.85      0.88    270991\n",
      "\n",
      "{'f1_macro': 0.5428351404465072}\n",
      "Total number of UMLS partitions:  48\n"
     ]
    },
    {
     "name": "stderr",
     "output_type": "stream",
     "text": [
      "WARNING:root:Metrics calculated over data points with non-abstain labels only\n"
     ]
    },
    {
     "name": "stdout",
     "output_type": "stream",
     "text": [
      "              precision    recall  f1-score   support\n",
      "\n",
      "           0       0.95      0.89      0.92    255952\n",
      "           1       0.12      0.27      0.17     15039\n",
      "\n",
      "    accuracy                           0.85    270991\n",
      "   macro avg       0.54      0.58      0.54    270991\n",
      "weighted avg       0.91      0.85      0.88    270991\n",
      "\n",
      "{'f1_macro': 0.5428107101147026}\n",
      "Total number of UMLS partitions:  49\n"
     ]
    },
    {
     "name": "stderr",
     "output_type": "stream",
     "text": [
      "WARNING:root:Metrics calculated over data points with non-abstain labels only\n"
     ]
    },
    {
     "name": "stdout",
     "output_type": "stream",
     "text": [
      "              precision    recall  f1-score   support\n",
      "\n",
      "           0       0.95      0.89      0.92    256023\n",
      "           1       0.12      0.27      0.17     14968\n",
      "\n",
      "    accuracy                           0.85    270991\n",
      "   macro avg       0.54      0.58      0.54    270991\n",
      "weighted avg       0.91      0.85      0.88    270991\n",
      "\n",
      "{'f1_macro': 0.5425567775349975}\n",
      "Total number of UMLS partitions:  50\n"
     ]
    },
    {
     "name": "stderr",
     "output_type": "stream",
     "text": [
      "WARNING:root:Metrics calculated over data points with non-abstain labels only\n"
     ]
    },
    {
     "name": "stdout",
     "output_type": "stream",
     "text": [
      "              precision    recall  f1-score   support\n",
      "\n",
      "           0       0.95      0.89      0.92    255958\n",
      "           1       0.12      0.27      0.17     15033\n",
      "\n",
      "    accuracy                           0.85    270991\n",
      "   macro avg       0.54      0.58      0.54    270991\n",
      "weighted avg       0.91      0.85      0.88    270991\n",
      "\n",
      "{'f1_macro': 0.5445758390814586}\n",
      "Total number of UMLS partitions:  51\n"
     ]
    },
    {
     "name": "stderr",
     "output_type": "stream",
     "text": [
      "WARNING:root:Metrics calculated over data points with non-abstain labels only\n"
     ]
    },
    {
     "name": "stdout",
     "output_type": "stream",
     "text": [
      "              precision    recall  f1-score   support\n",
      "\n",
      "           0       0.96      0.89      0.92    255515\n",
      "           1       0.16      0.34      0.21     15476\n",
      "\n",
      "    accuracy                           0.86    270991\n",
      "   macro avg       0.56      0.61      0.57    270991\n",
      "weighted avg       0.91      0.86      0.88    270991\n",
      "\n",
      "{'f1_macro': 0.5675458578764905}\n",
      "Total number of UMLS partitions:  52\n"
     ]
    },
    {
     "name": "stderr",
     "output_type": "stream",
     "text": [
      "WARNING:root:Metrics calculated over data points with non-abstain labels only\n"
     ]
    },
    {
     "name": "stdout",
     "output_type": "stream",
     "text": [
      "              precision    recall  f1-score   support\n",
      "\n",
      "           0       0.96      0.89      0.92    255464\n",
      "           1       0.16      0.33      0.21     15527\n",
      "\n",
      "    accuracy                           0.86    270991\n",
      "   macro avg       0.56      0.61      0.57    270991\n",
      "weighted avg       0.91      0.86      0.88    270991\n",
      "\n",
      "{'f1_macro': 0.5674464469739096}\n",
      "Total number of UMLS partitions:  53\n"
     ]
    },
    {
     "name": "stderr",
     "output_type": "stream",
     "text": [
      "WARNING:root:Metrics calculated over data points with non-abstain labels only\n"
     ]
    },
    {
     "name": "stdout",
     "output_type": "stream",
     "text": [
      "              precision    recall  f1-score   support\n",
      "\n",
      "           0       0.96      0.89      0.92    255547\n",
      "           1       0.16      0.34      0.21     15444\n",
      "\n",
      "    accuracy                           0.86    270991\n",
      "   macro avg       0.56      0.61      0.57    270991\n",
      "weighted avg       0.91      0.86      0.88    270991\n",
      "\n",
      "{'f1_macro': 0.5675155061072596}\n",
      "Total number of UMLS partitions:  54\n"
     ]
    },
    {
     "name": "stderr",
     "output_type": "stream",
     "text": [
      "WARNING:root:Metrics calculated over data points with non-abstain labels only\n"
     ]
    },
    {
     "name": "stdout",
     "output_type": "stream",
     "text": [
      "              precision    recall  f1-score   support\n",
      "\n",
      "           0       0.96      0.89      0.92    254800\n",
      "           1       0.17      0.35      0.23     16191\n",
      "\n",
      "    accuracy                           0.86    270991\n",
      "   macro avg       0.56      0.62      0.58    270991\n",
      "weighted avg       0.91      0.86      0.88    270991\n",
      "\n",
      "{'f1_macro': 0.5758493106049511}\n",
      "Total number of UMLS partitions:  55\n"
     ]
    },
    {
     "name": "stderr",
     "output_type": "stream",
     "text": [
      "WARNING:root:Metrics calculated over data points with non-abstain labels only\n"
     ]
    },
    {
     "name": "stdout",
     "output_type": "stream",
     "text": [
      "              precision    recall  f1-score   support\n",
      "\n",
      "           0       0.96      0.89      0.92    254984\n",
      "           1       0.17      0.35      0.23     16007\n",
      "\n",
      "    accuracy                           0.86    270991\n",
      "   macro avg       0.56      0.62      0.57    270991\n",
      "weighted avg       0.91      0.86      0.88    270991\n",
      "\n",
      "{'f1_macro': 0.5741588113434045}\n",
      "Total number of UMLS partitions:  56\n"
     ]
    },
    {
     "name": "stderr",
     "output_type": "stream",
     "text": [
      "WARNING:root:Metrics calculated over data points with non-abstain labels only\n"
     ]
    },
    {
     "name": "stdout",
     "output_type": "stream",
     "text": [
      "              precision    recall  f1-score   support\n",
      "\n",
      "           0       0.96      0.89      0.92    254725\n",
      "           1       0.17      0.35      0.23     16266\n",
      "\n",
      "    accuracy                           0.86    270991\n",
      "   macro avg       0.56      0.62      0.58    270991\n",
      "weighted avg       0.91      0.86      0.88    270991\n",
      "\n",
      "{'f1_macro': 0.5756605212593807}\n",
      "Total number of UMLS partitions:  57\n"
     ]
    },
    {
     "name": "stderr",
     "output_type": "stream",
     "text": [
      "WARNING:root:Metrics calculated over data points with non-abstain labels only\n"
     ]
    },
    {
     "name": "stdout",
     "output_type": "stream",
     "text": [
      "              precision    recall  f1-score   support\n",
      "\n",
      "           0       0.95      0.89      0.92    253990\n",
      "           1       0.17      0.34      0.23     17001\n",
      "\n",
      "    accuracy                           0.86    270991\n",
      "   macro avg       0.56      0.61      0.57    270991\n",
      "weighted avg       0.90      0.86      0.88    270991\n",
      "\n",
      "{'f1_macro': 0.5744533852436252}\n",
      "Total number of UMLS partitions:  58\n"
     ]
    },
    {
     "name": "stderr",
     "output_type": "stream",
     "text": [
      "WARNING:root:Metrics calculated over data points with non-abstain labels only\n"
     ]
    },
    {
     "name": "stdout",
     "output_type": "stream",
     "text": [
      "              precision    recall  f1-score   support\n",
      "\n",
      "           0       0.95      0.89      0.92    253876\n",
      "           1       0.17      0.34      0.23     17115\n",
      "\n",
      "    accuracy                           0.86    270991\n",
      "   macro avg       0.56      0.62      0.58    270991\n",
      "weighted avg       0.90      0.86      0.88    270991\n",
      "\n",
      "{'f1_macro': 0.5757319558181513}\n",
      "Total number of UMLS partitions:  59\n"
     ]
    },
    {
     "name": "stderr",
     "output_type": "stream",
     "text": [
      "WARNING:root:Metrics calculated over data points with non-abstain labels only\n"
     ]
    },
    {
     "name": "stdout",
     "output_type": "stream",
     "text": [
      "              precision    recall  f1-score   support\n",
      "\n",
      "           0       0.95      0.89      0.92    252926\n",
      "           1       0.18      0.33      0.23     18065\n",
      "\n",
      "    accuracy                           0.85    270991\n",
      "   macro avg       0.56      0.61      0.58    270991\n",
      "weighted avg       0.90      0.85      0.87    270991\n",
      "\n",
      "{'f1_macro': 0.5758463691246715}\n",
      "Total number of UMLS partitions:  60\n"
     ]
    },
    {
     "name": "stderr",
     "output_type": "stream",
     "text": [
      "WARNING:root:Metrics calculated over data points with non-abstain labels only\n"
     ]
    },
    {
     "name": "stdout",
     "output_type": "stream",
     "text": [
      "              precision    recall  f1-score   support\n",
      "\n",
      "           0       0.95      0.89      0.92    252898\n",
      "           1       0.18      0.33      0.23     18093\n",
      "\n",
      "    accuracy                           0.85    270991\n",
      "   macro avg       0.56      0.61      0.58    270991\n",
      "weighted avg       0.90      0.85      0.87    270991\n",
      "\n",
      "{'f1_macro': 0.5762679926652328}\n",
      "Total number of UMLS partitions:  61\n"
     ]
    },
    {
     "name": "stderr",
     "output_type": "stream",
     "text": [
      "WARNING:root:Metrics calculated over data points with non-abstain labels only\n"
     ]
    },
    {
     "name": "stdout",
     "output_type": "stream",
     "text": [
      "              precision    recall  f1-score   support\n",
      "\n",
      "           0       0.95      0.89      0.92    253111\n",
      "           1       0.18      0.33      0.23     17880\n",
      "\n",
      "    accuracy                           0.86    270991\n",
      "   macro avg       0.56      0.61      0.58    270991\n",
      "weighted avg       0.90      0.86      0.87    270991\n",
      "\n",
      "{'f1_macro': 0.5764908888690703}\n",
      "Total number of UMLS partitions:  62\n"
     ]
    },
    {
     "name": "stderr",
     "output_type": "stream",
     "text": [
      "WARNING:root:Metrics calculated over data points with non-abstain labels only\n"
     ]
    },
    {
     "name": "stdout",
     "output_type": "stream",
     "text": [
      "              precision    recall  f1-score   support\n",
      "\n",
      "           0       0.95      0.89      0.92    252866\n",
      "           1       0.18      0.33      0.24     18125\n",
      "\n",
      "    accuracy                           0.85    270991\n",
      "   macro avg       0.57      0.61      0.58    270991\n",
      "weighted avg       0.90      0.85      0.87    270991\n",
      "\n",
      "{'f1_macro': 0.577534641451636}\n",
      "Total number of UMLS partitions:  63\n"
     ]
    },
    {
     "name": "stderr",
     "output_type": "stream",
     "text": [
      "WARNING:root:Metrics calculated over data points with non-abstain labels only\n"
     ]
    },
    {
     "name": "stdout",
     "output_type": "stream",
     "text": [
      "              precision    recall  f1-score   support\n",
      "\n",
      "           0       0.95      0.89      0.92    252761\n",
      "           1       0.18      0.33      0.24     18230\n",
      "\n",
      "    accuracy                           0.85    270991\n",
      "   macro avg       0.57      0.61      0.58    270991\n",
      "weighted avg       0.90      0.85      0.87    270991\n",
      "\n",
      "{'f1_macro': 0.5777795940545045}\n",
      "Total number of UMLS partitions:  64\n"
     ]
    },
    {
     "name": "stderr",
     "output_type": "stream",
     "text": [
      "WARNING:root:Metrics calculated over data points with non-abstain labels only\n"
     ]
    },
    {
     "name": "stdout",
     "output_type": "stream",
     "text": [
      "              precision    recall  f1-score   support\n",
      "\n",
      "           0       0.95      0.89      0.92    252480\n",
      "           1       0.18      0.33      0.24     18511\n",
      "\n",
      "    accuracy                           0.85    270991\n",
      "   macro avg       0.57      0.61      0.58    270991\n",
      "weighted avg       0.90      0.85      0.87    270991\n",
      "\n",
      "{'f1_macro': 0.5775771560308435}\n",
      "Total number of UMLS partitions:  65\n"
     ]
    },
    {
     "name": "stderr",
     "output_type": "stream",
     "text": [
      "WARNING:root:Metrics calculated over data points with non-abstain labels only\n"
     ]
    },
    {
     "name": "stdout",
     "output_type": "stream",
     "text": [
      "              precision    recall  f1-score   support\n",
      "\n",
      "           0       0.95      0.89      0.92    252311\n",
      "           1       0.18      0.33      0.24     18680\n",
      "\n",
      "    accuracy                           0.85    270991\n",
      "   macro avg       0.57      0.61      0.58    270991\n",
      "weighted avg       0.89      0.85      0.87    270991\n",
      "\n",
      "{'f1_macro': 0.5776029084722311}\n",
      "Total number of UMLS partitions:  66\n"
     ]
    },
    {
     "name": "stderr",
     "output_type": "stream",
     "text": [
      "WARNING:root:Metrics calculated over data points with non-abstain labels only\n"
     ]
    },
    {
     "name": "stdout",
     "output_type": "stream",
     "text": [
      "              precision    recall  f1-score   support\n",
      "\n",
      "           0       0.95      0.89      0.92    252034\n",
      "           1       0.19      0.33      0.24     18957\n",
      "\n",
      "    accuracy                           0.85    270991\n",
      "   macro avg       0.57      0.61      0.58    270991\n",
      "weighted avg       0.89      0.85      0.87    270991\n",
      "\n",
      "{'f1_macro': 0.5780472050566368}\n",
      "Total number of UMLS partitions:  67\n"
     ]
    },
    {
     "name": "stderr",
     "output_type": "stream",
     "text": [
      "WARNING:root:Metrics calculated over data points with non-abstain labels only\n"
     ]
    },
    {
     "name": "stdout",
     "output_type": "stream",
     "text": [
      "              precision    recall  f1-score   support\n",
      "\n",
      "           0       0.94      0.89      0.92    250467\n",
      "           1       0.19      0.31      0.24     20524\n",
      "\n",
      "    accuracy                           0.85    270991\n",
      "   macro avg       0.57      0.60      0.58    270991\n",
      "weighted avg       0.88      0.85      0.86    270991\n",
      "\n",
      "{'f1_macro': 0.577144473075367}\n",
      "Total number of UMLS partitions:  68\n"
     ]
    },
    {
     "name": "stderr",
     "output_type": "stream",
     "text": [
      "WARNING:root:Metrics calculated over data points with non-abstain labels only\n"
     ]
    },
    {
     "name": "stdout",
     "output_type": "stream",
     "text": [
      "              precision    recall  f1-score   support\n",
      "\n",
      "           0       0.94      0.89      0.92    250499\n",
      "           1       0.19      0.31      0.24     20492\n",
      "\n",
      "    accuracy                           0.85    270991\n",
      "   macro avg       0.57      0.60      0.58    270991\n",
      "weighted avg       0.88      0.85      0.86    270991\n",
      "\n",
      "{'f1_macro': 0.5772095948203292}\n",
      "Total number of UMLS partitions:  69\n"
     ]
    },
    {
     "name": "stderr",
     "output_type": "stream",
     "text": [
      "WARNING:root:Metrics calculated over data points with non-abstain labels only\n"
     ]
    },
    {
     "name": "stdout",
     "output_type": "stream",
     "text": [
      "              precision    recall  f1-score   support\n",
      "\n",
      "           0       0.94      0.89      0.91    249500\n",
      "           1       0.20      0.31      0.24     21491\n",
      "\n",
      "    accuracy                           0.85    270991\n",
      "   macro avg       0.57      0.60      0.58    270991\n",
      "weighted avg       0.88      0.85      0.86    270991\n",
      "\n",
      "{'f1_macro': 0.5772949340826197}\n",
      "Total number of UMLS partitions:  70\n"
     ]
    },
    {
     "name": "stderr",
     "output_type": "stream",
     "text": [
      "WARNING:root:Metrics calculated over data points with non-abstain labels only\n"
     ]
    },
    {
     "name": "stdout",
     "output_type": "stream",
     "text": [
      "              precision    recall  f1-score   support\n",
      "\n",
      "           0       0.94      0.89      0.91    249711\n",
      "           1       0.20      0.31      0.24     21280\n",
      "\n",
      "    accuracy                           0.85    270991\n",
      "   macro avg       0.57      0.60      0.58    270991\n",
      "weighted avg       0.88      0.85      0.86    270991\n",
      "\n",
      "{'f1_macro': 0.5777494004502668}\n",
      "Total number of UMLS partitions:  71\n"
     ]
    },
    {
     "name": "stderr",
     "output_type": "stream",
     "text": [
      "WARNING:root:Metrics calculated over data points with non-abstain labels only\n"
     ]
    },
    {
     "name": "stdout",
     "output_type": "stream",
     "text": [
      "              precision    recall  f1-score   support\n",
      "\n",
      "           0       0.94      0.89      0.92    249793\n",
      "           1       0.20      0.31      0.24     21198\n",
      "\n",
      "    accuracy                           0.85    270991\n",
      "   macro avg       0.57      0.60      0.58    270991\n",
      "weighted avg       0.88      0.85      0.86    270991\n",
      "\n",
      "{'f1_macro': 0.5778992254726523}\n",
      "Total number of UMLS partitions:  72\n"
     ]
    },
    {
     "name": "stderr",
     "output_type": "stream",
     "text": [
      "WARNING:root:Metrics calculated over data points with non-abstain labels only\n"
     ]
    },
    {
     "name": "stdout",
     "output_type": "stream",
     "text": [
      "              precision    recall  f1-score   support\n",
      "\n",
      "           0       0.94      0.89      0.92    249807\n",
      "           1       0.20      0.31      0.24     21184\n",
      "\n",
      "    accuracy                           0.85    270991\n",
      "   macro avg       0.57      0.60      0.58    270991\n",
      "weighted avg       0.88      0.85      0.86    270991\n",
      "\n",
      "{'f1_macro': 0.578190469379257}\n"
     ]
    }
   ],
   "source": [
    "train(partitioned_p_umls, umls_p, nonumls_p, ds_p, heur_p, dict_p, df_data_train, df_data_val, 'p')"
   ]
  },
  {
   "cell_type": "code",
   "execution_count": 22,
   "id": "c7c1bd50",
   "metadata": {},
   "outputs": [
    {
     "name": "stdout",
     "output_type": "stream",
     "text": [
      "Total number of UMLS partitions:  1\n"
     ]
    },
    {
     "name": "stderr",
     "output_type": "stream",
     "text": [
      "WARNING:root:Metrics calculated over data points with non-abstain labels only\n"
     ]
    },
    {
     "name": "stdout",
     "output_type": "stream",
     "text": [
      "              precision    recall  f1-score   support\n",
      "\n",
      "           0       0.78      0.93      0.85    206888\n",
      "           1       0.41      0.16      0.23     64103\n",
      "\n",
      "    accuracy                           0.75    270991\n",
      "   macro avg       0.59      0.54      0.54    270991\n",
      "weighted avg       0.69      0.75      0.70    270991\n",
      "\n",
      "{'f1_macro': 0.539295174591835}\n",
      "Total number of UMLS partitions:  2\n"
     ]
    },
    {
     "name": "stderr",
     "output_type": "stream",
     "text": [
      "WARNING:root:Metrics calculated over data points with non-abstain labels only\n"
     ]
    },
    {
     "name": "stdout",
     "output_type": "stream",
     "text": [
      "              precision    recall  f1-score   support\n",
      "\n",
      "           0       0.80      0.93      0.86    211470\n",
      "           1       0.40      0.17      0.24     59521\n",
      "\n",
      "    accuracy                           0.76    270991\n",
      "   macro avg       0.60      0.55      0.55    270991\n",
      "weighted avg       0.71      0.76      0.72    270991\n",
      "\n",
      "{'f1_macro': 0.5486688976176318}\n",
      "Total number of UMLS partitions:  3\n"
     ]
    },
    {
     "name": "stderr",
     "output_type": "stream",
     "text": [
      "WARNING:root:Metrics calculated over data points with non-abstain labels only\n"
     ]
    },
    {
     "name": "stdout",
     "output_type": "stream",
     "text": [
      "              precision    recall  f1-score   support\n",
      "\n",
      "           0       0.80      0.93      0.86    212623\n",
      "           1       0.39      0.17      0.24     58368\n",
      "\n",
      "    accuracy                           0.76    270991\n",
      "   macro avg       0.60      0.55      0.55    270991\n",
      "weighted avg       0.72      0.76      0.73    270991\n",
      "\n",
      "{'f1_macro': 0.5499396772710761}\n",
      "Total number of UMLS partitions:  4\n"
     ]
    },
    {
     "name": "stderr",
     "output_type": "stream",
     "text": [
      "WARNING:root:Metrics calculated over data points with non-abstain labels only\n"
     ]
    },
    {
     "name": "stdout",
     "output_type": "stream",
     "text": [
      "              precision    recall  f1-score   support\n",
      "\n",
      "           0       0.81      0.93      0.87    215246\n",
      "           1       0.38      0.17      0.24     55745\n",
      "\n",
      "    accuracy                           0.77    270991\n",
      "   macro avg       0.60      0.55      0.55    270991\n",
      "weighted avg       0.72      0.77      0.74    270991\n",
      "\n",
      "{'f1_macro': 0.5512573751877873}\n",
      "Total number of UMLS partitions:  5\n"
     ]
    },
    {
     "name": "stderr",
     "output_type": "stream",
     "text": [
      "WARNING:root:Metrics calculated over data points with non-abstain labels only\n"
     ]
    },
    {
     "name": "stdout",
     "output_type": "stream",
     "text": [
      "              precision    recall  f1-score   support\n",
      "\n",
      "           0       0.89      0.93      0.91    234549\n",
      "           1       0.33      0.23      0.27     36442\n",
      "\n",
      "    accuracy                           0.83    270991\n",
      "   macro avg       0.61      0.58      0.59    270991\n",
      "weighted avg       0.81      0.83      0.82    270991\n",
      "\n",
      "{'f1_macro': 0.5861801582215389}\n",
      "Total number of UMLS partitions:  6\n"
     ]
    },
    {
     "name": "stderr",
     "output_type": "stream",
     "text": [
      "WARNING:root:Metrics calculated over data points with non-abstain labels only\n"
     ]
    },
    {
     "name": "stdout",
     "output_type": "stream",
     "text": [
      "              precision    recall  f1-score   support\n",
      "\n",
      "           0       0.90      0.93      0.91    238308\n",
      "           1       0.31      0.24      0.27     32683\n",
      "\n",
      "    accuracy                           0.84    270991\n",
      "   macro avg       0.60      0.58      0.59    270991\n",
      "weighted avg       0.83      0.84      0.83    270991\n",
      "\n",
      "{'f1_macro': 0.5911166529653048}\n",
      "Total number of UMLS partitions:  7\n"
     ]
    },
    {
     "name": "stderr",
     "output_type": "stream",
     "text": [
      "WARNING:root:Metrics calculated over data points with non-abstain labels only\n"
     ]
    },
    {
     "name": "stdout",
     "output_type": "stream",
     "text": [
      "              precision    recall  f1-score   support\n",
      "\n",
      "           0       0.92      0.92      0.92    245578\n",
      "           1       0.27      0.27      0.27     25413\n",
      "\n",
      "    accuracy                           0.86    270991\n",
      "   macro avg       0.60      0.60      0.60    270991\n",
      "weighted avg       0.86      0.86      0.86    270991\n",
      "\n",
      "{'f1_macro': 0.5977665973907892}\n",
      "Total number of UMLS partitions:  8\n"
     ]
    },
    {
     "name": "stderr",
     "output_type": "stream",
     "text": [
      "WARNING:root:Metrics calculated over data points with non-abstain labels only\n"
     ]
    },
    {
     "name": "stdout",
     "output_type": "stream",
     "text": [
      "              precision    recall  f1-score   support\n",
      "\n",
      "           0       0.93      0.93      0.93    246091\n",
      "           1       0.27      0.28      0.27     24900\n",
      "\n",
      "    accuracy                           0.87    270991\n",
      "   macro avg       0.60      0.60      0.60    270991\n",
      "weighted avg       0.87      0.87      0.87    270991\n",
      "\n",
      "{'f1_macro': 0.599666898871669}\n",
      "Total number of UMLS partitions:  9\n"
     ]
    },
    {
     "name": "stderr",
     "output_type": "stream",
     "text": [
      "WARNING:root:Metrics calculated over data points with non-abstain labels only\n"
     ]
    },
    {
     "name": "stdout",
     "output_type": "stream",
     "text": [
      "              precision    recall  f1-score   support\n",
      "\n",
      "           0       0.93      0.92      0.93    246275\n",
      "           1       0.27      0.27      0.27     24716\n",
      "\n",
      "    accuracy                           0.87    270991\n",
      "   macro avg       0.60      0.60      0.60    270991\n",
      "weighted avg       0.87      0.87      0.87    270991\n",
      "\n",
      "{'f1_macro': 0.5987193071674344}\n",
      "Total number of UMLS partitions:  10\n"
     ]
    },
    {
     "name": "stderr",
     "output_type": "stream",
     "text": [
      "WARNING:root:Metrics calculated over data points with non-abstain labels only\n"
     ]
    },
    {
     "name": "stdout",
     "output_type": "stream",
     "text": [
      "              precision    recall  f1-score   support\n",
      "\n",
      "           0       0.93      0.92      0.93    246293\n",
      "           1       0.27      0.27      0.27     24698\n",
      "\n",
      "    accuracy                           0.87    270991\n",
      "   macro avg       0.60      0.60      0.60    270991\n",
      "weighted avg       0.87      0.87      0.87    270991\n",
      "\n",
      "{'f1_macro': 0.5986336342817021}\n",
      "Total number of UMLS partitions:  11\n"
     ]
    },
    {
     "name": "stderr",
     "output_type": "stream",
     "text": [
      "WARNING:root:Metrics calculated over data points with non-abstain labels only\n"
     ]
    },
    {
     "name": "stdout",
     "output_type": "stream",
     "text": [
      "              precision    recall  f1-score   support\n",
      "\n",
      "           0       0.93      0.92      0.93    249200\n",
      "           1       0.20      0.24      0.22     21791\n",
      "\n",
      "    accuracy                           0.86    270991\n",
      "   macro avg       0.57      0.58      0.57    270991\n",
      "weighted avg       0.87      0.86      0.87    270991\n",
      "\n",
      "{'f1_macro': 0.5721504282843115}\n",
      "Total number of UMLS partitions:  12\n"
     ]
    },
    {
     "name": "stderr",
     "output_type": "stream",
     "text": [
      "WARNING:root:Metrics calculated over data points with non-abstain labels only\n"
     ]
    },
    {
     "name": "stdout",
     "output_type": "stream",
     "text": [
      "              precision    recall  f1-score   support\n",
      "\n",
      "           0       0.93      0.92      0.93    249041\n",
      "           1       0.20      0.23      0.22     21950\n",
      "\n",
      "    accuracy                           0.86    270991\n",
      "   macro avg       0.57      0.58      0.57    270991\n",
      "weighted avg       0.87      0.86      0.87    270991\n",
      "\n",
      "{'f1_macro': 0.5709378573170726}\n",
      "Total number of UMLS partitions:  13\n"
     ]
    },
    {
     "name": "stderr",
     "output_type": "stream",
     "text": [
      "WARNING:root:Metrics calculated over data points with non-abstain labels only\n"
     ]
    },
    {
     "name": "stdout",
     "output_type": "stream",
     "text": [
      "              precision    recall  f1-score   support\n",
      "\n",
      "           0       0.97      0.92      0.94    260073\n",
      "           1       0.13      0.30      0.18     10918\n",
      "\n",
      "    accuracy                           0.89    270991\n",
      "   macro avg       0.55      0.61      0.56    270991\n",
      "weighted avg       0.93      0.89      0.91    270991\n",
      "\n",
      "{'f1_macro': 0.5601698394545112}\n",
      "Total number of UMLS partitions:  14\n"
     ]
    },
    {
     "name": "stderr",
     "output_type": "stream",
     "text": [
      "WARNING:root:Metrics calculated over data points with non-abstain labels only\n"
     ]
    },
    {
     "name": "stdout",
     "output_type": "stream",
     "text": [
      "              precision    recall  f1-score   support\n",
      "\n",
      "           0       0.97      0.92      0.94    260061\n",
      "           1       0.13      0.30      0.18     10930\n",
      "\n",
      "    accuracy                           0.89    270991\n",
      "   macro avg       0.55      0.61      0.56    270991\n",
      "weighted avg       0.93      0.89      0.91    270991\n",
      "\n",
      "{'f1_macro': 0.5607484740521336}\n",
      "Total number of UMLS partitions:  15\n"
     ]
    },
    {
     "name": "stderr",
     "output_type": "stream",
     "text": [
      "WARNING:root:Metrics calculated over data points with non-abstain labels only\n"
     ]
    },
    {
     "name": "stdout",
     "output_type": "stream",
     "text": [
      "              precision    recall  f1-score   support\n",
      "\n",
      "           0       0.96      0.92      0.94    258423\n",
      "           1       0.14      0.29      0.19     12568\n",
      "\n",
      "    accuracy                           0.89    270991\n",
      "   macro avg       0.55      0.60      0.57    270991\n",
      "weighted avg       0.93      0.89      0.90    270991\n",
      "\n",
      "{'f1_macro': 0.5652911354504772}\n",
      "Total number of UMLS partitions:  16\n"
     ]
    },
    {
     "name": "stderr",
     "output_type": "stream",
     "text": [
      "WARNING:root:Metrics calculated over data points with non-abstain labels only\n"
     ]
    },
    {
     "name": "stdout",
     "output_type": "stream",
     "text": [
      "              precision    recall  f1-score   support\n",
      "\n",
      "           0       0.96      0.92      0.94    258294\n",
      "           1       0.14      0.29      0.19     12697\n",
      "\n",
      "    accuracy                           0.89    270991\n",
      "   macro avg       0.55      0.60      0.57    270991\n",
      "weighted avg       0.92      0.89      0.90    270991\n",
      "\n",
      "{'f1_macro': 0.5656793722337516}\n",
      "Total number of UMLS partitions:  17\n"
     ]
    },
    {
     "name": "stderr",
     "output_type": "stream",
     "text": [
      "WARNING:root:Metrics calculated over data points with non-abstain labels only\n"
     ]
    },
    {
     "name": "stdout",
     "output_type": "stream",
     "text": [
      "              precision    recall  f1-score   support\n",
      "\n",
      "           0       0.97      0.92      0.94    259334\n",
      "           1       0.13      0.29      0.18     11657\n",
      "\n",
      "    accuracy                           0.89    270991\n",
      "   macro avg       0.55      0.60      0.56    270991\n",
      "weighted avg       0.93      0.89      0.91    270991\n",
      "\n",
      "{'f1_macro': 0.5599558570736477}\n",
      "Total number of UMLS partitions:  18\n"
     ]
    },
    {
     "name": "stderr",
     "output_type": "stream",
     "text": [
      "WARNING:root:Metrics calculated over data points with non-abstain labels only\n"
     ]
    },
    {
     "name": "stdout",
     "output_type": "stream",
     "text": [
      "              precision    recall  f1-score   support\n",
      "\n",
      "           0       0.97      0.92      0.94    259025\n",
      "           1       0.13      0.28      0.18     11966\n",
      "\n",
      "    accuracy                           0.89    270991\n",
      "   macro avg       0.55      0.60      0.56    270991\n",
      "weighted avg       0.93      0.89      0.91    270991\n",
      "\n",
      "{'f1_macro': 0.5611322064184675}\n",
      "Total number of UMLS partitions:  19\n"
     ]
    },
    {
     "name": "stderr",
     "output_type": "stream",
     "text": [
      "WARNING:root:Metrics calculated over data points with non-abstain labels only\n"
     ]
    },
    {
     "name": "stdout",
     "output_type": "stream",
     "text": [
      "              precision    recall  f1-score   support\n",
      "\n",
      "           0       0.97      0.92      0.94    259040\n",
      "           1       0.13      0.28      0.18     11951\n",
      "\n",
      "    accuracy                           0.89    270991\n",
      "   macro avg       0.55      0.60      0.56    270991\n",
      "weighted avg       0.93      0.89      0.91    270991\n",
      "\n",
      "{'f1_macro': 0.5612135310884424}\n",
      "Total number of UMLS partitions:  20\n"
     ]
    },
    {
     "name": "stderr",
     "output_type": "stream",
     "text": [
      "WARNING:root:Metrics calculated over data points with non-abstain labels only\n"
     ]
    },
    {
     "name": "stdout",
     "output_type": "stream",
     "text": [
      "              precision    recall  f1-score   support\n",
      "\n",
      "           0       0.96      0.92      0.94    257532\n",
      "           1       0.14      0.26      0.18     13459\n",
      "\n",
      "    accuracy                           0.88    270991\n",
      "   macro avg       0.55      0.59      0.56    270991\n",
      "weighted avg       0.92      0.88      0.90    270991\n",
      "\n",
      "{'f1_macro': 0.5595149517745668}\n",
      "Total number of UMLS partitions:  21\n"
     ]
    },
    {
     "name": "stderr",
     "output_type": "stream",
     "text": [
      "WARNING:root:Metrics calculated over data points with non-abstain labels only\n"
     ]
    },
    {
     "name": "stdout",
     "output_type": "stream",
     "text": [
      "              precision    recall  f1-score   support\n",
      "\n",
      "           0       0.96      0.92      0.94    257202\n",
      "           1       0.14      0.26      0.18     13789\n",
      "\n",
      "    accuracy                           0.88    270991\n",
      "   macro avg       0.55      0.59      0.56    270991\n",
      "weighted avg       0.92      0.88      0.90    270991\n",
      "\n",
      "{'f1_macro': 0.5596106074866305}\n",
      "Total number of UMLS partitions:  22\n"
     ]
    },
    {
     "name": "stderr",
     "output_type": "stream",
     "text": [
      "WARNING:root:Metrics calculated over data points with non-abstain labels only\n"
     ]
    },
    {
     "name": "stdout",
     "output_type": "stream",
     "text": [
      "              precision    recall  f1-score   support\n",
      "\n",
      "           0       0.96      0.92      0.94    256324\n",
      "           1       0.15      0.25      0.19     14667\n",
      "\n",
      "    accuracy                           0.88    270991\n",
      "   macro avg       0.55      0.58      0.56    270991\n",
      "weighted avg       0.91      0.88      0.89    270991\n",
      "\n",
      "{'f1_macro': 0.5601029532202182}\n",
      "Total number of UMLS partitions:  23\n"
     ]
    },
    {
     "name": "stderr",
     "output_type": "stream",
     "text": [
      "WARNING:root:Metrics calculated over data points with non-abstain labels only\n"
     ]
    },
    {
     "name": "stdout",
     "output_type": "stream",
     "text": [
      "              precision    recall  f1-score   support\n",
      "\n",
      "           0       0.96      0.92      0.94    256321\n",
      "           1       0.15      0.25      0.19     14670\n",
      "\n",
      "    accuracy                           0.88    270991\n",
      "   macro avg       0.55      0.58      0.56    270991\n",
      "weighted avg       0.91      0.88      0.89    270991\n",
      "\n",
      "{'f1_macro': 0.5605248104476996}\n",
      "Total number of UMLS partitions:  24\n"
     ]
    },
    {
     "name": "stderr",
     "output_type": "stream",
     "text": [
      "WARNING:root:Metrics calculated over data points with non-abstain labels only\n"
     ]
    },
    {
     "name": "stdout",
     "output_type": "stream",
     "text": [
      "              precision    recall  f1-score   support\n",
      "\n",
      "           0       0.95      0.92      0.93    254953\n",
      "           1       0.16      0.25      0.20     16038\n",
      "\n",
      "    accuracy                           0.88    270991\n",
      "   macro avg       0.56      0.58      0.56    270991\n",
      "weighted avg       0.90      0.88      0.89    270991\n",
      "\n",
      "{'f1_macro': 0.5648170275827026}\n",
      "Total number of UMLS partitions:  25\n"
     ]
    },
    {
     "name": "stderr",
     "output_type": "stream",
     "text": [
      "WARNING:root:Metrics calculated over data points with non-abstain labels only\n"
     ]
    },
    {
     "name": "stdout",
     "output_type": "stream",
     "text": [
      "              precision    recall  f1-score   support\n",
      "\n",
      "           0       0.92      0.92      0.92    245667\n",
      "           1       0.22      0.22      0.22     25324\n",
      "\n",
      "    accuracy                           0.85    270991\n",
      "   macro avg       0.57      0.57      0.57    270991\n",
      "weighted avg       0.85      0.85      0.85    270991\n",
      "\n",
      "{'f1_macro': 0.5682397787888596}\n",
      "Total number of UMLS partitions:  26\n"
     ]
    },
    {
     "name": "stderr",
     "output_type": "stream",
     "text": [
      "WARNING:root:Metrics calculated over data points with non-abstain labels only\n"
     ]
    },
    {
     "name": "stdout",
     "output_type": "stream",
     "text": [
      "              precision    recall  f1-score   support\n",
      "\n",
      "           0       0.92      0.92      0.92    245759\n",
      "           1       0.22      0.22      0.22     25232\n",
      "\n",
      "    accuracy                           0.85    270991\n",
      "   macro avg       0.57      0.57      0.57    270991\n",
      "weighted avg       0.85      0.85      0.85    270991\n",
      "\n",
      "{'f1_macro': 0.5682985661669224}\n",
      "Total number of UMLS partitions:  27\n"
     ]
    },
    {
     "name": "stderr",
     "output_type": "stream",
     "text": [
      "WARNING:root:Metrics calculated over data points with non-abstain labels only\n"
     ]
    },
    {
     "name": "stdout",
     "output_type": "stream",
     "text": [
      "              precision    recall  f1-score   support\n",
      "\n",
      "           0       0.93      0.92      0.92    248249\n",
      "           1       0.21      0.23      0.22     22742\n",
      "\n",
      "    accuracy                           0.86    270991\n",
      "   macro avg       0.57      0.57      0.57    270991\n",
      "weighted avg       0.87      0.86      0.86    270991\n",
      "\n",
      "{'f1_macro': 0.570071316571885}\n",
      "Total number of UMLS partitions:  28\n"
     ]
    },
    {
     "name": "stderr",
     "output_type": "stream",
     "text": [
      "WARNING:root:Metrics calculated over data points with non-abstain labels only\n"
     ]
    },
    {
     "name": "stdout",
     "output_type": "stream",
     "text": [
      "              precision    recall  f1-score   support\n",
      "\n",
      "           0       0.93      0.92      0.92    248341\n",
      "           1       0.20      0.23      0.22     22650\n",
      "\n",
      "    accuracy                           0.86    270991\n",
      "   macro avg       0.57      0.57      0.57    270991\n",
      "weighted avg       0.87      0.86      0.86    270991\n",
      "\n",
      "{'f1_macro': 0.5699902332250396}\n",
      "Total number of UMLS partitions:  29\n"
     ]
    },
    {
     "name": "stderr",
     "output_type": "stream",
     "text": [
      "WARNING:root:Metrics calculated over data points with non-abstain labels only\n"
     ]
    },
    {
     "name": "stdout",
     "output_type": "stream",
     "text": [
      "              precision    recall  f1-score   support\n",
      "\n",
      "           0       0.93      0.92      0.92    248494\n",
      "           1       0.20      0.23      0.22     22497\n",
      "\n",
      "    accuracy                           0.86    270991\n",
      "   macro avg       0.57      0.57      0.57    270991\n",
      "weighted avg       0.87      0.86      0.87    270991\n",
      "\n",
      "{'f1_macro': 0.5701814347013603}\n",
      "Total number of UMLS partitions:  30\n"
     ]
    },
    {
     "name": "stderr",
     "output_type": "stream",
     "text": [
      "WARNING:root:Metrics calculated over data points with non-abstain labels only\n"
     ]
    },
    {
     "name": "stdout",
     "output_type": "stream",
     "text": [
      "              precision    recall  f1-score   support\n",
      "\n",
      "           0       0.93      0.92      0.93    249399\n",
      "           1       0.20      0.23      0.22     21592\n",
      "\n",
      "    accuracy                           0.86    270991\n",
      "   macro avg       0.57      0.58      0.57    270991\n",
      "weighted avg       0.87      0.86      0.87    270991\n",
      "\n",
      "{'f1_macro': 0.5705198356235444}\n",
      "Total number of UMLS partitions:  31\n"
     ]
    },
    {
     "name": "stderr",
     "output_type": "stream",
     "text": [
      "WARNING:root:Metrics calculated over data points with non-abstain labels only\n"
     ]
    },
    {
     "name": "stdout",
     "output_type": "stream",
     "text": [
      "              precision    recall  f1-score   support\n",
      "\n",
      "           0       0.93      0.92      0.93    249528\n",
      "           1       0.20      0.23      0.22     21463\n",
      "\n",
      "    accuracy                           0.86    270991\n",
      "   macro avg       0.57      0.58      0.57    270991\n",
      "weighted avg       0.88      0.86      0.87    270991\n",
      "\n",
      "{'f1_macro': 0.5706525941760321}\n",
      "Total number of UMLS partitions:  32\n"
     ]
    },
    {
     "name": "stderr",
     "output_type": "stream",
     "text": [
      "WARNING:root:Metrics calculated over data points with non-abstain labels only\n"
     ]
    },
    {
     "name": "stdout",
     "output_type": "stream",
     "text": [
      "              precision    recall  f1-score   support\n",
      "\n",
      "           0       0.93      0.92      0.93    249813\n",
      "           1       0.20      0.24      0.22     21178\n",
      "\n",
      "    accuracy                           0.87    270991\n",
      "   macro avg       0.57      0.58      0.57    270991\n",
      "weighted avg       0.88      0.87      0.87    270991\n",
      "\n",
      "{'f1_macro': 0.570727773348274}\n",
      "Total number of UMLS partitions:  33\n"
     ]
    },
    {
     "name": "stderr",
     "output_type": "stream",
     "text": [
      "WARNING:root:Metrics calculated over data points with non-abstain labels only\n"
     ]
    },
    {
     "name": "stdout",
     "output_type": "stream",
     "text": [
      "              precision    recall  f1-score   support\n",
      "\n",
      "           0       0.93      0.92      0.93    249950\n",
      "           1       0.20      0.24      0.21     21041\n",
      "\n",
      "    accuracy                           0.87    270991\n",
      "   macro avg       0.57      0.58      0.57    270991\n",
      "weighted avg       0.88      0.87      0.87    270991\n",
      "\n",
      "{'f1_macro': 0.570651480097438}\n",
      "Total number of UMLS partitions:  34\n"
     ]
    },
    {
     "name": "stderr",
     "output_type": "stream",
     "text": [
      "WARNING:root:Metrics calculated over data points with non-abstain labels only\n"
     ]
    },
    {
     "name": "stdout",
     "output_type": "stream",
     "text": [
      "              precision    recall  f1-score   support\n",
      "\n",
      "           0       0.94      0.92      0.93    252488\n",
      "           1       0.18      0.24      0.21     18503\n",
      "\n",
      "    accuracy                           0.87    270991\n",
      "   macro avg       0.56      0.58      0.57    270991\n",
      "weighted avg       0.89      0.87      0.88    270991\n",
      "\n",
      "{'f1_macro': 0.5679113180592024}\n",
      "Total number of UMLS partitions:  35\n"
     ]
    },
    {
     "name": "stderr",
     "output_type": "stream",
     "text": [
      "WARNING:root:Metrics calculated over data points with non-abstain labels only\n"
     ]
    },
    {
     "name": "stdout",
     "output_type": "stream",
     "text": [
      "              precision    recall  f1-score   support\n",
      "\n",
      "           0       0.94      0.92      0.93    252960\n",
      "           1       0.18      0.25      0.20     18031\n",
      "\n",
      "    accuracy                           0.87    270991\n",
      "   macro avg       0.56      0.58      0.57    270991\n",
      "weighted avg       0.89      0.87      0.88    270991\n",
      "\n",
      "{'f1_macro': 0.5679077237443908}\n",
      "Total number of UMLS partitions:  36\n"
     ]
    },
    {
     "name": "stderr",
     "output_type": "stream",
     "text": [
      "WARNING:root:Metrics calculated over data points with non-abstain labels only\n"
     ]
    },
    {
     "name": "stdout",
     "output_type": "stream",
     "text": [
      "              precision    recall  f1-score   support\n",
      "\n",
      "           0       0.95      0.92      0.93    253038\n",
      "           1       0.18      0.25      0.21     17953\n",
      "\n",
      "    accuracy                           0.87    270991\n",
      "   macro avg       0.56      0.58      0.57    270991\n",
      "weighted avg       0.89      0.87      0.88    270991\n",
      "\n",
      "{'f1_macro': 0.568879249784466}\n",
      "Total number of UMLS partitions:  37\n"
     ]
    },
    {
     "name": "stderr",
     "output_type": "stream",
     "text": [
      "WARNING:root:Metrics calculated over data points with non-abstain labels only\n"
     ]
    },
    {
     "name": "stdout",
     "output_type": "stream",
     "text": [
      "              precision    recall  f1-score   support\n",
      "\n",
      "           0       0.95      0.92      0.93    253014\n",
      "           1       0.18      0.25      0.21     17977\n",
      "\n",
      "    accuracy                           0.87    270991\n",
      "   macro avg       0.56      0.58      0.57    270991\n",
      "weighted avg       0.89      0.87      0.88    270991\n",
      "\n",
      "{'f1_macro': 0.5691727996985391}\n",
      "Total number of UMLS partitions:  38\n"
     ]
    },
    {
     "name": "stderr",
     "output_type": "stream",
     "text": [
      "WARNING:root:Metrics calculated over data points with non-abstain labels only\n"
     ]
    },
    {
     "name": "stdout",
     "output_type": "stream",
     "text": [
      "              precision    recall  f1-score   support\n",
      "\n",
      "           0       0.94      0.92      0.93    252907\n",
      "           1       0.18      0.25      0.21     18084\n",
      "\n",
      "    accuracy                           0.87    270991\n",
      "   macro avg       0.56      0.58      0.57    270991\n",
      "weighted avg       0.89      0.87      0.88    270991\n",
      "\n",
      "{'f1_macro': 0.5693787818292492}\n",
      "Total number of UMLS partitions:  39\n"
     ]
    },
    {
     "name": "stderr",
     "output_type": "stream",
     "text": [
      "WARNING:root:Metrics calculated over data points with non-abstain labels only\n"
     ]
    },
    {
     "name": "stdout",
     "output_type": "stream",
     "text": [
      "              precision    recall  f1-score   support\n",
      "\n",
      "           0       0.94      0.92      0.93    252627\n",
      "           1       0.18      0.25      0.21     18364\n",
      "\n",
      "    accuracy                           0.87    270991\n",
      "   macro avg       0.56      0.58      0.57    270991\n",
      "weighted avg       0.89      0.87      0.88    270991\n",
      "\n",
      "{'f1_macro': 0.5688110851475349}\n",
      "Total number of UMLS partitions:  40\n"
     ]
    },
    {
     "name": "stderr",
     "output_type": "stream",
     "text": [
      "WARNING:root:Metrics calculated over data points with non-abstain labels only\n"
     ]
    },
    {
     "name": "stdout",
     "output_type": "stream",
     "text": [
      "              precision    recall  f1-score   support\n",
      "\n",
      "           0       0.94      0.92      0.93    252612\n",
      "           1       0.18      0.25      0.21     18379\n",
      "\n",
      "    accuracy                           0.87    270991\n",
      "   macro avg       0.56      0.58      0.57    270991\n",
      "weighted avg       0.89      0.87      0.88    270991\n",
      "\n",
      "{'f1_macro': 0.5692074794268004}\n",
      "Total number of UMLS partitions:  41\n"
     ]
    },
    {
     "name": "stderr",
     "output_type": "stream",
     "text": [
      "WARNING:root:Metrics calculated over data points with non-abstain labels only\n"
     ]
    },
    {
     "name": "stdout",
     "output_type": "stream",
     "text": [
      "              precision    recall  f1-score   support\n",
      "\n",
      "           0       0.94      0.92      0.93    252392\n",
      "           1       0.18      0.25      0.21     18599\n",
      "\n",
      "    accuracy                           0.87    270991\n",
      "   macro avg       0.56      0.58      0.57    270991\n",
      "weighted avg       0.89      0.87      0.88    270991\n",
      "\n",
      "{'f1_macro': 0.5700611447793629}\n"
     ]
    }
   ],
   "source": [
    "train(partitioned_i_umls, umls_i, nonumls_i, ds_i, heur_i, dict_i, df_data_train, df_data_val, 'i')"
   ]
  },
  {
   "cell_type": "code",
   "execution_count": 23,
   "id": "25d73d63",
   "metadata": {},
   "outputs": [
    {
     "name": "stdout",
     "output_type": "stream",
     "text": [
      "Total number of UMLS partitions:  1\n"
     ]
    },
    {
     "name": "stderr",
     "output_type": "stream",
     "text": [
      "WARNING:root:Metrics calculated over data points with non-abstain labels only\n"
     ]
    },
    {
     "name": "stdout",
     "output_type": "stream",
     "text": [
      "              precision    recall  f1-score   support\n",
      "\n",
      "           0       0.79      0.91      0.85    208169\n",
      "           1       0.41      0.20      0.27     62822\n",
      "\n",
      "    accuracy                           0.75    270991\n",
      "   macro avg       0.60      0.56      0.56    270991\n",
      "weighted avg       0.70      0.75      0.71    270991\n",
      "\n",
      "{'f1_macro': 0.5587517796368752}\n",
      "Total number of UMLS partitions:  2\n"
     ]
    },
    {
     "name": "stderr",
     "output_type": "stream",
     "text": [
      "WARNING:root:Metrics calculated over data points with non-abstain labels only\n"
     ]
    },
    {
     "name": "stdout",
     "output_type": "stream",
     "text": [
      "              precision    recall  f1-score   support\n",
      "\n",
      "           0       0.79      0.91      0.85    208588\n",
      "           1       0.40      0.20      0.27     62403\n",
      "\n",
      "    accuracy                           0.75    270991\n",
      "   macro avg       0.60      0.56      0.56    270991\n",
      "weighted avg       0.70      0.75      0.71    270991\n",
      "\n",
      "{'f1_macro': 0.5569956304812641}\n",
      "Total number of UMLS partitions:  3\n"
     ]
    },
    {
     "name": "stderr",
     "output_type": "stream",
     "text": [
      "WARNING:root:Metrics calculated over data points with non-abstain labels only\n"
     ]
    },
    {
     "name": "stdout",
     "output_type": "stream",
     "text": [
      "              precision    recall  f1-score   support\n",
      "\n",
      "           0       0.79      0.91      0.85    208610\n",
      "           1       0.40      0.20      0.27     62381\n",
      "\n",
      "    accuracy                           0.75    270991\n",
      "   macro avg       0.60      0.56      0.56    270991\n",
      "weighted avg       0.70      0.75      0.71    270991\n",
      "\n",
      "{'f1_macro': 0.5568876844324367}\n",
      "Total number of UMLS partitions:  4\n"
     ]
    },
    {
     "name": "stderr",
     "output_type": "stream",
     "text": [
      "WARNING:root:Metrics calculated over data points with non-abstain labels only\n"
     ]
    },
    {
     "name": "stdout",
     "output_type": "stream",
     "text": [
      "              precision    recall  f1-score   support\n",
      "\n",
      "           0       0.94      0.89      0.92    252614\n",
      "           1       0.15      0.25      0.18     18377\n",
      "\n",
      "    accuracy                           0.85    270991\n",
      "   macro avg       0.54      0.57      0.55    270991\n",
      "weighted avg       0.89      0.85      0.87    270991\n",
      "\n",
      "{'f1_macro': 0.550206067551809}\n",
      "Total number of UMLS partitions:  5\n"
     ]
    },
    {
     "name": "stderr",
     "output_type": "stream",
     "text": [
      "WARNING:root:Metrics calculated over data points with non-abstain labels only\n"
     ]
    },
    {
     "name": "stdout",
     "output_type": "stream",
     "text": [
      "              precision    recall  f1-score   support\n",
      "\n",
      "           0       0.94      0.89      0.92    252560\n",
      "           1       0.15      0.25      0.19     18431\n",
      "\n",
      "    accuracy                           0.85    270991\n",
      "   macro avg       0.54      0.57      0.55    270991\n",
      "weighted avg       0.89      0.85      0.87    270991\n",
      "\n",
      "{'f1_macro': 0.5516162524704323}\n",
      "Total number of UMLS partitions:  6\n"
     ]
    },
    {
     "name": "stderr",
     "output_type": "stream",
     "text": [
      "WARNING:root:Metrics calculated over data points with non-abstain labels only\n"
     ]
    },
    {
     "name": "stdout",
     "output_type": "stream",
     "text": [
      "              precision    recall  f1-score   support\n",
      "\n",
      "           0       0.95      0.89      0.92    253329\n",
      "           1       0.14      0.26      0.18     17662\n",
      "\n",
      "    accuracy                           0.85    270991\n",
      "   macro avg       0.54      0.57      0.55    270991\n",
      "weighted avg       0.89      0.85      0.87    270991\n",
      "\n",
      "{'f1_macro': 0.5511372883423108}\n",
      "Total number of UMLS partitions:  7\n"
     ]
    },
    {
     "name": "stderr",
     "output_type": "stream",
     "text": [
      "WARNING:root:Metrics calculated over data points with non-abstain labels only\n"
     ]
    },
    {
     "name": "stdout",
     "output_type": "stream",
     "text": [
      "              precision    recall  f1-score   support\n",
      "\n",
      "           0       0.94      0.89      0.92    253076\n",
      "           1       0.14      0.25      0.18     17915\n",
      "\n",
      "    accuracy                           0.85    270991\n",
      "   macro avg       0.54      0.57      0.55    270991\n",
      "weighted avg       0.89      0.85      0.87    270991\n",
      "\n",
      "{'f1_macro': 0.5514148266707836}\n",
      "Total number of UMLS partitions:  8\n"
     ]
    },
    {
     "name": "stderr",
     "output_type": "stream",
     "text": [
      "WARNING:root:Metrics calculated over data points with non-abstain labels only\n"
     ]
    },
    {
     "name": "stdout",
     "output_type": "stream",
     "text": [
      "              precision    recall  f1-score   support\n",
      "\n",
      "           0       0.95      0.89      0.92    255936\n",
      "           1       0.12      0.25      0.16     15055\n",
      "\n",
      "    accuracy                           0.86    270991\n",
      "   macro avg       0.54      0.57      0.54    270991\n",
      "weighted avg       0.91      0.86      0.88    270991\n",
      "\n",
      "{'f1_macro': 0.5416416625629974}\n",
      "Total number of UMLS partitions:  9\n"
     ]
    },
    {
     "name": "stderr",
     "output_type": "stream",
     "text": [
      "WARNING:root:Metrics calculated over data points with non-abstain labels only\n"
     ]
    },
    {
     "name": "stdout",
     "output_type": "stream",
     "text": [
      "              precision    recall  f1-score   support\n",
      "\n",
      "           0       0.95      0.89      0.92    255841\n",
      "           1       0.12      0.25      0.17     15150\n",
      "\n",
      "    accuracy                           0.86    270991\n",
      "   macro avg       0.54      0.57      0.54    270991\n",
      "weighted avg       0.91      0.86      0.88    270991\n",
      "\n",
      "{'f1_macro': 0.543652146692352}\n",
      "Total number of UMLS partitions:  10\n"
     ]
    },
    {
     "name": "stderr",
     "output_type": "stream",
     "text": [
      "WARNING:root:Metrics calculated over data points with non-abstain labels only\n"
     ]
    },
    {
     "name": "stdout",
     "output_type": "stream",
     "text": [
      "              precision    recall  f1-score   support\n",
      "\n",
      "           0       0.95      0.89      0.92    256108\n",
      "           1       0.12      0.26      0.17     14883\n",
      "\n",
      "    accuracy                           0.86    270991\n",
      "   macro avg       0.54      0.57      0.54    270991\n",
      "weighted avg       0.91      0.86      0.88    270991\n",
      "\n",
      "{'f1_macro': 0.5438300051980101}\n",
      "Total number of UMLS partitions:  11\n"
     ]
    },
    {
     "name": "stderr",
     "output_type": "stream",
     "text": [
      "WARNING:root:Metrics calculated over data points with non-abstain labels only\n"
     ]
    },
    {
     "name": "stdout",
     "output_type": "stream",
     "text": [
      "              precision    recall  f1-score   support\n",
      "\n",
      "           0       0.96      0.89      0.93    259195\n",
      "           1       0.10      0.28      0.15     11796\n",
      "\n",
      "    accuracy                           0.86    270991\n",
      "   macro avg       0.53      0.58      0.54    270991\n",
      "weighted avg       0.93      0.86      0.89    270991\n",
      "\n",
      "{'f1_macro': 0.5391737863960446}\n",
      "Total number of UMLS partitions:  12\n"
     ]
    },
    {
     "name": "stderr",
     "output_type": "stream",
     "text": [
      "WARNING:root:Metrics calculated over data points with non-abstain labels only\n"
     ]
    },
    {
     "name": "stdout",
     "output_type": "stream",
     "text": [
      "              precision    recall  f1-score   support\n",
      "\n",
      "           0       0.97      0.89      0.93    260121\n",
      "           1       0.10      0.28      0.14     10870\n",
      "\n",
      "    accuracy                           0.87    270991\n",
      "   macro avg       0.53      0.59      0.54    270991\n",
      "weighted avg       0.93      0.87      0.90    270991\n",
      "\n",
      "{'f1_macro': 0.5360592519363849}\n",
      "Total number of UMLS partitions:  13\n"
     ]
    },
    {
     "name": "stderr",
     "output_type": "stream",
     "text": [
      "WARNING:root:Metrics calculated over data points with non-abstain labels only\n"
     ]
    },
    {
     "name": "stdout",
     "output_type": "stream",
     "text": [
      "              precision    recall  f1-score   support\n",
      "\n",
      "           0       0.97      0.89      0.93    260235\n",
      "           1       0.10      0.28      0.14     10756\n",
      "\n",
      "    accuracy                           0.87    270991\n",
      "   macro avg       0.53      0.59      0.54    270991\n",
      "weighted avg       0.93      0.87      0.90    270991\n",
      "\n",
      "{'f1_macro': 0.5350911129909782}\n",
      "Total number of UMLS partitions:  14\n"
     ]
    },
    {
     "name": "stderr",
     "output_type": "stream",
     "text": [
      "WARNING:root:Metrics calculated over data points with non-abstain labels only\n"
     ]
    },
    {
     "name": "stdout",
     "output_type": "stream",
     "text": [
      "              precision    recall  f1-score   support\n",
      "\n",
      "           0       0.97      0.89      0.93    259884\n",
      "           1       0.10      0.28      0.14     11107\n",
      "\n",
      "    accuracy                           0.87    270991\n",
      "   macro avg       0.53      0.58      0.54    270991\n",
      "weighted avg       0.93      0.87      0.90    270991\n",
      "\n",
      "{'f1_macro': 0.5354531284485659}\n",
      "Total number of UMLS partitions:  15\n"
     ]
    },
    {
     "name": "stderr",
     "output_type": "stream",
     "text": [
      "WARNING:root:Metrics calculated over data points with non-abstain labels only\n"
     ]
    },
    {
     "name": "stdout",
     "output_type": "stream",
     "text": [
      "              precision    recall  f1-score   support\n",
      "\n",
      "           0       0.97      0.89      0.93    260355\n",
      "           1       0.09      0.27      0.14     10636\n",
      "\n",
      "    accuracy                           0.87    270991\n",
      "   macro avg       0.53      0.58      0.53    270991\n",
      "weighted avg       0.93      0.87      0.90    270991\n",
      "\n",
      "{'f1_macro': 0.5318909687402938}\n",
      "Total number of UMLS partitions:  16\n"
     ]
    },
    {
     "name": "stderr",
     "output_type": "stream",
     "text": [
      "WARNING:root:Metrics calculated over data points with non-abstain labels only\n"
     ]
    },
    {
     "name": "stdout",
     "output_type": "stream",
     "text": [
      "              precision    recall  f1-score   support\n",
      "\n",
      "           0       0.97      0.89      0.93    260335\n",
      "           1       0.09      0.27      0.14     10656\n",
      "\n",
      "    accuracy                           0.87    270991\n",
      "   macro avg       0.53      0.58      0.53    270991\n",
      "weighted avg       0.93      0.87      0.90    270991\n",
      "\n",
      "{'f1_macro': 0.5313216573640511}\n",
      "Total number of UMLS partitions:  17\n"
     ]
    },
    {
     "name": "stderr",
     "output_type": "stream",
     "text": [
      "WARNING:root:Metrics calculated over data points with non-abstain labels only\n"
     ]
    },
    {
     "name": "stdout",
     "output_type": "stream",
     "text": [
      "              precision    recall  f1-score   support\n",
      "\n",
      "           0       0.97      0.89      0.93    259767\n",
      "           1       0.09      0.27      0.14     11224\n",
      "\n",
      "    accuracy                           0.86    270991\n",
      "   macro avg       0.53      0.58      0.53    270991\n",
      "weighted avg       0.93      0.86      0.89    270991\n",
      "\n",
      "{'f1_macro': 0.5331190373103338}\n",
      "Total number of UMLS partitions:  18\n"
     ]
    },
    {
     "name": "stderr",
     "output_type": "stream",
     "text": [
      "WARNING:root:Metrics calculated over data points with non-abstain labels only\n"
     ]
    },
    {
     "name": "stdout",
     "output_type": "stream",
     "text": [
      "              precision    recall  f1-score   support\n",
      "\n",
      "           0       0.98      0.89      0.93    262917\n",
      "           1       0.08      0.31      0.13      8074\n",
      "\n",
      "    accuracy                           0.87    270991\n",
      "   macro avg       0.53      0.60      0.53    270991\n",
      "weighted avg       0.95      0.87      0.91    270991\n",
      "\n",
      "{'f1_macro': 0.5289169319918116}\n",
      "Total number of UMLS partitions:  19\n"
     ]
    },
    {
     "name": "stderr",
     "output_type": "stream",
     "text": [
      "WARNING:root:Metrics calculated over data points with non-abstain labels only\n"
     ]
    },
    {
     "name": "stdout",
     "output_type": "stream",
     "text": [
      "              precision    recall  f1-score   support\n",
      "\n",
      "           0       0.98      0.89      0.93    262783\n",
      "           1       0.08      0.32      0.13      8208\n",
      "\n",
      "    accuracy                           0.87    270991\n",
      "   macro avg       0.53      0.60      0.53    270991\n",
      "weighted avg       0.95      0.87      0.91    270991\n",
      "\n",
      "{'f1_macro': 0.5310112632165932}\n",
      "Total number of UMLS partitions:  20\n"
     ]
    },
    {
     "name": "stderr",
     "output_type": "stream",
     "text": [
      "WARNING:root:Metrics calculated over data points with non-abstain labels only\n"
     ]
    },
    {
     "name": "stdout",
     "output_type": "stream",
     "text": [
      "              precision    recall  f1-score   support\n",
      "\n",
      "           0       0.98      0.89      0.93    262312\n",
      "           1       0.09      0.32      0.14      8679\n",
      "\n",
      "    accuracy                           0.87    270991\n",
      "   macro avg       0.53      0.61      0.54    270991\n",
      "weighted avg       0.95      0.87      0.91    270991\n",
      "\n",
      "{'f1_macro': 0.5357763578539071}\n",
      "Total number of UMLS partitions:  21\n"
     ]
    },
    {
     "name": "stderr",
     "output_type": "stream",
     "text": [
      "WARNING:root:Metrics calculated over data points with non-abstain labels only\n"
     ]
    },
    {
     "name": "stdout",
     "output_type": "stream",
     "text": [
      "              precision    recall  f1-score   support\n",
      "\n",
      "           0       0.98      0.89      0.93    262627\n",
      "           1       0.09      0.32      0.14      8364\n",
      "\n",
      "    accuracy                           0.87    270991\n",
      "   macro avg       0.53      0.61      0.53    270991\n",
      "weighted avg       0.95      0.87      0.91    270991\n",
      "\n",
      "{'f1_macro': 0.5332481493701278}\n",
      "Total number of UMLS partitions:  22\n"
     ]
    },
    {
     "name": "stderr",
     "output_type": "stream",
     "text": [
      "WARNING:root:Metrics calculated over data points with non-abstain labels only\n"
     ]
    },
    {
     "name": "stdout",
     "output_type": "stream",
     "text": [
      "              precision    recall  f1-score   support\n",
      "\n",
      "           0       0.97      0.89      0.93    261914\n",
      "           1       0.09      0.31      0.14      9077\n",
      "\n",
      "    accuracy                           0.87    270991\n",
      "   macro avg       0.53      0.60      0.53    270991\n",
      "weighted avg       0.94      0.87      0.90    270991\n",
      "\n",
      "{'f1_macro': 0.5349299879492632}\n",
      "Total number of UMLS partitions:  23\n"
     ]
    },
    {
     "name": "stderr",
     "output_type": "stream",
     "text": [
      "WARNING:root:Metrics calculated over data points with non-abstain labels only\n"
     ]
    },
    {
     "name": "stdout",
     "output_type": "stream",
     "text": [
      "              precision    recall  f1-score   support\n",
      "\n",
      "           0       0.97      0.89      0.93    261485\n",
      "           1       0.09      0.31      0.14      9506\n",
      "\n",
      "    accuracy                           0.87    270991\n",
      "   macro avg       0.53      0.60      0.54    270991\n",
      "weighted avg       0.94      0.87      0.90    270991\n",
      "\n",
      "{'f1_macro': 0.5368345518964297}\n",
      "Total number of UMLS partitions:  24\n"
     ]
    },
    {
     "name": "stderr",
     "output_type": "stream",
     "text": [
      "WARNING:root:Metrics calculated over data points with non-abstain labels only\n"
     ]
    },
    {
     "name": "stdout",
     "output_type": "stream",
     "text": [
      "              precision    recall  f1-score   support\n",
      "\n",
      "           0       0.97      0.89      0.93    261038\n",
      "           1       0.10      0.31      0.15      9953\n",
      "\n",
      "    accuracy                           0.87    270991\n",
      "   macro avg       0.54      0.60      0.54    270991\n",
      "weighted avg       0.94      0.87      0.90    270991\n",
      "\n",
      "{'f1_macro': 0.5400303049365984}\n",
      "Total number of UMLS partitions:  25\n"
     ]
    },
    {
     "name": "stderr",
     "output_type": "stream",
     "text": [
      "WARNING:root:Metrics calculated over data points with non-abstain labels only\n"
     ]
    },
    {
     "name": "stdout",
     "output_type": "stream",
     "text": [
      "              precision    recall  f1-score   support\n",
      "\n",
      "           0       0.97      0.89      0.93    259745\n",
      "           1       0.11      0.31      0.16     11246\n",
      "\n",
      "    accuracy                           0.87    270991\n",
      "   macro avg       0.54      0.60      0.55    270991\n",
      "weighted avg       0.93      0.87      0.90    270991\n",
      "\n",
      "{'f1_macro': 0.5460108564974792}\n",
      "Total number of UMLS partitions:  26\n"
     ]
    },
    {
     "name": "stderr",
     "output_type": "stream",
     "text": [
      "WARNING:root:Metrics calculated over data points with non-abstain labels only\n"
     ]
    },
    {
     "name": "stdout",
     "output_type": "stream",
     "text": [
      "              precision    recall  f1-score   support\n",
      "\n",
      "           0       0.97      0.89      0.93    259753\n",
      "           1       0.11      0.31      0.16     11238\n",
      "\n",
      "    accuracy                           0.87    270991\n",
      "   macro avg       0.54      0.60      0.55    270991\n",
      "weighted avg       0.93      0.87      0.90    270991\n",
      "\n",
      "{'f1_macro': 0.5460093231802706}\n",
      "Total number of UMLS partitions:  27\n"
     ]
    },
    {
     "name": "stderr",
     "output_type": "stream",
     "text": [
      "WARNING:root:Metrics calculated over data points with non-abstain labels only\n"
     ]
    },
    {
     "name": "stdout",
     "output_type": "stream",
     "text": [
      "              precision    recall  f1-score   support\n",
      "\n",
      "           0       0.97      0.89      0.93    261142\n",
      "           1       0.10      0.32      0.15      9849\n",
      "\n",
      "    accuracy                           0.87    270991\n",
      "   macro avg       0.54      0.60      0.54    270991\n",
      "weighted avg       0.94      0.87      0.90    270991\n",
      "\n",
      "{'f1_macro': 0.5406980930449408}\n",
      "Total number of UMLS partitions:  28\n"
     ]
    },
    {
     "name": "stderr",
     "output_type": "stream",
     "text": [
      "WARNING:root:Metrics calculated over data points with non-abstain labels only\n"
     ]
    },
    {
     "name": "stdout",
     "output_type": "stream",
     "text": [
      "              precision    recall  f1-score   support\n",
      "\n",
      "           0       0.97      0.89      0.93    260444\n",
      "           1       0.11      0.32      0.16     10547\n",
      "\n",
      "    accuracy                           0.87    270991\n",
      "   macro avg       0.54      0.61      0.55    270991\n",
      "weighted avg       0.94      0.87      0.90    270991\n",
      "\n",
      "{'f1_macro': 0.5454349445024316}\n",
      "Total number of UMLS partitions:  29\n"
     ]
    },
    {
     "name": "stderr",
     "output_type": "stream",
     "text": [
      "WARNING:root:Metrics calculated over data points with non-abstain labels only\n"
     ]
    },
    {
     "name": "stdout",
     "output_type": "stream",
     "text": [
      "              precision    recall  f1-score   support\n",
      "\n",
      "           0       0.97      0.89      0.93    261386\n",
      "           1       0.10      0.33      0.16      9605\n",
      "\n",
      "    accuracy                           0.87    270991\n",
      "   macro avg       0.54      0.61      0.54    270991\n",
      "weighted avg       0.94      0.87      0.90    270991\n",
      "\n",
      "{'f1_macro': 0.5435452431720595}\n",
      "Total number of UMLS partitions:  30\n"
     ]
    },
    {
     "name": "stderr",
     "output_type": "stream",
     "text": [
      "WARNING:root:Metrics calculated over data points with non-abstain labels only\n"
     ]
    },
    {
     "name": "stdout",
     "output_type": "stream",
     "text": [
      "              precision    recall  f1-score   support\n",
      "\n",
      "           0       0.97      0.89      0.93    261440\n",
      "           1       0.10      0.33      0.16      9551\n",
      "\n",
      "    accuracy                           0.87    270991\n",
      "   macro avg       0.54      0.61      0.54    270991\n",
      "weighted avg       0.94      0.87      0.90    270991\n",
      "\n",
      "{'f1_macro': 0.5432832678154913}\n",
      "Total number of UMLS partitions:  31\n"
     ]
    },
    {
     "name": "stderr",
     "output_type": "stream",
     "text": [
      "WARNING:root:Metrics calculated over data points with non-abstain labels only\n"
     ]
    },
    {
     "name": "stdout",
     "output_type": "stream",
     "text": [
      "              precision    recall  f1-score   support\n",
      "\n",
      "           0       0.97      0.89      0.93    261461\n",
      "           1       0.10      0.33      0.16      9530\n",
      "\n",
      "    accuracy                           0.87    270991\n",
      "   macro avg       0.54      0.61      0.54    270991\n",
      "weighted avg       0.94      0.87      0.90    270991\n",
      "\n",
      "{'f1_macro': 0.54316063270338}\n",
      "Total number of UMLS partitions:  32\n"
     ]
    },
    {
     "name": "stderr",
     "output_type": "stream",
     "text": [
      "WARNING:root:Metrics calculated over data points with non-abstain labels only\n"
     ]
    },
    {
     "name": "stdout",
     "output_type": "stream",
     "text": [
      "              precision    recall  f1-score   support\n",
      "\n",
      "           0       0.97      0.89      0.93    260426\n",
      "           1       0.11      0.34      0.17     10565\n",
      "\n",
      "    accuracy                           0.87    270991\n",
      "   macro avg       0.54      0.62      0.55    270991\n",
      "weighted avg       0.94      0.87      0.90    270991\n",
      "\n",
      "{'f1_macro': 0.5509845979749698}\n",
      "Total number of UMLS partitions:  33\n"
     ]
    },
    {
     "name": "stderr",
     "output_type": "stream",
     "text": [
      "WARNING:root:Metrics calculated over data points with non-abstain labels only\n"
     ]
    },
    {
     "name": "stdout",
     "output_type": "stream",
     "text": [
      "              precision    recall  f1-score   support\n",
      "\n",
      "           0       0.97      0.89      0.93    260458\n",
      "           1       0.11      0.34      0.17     10533\n",
      "\n",
      "    accuracy                           0.87    270991\n",
      "   macro avg       0.54      0.62      0.55    270991\n",
      "weighted avg       0.94      0.87      0.90    270991\n",
      "\n",
      "{'f1_macro': 0.5506191180069387}\n",
      "Total number of UMLS partitions:  34\n"
     ]
    },
    {
     "name": "stderr",
     "output_type": "stream",
     "text": [
      "WARNING:root:Metrics calculated over data points with non-abstain labels only\n"
     ]
    },
    {
     "name": "stdout",
     "output_type": "stream",
     "text": [
      "              precision    recall  f1-score   support\n",
      "\n",
      "           0       0.97      0.89      0.93    260624\n",
      "           1       0.11      0.34      0.17     10367\n",
      "\n",
      "    accuracy                           0.87    270991\n",
      "   macro avg       0.54      0.62      0.55    270991\n",
      "weighted avg       0.94      0.87      0.90    270991\n",
      "\n",
      "{'f1_macro': 0.5489573901322257}\n",
      "Total number of UMLS partitions:  35\n"
     ]
    },
    {
     "name": "stderr",
     "output_type": "stream",
     "text": [
      "WARNING:root:Metrics calculated over data points with non-abstain labels only\n"
     ]
    },
    {
     "name": "stdout",
     "output_type": "stream",
     "text": [
      "              precision    recall  f1-score   support\n",
      "\n",
      "           0       0.97      0.89      0.93    260480\n",
      "           1       0.11      0.33      0.16     10511\n",
      "\n",
      "    accuracy                           0.87    270991\n",
      "   macro avg       0.54      0.61      0.55    270991\n",
      "weighted avg       0.94      0.87      0.90    270991\n",
      "\n",
      "{'f1_macro': 0.5470680370552808}\n",
      "Total number of UMLS partitions:  36\n"
     ]
    },
    {
     "name": "stderr",
     "output_type": "stream",
     "text": [
      "WARNING:root:Metrics calculated over data points with non-abstain labels only\n"
     ]
    },
    {
     "name": "stdout",
     "output_type": "stream",
     "text": [
      "              precision    recall  f1-score   support\n",
      "\n",
      "           0       0.97      0.89      0.93    260738\n",
      "           1       0.11      0.33      0.16     10253\n",
      "\n",
      "    accuracy                           0.87    270991\n",
      "   macro avg       0.54      0.61      0.55    270991\n",
      "weighted avg       0.94      0.87      0.90    270991\n",
      "\n",
      "{'f1_macro': 0.545382370814633}\n",
      "Total number of UMLS partitions:  37\n"
     ]
    },
    {
     "name": "stderr",
     "output_type": "stream",
     "text": [
      "WARNING:root:Metrics calculated over data points with non-abstain labels only\n"
     ]
    },
    {
     "name": "stdout",
     "output_type": "stream",
     "text": [
      "              precision    recall  f1-score   support\n",
      "\n",
      "           0       0.97      0.89      0.93    259399\n",
      "           1       0.12      0.34      0.18     11592\n",
      "\n",
      "    accuracy                           0.87    270991\n",
      "   macro avg       0.55      0.62      0.56    270991\n",
      "weighted avg       0.93      0.87      0.90    270991\n",
      "\n",
      "{'f1_macro': 0.5555141648418773}\n",
      "Total number of UMLS partitions:  38\n"
     ]
    },
    {
     "name": "stderr",
     "output_type": "stream",
     "text": [
      "WARNING:root:Metrics calculated over data points with non-abstain labels only\n"
     ]
    },
    {
     "name": "stdout",
     "output_type": "stream",
     "text": [
      "              precision    recall  f1-score   support\n",
      "\n",
      "           0       0.97      0.89      0.93    260548\n",
      "           1       0.11      0.34      0.17     10443\n",
      "\n",
      "    accuracy                           0.87    270991\n",
      "   macro avg       0.54      0.62      0.55    270991\n",
      "weighted avg       0.94      0.87      0.90    270991\n",
      "\n",
      "{'f1_macro': 0.551390920878836}\n",
      "Total number of UMLS partitions:  39\n"
     ]
    },
    {
     "name": "stderr",
     "output_type": "stream",
     "text": [
      "WARNING:root:Metrics calculated over data points with non-abstain labels only\n"
     ]
    },
    {
     "name": "stdout",
     "output_type": "stream",
     "text": [
      "              precision    recall  f1-score   support\n",
      "\n",
      "           0       0.97      0.89      0.93    259767\n",
      "           1       0.12      0.34      0.18     11224\n",
      "\n",
      "    accuracy                           0.87    270991\n",
      "   macro avg       0.55      0.62      0.56    270991\n",
      "weighted avg       0.93      0.87      0.90    270991\n",
      "\n",
      "{'f1_macro': 0.5555720912412108}\n",
      "Total number of UMLS partitions:  40\n"
     ]
    },
    {
     "name": "stderr",
     "output_type": "stream",
     "text": [
      "WARNING:root:Metrics calculated over data points with non-abstain labels only\n"
     ]
    },
    {
     "name": "stdout",
     "output_type": "stream",
     "text": [
      "              precision    recall  f1-score   support\n",
      "\n",
      "           0       0.97      0.89      0.93    258929\n",
      "           1       0.13      0.34      0.19     12062\n",
      "\n",
      "    accuracy                           0.87    270991\n",
      "   macro avg       0.55      0.62      0.56    270991\n",
      "weighted avg       0.93      0.87      0.90    270991\n",
      "\n",
      "{'f1_macro': 0.5588046284605603}\n",
      "Total number of UMLS partitions:  41\n"
     ]
    },
    {
     "name": "stderr",
     "output_type": "stream",
     "text": [
      "WARNING:root:Metrics calculated over data points with non-abstain labels only\n"
     ]
    },
    {
     "name": "stdout",
     "output_type": "stream",
     "text": [
      "              precision    recall  f1-score   support\n",
      "\n",
      "           0       0.97      0.89      0.93    259017\n",
      "           1       0.13      0.34      0.19     11974\n",
      "\n",
      "    accuracy                           0.87    270991\n",
      "   macro avg       0.55      0.62      0.56    270991\n",
      "weighted avg       0.93      0.87      0.90    270991\n",
      "\n",
      "{'f1_macro': 0.5586141406204472}\n",
      "Total number of UMLS partitions:  42\n"
     ]
    },
    {
     "name": "stderr",
     "output_type": "stream",
     "text": [
      "WARNING:root:Metrics calculated over data points with non-abstain labels only\n"
     ]
    },
    {
     "name": "stdout",
     "output_type": "stream",
     "text": [
      "              precision    recall  f1-score   support\n",
      "\n",
      "           0       0.97      0.89      0.93    259033\n",
      "           1       0.13      0.34      0.19     11958\n",
      "\n",
      "    accuracy                           0.87    270991\n",
      "   macro avg       0.55      0.62      0.56    270991\n",
      "weighted avg       0.93      0.87      0.90    270991\n",
      "\n",
      "{'f1_macro': 0.5586158519374662}\n",
      "Total number of UMLS partitions:  43\n"
     ]
    },
    {
     "name": "stderr",
     "output_type": "stream",
     "text": [
      "WARNING:root:Metrics calculated over data points with non-abstain labels only\n"
     ]
    },
    {
     "name": "stdout",
     "output_type": "stream",
     "text": [
      "              precision    recall  f1-score   support\n",
      "\n",
      "           0       0.97      0.89      0.93    258885\n",
      "           1       0.13      0.34      0.19     12106\n",
      "\n",
      "    accuracy                           0.87    270991\n",
      "   macro avg       0.55      0.62      0.56    270991\n",
      "weighted avg       0.93      0.87      0.90    270991\n",
      "\n",
      "{'f1_macro': 0.5588370276006389}\n",
      "Total number of UMLS partitions:  44\n"
     ]
    },
    {
     "name": "stderr",
     "output_type": "stream",
     "text": [
      "WARNING:root:Metrics calculated over data points with non-abstain labels only\n"
     ]
    },
    {
     "name": "stdout",
     "output_type": "stream",
     "text": [
      "              precision    recall  f1-score   support\n",
      "\n",
      "           0       0.96      0.89      0.93    258307\n",
      "           1       0.13      0.33      0.19     12684\n",
      "\n",
      "    accuracy                           0.87    270991\n",
      "   macro avg       0.55      0.61      0.56    270991\n",
      "weighted avg       0.93      0.87      0.89    270991\n",
      "\n",
      "{'f1_macro': 0.5586338960391589}\n",
      "Total number of UMLS partitions:  45\n"
     ]
    },
    {
     "name": "stderr",
     "output_type": "stream",
     "text": [
      "WARNING:root:Metrics calculated over data points with non-abstain labels only\n"
     ]
    },
    {
     "name": "stdout",
     "output_type": "stream",
     "text": [
      "              precision    recall  f1-score   support\n",
      "\n",
      "           0       0.96      0.89      0.93    257393\n",
      "           1       0.14      0.32      0.19     13598\n",
      "\n",
      "    accuracy                           0.87    270991\n",
      "   macro avg       0.55      0.61      0.56    270991\n",
      "weighted avg       0.92      0.87      0.89    270991\n",
      "\n",
      "{'f1_macro': 0.5595324495095643}\n",
      "Total number of UMLS partitions:  46\n"
     ]
    },
    {
     "name": "stderr",
     "output_type": "stream",
     "text": [
      "WARNING:root:Metrics calculated over data points with non-abstain labels only\n"
     ]
    },
    {
     "name": "stdout",
     "output_type": "stream",
     "text": [
      "              precision    recall  f1-score   support\n",
      "\n",
      "           0       0.96      0.89      0.93    257237\n",
      "           1       0.14      0.32      0.19     13754\n",
      "\n",
      "    accuracy                           0.87    270991\n",
      "   macro avg       0.55      0.61      0.56    270991\n",
      "weighted avg       0.92      0.87      0.89    270991\n",
      "\n",
      "{'f1_macro': 0.5593459939325899}\n",
      "Total number of UMLS partitions:  47\n"
     ]
    },
    {
     "name": "stderr",
     "output_type": "stream",
     "text": [
      "WARNING:root:Metrics calculated over data points with non-abstain labels only\n"
     ]
    },
    {
     "name": "stdout",
     "output_type": "stream",
     "text": [
      "              precision    recall  f1-score   support\n",
      "\n",
      "           0       0.96      0.89      0.93    257272\n",
      "           1       0.14      0.32      0.19     13719\n",
      "\n",
      "    accuracy                           0.87    270991\n",
      "   macro avg       0.55      0.61      0.56    270991\n",
      "weighted avg       0.92      0.87      0.89    270991\n",
      "\n",
      "{'f1_macro': 0.5592166011807146}\n",
      "Total number of UMLS partitions:  48\n"
     ]
    },
    {
     "name": "stderr",
     "output_type": "stream",
     "text": [
      "WARNING:root:Metrics calculated over data points with non-abstain labels only\n"
     ]
    },
    {
     "name": "stdout",
     "output_type": "stream",
     "text": [
      "              precision    recall  f1-score   support\n",
      "\n",
      "           0       0.96      0.89      0.93    257553\n",
      "           1       0.14      0.32      0.19     13438\n",
      "\n",
      "    accuracy                           0.87    270991\n",
      "   macro avg       0.55      0.61      0.56    270991\n",
      "weighted avg       0.92      0.87      0.89    270991\n",
      "\n",
      "{'f1_macro': 0.559002772388485}\n",
      "Total number of UMLS partitions:  49\n"
     ]
    },
    {
     "name": "stderr",
     "output_type": "stream",
     "text": [
      "WARNING:root:Metrics calculated over data points with non-abstain labels only\n"
     ]
    },
    {
     "name": "stdout",
     "output_type": "stream",
     "text": [
      "              precision    recall  f1-score   support\n",
      "\n",
      "           0       0.96      0.89      0.93    257616\n",
      "           1       0.14      0.32      0.19     13375\n",
      "\n",
      "    accuracy                           0.87    270991\n",
      "   macro avg       0.55      0.61      0.56    270991\n",
      "weighted avg       0.92      0.87      0.89    270991\n",
      "\n",
      "{'f1_macro': 0.5589130119889969}\n",
      "Total number of UMLS partitions:  50\n"
     ]
    },
    {
     "name": "stderr",
     "output_type": "stream",
     "text": [
      "WARNING:root:Metrics calculated over data points with non-abstain labels only\n"
     ]
    },
    {
     "name": "stdout",
     "output_type": "stream",
     "text": [
      "              precision    recall  f1-score   support\n",
      "\n",
      "           0       0.96      0.89      0.93    257666\n",
      "           1       0.14      0.32      0.19     13325\n",
      "\n",
      "    accuracy                           0.87    270991\n",
      "   macro avg       0.55      0.61      0.56    270991\n",
      "weighted avg       0.92      0.87      0.89    270991\n",
      "\n",
      "{'f1_macro': 0.558854259902748}\n",
      "Total number of UMLS partitions:  51\n"
     ]
    },
    {
     "name": "stderr",
     "output_type": "stream",
     "text": [
      "WARNING:root:Metrics calculated over data points with non-abstain labels only\n"
     ]
    },
    {
     "name": "stdout",
     "output_type": "stream",
     "text": [
      "              precision    recall  f1-score   support\n",
      "\n",
      "           0       0.96      0.89      0.93    257641\n",
      "           1       0.14      0.32      0.19     13350\n",
      "\n",
      "    accuracy                           0.87    270991\n",
      "   macro avg       0.55      0.61      0.56    270991\n",
      "weighted avg       0.92      0.87      0.89    270991\n",
      "\n",
      "{'f1_macro': 0.5587740812421373}\n",
      "Total number of UMLS partitions:  52\n"
     ]
    },
    {
     "name": "stderr",
     "output_type": "stream",
     "text": [
      "WARNING:root:Metrics calculated over data points with non-abstain labels only\n"
     ]
    },
    {
     "name": "stdout",
     "output_type": "stream",
     "text": [
      "              precision    recall  f1-score   support\n",
      "\n",
      "           0       0.95      0.89      0.92    253619\n",
      "           1       0.15      0.27      0.19     17372\n",
      "\n",
      "    accuracy                           0.85    270991\n",
      "   macro avg       0.55      0.58      0.56    270991\n",
      "weighted avg       0.90      0.85      0.87    270991\n",
      "\n",
      "{'f1_macro': 0.556753785699741}\n",
      "Total number of UMLS partitions:  53\n"
     ]
    },
    {
     "name": "stderr",
     "output_type": "stream",
     "text": [
      "WARNING:root:Metrics calculated over data points with non-abstain labels only\n"
     ]
    },
    {
     "name": "stdout",
     "output_type": "stream",
     "text": [
      "              precision    recall  f1-score   support\n",
      "\n",
      "           0       0.95      0.89      0.92    253586\n",
      "           1       0.15      0.27      0.19     17405\n",
      "\n",
      "    accuracy                           0.85    270991\n",
      "   macro avg       0.55      0.58      0.56    270991\n",
      "weighted avg       0.90      0.85      0.87    270991\n",
      "\n",
      "{'f1_macro': 0.5571250835785295}\n",
      "Total number of UMLS partitions:  54\n"
     ]
    },
    {
     "name": "stderr",
     "output_type": "stream",
     "text": [
      "WARNING:root:Metrics calculated over data points with non-abstain labels only\n"
     ]
    },
    {
     "name": "stdout",
     "output_type": "stream",
     "text": [
      "              precision    recall  f1-score   support\n",
      "\n",
      "           0       0.94      0.90      0.92    252757\n",
      "           1       0.16      0.27      0.20     18234\n",
      "\n",
      "    accuracy                           0.85    270991\n",
      "   macro avg       0.55      0.58      0.56    270991\n",
      "weighted avg       0.89      0.85      0.87    270991\n",
      "\n",
      "{'f1_macro': 0.5594964238197684}\n",
      "Total number of UMLS partitions:  55\n"
     ]
    },
    {
     "name": "stderr",
     "output_type": "stream",
     "text": [
      "WARNING:root:Metrics calculated over data points with non-abstain labels only\n"
     ]
    },
    {
     "name": "stdout",
     "output_type": "stream",
     "text": [
      "              precision    recall  f1-score   support\n",
      "\n",
      "           0       0.94      0.90      0.92    252840\n",
      "           1       0.16      0.27      0.20     18151\n",
      "\n",
      "    accuracy                           0.85    270991\n",
      "   macro avg       0.55      0.58      0.56    270991\n",
      "weighted avg       0.89      0.85      0.87    270991\n",
      "\n",
      "{'f1_macro': 0.5593771889703203}\n",
      "Total number of UMLS partitions:  56\n"
     ]
    },
    {
     "name": "stderr",
     "output_type": "stream",
     "text": [
      "WARNING:root:Metrics calculated over data points with non-abstain labels only\n"
     ]
    },
    {
     "name": "stdout",
     "output_type": "stream",
     "text": [
      "              precision    recall  f1-score   support\n",
      "\n",
      "           0       0.95      0.90      0.92    253208\n",
      "           1       0.15      0.27      0.20     17783\n",
      "\n",
      "    accuracy                           0.85    270991\n",
      "   macro avg       0.55      0.58      0.56    270991\n",
      "weighted avg       0.89      0.85      0.87    270991\n",
      "\n",
      "{'f1_macro': 0.5588718650351093}\n",
      "Total number of UMLS partitions:  57\n"
     ]
    },
    {
     "name": "stderr",
     "output_type": "stream",
     "text": [
      "WARNING:root:Metrics calculated over data points with non-abstain labels only\n"
     ]
    },
    {
     "name": "stdout",
     "output_type": "stream",
     "text": [
      "              precision    recall  f1-score   support\n",
      "\n",
      "           0       0.95      0.89      0.92    253702\n",
      "           1       0.15      0.28      0.20     17289\n",
      "\n",
      "    accuracy                           0.86    270991\n",
      "   macro avg       0.55      0.59      0.56    270991\n",
      "weighted avg       0.90      0.86      0.87    270991\n",
      "\n",
      "{'f1_macro': 0.5581148229897761}\n",
      "Total number of UMLS partitions:  58\n"
     ]
    },
    {
     "name": "stderr",
     "output_type": "stream",
     "text": [
      "WARNING:root:Metrics calculated over data points with non-abstain labels only\n"
     ]
    },
    {
     "name": "stdout",
     "output_type": "stream",
     "text": [
      "              precision    recall  f1-score   support\n",
      "\n",
      "           0       0.95      0.90      0.92    253770\n",
      "           1       0.15      0.28      0.20     17221\n",
      "\n",
      "    accuracy                           0.86    270991\n",
      "   macro avg       0.55      0.59      0.56    270991\n",
      "weighted avg       0.90      0.86      0.87    270991\n",
      "\n",
      "{'f1_macro': 0.5586196479114833}\n",
      "Total number of UMLS partitions:  59\n"
     ]
    },
    {
     "name": "stderr",
     "output_type": "stream",
     "text": [
      "WARNING:root:Metrics calculated over data points with non-abstain labels only\n"
     ]
    },
    {
     "name": "stdout",
     "output_type": "stream",
     "text": [
      "              precision    recall  f1-score   support\n",
      "\n",
      "           0       0.95      0.90      0.92    253963\n",
      "           1       0.15      0.28      0.20     17028\n",
      "\n",
      "    accuracy                           0.86    270991\n",
      "   macro avg       0.55      0.59      0.56    270991\n",
      "weighted avg       0.90      0.86      0.88    270991\n",
      "\n",
      "{'f1_macro': 0.5588592977885022}\n",
      "Total number of UMLS partitions:  60\n"
     ]
    },
    {
     "name": "stderr",
     "output_type": "stream",
     "text": [
      "WARNING:root:Metrics calculated over data points with non-abstain labels only\n"
     ]
    },
    {
     "name": "stdout",
     "output_type": "stream",
     "text": [
      "              precision    recall  f1-score   support\n",
      "\n",
      "           0       0.95      0.89      0.92    254016\n",
      "           1       0.15      0.28      0.19     16975\n",
      "\n",
      "    accuracy                           0.86    270991\n",
      "   macro avg       0.55      0.59      0.56    270991\n",
      "weighted avg       0.90      0.86      0.88    270991\n",
      "\n",
      "{'f1_macro': 0.5578221647824557}\n",
      "Total number of UMLS partitions:  61\n"
     ]
    },
    {
     "name": "stderr",
     "output_type": "stream",
     "text": [
      "WARNING:root:Metrics calculated over data points with non-abstain labels only\n"
     ]
    },
    {
     "name": "stdout",
     "output_type": "stream",
     "text": [
      "              precision    recall  f1-score   support\n",
      "\n",
      "           0       0.95      0.90      0.92    253696\n",
      "           1       0.16      0.28      0.20     17295\n",
      "\n",
      "    accuracy                           0.86    270991\n",
      "   macro avg       0.55      0.59      0.56    270991\n",
      "weighted avg       0.90      0.86      0.88    270991\n",
      "\n",
      "{'f1_macro': 0.5611866809607555}\n",
      "Total number of UMLS partitions:  62\n"
     ]
    },
    {
     "name": "stderr",
     "output_type": "stream",
     "text": [
      "WARNING:root:Metrics calculated over data points with non-abstain labels only\n"
     ]
    },
    {
     "name": "stdout",
     "output_type": "stream",
     "text": [
      "              precision    recall  f1-score   support\n",
      "\n",
      "           0       0.95      0.90      0.92    253138\n",
      "           1       0.16      0.28      0.21     17853\n",
      "\n",
      "    accuracy                           0.86    270991\n",
      "   macro avg       0.55      0.59      0.56    270991\n",
      "weighted avg       0.89      0.86      0.87    270991\n",
      "\n",
      "{'f1_macro': 0.562963892455353}\n",
      "Total number of UMLS partitions:  63\n"
     ]
    },
    {
     "name": "stderr",
     "output_type": "stream",
     "text": [
      "WARNING:root:Metrics calculated over data points with non-abstain labels only\n"
     ]
    },
    {
     "name": "stdout",
     "output_type": "stream",
     "text": [
      "              precision    recall  f1-score   support\n",
      "\n",
      "           0       0.95      0.90      0.92    253304\n",
      "           1       0.16      0.28      0.20     17687\n",
      "\n",
      "    accuracy                           0.86    270991\n",
      "   macro avg       0.55      0.59      0.56    270991\n",
      "weighted avg       0.90      0.86      0.87    270991\n",
      "\n",
      "{'f1_macro': 0.5617459746901445}\n",
      "Total number of UMLS partitions:  64\n"
     ]
    },
    {
     "name": "stderr",
     "output_type": "stream",
     "text": [
      "WARNING:root:Metrics calculated over data points with non-abstain labels only\n"
     ]
    },
    {
     "name": "stdout",
     "output_type": "stream",
     "text": [
      "              precision    recall  f1-score   support\n",
      "\n",
      "           0       0.95      0.90      0.92    252934\n",
      "           1       0.16      0.28      0.20     18057\n",
      "\n",
      "    accuracy                           0.85    270991\n",
      "   macro avg       0.55      0.59      0.56    270991\n",
      "weighted avg       0.89      0.85      0.87    270991\n",
      "\n",
      "{'f1_macro': 0.5616495138116079}\n",
      "Total number of UMLS partitions:  65\n"
     ]
    },
    {
     "name": "stderr",
     "output_type": "stream",
     "text": [
      "WARNING:root:Metrics calculated over data points with non-abstain labels only\n"
     ]
    },
    {
     "name": "stdout",
     "output_type": "stream",
     "text": [
      "              precision    recall  f1-score   support\n",
      "\n",
      "           0       0.95      0.90      0.92    252798\n",
      "           1       0.16      0.28      0.20     18193\n",
      "\n",
      "    accuracy                           0.85    270991\n",
      "   macro avg       0.55      0.59      0.56    270991\n",
      "weighted avg       0.89      0.85      0.87    270991\n",
      "\n",
      "{'f1_macro': 0.5623755325348361}\n",
      "Total number of UMLS partitions:  66\n"
     ]
    },
    {
     "name": "stderr",
     "output_type": "stream",
     "text": [
      "WARNING:root:Metrics calculated over data points with non-abstain labels only\n"
     ]
    },
    {
     "name": "stdout",
     "output_type": "stream",
     "text": [
      "              precision    recall  f1-score   support\n",
      "\n",
      "           0       0.95      0.90      0.92    252787\n",
      "           1       0.16      0.28      0.21     18204\n",
      "\n",
      "    accuracy                           0.85    270991\n",
      "   macro avg       0.55      0.59      0.56    270991\n",
      "weighted avg       0.89      0.85      0.87    270991\n",
      "\n",
      "{'f1_macro': 0.5626513594894157}\n",
      "Total number of UMLS partitions:  67\n"
     ]
    },
    {
     "name": "stderr",
     "output_type": "stream",
     "text": [
      "WARNING:root:Metrics calculated over data points with non-abstain labels only\n"
     ]
    },
    {
     "name": "stdout",
     "output_type": "stream",
     "text": [
      "              precision    recall  f1-score   support\n",
      "\n",
      "           0       0.94      0.90      0.92    252169\n",
      "           1       0.17      0.28      0.21     18822\n",
      "\n",
      "    accuracy                           0.85    270991\n",
      "   macro avg       0.56      0.59      0.56    270991\n",
      "weighted avg       0.89      0.85      0.87    270991\n",
      "\n",
      "{'f1_macro': 0.5643295186380543}\n",
      "Total number of UMLS partitions:  68\n"
     ]
    },
    {
     "name": "stderr",
     "output_type": "stream",
     "text": [
      "WARNING:root:Metrics calculated over data points with non-abstain labels only\n"
     ]
    },
    {
     "name": "stdout",
     "output_type": "stream",
     "text": [
      "              precision    recall  f1-score   support\n",
      "\n",
      "           0       0.94      0.90      0.92    251866\n",
      "           1       0.17      0.28      0.21     19125\n",
      "\n",
      "    accuracy                           0.85    270991\n",
      "   macro avg       0.56      0.59      0.57    270991\n",
      "weighted avg       0.89      0.85      0.87    270991\n",
      "\n",
      "{'f1_macro': 0.5656598890664923}\n",
      "Total number of UMLS partitions:  69\n"
     ]
    },
    {
     "name": "stderr",
     "output_type": "stream",
     "text": [
      "WARNING:root:Metrics calculated over data points with non-abstain labels only\n"
     ]
    },
    {
     "name": "stdout",
     "output_type": "stream",
     "text": [
      "              precision    recall  f1-score   support\n",
      "\n",
      "           0       0.94      0.90      0.92    251969\n",
      "           1       0.17      0.28      0.21     19022\n",
      "\n",
      "    accuracy                           0.85    270991\n",
      "   macro avg       0.56      0.59      0.57    270991\n",
      "weighted avg       0.89      0.85      0.87    270991\n",
      "\n",
      "{'f1_macro': 0.5654433968708342}\n",
      "Total number of UMLS partitions:  70\n"
     ]
    },
    {
     "name": "stderr",
     "output_type": "stream",
     "text": [
      "WARNING:root:Metrics calculated over data points with non-abstain labels only\n"
     ]
    },
    {
     "name": "stdout",
     "output_type": "stream",
     "text": [
      "              precision    recall  f1-score   support\n",
      "\n",
      "           0       0.94      0.90      0.92    251682\n",
      "           1       0.17      0.28      0.21     19309\n",
      "\n",
      "    accuracy                           0.85    270991\n",
      "   macro avg       0.56      0.59      0.57    270991\n",
      "weighted avg       0.89      0.85      0.87    270991\n",
      "\n",
      "{'f1_macro': 0.5659423830280954}\n",
      "Total number of UMLS partitions:  71\n"
     ]
    },
    {
     "name": "stderr",
     "output_type": "stream",
     "text": [
      "WARNING:root:Metrics calculated over data points with non-abstain labels only\n"
     ]
    },
    {
     "name": "stdout",
     "output_type": "stream",
     "text": [
      "              precision    recall  f1-score   support\n",
      "\n",
      "           0       0.94      0.90      0.92    251829\n",
      "           1       0.17      0.28      0.21     19162\n",
      "\n",
      "    accuracy                           0.85    270991\n",
      "   macro avg       0.56      0.59      0.56    270991\n",
      "weighted avg       0.89      0.85      0.87    270991\n",
      "\n",
      "{'f1_macro': 0.5647782469556979}\n",
      "Total number of UMLS partitions:  72\n"
     ]
    },
    {
     "name": "stderr",
     "output_type": "stream",
     "text": [
      "WARNING:root:Metrics calculated over data points with non-abstain labels only\n"
     ]
    },
    {
     "name": "stdout",
     "output_type": "stream",
     "text": [
      "              precision    recall  f1-score   support\n",
      "\n",
      "           0       0.94      0.90      0.92    250271\n",
      "           1       0.18      0.28      0.22     20720\n",
      "\n",
      "    accuracy                           0.85    270991\n",
      "   macro avg       0.56      0.59      0.57    270991\n",
      "weighted avg       0.88      0.85      0.86    270991\n",
      "\n",
      "{'f1_macro': 0.5687381238825907}\n",
      "Total number of UMLS partitions:  73\n"
     ]
    },
    {
     "name": "stderr",
     "output_type": "stream",
     "text": [
      "WARNING:root:Metrics calculated over data points with non-abstain labels only\n"
     ]
    },
    {
     "name": "stdout",
     "output_type": "stream",
     "text": [
      "              precision    recall  f1-score   support\n",
      "\n",
      "           0       0.93      0.90      0.92    249483\n",
      "           1       0.19      0.28      0.22     21508\n",
      "\n",
      "    accuracy                           0.85    270991\n",
      "   macro avg       0.56      0.59      0.57    270991\n",
      "weighted avg       0.88      0.85      0.86    270991\n",
      "\n",
      "{'f1_macro': 0.5699938510950203}\n",
      "Total number of UMLS partitions:  74\n"
     ]
    },
    {
     "name": "stderr",
     "output_type": "stream",
     "text": [
      "WARNING:root:Metrics calculated over data points with non-abstain labels only\n"
     ]
    },
    {
     "name": "stdout",
     "output_type": "stream",
     "text": [
      "              precision    recall  f1-score   support\n",
      "\n",
      "           0       0.93      0.90      0.91    247603\n",
      "           1       0.20      0.27      0.23     23388\n",
      "\n",
      "    accuracy                           0.84    270991\n",
      "   macro avg       0.56      0.58      0.57    270991\n",
      "weighted avg       0.87      0.84      0.85    270991\n",
      "\n",
      "{'f1_macro': 0.5704351529533755}\n",
      "Total number of UMLS partitions:  75\n"
     ]
    },
    {
     "name": "stderr",
     "output_type": "stream",
     "text": [
      "WARNING:root:Metrics calculated over data points with non-abstain labels only\n"
     ]
    },
    {
     "name": "stdout",
     "output_type": "stream",
     "text": [
      "              precision    recall  f1-score   support\n",
      "\n",
      "           0       0.93      0.90      0.91    247744\n",
      "           1       0.20      0.27      0.23     23247\n",
      "\n",
      "    accuracy                           0.84    270991\n",
      "   macro avg       0.56      0.58      0.57    270991\n",
      "weighted avg       0.87      0.84      0.85    270991\n",
      "\n",
      "{'f1_macro': 0.5696449427929444}\n",
      "Total number of UMLS partitions:  76\n"
     ]
    },
    {
     "name": "stderr",
     "output_type": "stream",
     "text": [
      "WARNING:root:Metrics calculated over data points with non-abstain labels only\n"
     ]
    },
    {
     "name": "stdout",
     "output_type": "stream",
     "text": [
      "              precision    recall  f1-score   support\n",
      "\n",
      "           0       0.92      0.90      0.91    246362\n",
      "           1       0.21      0.27      0.24     24629\n",
      "\n",
      "    accuracy                           0.84    270991\n",
      "   macro avg       0.57      0.58      0.57    270991\n",
      "weighted avg       0.86      0.84      0.85    270991\n",
      "\n",
      "{'f1_macro': 0.5734914440950931}\n",
      "Total number of UMLS partitions:  77\n"
     ]
    },
    {
     "name": "stderr",
     "output_type": "stream",
     "text": [
      "WARNING:root:Metrics calculated over data points with non-abstain labels only\n"
     ]
    },
    {
     "name": "stdout",
     "output_type": "stream",
     "text": [
      "              precision    recall  f1-score   support\n",
      "\n",
      "           0       0.92      0.90      0.91    246071\n",
      "           1       0.21      0.27      0.24     24920\n",
      "\n",
      "    accuracy                           0.84    270991\n",
      "   macro avg       0.57      0.58      0.57    270991\n",
      "weighted avg       0.86      0.84      0.85    270991\n",
      "\n",
      "{'f1_macro': 0.573191912730997}\n",
      "Total number of UMLS partitions:  78\n"
     ]
    },
    {
     "name": "stderr",
     "output_type": "stream",
     "text": [
      "WARNING:root:Metrics calculated over data points with non-abstain labels only\n"
     ]
    },
    {
     "name": "stdout",
     "output_type": "stream",
     "text": [
      "              precision    recall  f1-score   support\n",
      "\n",
      "           0       0.92      0.90      0.91    244278\n",
      "           1       0.22      0.26      0.24     26713\n",
      "\n",
      "    accuracy                           0.84    270991\n",
      "   macro avg       0.57      0.58      0.57    270991\n",
      "weighted avg       0.85      0.84      0.84    270991\n",
      "\n",
      "{'f1_macro': 0.5748329579558308}\n",
      "Total number of UMLS partitions:  79\n"
     ]
    },
    {
     "name": "stderr",
     "output_type": "stream",
     "text": [
      "WARNING:root:Metrics calculated over data points with non-abstain labels only\n"
     ]
    },
    {
     "name": "stdout",
     "output_type": "stream",
     "text": [
      "              precision    recall  f1-score   support\n",
      "\n",
      "           0       0.90      0.90      0.90    239204\n",
      "           1       0.26      0.26      0.26     31787\n",
      "\n",
      "    accuracy                           0.83    270991\n",
      "   macro avg       0.58      0.58      0.58    270991\n",
      "weighted avg       0.83      0.83      0.83    270991\n",
      "\n",
      "{'f1_macro': 0.5813238086069942}\n",
      "Total number of UMLS partitions:  80\n"
     ]
    },
    {
     "name": "stderr",
     "output_type": "stream",
     "text": [
      "WARNING:root:Metrics calculated over data points with non-abstain labels only\n"
     ]
    },
    {
     "name": "stdout",
     "output_type": "stream",
     "text": [
      "              precision    recall  f1-score   support\n",
      "\n",
      "           0       0.90      0.90      0.90    237730\n",
      "           1       0.27      0.25      0.26     33261\n",
      "\n",
      "    accuracy                           0.82    270991\n",
      "   macro avg       0.58      0.58      0.58    270991\n",
      "weighted avg       0.82      0.82      0.82    270991\n",
      "\n",
      "{'f1_macro': 0.5809819124711737}\n",
      "Total number of UMLS partitions:  81\n"
     ]
    },
    {
     "name": "stderr",
     "output_type": "stream",
     "text": [
      "WARNING:root:Metrics calculated over data points with non-abstain labels only\n"
     ]
    },
    {
     "name": "stdout",
     "output_type": "stream",
     "text": [
      "              precision    recall  f1-score   support\n",
      "\n",
      "           0       0.90      0.90      0.90    238061\n",
      "           1       0.27      0.25      0.26     32930\n",
      "\n",
      "    accuracy                           0.82    270991\n",
      "   macro avg       0.58      0.58      0.58    270991\n",
      "weighted avg       0.82      0.82      0.82    270991\n",
      "\n",
      "{'f1_macro': 0.5802909573267367}\n"
     ]
    }
   ],
   "source": [
    "train(partitioned_o_umls, umls_o, nonumls_o, ds_o, heur_o, dict_o, df_data_train, df_data_val, 'o')"
   ]
  },
  {
   "cell_type": "code",
   "execution_count": null,
   "id": "23319d07",
   "metadata": {},
   "outputs": [],
   "source": []
  }
 ],
 "metadata": {
  "kernelspec": {
   "display_name": "Python 3",
   "language": "python",
   "name": "python3"
  },
  "language_info": {
   "codemirror_mode": {
    "name": "ipython",
    "version": 3
   },
   "file_extension": ".py",
   "mimetype": "text/x-python",
   "name": "python",
   "nbconvert_exporter": "python",
   "pygments_lexer": "ipython3",
   "version": "3.6.9"
  }
 },
 "nbformat": 4,
 "nbformat_minor": 5
}
